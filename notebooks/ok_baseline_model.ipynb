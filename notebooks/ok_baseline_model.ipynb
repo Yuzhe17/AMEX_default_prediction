{
 "cells": [
  {
   "cell_type": "markdown",
   "id": "3944824d-c530-447e-ab28-4e6c66a7dd79",
   "metadata": {},
   "source": [
    "# Simple preprocessing pipeline"
   ]
  },
  {
   "cell_type": "code",
   "execution_count": 1,
   "id": "dce77626-cb95-4f3f-82f6-babe2c08c279",
   "metadata": {},
   "outputs": [],
   "source": [
    "import numpy as np\n",
    "import pandas as pd\n",
    "import matplotlib.pyplot as plt\n",
    "import seaborn as sns"
   ]
  },
  {
   "cell_type": "code",
   "execution_count": 2,
   "id": "b72b126e-38bd-4174-ab49-7ea7e9b4d092",
   "metadata": {},
   "outputs": [],
   "source": [
    "from scipy import stats\n",
    "\n",
    "from sklearn.model_selection import cross_validate, cross_val_score, cross_val_predict, learning_curve,\\\n",
    "train_test_split, GridSearchCV, RandomizedSearchCV, train_test_split\n",
    "from sklearn.preprocessing import StandardScaler, RobustScaler, MinMaxScaler, OneHotEncoder, FunctionTransformer, LabelEncoder, OrdinalEncoder\n",
    "from sklearn.impute import SimpleImputer, KNNImputer\n",
    "from sklearn.inspection import permutation_importance\n",
    "from sklearn.metrics import plot_confusion_matrix, classification_report, precision_recall_curve\n",
    "from sklearn.linear_model import LinearRegression, LogisticRegression, SGDRegressor, SGDClassifier, Ridge, RidgeClassifier\n",
    "from sklearn.neighbors import KNeighborsClassifier, KNeighborsRegressor\n",
    "from sklearn.svm import SVC\n",
    "from sklearn.compose import make_column_selector\n",
    "\n",
    "## pipeline stuff\n",
    "\n",
    "from sklearn.pipeline import Pipeline, make_pipeline, make_union\n",
    "from sklearn.compose import ColumnTransformer, make_column_transformer, make_column_selector\n",
    "from sklearn import set_config; set_config(display='diagram')"
   ]
  },
  {
   "cell_type": "code",
   "execution_count": null,
   "id": "31610d07",
   "metadata": {},
   "outputs": [],
   "source": [


   ]
  },
  {
   "cell_type": "code",
   "execution_count": null,
   "id": "3d767bd8",
   "metadata": {},
   "outputs": [],
   "source": [
    "def_df_one_percent.shape , pay_df_one_percent.shape"
   ]
  },
  {
   "cell_type": "code",
   "execution_count": 5,
   "id": "19a620ee",
   "metadata": {},
   "outputs": [],
   "source": [
    "def_df_small = pd.read_csv(\"/Users/sjoerddewit/Desktop/Programming/6 Le Wagon Data Science/final_project/defaulter_data_13364.csv\", index_col=[0])\n",
    "pay_df_small = pd.read_csv(\"/Users/sjoerddewit/Desktop/Programming/6 Le Wagon Data Science/final_project/payer_data_41940.csv\", index_col=[0])\n"
   ]
  },
  {
   "cell_type": "code",
   "execution_count": 6,
   "id": "92ee25b5",
   "metadata": {},
   "outputs": [
    {
     "data": {
      "text/html": [
       "<div>\n",
       "<style scoped>\n",
       "    .dataframe tbody tr th:only-of-type {\n",
       "        vertical-align: middle;\n",
       "    }\n",
       "\n",
       "    .dataframe tbody tr th {\n",
       "        vertical-align: top;\n",
       "    }\n",
       "\n",
       "    .dataframe thead th {\n",
       "        text-align: right;\n",
       "    }\n",
       "</style>\n",
       "<table border=\"1\" class=\"dataframe\">\n",
       "  <thead>\n",
       "    <tr style=\"text-align: right;\">\n",
       "      <th></th>\n",
       "      <th>customer_ID</th>\n",
       "      <th>S_2</th>\n",
       "      <th>P_2</th>\n",
       "      <th>D_39</th>\n",
       "      <th>B_1</th>\n",
       "      <th>B_2</th>\n",
       "      <th>R_1</th>\n",
       "      <th>S_3</th>\n",
       "      <th>D_41</th>\n",
       "      <th>B_3</th>\n",
       "      <th>...</th>\n",
       "      <th>D_136</th>\n",
       "      <th>D_137</th>\n",
       "      <th>D_138</th>\n",
       "      <th>D_139</th>\n",
       "      <th>D_140</th>\n",
       "      <th>D_141</th>\n",
       "      <th>D_142</th>\n",
       "      <th>D_143</th>\n",
       "      <th>D_144</th>\n",
       "      <th>D_145</th>\n",
       "    </tr>\n",
       "  </thead>\n",
       "  <tbody>\n",
       "    <tr>\n",
       "      <th>0</th>\n",
       "      <td>6ba461c93869797c49b0f34c29274e50915466eda02a82...</td>\n",
       "      <td>2017-04-29</td>\n",
       "      <td>0.524390</td>\n",
       "      <td>0.331352</td>\n",
       "      <td>0.022647</td>\n",
       "      <td>1.009814</td>\n",
       "      <td>0.009442</td>\n",
       "      <td>0.301375</td>\n",
       "      <td>0.007879</td>\n",
       "      <td>0.025821</td>\n",
       "      <td>...</td>\n",
       "      <td>NaN</td>\n",
       "      <td>NaN</td>\n",
       "      <td>NaN</td>\n",
       "      <td>1.008062</td>\n",
       "      <td>0.003595</td>\n",
       "      <td>0.874480</td>\n",
       "      <td>0.090184</td>\n",
       "      <td>1.001811</td>\n",
       "      <td>0.004446</td>\n",
       "      <td>0.365380</td>\n",
       "    </tr>\n",
       "    <tr>\n",
       "      <th>1</th>\n",
       "      <td>6ea315e6f219bc513964121907331f96e5b194127ebee3...</td>\n",
       "      <td>2017-09-10</td>\n",
       "      <td>0.463367</td>\n",
       "      <td>0.003464</td>\n",
       "      <td>0.024714</td>\n",
       "      <td>0.818614</td>\n",
       "      <td>0.504045</td>\n",
       "      <td>0.218091</td>\n",
       "      <td>0.001362</td>\n",
       "      <td>0.014894</td>\n",
       "      <td>...</td>\n",
       "      <td>0.25245</td>\n",
       "      <td>0.007144</td>\n",
       "      <td>0.0022</td>\n",
       "      <td>0.003997</td>\n",
       "      <td>0.001457</td>\n",
       "      <td>0.009902</td>\n",
       "      <td>NaN</td>\n",
       "      <td>0.003727</td>\n",
       "      <td>0.000199</td>\n",
       "      <td>0.000804</td>\n",
       "    </tr>\n",
       "    <tr>\n",
       "      <th>2</th>\n",
       "      <td>6f105fec0ab833183a6a7aa3e39e79a6adf88a7cabe9df...</td>\n",
       "      <td>2017-03-26</td>\n",
       "      <td>0.463461</td>\n",
       "      <td>0.093902</td>\n",
       "      <td>0.008374</td>\n",
       "      <td>0.818932</td>\n",
       "      <td>0.501653</td>\n",
       "      <td>0.240602</td>\n",
       "      <td>0.002078</td>\n",
       "      <td>0.027738</td>\n",
       "      <td>...</td>\n",
       "      <td>NaN</td>\n",
       "      <td>NaN</td>\n",
       "      <td>NaN</td>\n",
       "      <td>0.009838</td>\n",
       "      <td>0.009414</td>\n",
       "      <td>0.006422</td>\n",
       "      <td>NaN</td>\n",
       "      <td>0.004107</td>\n",
       "      <td>0.004965</td>\n",
       "      <td>0.001735</td>\n",
       "    </tr>\n",
       "    <tr>\n",
       "      <th>3</th>\n",
       "      <td>6f105fec0ab833183a6a7aa3e39e79a6adf88a7cabe9df...</td>\n",
       "      <td>2017-04-26</td>\n",
       "      <td>0.442675</td>\n",
       "      <td>0.002785</td>\n",
       "      <td>0.008545</td>\n",
       "      <td>1.005278</td>\n",
       "      <td>0.008112</td>\n",
       "      <td>0.257985</td>\n",
       "      <td>0.008379</td>\n",
       "      <td>0.023375</td>\n",
       "      <td>...</td>\n",
       "      <td>NaN</td>\n",
       "      <td>NaN</td>\n",
       "      <td>NaN</td>\n",
       "      <td>0.006977</td>\n",
       "      <td>0.007455</td>\n",
       "      <td>0.001942</td>\n",
       "      <td>NaN</td>\n",
       "      <td>0.006927</td>\n",
       "      <td>0.007293</td>\n",
       "      <td>0.003186</td>\n",
       "    </tr>\n",
       "    <tr>\n",
       "      <th>4</th>\n",
       "      <td>6f105fec0ab833183a6a7aa3e39e79a6adf88a7cabe9df...</td>\n",
       "      <td>2017-05-26</td>\n",
       "      <td>0.471713</td>\n",
       "      <td>0.095840</td>\n",
       "      <td>0.011414</td>\n",
       "      <td>0.817346</td>\n",
       "      <td>0.508451</td>\n",
       "      <td>0.154248</td>\n",
       "      <td>0.000736</td>\n",
       "      <td>0.026002</td>\n",
       "      <td>...</td>\n",
       "      <td>NaN</td>\n",
       "      <td>NaN</td>\n",
       "      <td>NaN</td>\n",
       "      <td>0.009866</td>\n",
       "      <td>0.007082</td>\n",
       "      <td>0.002140</td>\n",
       "      <td>NaN</td>\n",
       "      <td>0.005485</td>\n",
       "      <td>0.000920</td>\n",
       "      <td>0.002958</td>\n",
       "    </tr>\n",
       "    <tr>\n",
       "      <th>...</th>\n",
       "      <td>...</td>\n",
       "      <td>...</td>\n",
       "      <td>...</td>\n",
       "      <td>...</td>\n",
       "      <td>...</td>\n",
       "      <td>...</td>\n",
       "      <td>...</td>\n",
       "      <td>...</td>\n",
       "      <td>...</td>\n",
       "      <td>...</td>\n",
       "      <td>...</td>\n",
       "      <td>...</td>\n",
       "      <td>...</td>\n",
       "      <td>...</td>\n",
       "      <td>...</td>\n",
       "      <td>...</td>\n",
       "      <td>...</td>\n",
       "      <td>...</td>\n",
       "      <td>...</td>\n",
       "      <td>...</td>\n",
       "      <td>...</td>\n",
       "    </tr>\n",
       "    <tr>\n",
       "      <th>13359</th>\n",
       "      <td>d7e2f69aa41106bb7413e9b3dcd28e1a0a074d2685d26a...</td>\n",
       "      <td>2017-11-18</td>\n",
       "      <td>0.342782</td>\n",
       "      <td>0.034313</td>\n",
       "      <td>0.026842</td>\n",
       "      <td>0.135342</td>\n",
       "      <td>0.008224</td>\n",
       "      <td>0.241999</td>\n",
       "      <td>0.006360</td>\n",
       "      <td>0.202902</td>\n",
       "      <td>...</td>\n",
       "      <td>NaN</td>\n",
       "      <td>NaN</td>\n",
       "      <td>NaN</td>\n",
       "      <td>1.003723</td>\n",
       "      <td>0.001312</td>\n",
       "      <td>0.860748</td>\n",
       "      <td>0.411478</td>\n",
       "      <td>1.003611</td>\n",
       "      <td>0.154195</td>\n",
       "      <td>0.366035</td>\n",
       "    </tr>\n",
       "    <tr>\n",
       "      <th>13360</th>\n",
       "      <td>d7e2f69aa41106bb7413e9b3dcd28e1a0a074d2685d26a...</td>\n",
       "      <td>2017-12-19</td>\n",
       "      <td>0.339534</td>\n",
       "      <td>0.031273</td>\n",
       "      <td>0.023687</td>\n",
       "      <td>0.139861</td>\n",
       "      <td>0.001994</td>\n",
       "      <td>0.232908</td>\n",
       "      <td>0.009484</td>\n",
       "      <td>0.198701</td>\n",
       "      <td>...</td>\n",
       "      <td>NaN</td>\n",
       "      <td>NaN</td>\n",
       "      <td>NaN</td>\n",
       "      <td>1.006629</td>\n",
       "      <td>0.006226</td>\n",
       "      <td>0.860865</td>\n",
       "      <td>0.412864</td>\n",
       "      <td>1.009596</td>\n",
       "      <td>0.151082</td>\n",
       "      <td>0.367020</td>\n",
       "    </tr>\n",
       "    <tr>\n",
       "      <th>13361</th>\n",
       "      <td>d7e2f69aa41106bb7413e9b3dcd28e1a0a074d2685d26a...</td>\n",
       "      <td>2018-01-19</td>\n",
       "      <td>0.226843</td>\n",
       "      <td>0.031205</td>\n",
       "      <td>0.021618</td>\n",
       "      <td>0.146228</td>\n",
       "      <td>0.008076</td>\n",
       "      <td>0.235040</td>\n",
       "      <td>0.003757</td>\n",
       "      <td>0.195985</td>\n",
       "      <td>...</td>\n",
       "      <td>NaN</td>\n",
       "      <td>NaN</td>\n",
       "      <td>NaN</td>\n",
       "      <td>1.004810</td>\n",
       "      <td>0.008640</td>\n",
       "      <td>0.859877</td>\n",
       "      <td>0.417737</td>\n",
       "      <td>1.009963</td>\n",
       "      <td>0.156284</td>\n",
       "      <td>0.371340</td>\n",
       "    </tr>\n",
       "    <tr>\n",
       "      <th>13362</th>\n",
       "      <td>d7e2f69aa41106bb7413e9b3dcd28e1a0a074d2685d26a...</td>\n",
       "      <td>2018-02-16</td>\n",
       "      <td>0.230107</td>\n",
       "      <td>0.035024</td>\n",
       "      <td>0.021670</td>\n",
       "      <td>0.226883</td>\n",
       "      <td>0.509827</td>\n",
       "      <td>NaN</td>\n",
       "      <td>0.001564</td>\n",
       "      <td>0.175962</td>\n",
       "      <td>...</td>\n",
       "      <td>NaN</td>\n",
       "      <td>NaN</td>\n",
       "      <td>NaN</td>\n",
       "      <td>1.001315</td>\n",
       "      <td>0.008750</td>\n",
       "      <td>0.859157</td>\n",
       "      <td>0.417087</td>\n",
       "      <td>1.007784</td>\n",
       "      <td>0.148645</td>\n",
       "      <td>0.371636</td>\n",
       "    </tr>\n",
       "    <tr>\n",
       "      <th>13363</th>\n",
       "      <td>d7e2f69aa41106bb7413e9b3dcd28e1a0a074d2685d26a...</td>\n",
       "      <td>2018-03-26</td>\n",
       "      <td>0.165446</td>\n",
       "      <td>0.238344</td>\n",
       "      <td>0.051775</td>\n",
       "      <td>0.000076</td>\n",
       "      <td>0.505180</td>\n",
       "      <td>0.177076</td>\n",
       "      <td>0.001176</td>\n",
       "      <td>0.140062</td>\n",
       "      <td>...</td>\n",
       "      <td>NaN</td>\n",
       "      <td>NaN</td>\n",
       "      <td>NaN</td>\n",
       "      <td>1.006969</td>\n",
       "      <td>0.005883</td>\n",
       "      <td>0.862367</td>\n",
       "      <td>0.420029</td>\n",
       "      <td>1.009987</td>\n",
       "      <td>0.120506</td>\n",
       "      <td>0.370538</td>\n",
       "    </tr>\n",
       "  </tbody>\n",
       "</table>\n",
       "<p>13364 rows × 190 columns</p>\n",
       "</div>"
      ],
      "text/plain": [
       "                                             customer_ID         S_2  \\\n",
       "0      6ba461c93869797c49b0f34c29274e50915466eda02a82...  2017-04-29   \n",
       "1      6ea315e6f219bc513964121907331f96e5b194127ebee3...  2017-09-10   \n",
       "2      6f105fec0ab833183a6a7aa3e39e79a6adf88a7cabe9df...  2017-03-26   \n",
       "3      6f105fec0ab833183a6a7aa3e39e79a6adf88a7cabe9df...  2017-04-26   \n",
       "4      6f105fec0ab833183a6a7aa3e39e79a6adf88a7cabe9df...  2017-05-26   \n",
       "...                                                  ...         ...   \n",
       "13359  d7e2f69aa41106bb7413e9b3dcd28e1a0a074d2685d26a...  2017-11-18   \n",
       "13360  d7e2f69aa41106bb7413e9b3dcd28e1a0a074d2685d26a...  2017-12-19   \n",
       "13361  d7e2f69aa41106bb7413e9b3dcd28e1a0a074d2685d26a...  2018-01-19   \n",
       "13362  d7e2f69aa41106bb7413e9b3dcd28e1a0a074d2685d26a...  2018-02-16   \n",
       "13363  d7e2f69aa41106bb7413e9b3dcd28e1a0a074d2685d26a...  2018-03-26   \n",
       "\n",
       "            P_2      D_39       B_1       B_2       R_1       S_3      D_41  \\\n",
       "0      0.524390  0.331352  0.022647  1.009814  0.009442  0.301375  0.007879   \n",
       "1      0.463367  0.003464  0.024714  0.818614  0.504045  0.218091  0.001362   \n",
       "2      0.463461  0.093902  0.008374  0.818932  0.501653  0.240602  0.002078   \n",
       "3      0.442675  0.002785  0.008545  1.005278  0.008112  0.257985  0.008379   \n",
       "4      0.471713  0.095840  0.011414  0.817346  0.508451  0.154248  0.000736   \n",
       "...         ...       ...       ...       ...       ...       ...       ...   \n",
       "13359  0.342782  0.034313  0.026842  0.135342  0.008224  0.241999  0.006360   \n",
       "13360  0.339534  0.031273  0.023687  0.139861  0.001994  0.232908  0.009484   \n",
       "13361  0.226843  0.031205  0.021618  0.146228  0.008076  0.235040  0.003757   \n",
       "13362  0.230107  0.035024  0.021670  0.226883  0.509827       NaN  0.001564   \n",
       "13363  0.165446  0.238344  0.051775  0.000076  0.505180  0.177076  0.001176   \n",
       "\n",
       "            B_3  ...    D_136     D_137   D_138     D_139     D_140     D_141  \\\n",
       "0      0.025821  ...      NaN       NaN     NaN  1.008062  0.003595  0.874480   \n",
       "1      0.014894  ...  0.25245  0.007144  0.0022  0.003997  0.001457  0.009902   \n",
       "2      0.027738  ...      NaN       NaN     NaN  0.009838  0.009414  0.006422   \n",
       "3      0.023375  ...      NaN       NaN     NaN  0.006977  0.007455  0.001942   \n",
       "4      0.026002  ...      NaN       NaN     NaN  0.009866  0.007082  0.002140   \n",
       "...         ...  ...      ...       ...     ...       ...       ...       ...   \n",
       "13359  0.202902  ...      NaN       NaN     NaN  1.003723  0.001312  0.860748   \n",
       "13360  0.198701  ...      NaN       NaN     NaN  1.006629  0.006226  0.860865   \n",
       "13361  0.195985  ...      NaN       NaN     NaN  1.004810  0.008640  0.859877   \n",
       "13362  0.175962  ...      NaN       NaN     NaN  1.001315  0.008750  0.859157   \n",
       "13363  0.140062  ...      NaN       NaN     NaN  1.006969  0.005883  0.862367   \n",
       "\n",
       "          D_142     D_143     D_144     D_145  \n",
       "0      0.090184  1.001811  0.004446  0.365380  \n",
       "1           NaN  0.003727  0.000199  0.000804  \n",
       "2           NaN  0.004107  0.004965  0.001735  \n",
       "3           NaN  0.006927  0.007293  0.003186  \n",
       "4           NaN  0.005485  0.000920  0.002958  \n",
       "...         ...       ...       ...       ...  \n",
       "13359  0.411478  1.003611  0.154195  0.366035  \n",
       "13360  0.412864  1.009596  0.151082  0.367020  \n",
       "13361  0.417737  1.009963  0.156284  0.371340  \n",
       "13362  0.417087  1.007784  0.148645  0.371636  \n",
       "13363  0.420029  1.009987  0.120506  0.370538  \n",
       "\n",
       "[13364 rows x 190 columns]"
      ]
     },
     "execution_count": 6,
     "metadata": {},
     "output_type": "execute_result"
    }
   ],
   "source": [
    "def_df_small"
   ]
  },
  {
   "cell_type": "code",
   "execution_count": null,
   "id": "7be6a840",
   "metadata": {},
   "outputs": [],
   "source": [
    "def_df_small.shape , pay_df_small.shape"
   ]
  },
  {
   "cell_type": "code",
   "execution_count": 8,
   "id": "2900559c",
   "metadata": {},
   "outputs": [
    {
     "data": {
      "text/plain": [
       "((76747, 191), (243953, 191))"
      ]
     },
     "execution_count": 8,
     "metadata": {},
     "output_type": "execute_result"
    }
   ],
   "source": [
    "def_df.shape , pay_df.shape"
   ]
  },
  {
   "cell_type": "code",
   "execution_count": 3,
   "id": "ca1f5989-0d50-4ac0-87b9-2cdb2c69a2cb",
   "metadata": {},
   "outputs": [],
   "source": [
    "def_df = pd.read_csv(\"/Users/sjoerddewit/Desktop/Programming/6 Le Wagon Data Science/final_project/defaulter_data_6k_ids.csv\", index_col=[0])\n",
    "pay_df = pd.read_csv(\"/Users/sjoerddewit/Desktop/Programming/6 Le Wagon Data Science/final_project/payer_data_20k_ids.csv\", index_col=[0])\n",
    "\n",
    "# # Apply the following 2 lines of code only when using the larger dataset where \n",
    "# #'customer_ID_1' is a second customer_ID column:\n",
    "\n",
    "# def_df.drop(columns='customer_ID_1', inplace=True)\n",
    "# pay_df.drop(columns='customer_ID_1', inplace=True)\n",
    "\n",
    "def_df['default'] = 1\n",
    "pay_df['default'] = 0\n",
    "\n",
    "df = pd.concat([def_df, pay_df])\n"
   ]
  },
  {
   "cell_type": "code",
   "execution_count": 7,
   "id": "8d051993",
   "metadata": {},
   "outputs": [
    {
     "data": {
      "text/html": [
       "<div>\n",
       "<style scoped>\n",
       "    .dataframe tbody tr th:only-of-type {\n",
       "        vertical-align: middle;\n",
       "    }\n",
       "\n",
       "    .dataframe tbody tr th {\n",
       "        vertical-align: top;\n",
       "    }\n",
       "\n",
       "    .dataframe thead th {\n",
       "        text-align: right;\n",
       "    }\n",
       "</style>\n",
       "<table border=\"1\" class=\"dataframe\">\n",
       "  <thead>\n",
       "    <tr style=\"text-align: right;\">\n",
       "      <th></th>\n",
       "      <th>S_2</th>\n",
       "      <th>P_2</th>\n",
       "      <th>D_39</th>\n",
       "      <th>B_1</th>\n",
       "      <th>B_2</th>\n",
       "      <th>R_1</th>\n",
       "      <th>S_3</th>\n",
       "      <th>D_41</th>\n",
       "      <th>B_3</th>\n",
       "      <th>D_42</th>\n",
       "      <th>...</th>\n",
       "      <th>D_138</th>\n",
       "      <th>D_139</th>\n",
       "      <th>D_140</th>\n",
       "      <th>D_141</th>\n",
       "      <th>D_142</th>\n",
       "      <th>D_143</th>\n",
       "      <th>D_144</th>\n",
       "      <th>D_145</th>\n",
       "      <th>customer_ID_1</th>\n",
       "      <th>default</th>\n",
       "    </tr>\n",
       "    <tr>\n",
       "      <th>customer_ID</th>\n",
       "      <th></th>\n",
       "      <th></th>\n",
       "      <th></th>\n",
       "      <th></th>\n",
       "      <th></th>\n",
       "      <th></th>\n",
       "      <th></th>\n",
       "      <th></th>\n",
       "      <th></th>\n",
       "      <th></th>\n",
       "      <th></th>\n",
       "      <th></th>\n",
       "      <th></th>\n",
       "      <th></th>\n",
       "      <th></th>\n",
       "      <th></th>\n",
       "      <th></th>\n",
       "      <th></th>\n",
       "      <th></th>\n",
       "      <th></th>\n",
       "      <th></th>\n",
       "    </tr>\n",
       "  </thead>\n",
       "  <tbody>\n",
       "    <tr>\n",
       "      <th>001c886240970cf7f9c6092f0f8bda6d17100d4ac244d5fad72497711ce2d341</th>\n",
       "      <td>2017-03-22</td>\n",
       "      <td>0.306287</td>\n",
       "      <td>0.004328</td>\n",
       "      <td>0.002342</td>\n",
       "      <td>0.817823</td>\n",
       "      <td>0.004932</td>\n",
       "      <td>0.174028</td>\n",
       "      <td>0.004093</td>\n",
       "      <td>0.002467</td>\n",
       "      <td>0.340935</td>\n",
       "      <td>...</td>\n",
       "      <td>NaN</td>\n",
       "      <td>1.005170</td>\n",
       "      <td>1.000374</td>\n",
       "      <td>0.904457</td>\n",
       "      <td>0.208669</td>\n",
       "      <td>1.004377</td>\n",
       "      <td>0.001993</td>\n",
       "      <td>0.099668</td>\n",
       "      <td>001c886240970cf7f9c6092f0f8bda6d17100d4ac244d5...</td>\n",
       "      <td>1</td>\n",
       "    </tr>\n",
       "    <tr>\n",
       "      <th>001c886240970cf7f9c6092f0f8bda6d17100d4ac244d5fad72497711ce2d341</th>\n",
       "      <td>2017-04-21</td>\n",
       "      <td>0.331729</td>\n",
       "      <td>0.008962</td>\n",
       "      <td>0.004118</td>\n",
       "      <td>0.815960</td>\n",
       "      <td>0.000864</td>\n",
       "      <td>0.178071</td>\n",
       "      <td>0.005532</td>\n",
       "      <td>0.007005</td>\n",
       "      <td>0.317408</td>\n",
       "      <td>...</td>\n",
       "      <td>NaN</td>\n",
       "      <td>1.004126</td>\n",
       "      <td>1.001228</td>\n",
       "      <td>0.909077</td>\n",
       "      <td>0.211385</td>\n",
       "      <td>1.007150</td>\n",
       "      <td>0.009791</td>\n",
       "      <td>0.096142</td>\n",
       "      <td>001c886240970cf7f9c6092f0f8bda6d17100d4ac244d5...</td>\n",
       "      <td>1</td>\n",
       "    </tr>\n",
       "    <tr>\n",
       "      <th>001c886240970cf7f9c6092f0f8bda6d17100d4ac244d5fad72497711ce2d341</th>\n",
       "      <td>2017-05-22</td>\n",
       "      <td>0.442253</td>\n",
       "      <td>0.004988</td>\n",
       "      <td>0.006820</td>\n",
       "      <td>0.813529</td>\n",
       "      <td>0.002192</td>\n",
       "      <td>0.175876</td>\n",
       "      <td>0.004110</td>\n",
       "      <td>0.000196</td>\n",
       "      <td>0.313986</td>\n",
       "      <td>...</td>\n",
       "      <td>NaN</td>\n",
       "      <td>1.006683</td>\n",
       "      <td>1.006449</td>\n",
       "      <td>0.906293</td>\n",
       "      <td>0.221518</td>\n",
       "      <td>1.003794</td>\n",
       "      <td>0.008036</td>\n",
       "      <td>0.094994</td>\n",
       "      <td>001c886240970cf7f9c6092f0f8bda6d17100d4ac244d5...</td>\n",
       "      <td>1</td>\n",
       "    </tr>\n",
       "    <tr>\n",
       "      <th>001c886240970cf7f9c6092f0f8bda6d17100d4ac244d5fad72497711ce2d341</th>\n",
       "      <td>2017-06-21</td>\n",
       "      <td>0.399138</td>\n",
       "      <td>0.002508</td>\n",
       "      <td>0.004815</td>\n",
       "      <td>0.819098</td>\n",
       "      <td>0.002756</td>\n",
       "      <td>NaN</td>\n",
       "      <td>0.006862</td>\n",
       "      <td>0.000596</td>\n",
       "      <td>0.321377</td>\n",
       "      <td>...</td>\n",
       "      <td>NaN</td>\n",
       "      <td>1.005252</td>\n",
       "      <td>1.001903</td>\n",
       "      <td>0.906974</td>\n",
       "      <td>0.221578</td>\n",
       "      <td>1.006649</td>\n",
       "      <td>0.007658</td>\n",
       "      <td>0.097426</td>\n",
       "      <td>001c886240970cf7f9c6092f0f8bda6d17100d4ac244d5...</td>\n",
       "      <td>1</td>\n",
       "    </tr>\n",
       "    <tr>\n",
       "      <th>001c886240970cf7f9c6092f0f8bda6d17100d4ac244d5fad72497711ce2d341</th>\n",
       "      <td>2017-07-22</td>\n",
       "      <td>0.418534</td>\n",
       "      <td>0.007389</td>\n",
       "      <td>0.006309</td>\n",
       "      <td>0.810148</td>\n",
       "      <td>0.005980</td>\n",
       "      <td>NaN</td>\n",
       "      <td>0.005039</td>\n",
       "      <td>0.007824</td>\n",
       "      <td>0.295963</td>\n",
       "      <td>...</td>\n",
       "      <td>NaN</td>\n",
       "      <td>1.002625</td>\n",
       "      <td>1.001812</td>\n",
       "      <td>0.909704</td>\n",
       "      <td>0.224651</td>\n",
       "      <td>1.007119</td>\n",
       "      <td>0.006605</td>\n",
       "      <td>0.095697</td>\n",
       "      <td>001c886240970cf7f9c6092f0f8bda6d17100d4ac244d5...</td>\n",
       "      <td>1</td>\n",
       "    </tr>\n",
       "    <tr>\n",
       "      <th>...</th>\n",
       "      <td>...</td>\n",
       "      <td>...</td>\n",
       "      <td>...</td>\n",
       "      <td>...</td>\n",
       "      <td>...</td>\n",
       "      <td>...</td>\n",
       "      <td>...</td>\n",
       "      <td>...</td>\n",
       "      <td>...</td>\n",
       "      <td>...</td>\n",
       "      <td>...</td>\n",
       "      <td>...</td>\n",
       "      <td>...</td>\n",
       "      <td>...</td>\n",
       "      <td>...</td>\n",
       "      <td>...</td>\n",
       "      <td>...</td>\n",
       "      <td>...</td>\n",
       "      <td>...</td>\n",
       "      <td>...</td>\n",
       "      <td>...</td>\n",
       "    </tr>\n",
       "    <tr>\n",
       "      <th>fff008c2b2b68056227aa9e13c40a1773502f9d943dd46513d1364b3b68bbdef</th>\n",
       "      <td>2017-11-14</td>\n",
       "      <td>0.372564</td>\n",
       "      <td>0.034597</td>\n",
       "      <td>0.107811</td>\n",
       "      <td>0.107789</td>\n",
       "      <td>0.501668</td>\n",
       "      <td>0.584158</td>\n",
       "      <td>0.002399</td>\n",
       "      <td>0.178754</td>\n",
       "      <td>0.599672</td>\n",
       "      <td>...</td>\n",
       "      <td>0.003778</td>\n",
       "      <td>0.009726</td>\n",
       "      <td>0.006164</td>\n",
       "      <td>0.006767</td>\n",
       "      <td>NaN</td>\n",
       "      <td>0.003974</td>\n",
       "      <td>0.001271</td>\n",
       "      <td>0.008272</td>\n",
       "      <td>fff008c2b2b68056227aa9e13c40a1773502f9d943dd46...</td>\n",
       "      <td>1</td>\n",
       "    </tr>\n",
       "    <tr>\n",
       "      <th>fff008c2b2b68056227aa9e13c40a1773502f9d943dd46513d1364b3b68bbdef</th>\n",
       "      <td>2017-12-15</td>\n",
       "      <td>0.440656</td>\n",
       "      <td>0.037208</td>\n",
       "      <td>0.115564</td>\n",
       "      <td>0.034043</td>\n",
       "      <td>0.501316</td>\n",
       "      <td>0.571675</td>\n",
       "      <td>0.004243</td>\n",
       "      <td>0.360488</td>\n",
       "      <td>0.602126</td>\n",
       "      <td>...</td>\n",
       "      <td>0.000675</td>\n",
       "      <td>0.008703</td>\n",
       "      <td>0.001556</td>\n",
       "      <td>0.003246</td>\n",
       "      <td>NaN</td>\n",
       "      <td>0.007745</td>\n",
       "      <td>0.003650</td>\n",
       "      <td>0.005946</td>\n",
       "      <td>fff008c2b2b68056227aa9e13c40a1773502f9d943dd46...</td>\n",
       "      <td>1</td>\n",
       "    </tr>\n",
       "    <tr>\n",
       "      <th>fff008c2b2b68056227aa9e13c40a1773502f9d943dd46513d1364b3b68bbdef</th>\n",
       "      <td>2018-01-15</td>\n",
       "      <td>0.379893</td>\n",
       "      <td>0.034166</td>\n",
       "      <td>0.117190</td>\n",
       "      <td>0.052027</td>\n",
       "      <td>1.007305</td>\n",
       "      <td>0.594632</td>\n",
       "      <td>0.005235</td>\n",
       "      <td>0.302925</td>\n",
       "      <td>NaN</td>\n",
       "      <td>...</td>\n",
       "      <td>0.001925</td>\n",
       "      <td>0.009279</td>\n",
       "      <td>0.009491</td>\n",
       "      <td>0.004354</td>\n",
       "      <td>NaN</td>\n",
       "      <td>0.000611</td>\n",
       "      <td>0.003299</td>\n",
       "      <td>0.001900</td>\n",
       "      <td>fff008c2b2b68056227aa9e13c40a1773502f9d943dd46...</td>\n",
       "      <td>1</td>\n",
       "    </tr>\n",
       "    <tr>\n",
       "      <th>fff008c2b2b68056227aa9e13c40a1773502f9d943dd46513d1364b3b68bbdef</th>\n",
       "      <td>2018-02-12</td>\n",
       "      <td>0.295899</td>\n",
       "      <td>0.035268</td>\n",
       "      <td>0.089921</td>\n",
       "      <td>0.340545</td>\n",
       "      <td>0.001360</td>\n",
       "      <td>0.594629</td>\n",
       "      <td>0.004602</td>\n",
       "      <td>0.204950</td>\n",
       "      <td>NaN</td>\n",
       "      <td>...</td>\n",
       "      <td>0.003446</td>\n",
       "      <td>0.002218</td>\n",
       "      <td>0.007157</td>\n",
       "      <td>0.002659</td>\n",
       "      <td>NaN</td>\n",
       "      <td>0.007633</td>\n",
       "      <td>0.003266</td>\n",
       "      <td>0.003250</td>\n",
       "      <td>fff008c2b2b68056227aa9e13c40a1773502f9d943dd46...</td>\n",
       "      <td>1</td>\n",
       "    </tr>\n",
       "    <tr>\n",
       "      <th>fff008c2b2b68056227aa9e13c40a1773502f9d943dd46513d1364b3b68bbdef</th>\n",
       "      <td>2018-03-15</td>\n",
       "      <td>0.325307</td>\n",
       "      <td>0.005782</td>\n",
       "      <td>0.009040</td>\n",
       "      <td>1.004302</td>\n",
       "      <td>0.008366</td>\n",
       "      <td>0.562343</td>\n",
       "      <td>0.006655</td>\n",
       "      <td>0.129522</td>\n",
       "      <td>NaN</td>\n",
       "      <td>...</td>\n",
       "      <td>NaN</td>\n",
       "      <td>0.008209</td>\n",
       "      <td>0.004057</td>\n",
       "      <td>0.005219</td>\n",
       "      <td>NaN</td>\n",
       "      <td>0.005313</td>\n",
       "      <td>0.003498</td>\n",
       "      <td>0.005130</td>\n",
       "      <td>fff008c2b2b68056227aa9e13c40a1773502f9d943dd46...</td>\n",
       "      <td>1</td>\n",
       "    </tr>\n",
       "  </tbody>\n",
       "</table>\n",
       "<p>76747 rows × 191 columns</p>\n",
       "</div>"
      ],
      "text/plain": [
       "                                                           S_2       P_2  \\\n",
       "customer_ID                                                                \n",
       "001c886240970cf7f9c6092f0f8bda6d17100d4ac244d5f...  2017-03-22  0.306287   \n",
       "001c886240970cf7f9c6092f0f8bda6d17100d4ac244d5f...  2017-04-21  0.331729   \n",
       "001c886240970cf7f9c6092f0f8bda6d17100d4ac244d5f...  2017-05-22  0.442253   \n",
       "001c886240970cf7f9c6092f0f8bda6d17100d4ac244d5f...  2017-06-21  0.399138   \n",
       "001c886240970cf7f9c6092f0f8bda6d17100d4ac244d5f...  2017-07-22  0.418534   \n",
       "...                                                        ...       ...   \n",
       "fff008c2b2b68056227aa9e13c40a1773502f9d943dd465...  2017-11-14  0.372564   \n",
       "fff008c2b2b68056227aa9e13c40a1773502f9d943dd465...  2017-12-15  0.440656   \n",
       "fff008c2b2b68056227aa9e13c40a1773502f9d943dd465...  2018-01-15  0.379893   \n",
       "fff008c2b2b68056227aa9e13c40a1773502f9d943dd465...  2018-02-12  0.295899   \n",
       "fff008c2b2b68056227aa9e13c40a1773502f9d943dd465...  2018-03-15  0.325307   \n",
       "\n",
       "                                                        D_39       B_1  \\\n",
       "customer_ID                                                              \n",
       "001c886240970cf7f9c6092f0f8bda6d17100d4ac244d5f...  0.004328  0.002342   \n",
       "001c886240970cf7f9c6092f0f8bda6d17100d4ac244d5f...  0.008962  0.004118   \n",
       "001c886240970cf7f9c6092f0f8bda6d17100d4ac244d5f...  0.004988  0.006820   \n",
       "001c886240970cf7f9c6092f0f8bda6d17100d4ac244d5f...  0.002508  0.004815   \n",
       "001c886240970cf7f9c6092f0f8bda6d17100d4ac244d5f...  0.007389  0.006309   \n",
       "...                                                      ...       ...   \n",
       "fff008c2b2b68056227aa9e13c40a1773502f9d943dd465...  0.034597  0.107811   \n",
       "fff008c2b2b68056227aa9e13c40a1773502f9d943dd465...  0.037208  0.115564   \n",
       "fff008c2b2b68056227aa9e13c40a1773502f9d943dd465...  0.034166  0.117190   \n",
       "fff008c2b2b68056227aa9e13c40a1773502f9d943dd465...  0.035268  0.089921   \n",
       "fff008c2b2b68056227aa9e13c40a1773502f9d943dd465...  0.005782  0.009040   \n",
       "\n",
       "                                                         B_2       R_1  \\\n",
       "customer_ID                                                              \n",
       "001c886240970cf7f9c6092f0f8bda6d17100d4ac244d5f...  0.817823  0.004932   \n",
       "001c886240970cf7f9c6092f0f8bda6d17100d4ac244d5f...  0.815960  0.000864   \n",
       "001c886240970cf7f9c6092f0f8bda6d17100d4ac244d5f...  0.813529  0.002192   \n",
       "001c886240970cf7f9c6092f0f8bda6d17100d4ac244d5f...  0.819098  0.002756   \n",
       "001c886240970cf7f9c6092f0f8bda6d17100d4ac244d5f...  0.810148  0.005980   \n",
       "...                                                      ...       ...   \n",
       "fff008c2b2b68056227aa9e13c40a1773502f9d943dd465...  0.107789  0.501668   \n",
       "fff008c2b2b68056227aa9e13c40a1773502f9d943dd465...  0.034043  0.501316   \n",
       "fff008c2b2b68056227aa9e13c40a1773502f9d943dd465...  0.052027  1.007305   \n",
       "fff008c2b2b68056227aa9e13c40a1773502f9d943dd465...  0.340545  0.001360   \n",
       "fff008c2b2b68056227aa9e13c40a1773502f9d943dd465...  1.004302  0.008366   \n",
       "\n",
       "                                                         S_3      D_41  \\\n",
       "customer_ID                                                              \n",
       "001c886240970cf7f9c6092f0f8bda6d17100d4ac244d5f...  0.174028  0.004093   \n",
       "001c886240970cf7f9c6092f0f8bda6d17100d4ac244d5f...  0.178071  0.005532   \n",
       "001c886240970cf7f9c6092f0f8bda6d17100d4ac244d5f...  0.175876  0.004110   \n",
       "001c886240970cf7f9c6092f0f8bda6d17100d4ac244d5f...       NaN  0.006862   \n",
       "001c886240970cf7f9c6092f0f8bda6d17100d4ac244d5f...       NaN  0.005039   \n",
       "...                                                      ...       ...   \n",
       "fff008c2b2b68056227aa9e13c40a1773502f9d943dd465...  0.584158  0.002399   \n",
       "fff008c2b2b68056227aa9e13c40a1773502f9d943dd465...  0.571675  0.004243   \n",
       "fff008c2b2b68056227aa9e13c40a1773502f9d943dd465...  0.594632  0.005235   \n",
       "fff008c2b2b68056227aa9e13c40a1773502f9d943dd465...  0.594629  0.004602   \n",
       "fff008c2b2b68056227aa9e13c40a1773502f9d943dd465...  0.562343  0.006655   \n",
       "\n",
       "                                                         B_3      D_42  ...  \\\n",
       "customer_ID                                                             ...   \n",
       "001c886240970cf7f9c6092f0f8bda6d17100d4ac244d5f...  0.002467  0.340935  ...   \n",
       "001c886240970cf7f9c6092f0f8bda6d17100d4ac244d5f...  0.007005  0.317408  ...   \n",
       "001c886240970cf7f9c6092f0f8bda6d17100d4ac244d5f...  0.000196  0.313986  ...   \n",
       "001c886240970cf7f9c6092f0f8bda6d17100d4ac244d5f...  0.000596  0.321377  ...   \n",
       "001c886240970cf7f9c6092f0f8bda6d17100d4ac244d5f...  0.007824  0.295963  ...   \n",
       "...                                                      ...       ...  ...   \n",
       "fff008c2b2b68056227aa9e13c40a1773502f9d943dd465...  0.178754  0.599672  ...   \n",
       "fff008c2b2b68056227aa9e13c40a1773502f9d943dd465...  0.360488  0.602126  ...   \n",
       "fff008c2b2b68056227aa9e13c40a1773502f9d943dd465...  0.302925       NaN  ...   \n",
       "fff008c2b2b68056227aa9e13c40a1773502f9d943dd465...  0.204950       NaN  ...   \n",
       "fff008c2b2b68056227aa9e13c40a1773502f9d943dd465...  0.129522       NaN  ...   \n",
       "\n",
       "                                                       D_138     D_139  \\\n",
       "customer_ID                                                              \n",
       "001c886240970cf7f9c6092f0f8bda6d17100d4ac244d5f...       NaN  1.005170   \n",
       "001c886240970cf7f9c6092f0f8bda6d17100d4ac244d5f...       NaN  1.004126   \n",
       "001c886240970cf7f9c6092f0f8bda6d17100d4ac244d5f...       NaN  1.006683   \n",
       "001c886240970cf7f9c6092f0f8bda6d17100d4ac244d5f...       NaN  1.005252   \n",
       "001c886240970cf7f9c6092f0f8bda6d17100d4ac244d5f...       NaN  1.002625   \n",
       "...                                                      ...       ...   \n",
       "fff008c2b2b68056227aa9e13c40a1773502f9d943dd465...  0.003778  0.009726   \n",
       "fff008c2b2b68056227aa9e13c40a1773502f9d943dd465...  0.000675  0.008703   \n",
       "fff008c2b2b68056227aa9e13c40a1773502f9d943dd465...  0.001925  0.009279   \n",
       "fff008c2b2b68056227aa9e13c40a1773502f9d943dd465...  0.003446  0.002218   \n",
       "fff008c2b2b68056227aa9e13c40a1773502f9d943dd465...       NaN  0.008209   \n",
       "\n",
       "                                                       D_140     D_141  \\\n",
       "customer_ID                                                              \n",
       "001c886240970cf7f9c6092f0f8bda6d17100d4ac244d5f...  1.000374  0.904457   \n",
       "001c886240970cf7f9c6092f0f8bda6d17100d4ac244d5f...  1.001228  0.909077   \n",
       "001c886240970cf7f9c6092f0f8bda6d17100d4ac244d5f...  1.006449  0.906293   \n",
       "001c886240970cf7f9c6092f0f8bda6d17100d4ac244d5f...  1.001903  0.906974   \n",
       "001c886240970cf7f9c6092f0f8bda6d17100d4ac244d5f...  1.001812  0.909704   \n",
       "...                                                      ...       ...   \n",
       "fff008c2b2b68056227aa9e13c40a1773502f9d943dd465...  0.006164  0.006767   \n",
       "fff008c2b2b68056227aa9e13c40a1773502f9d943dd465...  0.001556  0.003246   \n",
       "fff008c2b2b68056227aa9e13c40a1773502f9d943dd465...  0.009491  0.004354   \n",
       "fff008c2b2b68056227aa9e13c40a1773502f9d943dd465...  0.007157  0.002659   \n",
       "fff008c2b2b68056227aa9e13c40a1773502f9d943dd465...  0.004057  0.005219   \n",
       "\n",
       "                                                       D_142     D_143  \\\n",
       "customer_ID                                                              \n",
       "001c886240970cf7f9c6092f0f8bda6d17100d4ac244d5f...  0.208669  1.004377   \n",
       "001c886240970cf7f9c6092f0f8bda6d17100d4ac244d5f...  0.211385  1.007150   \n",
       "001c886240970cf7f9c6092f0f8bda6d17100d4ac244d5f...  0.221518  1.003794   \n",
       "001c886240970cf7f9c6092f0f8bda6d17100d4ac244d5f...  0.221578  1.006649   \n",
       "001c886240970cf7f9c6092f0f8bda6d17100d4ac244d5f...  0.224651  1.007119   \n",
       "...                                                      ...       ...   \n",
       "fff008c2b2b68056227aa9e13c40a1773502f9d943dd465...       NaN  0.003974   \n",
       "fff008c2b2b68056227aa9e13c40a1773502f9d943dd465...       NaN  0.007745   \n",
       "fff008c2b2b68056227aa9e13c40a1773502f9d943dd465...       NaN  0.000611   \n",
       "fff008c2b2b68056227aa9e13c40a1773502f9d943dd465...       NaN  0.007633   \n",
       "fff008c2b2b68056227aa9e13c40a1773502f9d943dd465...       NaN  0.005313   \n",
       "\n",
       "                                                       D_144     D_145  \\\n",
       "customer_ID                                                              \n",
       "001c886240970cf7f9c6092f0f8bda6d17100d4ac244d5f...  0.001993  0.099668   \n",
       "001c886240970cf7f9c6092f0f8bda6d17100d4ac244d5f...  0.009791  0.096142   \n",
       "001c886240970cf7f9c6092f0f8bda6d17100d4ac244d5f...  0.008036  0.094994   \n",
       "001c886240970cf7f9c6092f0f8bda6d17100d4ac244d5f...  0.007658  0.097426   \n",
       "001c886240970cf7f9c6092f0f8bda6d17100d4ac244d5f...  0.006605  0.095697   \n",
       "...                                                      ...       ...   \n",
       "fff008c2b2b68056227aa9e13c40a1773502f9d943dd465...  0.001271  0.008272   \n",
       "fff008c2b2b68056227aa9e13c40a1773502f9d943dd465...  0.003650  0.005946   \n",
       "fff008c2b2b68056227aa9e13c40a1773502f9d943dd465...  0.003299  0.001900   \n",
       "fff008c2b2b68056227aa9e13c40a1773502f9d943dd465...  0.003266  0.003250   \n",
       "fff008c2b2b68056227aa9e13c40a1773502f9d943dd465...  0.003498  0.005130   \n",
       "\n",
       "                                                                                        customer_ID_1  \\\n",
       "customer_ID                                                                                             \n",
       "001c886240970cf7f9c6092f0f8bda6d17100d4ac244d5f...  001c886240970cf7f9c6092f0f8bda6d17100d4ac244d5...   \n",
       "001c886240970cf7f9c6092f0f8bda6d17100d4ac244d5f...  001c886240970cf7f9c6092f0f8bda6d17100d4ac244d5...   \n",
       "001c886240970cf7f9c6092f0f8bda6d17100d4ac244d5f...  001c886240970cf7f9c6092f0f8bda6d17100d4ac244d5...   \n",
       "001c886240970cf7f9c6092f0f8bda6d17100d4ac244d5f...  001c886240970cf7f9c6092f0f8bda6d17100d4ac244d5...   \n",
       "001c886240970cf7f9c6092f0f8bda6d17100d4ac244d5f...  001c886240970cf7f9c6092f0f8bda6d17100d4ac244d5...   \n",
       "...                                                                                               ...   \n",
       "fff008c2b2b68056227aa9e13c40a1773502f9d943dd465...  fff008c2b2b68056227aa9e13c40a1773502f9d943dd46...   \n",
       "fff008c2b2b68056227aa9e13c40a1773502f9d943dd465...  fff008c2b2b68056227aa9e13c40a1773502f9d943dd46...   \n",
       "fff008c2b2b68056227aa9e13c40a1773502f9d943dd465...  fff008c2b2b68056227aa9e13c40a1773502f9d943dd46...   \n",
       "fff008c2b2b68056227aa9e13c40a1773502f9d943dd465...  fff008c2b2b68056227aa9e13c40a1773502f9d943dd46...   \n",
       "fff008c2b2b68056227aa9e13c40a1773502f9d943dd465...  fff008c2b2b68056227aa9e13c40a1773502f9d943dd46...   \n",
       "\n",
       "                                                    default  \n",
       "customer_ID                                                  \n",
       "001c886240970cf7f9c6092f0f8bda6d17100d4ac244d5f...        1  \n",
       "001c886240970cf7f9c6092f0f8bda6d17100d4ac244d5f...        1  \n",
       "001c886240970cf7f9c6092f0f8bda6d17100d4ac244d5f...        1  \n",
       "001c886240970cf7f9c6092f0f8bda6d17100d4ac244d5f...        1  \n",
       "001c886240970cf7f9c6092f0f8bda6d17100d4ac244d5f...        1  \n",
       "...                                                     ...  \n",
       "fff008c2b2b68056227aa9e13c40a1773502f9d943dd465...        1  \n",
       "fff008c2b2b68056227aa9e13c40a1773502f9d943dd465...        1  \n",
       "fff008c2b2b68056227aa9e13c40a1773502f9d943dd465...        1  \n",
       "fff008c2b2b68056227aa9e13c40a1773502f9d943dd465...        1  \n",
       "fff008c2b2b68056227aa9e13c40a1773502f9d943dd465...        1  \n",
       "\n",
       "[76747 rows x 191 columns]"
      ]
     },
     "execution_count": 7,
     "metadata": {},
     "output_type": "execute_result"
    }
   ],
   "source": [
    "def_df"
   ]
  },
  {
   "cell_type": "code",
   "execution_count": null,
   "id": "49b5d5cc",
   "metadata": {},
   "outputs": [],
   "source": [
    "df = df.reset_index()"
   ]
  },
  {
   "cell_type": "code",
   "execution_count": null,
   "id": "273d0e19",
   "metadata": {},
   "outputs": [],
   "source": [
    "df.shape"
   ]
  },
  {
   "cell_type": "code",
   "execution_count": null,
   "id": "eb5565e5-5b78-4ecb-b492-5899111c98f4",
   "metadata": {},
   "outputs": [],
   "source": [
    "y = df['default'].reset_index(drop=True)\n",
    "\n",
    "X = df.drop(columns=['default']).reset_index(drop=True)"
   ]
  },
  {
   "cell_type": "markdown",
   "id": "43217fee-73b4-43c4-a8b5-8aa71d9ad9d5",
   "metadata": {},
   "source": [
    "Discarding columns if too highly correlated with other or too many Nans"
   ]
  },
  {
   "cell_type": "code",
   "execution_count": null,
   "id": "4abb7bf8-3052-47ad-9a09-093efa955672",
   "metadata": {},
   "outputs": [],
   "source": [
    "cat_vars = ['B_30', \n",
    "            'B_38', \n",
    "            'D_114', \n",
    "            'D_116', \n",
    "            'D_117', \n",
    "            'D_120', \n",
    "            'D_126', \n",
    "            'D_63', \n",
    "            'D_64', \n",
    "            'D_66', \n",
    "            'D_68']"
   ]
  },
  {
   "cell_type": "markdown",
   "id": "d533533d-646f-48b1-bcc8-6832b7d00285",
   "metadata": {},
   "source": [
    "drop columns if they correlate > 95% with others"
   ]
  },
  {
   "cell_type": "code",
   "execution_count": null,
   "id": "cd3efde1-e65c-4457-93bf-9b3d1af4b968",
   "metadata": {},
   "outputs": [],
   "source": [
    "X_corr = X.corr()"
   ]
  },
  {
   "cell_type": "code",
   "execution_count": null,
   "id": "2cc7ce56-c159-42b9-98ea-f95d49e195c7",
   "metadata": {},
   "outputs": [],
   "source": [
    "X_corr = X_corr.unstack().reset_index() # Unstack correlation matrix \n",
    "X_corr.columns = ['feature_1','feature_2', 'correlation_all'] # rename columns\n",
    "X_corr.sort_values(by=\"correlation_all\",ascending=False, inplace=True) # sort by correlation\n",
    "X_corr = X_corr[X_corr['feature_1'] != X_corr['feature_2']] # Remove self correlation\n",
    "X_corr = X_corr.drop_duplicates(subset='correlation_all')"
   ]
  },
  {
   "cell_type": "code",
   "execution_count": null,
   "id": "4e97cca9-7e6f-4f4a-8953-d6d8113fddda",
   "metadata": {},
   "outputs": [],
   "source": [
    "## abs so we also consider the negative corrs\n",
    "red_features = list(X_corr[abs(X_corr['correlation_all'])>=.95]['feature_1']) \n"
   ]
  },
  {
   "cell_type": "code",
   "execution_count": null,
   "id": "65f0c098-1b79-4453-bb60-08e750c652d6",
   "metadata": {},
   "outputs": [],
   "source": [
    "X_red = X.drop(columns=red_features) ## dropping the highly correlated columns"
   ]
  },
  {
   "cell_type": "code",
   "execution_count": null,
   "id": "ab65db0f-0f3d-4a8a-86f0-cfa49a32c48d",
   "metadata": {},
   "outputs": [],
   "source": [
    "## checking whether the high correlations are gone\n",
    "X_red_corr = X_red.corr()\n",
    "X_red_corr = X_red_corr.unstack().reset_index() # Unstack correlation matrix \n",
    "X_red_corr.columns = ['feature_1','feature_2', 'correlation_all'] # rename columns\n",
    "X_red_corr.sort_values(by=\"correlation_all\",ascending=False, inplace=True) # sort by correlation\n",
    "X_red_corr = X_red_corr[X_red_corr['feature_1'] != X_red_corr['feature_2']] # Remove self correlation\n",
    "X_red_corr = X_red_corr.drop_duplicates(subset='correlation_all')"
   ]
  },
  {
   "cell_type": "code",
   "execution_count": null,
   "id": "36893cdd-8644-48b8-990f-34ab4f9fc1a9",
   "metadata": {},
   "outputs": [],
   "source": [
    "X_red_corr"
   ]
  },
  {
   "cell_type": "code",
   "execution_count": null,
   "id": "742c0878-a19a-4bd3-ad67-f60ee5e95124",
   "metadata": {},
   "outputs": [],
   "source": [
    "len(red_features) ## we removed 13 columns"
   ]
  },
  {
   "cell_type": "code",
   "execution_count": null,
   "id": "b68575c8",
   "metadata": {},
   "outputs": [],
   "source": [
    "red_features"
   ]
  },
  {
   "cell_type": "markdown",
   "id": "a2dab05a-f828-4547-b0ad-a975585c1be4",
   "metadata": {},
   "source": [
    "drop columns with nans if in __both__ groups > 80% nans"
   ]
  },
  {
   "cell_type": "code",
   "execution_count": null,
   "id": "149032c6-a599-460a-a7d1-a12702d77b3f",
   "metadata": {},
   "outputs": [],
   "source": [
    "nan_threshold= 0.8 ## adjust the hardcoded values"
   ]
  },
  {
   "cell_type": "code",
   "execution_count": null,
   "id": "9d229f31-4e9e-4e50-9bab-7074d7cd3182",
   "metadata": {},
   "outputs": [],
   "source": [
    "def_nans = def_df.isna().sum()/len(def_df) "
   ]
  },
  {
   "cell_type": "code",
   "execution_count": null,
   "id": "8ce797b7-2d83-4f61-af78-32b64b7c717a",
   "metadata": {},
   "outputs": [],
   "source": [
    "def_nans_80 = def_nans[def_nans >= 0.8].index"
   ]
  },
  {
   "cell_type": "code",
   "execution_count": null,
   "id": "f75a67ef-b1c2-4224-a663-4273c6465fca",
   "metadata": {},
   "outputs": [],
   "source": [
    "pay_nans = pay_df.isna().sum()/len(pay_df)"
   ]
  },
  {
   "cell_type": "code",
   "execution_count": null,
   "id": "e90e21f2-228f-4b14-bd89-ac3f7ab79add",
   "metadata": {},
   "outputs": [],
   "source": [
    "pay_nans_80 = pay_nans[pay_nans>=0.8].index"
   ]
  },
  {
   "cell_type": "code",
   "execution_count": null,
   "id": "d308f3a7-f73a-419c-8600-6034b4f418b0",
   "metadata": {},
   "outputs": [],
   "source": [
    "nans_80 = [feature for feature in pay_nans_80 if feature in def_nans_80]"
   ]
  },
  {
   "cell_type": "code",
   "execution_count": null,
   "id": "bc740bb6-8679-4b70-92d3-5cf851b69500",
   "metadata": {},
   "outputs": [],
   "source": [
    "## check whether features were already removed\n",
    "red_features_nan = [feature for feature in nans_80 if feature not in red_features] "
   ]
  },
  {
   "cell_type": "code",
   "execution_count": null,
   "id": "e09f028c-b5f1-4996-ba28-93ad51434137",
   "metadata": {},
   "outputs": [],
   "source": [
    "X_red = X_red.drop(columns=red_features_nan)"
   ]
  },
  {
   "cell_type": "code",
   "execution_count": null,
   "id": "f283116b-9841-497f-b3ca-018d69e7b69b",
   "metadata": {},
   "outputs": [],
   "source": [
    "dropped_columns = red_features + red_features_nan"
   ]
  },
  {
   "cell_type": "markdown",
   "id": "cc8b4046-2879-447a-b37a-170fe719f0a2",
   "metadata": {},
   "source": [
    "Building the pipeline"
   ]
  },
  {
   "cell_type": "code",
   "execution_count": null,
   "id": "2b7dfc18-31c0-4345-8b6f-032b7ddad524",
   "metadata": {},
   "outputs": [],
   "source": [
    "num_vars = [feature for feature in X_red.columns[2:] if feature not in cat_vars] ## exclude dates and IDs (first two columns)\n",
    "str_vars = [feature for feature in X_red.columns[2:] if not pd.api.types.is_numeric_dtype(X_red[feature])] ## columns that are not numeric at all \n",
    "red_cat_vars = [feature for feature in cat_vars if feature not in dropped_columns] ## remaining categorical variables that have no string values"
   ]
  },
  {
   "cell_type": "markdown",
   "id": "f38a8856-2346-47b3-b1ea-e2c28ee84592",
   "metadata": {},
   "source": [
    "mark rows in categorical columns with values of -1 as NaNs"
   ]
  },
  {
   "cell_type": "code",
   "execution_count": null,
   "id": "3160180e-3a45-4ceb-92df-cda0d0f6e342",
   "metadata": {},
   "outputs": [],
   "source": [
    "#X_red[red_cat_vars] = X_red[red_cat_vars].applymap(lambda x: np.nan if x in [-1,-1.0, \"-1.0\", \"-1\"] else x)"
   ]
  },
  {
   "cell_type": "code",
   "execution_count": null,
   "id": "f36d2956-2b39-4911-b37d-3f86efeb7bb4",
   "metadata": {},
   "outputs": [],
   "source": [
    "def nan_imp(X): ## imputes nan values for alternative values signifying nans\n",
    "    nan_list = [-1,-1.0, \"-1.0\", \"-1\"] \n",
    "    return X.applymap(lambda x: np.nan if x in nan_list else x) ## perhaps subfunctions for arrays"
   ]
  },
  {
   "cell_type": "code",
   "execution_count": null,
   "id": "3d8e1be4-c208-44d6-b1c0-18c5d527b09e",
   "metadata": {},
   "outputs": [],
   "source": [
    "# impute mean/most frequent value for other nans (specific to group?)\n",
    "# robustscale all numerical values\n",
    "\n",
    "num_scaler = RobustScaler()\n",
    "num_imputer = SimpleImputer(strategy='mean')\n",
    "#num_imputer = KNNImputer(n_neighbors=2) ## KNNIMputer is computationally demanding\n",
    "## should come AFTER SCALING\n",
    "\n",
    "num_pipe = make_pipeline(num_scaler, num_imputer)\n",
    "\n",
    "str_trans = OrdinalEncoder() # is only needed if one wants to do knnimputer\n",
    "\n",
    "nan_trans = FunctionTransformer(nan_imp)\n",
    "cat_imputer = SimpleImputer(strategy=\"most_frequent\") ## replace with KNNimputer on one neighbour, after transforming to numericals\n",
    "#cat_imputer = KNNImputer(n_neighbors=1) # introducing it did not improve performance, but is computationally demanding\n",
    "cat_encoder = OneHotEncoder(sparse=False, handle_unknown='ignore') ## what happens to the old columns?\n",
    "cat_pipe = make_pipeline(nan_trans, cat_imputer, cat_encoder)\n",
    "str_pipe = make_pipeline(nan_trans, str_trans, cat_imputer, cat_encoder)\n"
   ]
  },
  {
   "cell_type": "markdown",
   "id": "c8ebe538-159d-4837-b1b4-440958d04432",
   "metadata": {},
   "source": [
    "Beware of the Dummy trap. OneHotEncoder automatically deletes one column."
   ]
  },
  {
   "cell_type": "code",
   "execution_count": null,
   "id": "444f2961-8209-44f9-8b1b-c4fd5f2c619d",
   "metadata": {},

   "source": [
    "str_pipe"
   ]
  },
  {
   "cell_type": "code",
   "execution_count": null,
   "id": "1b372455-8f9f-4e9a-9eac-62c4d745b4fd",
   "metadata": {},
   "outputs": [],
   "source": [
    "preprocessor = ColumnTransformer([\n",
    "    ('num_pip', num_pipe, num_vars),\n",
    "    ('cat_pip', cat_pipe, red_cat_vars), \n",
    "    ('str_pip', str_pipe, str_vars)],\n",
    "    remainder='drop' ## all columns not in num_vars and red_cat_vars are dropped.\n",
    ")"
   ]
  },
  {
   "cell_type": "code",
   "execution_count": null,
   "id": "4fab0e75-7ae8-4584-9309-82f453536ae2",
   "metadata": {},

   "source": [
    "preprocessor"
   ]
  },
  {
   "cell_type": "code",
   "execution_count": null,
   "id": "390e7030",
   "metadata": {},
   "outputs": [],
   "source": [
    "X_red"
   ]
  },
  {
   "cell_type": "code",
   "execution_count": null,
   "id": "38099c49-aee7-495c-9a5a-2f57f676508f",
   "metadata": {},

   "source": [
    "preprocessor.fit(X_red)"
   ]
  },
  {
   "cell_type": "markdown",
   "id": "e814fe00",
   "metadata": {},
   "source": [
    "## aggregations"
   ]
  },
  {
   "cell_type": "code",
   "execution_count": null,
   "id": "9090cc6c",
   "metadata": {},
   "outputs": [],
   "source": []
  },
  {
   "cell_type": "code",
   "execution_count": null,
   "id": "ef1f272b-1506-4e2b-b77c-76d7d45f25c5",
   "metadata": {},
   "outputs": [],
   "source": [
    "X_pp = pd.DataFrame(preprocessor.transform(X_red))"
   ]
  },
  {
   "cell_type": "code",
   "execution_count": null,
   "id": "1b4aa1fd-eda8-4588-bbb7-e4cec289308c",
   "metadata": {},
   "outputs": [],
   "source": [
    "X_pp"
   ]
  },
  {
   "cell_type": "code",
   "execution_count": null,
   "id": "8200afab-cdd2-4106-be42-01ff001780a1",
   "metadata": {},
   "outputs": [],
   "source": [
    "X_red[red_cat_vars].nunique().sum() ## number of unqie values in all cat. values\n",
    "## should equal the number of new onehotencoded columns - 1*number of features. The latter to avoid Dummy Trap.\n"
   ]
  },
  {
   "cell_type": "markdown",
   "id": "b7fee8f2-6199-40e1-9862-89d2c94b688a",
   "metadata": {},
   "source": [
    "Building the simple model and putting it into the pipe"
   ]
  },
  {
   "cell_type": "code",
   "execution_count": null,
   "id": "038f2715-3747-4277-822b-0e709d150de8",
   "metadata": {},

   "source": [
    "# new: more data \n",
    "# 20k paying customer id's -> 243,953 rows\n",
    "# 6.6k defaulter customer id's -> 76,747 rows\n",
    "\n",
    "results "
   ]
  },
  {
   "cell_type": "code",

   "source": [
    "# previous: less data \n",
    "# paying customer -> 41,940 rows\n",
    "# defaulter customer -> 13,364 rows\n",
    "\n",
    "# {'fit_time': array([1.16354084, 0.89430976, 0.93352509, 0.95913601, 0.93614411]),\n",
    "#  'score_time': array([0.00810719, 0.00849104, 0.0089829 , 0.00811291, 0.00931311]),\n",
    "#  'test_accuracy': array([0.84052075, 0.84187686, 0.85200253, 0.85344906, 0.83670886]),\n",
    "#  'test_recall': array([0.62289562, 0.59259259, 0.63711186, 0.64683876, 0.58458084]),\n",
    "#  'test_f1': array([0.65371025, 0.6442953 , 0.67539163, 0.68084269, 0.6336714 ])}\n"
   ]
  },
  {
   "cell_type": "code",
   "execution_count": null,

   "metadata": {},
   "outputs": [],
   "source": [
    "#"
   ]
  },
  {
   "cell_type": "code",
   "execution_count": null,

   "metadata": {},
   "outputs": [],
   "source": [
    "X_train, X_val, y_train, y_val = train_test_split(X_pp, y, test_size=0.3)"
   ]
  },
  {
   "cell_type": "code",

   "source": [
    "mod = LogisticRegression() \n",
    "mod.fit(X_train,y_train)"
   ]
  },
  {
   "cell_type": "code",

   "source": [
    "print(rf_shap_values.shap_values(X_val))\n"
   ]
  },
  {
   "cell_type": "code",
   "execution_count": null,
   "id": "7367cb7c",
   "metadata": {},
   "outputs": [],
   "source": []
  },
  {
   "cell_type": "code",
   "execution_count": null,
   "id": "f4bc196d",
   "metadata": {},
   "outputs": [],
   "source": []
  },
  {
   "cell_type": "code",
   "execution_count": null,
   "id": "0e417b01-c5f9-4062-8134-146fb6923400",
   "metadata": {},
   "outputs": [],
   "source": [
    "pp_pred_pipe = make_pipeline(preprocessor, mod)"
   ]
  },
  {
   "cell_type": "code",
   "execution_count": null,
   "id": "30e3557a-9a96-4c3d-a196-45049dc155c4",
   "metadata": {},
   "outputs": [],
   "source": [
    "pp_pred_pipe"
   ]
  },
  {
   "cell_type": "code",
   "execution_count": null,
   "id": "12e857c1-8c74-4576-b37a-d65d35051214",
   "metadata": {},
   "outputs": [],
   "source": [
    "pp_pred_pipe.fit(X_train, yy_train)"
   ]
  },
  {
   "cell_type": "code",
   "execution_count": null,
   "id": "6e4d382c",
   "metadata": {},
   "outputs": [],
   "source": []
  },
  {
   "cell_type": "markdown",
   "id": "1325c884-75a2-4d4b-9c52-2169565e31ca",
   "metadata": {},
   "source": [
    "# Trying pickling"
   ]
  },
  {
   "cell_type": "code",
   "execution_count": null,
   "id": "9f229973-cea9-4e81-a730-18b5acf38475",
   "metadata": {},
   "outputs": [],
   "source": [
    "# # import pickle\n",
    "\n",
    "# # pickle.dump(pp_pred_pipe, open('pp_pred_pipe', 'wb'))\n",
    "\n",
    "# # loaded_model = pickle.load(open('../pickles/pp_pred_pipe', 'rb'))\n",
    "\n",
    "\n",
    "\n",
    "# sample = X_red.sample(1)\n",
    "\n",
    "# loaded_model.predict_proba(sample)[0][1] * 100"
   ]
  },
  {
   "cell_type": "markdown",
   "id": "7446bfa0-506b-44c0-9d08-9e0263dae662",
   "metadata": {},
   "source": [
    "# Creating custom amex scoring metric"
   ]
  },
  {
   "cell_type": "code",
   "execution_count": null,
   "id": "18414095-9607-41b9-94bd-2e08fc44868c",
   "metadata": {},
   "outputs": [],
   "source": [
    "def amex_metric(y_true: pd.DataFrame, y_pred: pd.DataFrame) -> float:\n",
    "    \n",
    "    ## TWEAK\n",
    "    y_true = pd.DataFrame(y_true.reset_index(drop=True))\n",
    "    y_pred = pd.DataFrame(y_pred)\n",
    "    \n",
    "    y_true = y_true.rename(columns={y_true.columns[0]:'target'})\n",
    "    y_pred = y_pred.rename(columns={y_pred.columns[0]:'prediction'})\n",
    "    ##\n",
    "    \n",
    "    def top_four_percent_captured(y_true: pd.DataFrame, y_pred: pd.DataFrame) -> float:\n",
    "        df = (pd.concat([y_true, y_pred], axis='columns')\n",
    "              .sort_values('prediction', ascending=False))\n",
    "        df['weight'] = df['target'].apply(lambda x: 20 if x==0 else 1)\n",
    "        four_pct_cutoff = int(0.04 * df['weight'].sum())\n",
    "        df['weight_cumsum'] = df['weight'].cumsum()\n",
    "        df_cutoff = df.loc[df['weight_cumsum'] <= four_pct_cutoff]\n",
    "        return (df_cutoff['target'] == 1).sum() / (df['target'] == 1).sum()\n",
    "    def weighted_gini(y_true: pd.DataFrame, y_pred: pd.DataFrame) -> float:\n",
    "        df = (pd.concat([y_true, y_pred], axis='columns')\n",
    "              .sort_values('prediction', ascending=False))\n",
    "        df['weight'] = df['target'].apply(lambda x: 20 if x==0 else 1)\n",
    "        df['random'] = (df['weight'] / df['weight'].sum()).cumsum()\n",
    "        total_pos = (df['target'] * df['weight']).sum()\n",
    "        df['cum_pos_found'] = (df['target'] * df['weight']).cumsum()\n",
    "        df['lorentz'] = df['cum_pos_found'] / total_pos\n",
    "        df['gini'] = (df['lorentz'] - df['random']) * df['weight']\n",
    "        return df['gini'].sum()\n",
    "\n",
    "    def normalized_weighted_gini(y_true: pd.DataFrame, y_pred: pd.DataFrame) -> float:\n",
    "        y_true_pred = y_true.rename(columns={'target': 'prediction'})\n",
    "        return weighted_gini(y_true, y_pred) / weighted_gini(y_true, y_true_pred)\n",
    "\n",
    "    g = normalized_weighted_gini(y_true, y_pred)\n",
    "    d = top_four_percent_captured(y_true, y_pred)\n",
    "\n",
    "    return 0.5 * (g + d)"
   ]
  },
  {
   "cell_type": "code",
   "execution_count": null,
   "id": "0ff0dfc2-138d-4fc9-8b8b-a79924eaab52",
   "metadata": {},
   "outputs": [],
   "source": [
    "from sklearn.metrics import make_scorer\n",
    "\n",
    "make_scorer()"
   ]
  },
  {
   "cell_type": "code",
   "execution_count": null,
   "id": "2ce27ca7-5113-4c8b-a5bb-48bfde404065",
   "metadata": {},
   "outputs": [],
   "source": [
    "amex_metric_scorer = make_scorer(amex_metric)"
   ]
  },
  {
   "cell_type": "code",
   "execution_count": null,
   "id": "ec5cb533-7017-4bb6-a0eb-5117222b3e3a",
   "metadata": {},
   "outputs": [],
   "source": [
    "## dict of scoring metrics one might want to pass into cross validation\n",
    "scorings = {'recall':'recall',\n",
    "            'f1':'f1',\n",
    "           'amex': amex_metric_scorer}"
   ]
  },
  {
   "cell_type": "code",
   "execution_count": null,
   "id": "6903bf34",
   "metadata": {},
   "outputs": [],
   "source": [
    "from "
   ]
  },
  {
   "cell_type": "markdown",
   "id": "52af7292-3d5d-45c7-b10f-86a6e46395d2",
   "metadata": {},
   "source": [
    "# Averaging preprocessed X and y"
   ]
  },
  {
   "cell_type": "code",
   "execution_count": null,

   "id": "6d21bbbb-f06e-4113-8928-f96117d821df",
   "metadata": {},
   "outputs": [],
   "source": [
    "X_pp['customer_ID'] = X_red['customer_ID']"
   ]
  },
  {
   "cell_type": "code",
   "execution_count": null,
   "id": "b2840450-2db5-4e1a-8efa-fce9f5e08a26",
   "metadata": {},
   "outputs": [],
   "source": [
    "X_avg_pp = X_pp.groupby('customer_ID').mean()"
   ]
  },
  {
   "cell_type": "code",
   "execution_count": null,

   "metadata": {},
   "outputs": [],
   "source": [
    "y.head()"
   ]
  },
  {
   "cell_type": "code",
   "execution_count": null,

   "metadata": {},
   "outputs": [],
   "source": [
    "y_ID = pd.DataFrame(y)"
   ]
  },
  {
   "cell_type": "code",
   "execution_count": null,

   "id": "c0d251a4-3482-4249-b76b-232d99a20710",
   "metadata": {},
   "outputs": [],
   "source": [
    "y_unique = y_ID.groupby('customer_ID').mean().astype(int) ## actually, this data is just in train_labels"
   ]
  },
  {
   "cell_type": "code",
   "execution_count": null,
   "id": "99ac7c9c",
   "metadata": {},
   "outputs": [],
   "source": [
    "y_unique.head()"
   ]
  },
  {
   "cell_type": "markdown",
   "id": "cac1ad0a-95ff-4822-b968-7f03d36e758c",
   "metadata": {},
   "source": [
    "# Trying out various models on averaged data"
   ]
  },
  {
   "cell_type": "code",
   "execution_count": null,
   "id": "d472d77e-f70d-4814-b49f-93f136816254",
   "metadata": {},
   "outputs": [],
   "source": [
    "mod = LogisticRegression() \n",
    "## such a model treats all rows as independent despite them being from the same person\n",
    "results = cross_validate(mod, X_avg_pp, y_unique['default'], cv = 5, scoring=scorings)"
   ]
  },
  {
   "cell_type": "code",
   "execution_count": null,
   "id": "315219af-42b3-47e9-82ed-b1a1bc4721e0",
   "metadata": {},
   "outputs": [],
   "source": [
    "results"
   ]
  },
  {
   "cell_type": "code",
   "execution_count": null,
   "id": "cb0d36cc",
   "metadata": {},
   "outputs": [],
   "source": [
    "!pip install shap"
   ]
  },
  {
   "cell_type": "code",
   "execution_count": null,
   "id": "1117bed0",
   "metadata": {},
   "outputs": [],
   "source": [
    "import shap  # To install SHAP: pip install shap\n",
    "\n",
    "# Run the following command. Needed for some visualizations.\n",
    "shap.initjs()"
   ]
  },
  {
   "cell_type": "code",
   "execution_count": null,
   "id": "e15a3128",
   "metadata": {},
   "outputs": [],
   "source": [
    "# Create a SHAP Explainer\n",
    "explainer = shap.Explainer(mod.predict,X_avg_pp)"
   ]
  },
  {
   "cell_type": "code",
   "execution_count": null,
   "id": "0ea4aba7",
   "metadata": {},
   "outputs": [],
   "source": [
    "\n",
    "\n",
    "# Calculate the Shap values\n",
    "# Giving as input the feature values for the instance I'm looking at\n",
    "feature_values=X_avg_pp.iloc[5,:]\n",
    "shap_values_one = explainer(feature_values)"
   ]
  },
  {
   "cell_type": "code",
   "execution_count": null,
   "id": "87f97f1e",
   "metadata": {},
   "outputs": [],
   "source": [
    "X_avg_pp.head()"
   ]
  },
  {
   "cell_type": "code",
   "execution_count": null,
   "id": "ecec1b13",
   "metadata": {},
   "outputs": [],
   "source": []
  },
  {
   "cell_type": "code",
   "execution_count": null,
   "id": "673595eb-0c3c-437b-afd3-ef9cc0592ebd",
   "metadata": {},
   "outputs": [],
   "source": [
    "cross_val_predict(mod, \n",
    "                  X_avg_pp, \n",
    "                  y_unique['default'], \n",
    "                  cv = 5, \n",
    "#                   scoring=scorings, \n",
    "                  method='predict_proba')"
   ]
  },
  {
   "cell_type": "code",
   "execution_count": null,
   "id": "aba4e5a9-890d-4109-8c83-a8c3f50c2530",
   "metadata": {},
   "outputs": [],
   "source": [
    "mod = LogisticRegression(penalty='l1',solver='liblinear') \n",
    "## such a model treats all rows as independent despite them being from the same person\n",
    "results = cross_validate(mod, X_avg_pp, y_unique, cv = 5, scoring=scorings)"
   ]
  },
  {
   "cell_type": "code",
   "execution_count": null,
   "id": "f7f05d6a-3b93-497f-9412-e2fa41de9602",
   "metadata": {},
   "outputs": [],
   "source": [
    "results"
   ]
  },
  {
   "cell_type": "code",
   "execution_count": null,
   "id": "e360c638-e99e-4c1f-8b60-33e6f4176a2b",
   "metadata": {},
   "outputs": [],
   "source": [
    "from sklearn.linear_model import Perceptron, PassiveAggressiveClassifier"
   ]
  },
  {
   "cell_type": "code",
   "execution_count": null,
   "id": "f5f39c6d-fb1f-4793-9d33-3449a7fb0e17",
   "metadata": {},
   "outputs": [],
   "source": [
    "mod_perc = Perceptron(penalty='l1')"
   ]
  },
  {
   "cell_type": "code",
   "execution_count": null,
   "id": "94bb46ac-f6a4-45f7-ac5b-8ef0fa01bc90",
   "metadata": {},
   "outputs": [],
   "source": [
    "results_perc = cross_validate(mod_perc, X_avg_pp, y_unique, cv = 5, scoring=scorings)\n",
    "results_perc['test_recall'].mean()"
   ]
  },
  {
   "cell_type": "code",
   "execution_count": null,

   "metadata": {},
   "outputs": [],
   "source": [
    "results"
   ]
  },
  {
   "cell_type": "code",
   "execution_count": null,

   "id": "da42f06b-3761-4152-917a-00716e80da05",
   "metadata": {},
   "outputs": [],
   "source": [
    "mod_agg = PassiveAggressiveClassifier()\n",
    "results_agg = cross_validate(mod_agg, X_avg_pp, y_unique, cv = 5, scoring=scorings)\n",
    "results_agg"
   ]
  },
  {
   "cell_type": "code",
   "execution_count": null,
   "id": "330fd8a8-7c4b-432f-9179-0c2fb914a90f",
   "metadata": {},
   "outputs": [],
   "source": [
    "from sklearn.neighbors import KNeighborsClassifier"
   ]
  },
  {
   "cell_type": "code",
   "execution_count": null,
   "id": "5613047a-ef42-479a-8f25-8a808522fea8",
   "metadata": {},
   "outputs": [],
   "source": [
    "knn = KNeighborsClassifier(n_neighbors=5)\n",
    "results_knn = cross_validate(knn, X_avg_pp, y_unique, cv = 5, scoring=scorings)\n",
    "results_knn['test_recall'].mean()"
   ]
  },
  {
   "cell_type": "code",
   "execution_count": null,
   "id": "d8d031b4-0318-4f36-b2ce-90e7274b9b45",
   "metadata": {},
   "outputs": [],
   "source": [
    "results_knn"
   ]
  },
  {
   "cell_type": "code",
   "execution_count": null,

   "id": "32c0324a-d584-4b21-927c-546d67e52b3a",
   "metadata": {},
   "outputs": [],
   "source": [
    "from sklearn.ensemble import GradientBoostingClassifier"
   ]
  },
  {
   "cell_type": "code",
   "execution_count": null,
   "id": "6d9cade5-bce1-4f8f-a727-95b4556ecc6f",
   "metadata": {},
   "outputs": [],
   "source": [
    "mod_gbc = GradientBoostingClassifier()"
   ]
  },
  {
   "cell_type": "code",
   "execution_count": null,
   "id": "6d23811e-8309-4223-bd60-24ca6ebd23d8",
   "metadata": {},
   "outputs": [],
   "source": [
    "results_gbc = cross_validate(mod_gbc, X_avg_pp, y_unique, cv = 5, scoring=scorings)\n",
    "results_gbc"
   ]
  },
  {
   "cell_type": "code",
   "execution_count": null,

   "id": "fb526df0-8dab-461b-8c77-cc14fc99f01b",
   "metadata": {},
   "outputs": [],
   "source": [
    "results_gbc"
   ]
  },
  {
   "cell_type": "markdown",
   "id": "4d9d0110-0829-4a83-823b-bcaac2518134",
   "metadata": {},
   "source": [
    "# Trying out with predict_proba"
   ]
  },
  {
   "cell_type": "code",
   "execution_count": null,
   "id": "6afb8d76-75ee-4256-883f-624a2c784f85",
   "metadata": {},
   "outputs": [],
   "source": [
    "pp_pred_pipe_gbc = make_pipeline(preprocessor, mod_gbc)"
   ]
  },
  {
   "cell_type": "code",
   "execution_count": null,
   "id": "d383d622-5ace-4d52-b00b-cbfe3a8cca79",
   "metadata": {},
   "outputs": [],
   "source": [
    "pp_pred_pipe_gbc.fit(X_train, y_train);"
   ]
  },
  {
   "cell_type": "code",
   "execution_count": null,
   "id": "c5cd97e6-6028-49a0-b811-9e218edf42d2",
   "metadata": {},
   "outputs": [],
   "source": [
    "y_pred = pp_pred_pipe_gbc.predict_proba(X_val)[:,1]"
   ]
  },
  {
   "cell_type": "code",
   "execution_count": null,

   "metadata": {},
   "outputs": [],
   "source": [
    "amex_metric(y_val, y_pred)"
   ]
  },
  {
   "cell_type": "code",
   "execution_count": null,
   "id": "85b52b78-bd2b-460b-9429-8fb9a4138480",
   "metadata": {},
   "outputs": [],
   "source": [
    "# amex_metric(y_val, y_pred) #small dataset -> 0.7379520554464643\n"
   ]
  },
  {
   "cell_type": "markdown",
   "id": "ff84be39-db5c-4151-9468-b8e7bb24fdfb",
   "metadata": {},
   "source": [
    "Prepare for pickle that will be used on new data"
   ]
  },
  {
   "cell_type": "code",
   "execution_count": null,
   "id": "eb4f4d43-2e4f-422f-a787-92fe647de07a",
   "metadata": {},
   "outputs": [],
   "source": [
    "mod_gbc_ws = GradientBoostingClassifier(warm_start=True) ## makes the model incrementally trainable\n",
    "pp_pred_pipe_gbc_ws = make_pipeline(preprocessor, mod_gbc_ws)\n",
    "pp_pred_pipe_gbc_ws.fit(X, y);"
   ]
  },
  {
   "cell_type": "code",
   "execution_count": null,
   "id": "3913da0c-a34d-4e0a-9c12-e8b27e245d6b",
   "metadata": {},
   "outputs": [],
   "source": [
    "import pickle\n",
    "\n",
    "pickle.dump(pp_pred_pipe_gbc_ws, open('../pickles/pp_pred_pipe_gbc_ws.pkl', 'wb'))\n",
    "\n",
    "# # loaded_model = pickle.load(open('../pickles/pp_pred_pipe', 'rb'))\n",
    "\n",
    "\n",
    "\n",
    "# sample = X_red.sample(1)\n",
    "\n",
    "# loaded_model.predict_proba(sample)[0][1] * 100"
   ]
  },
  {
   "cell_type": "code",
   "execution_count": null,
   "id": "00e391bf-1e30-4c23-beb6-e1a969f69d28",
   "metadata": {},
   "outputs": [],
   "source": [
    "mod = LogisticRegression(penalty='l1',solver='liblinear') \n",
    "pp_pred_pipe_log = make_pipeline(preprocessor, mod)\n",
    "pp_pred_pipe_log.fit(X_train, y_train);"
   ]
  },
  {
   "cell_type": "code",
   "execution_count": null,
   "id": "d35d7f9b-f824-491d-8c08-ba9ae8dcd118",
   "metadata": {},
   "outputs": [],
   "source": [
    "y_pred = pp_pred_pipe_log.predict_proba(X_val)[:,1]"
   ]
  },
  {
   "cell_type": "code",
   "execution_count": null,

   "metadata": {},
   "outputs": [],
   "source": [
    "amex_metric(y_val, y_pred)"
   ]
  },
  {
   "cell_type": "code",
   "execution_count": null,

   "id": "ce35f6c4-e3ac-4427-8c95-d12320b8b466",
   "metadata": {},
   "outputs": [],
   "source": [
    "mod = LogisticRegression(penalty='l1',solver='liblinear', warm_start=True) "
   ]
  },
  {
   "cell_type": "code",
   "execution_count": null,
   "id": "6dc8b0b8-2c04-46e2-bf5d-7de5dd305780",
   "metadata": {},
   "outputs": [],
   "source": [
    "pp_pred_pipe_log = make_pipeline(preprocessor, mod)\n",
    "pp_pred_pipe_log.(X_train, y_train);"
   ]
  },
  {
   "cell_type": "markdown",
   "id": "f5226117-43df-4994-a3c5-f1dddf3d11be",
   "metadata": {},
   "source": [
    "# more efficient way to drop NANs"
   ]
  },
  {
   "cell_type": "code",
   "execution_count": null,
   "id": "a92bb743-be09-4950-8318-ee4195401dda",
   "metadata": {
    "tags": []
   },
   "outputs": [],
   "source": [
    "X.dropna(axis=1, thresh=int(0.2*len(X))) \n",
    "## however, here you cannot specify that it should be nns of 80% in BOTH groups"
   ]
  },
  {
   "cell_type": "markdown",
   "id": "15ecb591",
   "metadata": {},
   "source": [
    "# Trying out new models"
   ]
  },
  {
   "cell_type": "code",
   "execution_count": null,
   "id": "a1932297",
   "metadata": {},
   "outputs": [],
   "source": []
  }
 ],
 "metadata": {
  "kernelspec": {
   "display_name": "Python 3 (ipykernel)",
   "language": "python",
   "name": "python3"
  },
  "language_info": {
   "codemirror_mode": {
    "name": "ipython",
    "version": 3
   },
   "file_extension": ".py",
   "mimetype": "text/x-python",
   "name": "python",
   "nbconvert_exporter": "python",
   "pygments_lexer": "ipython3",
   "version": "3.8.12"
  },
  "toc": {
   "base_numbering": 1,
   "nav_menu": {},
   "number_sections": true,
   "sideBar": true,
   "skip_h1_title": false,
   "title_cell": "Table of Contents",
   "title_sidebar": "Contents",
   "toc_cell": false,
   "toc_position": {},
   "toc_section_display": true,
   "toc_window_display": false
  }
 },
 "nbformat": 4,
 "nbformat_minor": 5
}
