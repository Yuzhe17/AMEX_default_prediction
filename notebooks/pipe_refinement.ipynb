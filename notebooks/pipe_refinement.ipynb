{
 "cells": [
  {
   "cell_type": "markdown",
   "id": "3944824d-c530-447e-ab28-4e6c66a7dd79",
   "metadata": {},
   "source": [
    "# Simple preprocessing pipeline"
   ]
  },
  {
   "cell_type": "code",
   "execution_count": 143,
   "id": "dce77626-cb95-4f3f-82f6-babe2c08c279",
   "metadata": {},
   "outputs": [],
   "source": [
    "import numpy as np\n",
    "import pandas as pd\n",
    "import matplotlib.pyplot as plt\n",
    "import seaborn as sns"
   ]
  },
  {
   "cell_type": "code",
   "execution_count": 79,
   "id": "b72b126e-38bd-4174-ab49-7ea7e9b4d092",
   "metadata": {},
   "outputs": [],
   "source": [
    "from scipy import stats\n",
    "\n",
    "from sklearn.model_selection import cross_validate, cross_val_score, cross_val_predict, learning_curve,\\\n",
    "train_test_split, GridSearchCV, RandomizedSearchCV, train_test_split\n",
    "from sklearn.preprocessing import StandardScaler, RobustScaler, MinMaxScaler, OneHotEncoder, FunctionTransformer, LabelEncoder, OrdinalEncoder\n",
    "from sklearn.impute import SimpleImputer, KNNImputer\n",
    "from sklearn.inspection import permutation_importance\n",
    "from sklearn.metrics import plot_confusion_matrix, classification_report, precision_recall_curve\n",
    "from sklearn.linear_model import LinearRegression, LogisticRegression, SGDRegressor, SGDClassifier, Ridge, RidgeClassifier\n",
    "from sklearn.neighbors import KNeighborsClassifier, KNeighborsRegressor\n",
    "from sklearn.svm import SVC\n",
    "from sklearn.compose import make_column_selector\n",
    "\n",
    "## pipeline stuff\n",
    "\n",
    "from sklearn.pipeline import Pipeline, make_pipeline, make_union\n",
    "from sklearn.compose import ColumnTransformer, make_column_transformer, make_column_selector\n",
    "from sklearn import set_config; set_config(display='diagram')"
   ]
  },
  {
   "cell_type": "code",
   "execution_count": 3,
   "id": "e04ab968-ca4c-48e1-99cb-c255bd467ae1",
   "metadata": {},
   "outputs": [],
   "source": [
    "from sklearn.base import TransformerMixin, BaseEstimator\n",
    "\n",
    "\n",
    "class CustomOHE(TransformerMixin, BaseEstimator):\n",
    "\n",
    "    def __init__(self):\n",
    "        pass\n",
    "\n",
    "    def fit(self, X):\n",
    "        X_dummified = X.astype(str)\n",
    "        X_dummified = X_dummified.applymap(lambda x: x if x not in [\"nan\", \"NaN\", \"NAN\", \"Nan\", \"-1\", \"-1.0\"] else float(\"nan\"))\n",
    "        X_dummified = pd.get_dummies(X_dummified)\n",
    "        self.columns = X_dummified.columns\n",
    "        return self\n",
    "\n",
    "    def transform(self, X):\n",
    "        X_dummified = X.astype(str)\n",
    "        X_dummified = X_dummified.applymap(lambda x: x if x not in [\"nan\", \"NaN\", \"NAN\", \"Nan\", \"-1\", \"-1.0\"] else float(\"nan\"))\n",
    "        X_dummified = pd.get_dummies(X_dummified)\n",
    "        # Only keep columns that are computed in the fit() method\n",
    "        # Drop new dummy columns if new category appears in the test set that were never seen in train set\n",
    "        X_dummified_reindexed = X_dummified.reindex(columns=self.columns, fill_value=0)\n",
    "        return X_dummified_reindexed"
   ]
  },
  {
   "cell_type": "code",
   "execution_count": 4,
   "id": "ca1f5989-0d50-4ac0-87b9-2cdb2c69a2cb",
   "metadata": {},
   "outputs": [],
   "source": [
    "def_df = pd.read_csv(\"/home/slawa/code/code-rep0/projects/data/defaulter_data_13364.csv\", index_col=[0])\n",
    "pay_df = pd.read_csv(\"/home/slawa/code/code-rep0/projects/data/payer_data_41940.csv\", index_col=[0])\n",
    "def_df['default'] = 1\n",
    "pay_df['default'] = 0\n",
    "\n",
    "df = pd.concat([def_df, pay_df])"
   ]
  },
  {
   "cell_type": "code",
   "execution_count": 5,
   "id": "eb5565e5-5b78-4ecb-b492-5899111c98f4",
   "metadata": {},
   "outputs": [],
   "source": [
    "y = df['default']\n",
    "\n",
    "X = df.drop(columns=['default'])"
   ]
  },
  {
   "cell_type": "markdown",
   "id": "43217fee-73b4-43c4-a8b5-8aa71d9ad9d5",
   "metadata": {},
   "source": [
    "Discarding columns if too highly correlated with other or too many Nans"
   ]
  },
  {
   "cell_type": "code",
   "execution_count": 6,
   "id": "4abb7bf8-3052-47ad-9a09-093efa955672",
   "metadata": {},
   "outputs": [],
   "source": [
    "cat_vars = ['B_30', \n",
    "            'B_38', \n",
    "            'D_114', \n",
    "            'D_116', \n",
    "            'D_117', \n",
    "            'D_120', \n",
    "            'D_126', \n",
    "            'D_63', \n",
    "            'D_64', \n",
    "            'D_66', \n",
    "            'D_68']"
   ]
  },
  {
   "cell_type": "markdown",
   "id": "d533533d-646f-48b1-bcc8-6832b7d00285",
   "metadata": {},
   "source": [
    "drop columns if they correlate > 95% with others"
   ]
  },
  {
   "cell_type": "code",
   "execution_count": 7,
   "id": "cd3efde1-e65c-4457-93bf-9b3d1af4b968",
   "metadata": {},
   "outputs": [],
   "source": [
    "X_corr = X.corr()"
   ]
  },
  {
   "cell_type": "code",
   "execution_count": 8,
   "id": "2cc7ce56-c159-42b9-98ea-f95d49e195c7",
   "metadata": {},
   "outputs": [],
   "source": [
    "X_corr = X_corr.unstack().reset_index() # Unstack correlation matrix \n",
    "X_corr.columns = ['feature_1','feature_2', 'correlation_all'] # rename columns\n",
    "X_corr.sort_values(by=\"correlation_all\",ascending=False, inplace=True) # sort by correlation\n",
    "X_corr = X_corr[X_corr['feature_1'] != X_corr['feature_2']] # Remove self correlation\n",
    "X_corr = X_corr.drop_duplicates(subset='correlation_all')"
   ]
  },
  {
   "cell_type": "code",
   "execution_count": 9,
   "id": "4e97cca9-7e6f-4f4a-8953-d6d8113fddda",
   "metadata": {},
   "outputs": [],
   "source": [
    "red_features = list(X_corr[abs(X_corr['correlation_all'])>=.95]['feature_1']) ## abs so we also consider the negative corrs"
   ]
  },
  {
   "cell_type": "code",
   "execution_count": 10,
   "id": "65f0c098-1b79-4453-bb60-08e750c652d6",
   "metadata": {},
   "outputs": [],
   "source": [
    "X_red = X.drop(columns=red_features) ## dropping the highly correlated columns"
   ]
  },
  {
   "cell_type": "code",
   "execution_count": 11,
   "id": "ab65db0f-0f3d-4a8a-86f0-cfa49a32c48d",
   "metadata": {},
   "outputs": [],
   "source": [
    "## checking whether the high correlations are gone\n",
    "X_red_corr = X_red.corr()\n",
    "X_red_corr = X_red_corr.unstack().reset_index() # Unstack correlation matrix \n",
    "X_red_corr.columns = ['feature_1','feature_2', 'correlation_all'] # rename columns\n",
    "X_red_corr.sort_values(by=\"correlation_all\",ascending=False, inplace=True) # sort by correlation\n",
    "X_red_corr = X_red_corr[X_red_corr['feature_1'] != X_red_corr['feature_2']] # Remove self correlation\n",
    "X_red_corr = X_red_corr.drop_duplicates(subset='correlation_all')"
   ]
  },
  {
   "cell_type": "code",
   "execution_count": 12,
   "id": "36893cdd-8644-48b8-990f-34ab4f9fc1a9",
   "metadata": {},
   "outputs": [
    {
     "data": {
      "text/html": [
       "<div>\n",
       "<style scoped>\n",
       "    .dataframe tbody tr th:only-of-type {\n",
       "        vertical-align: middle;\n",
       "    }\n",
       "\n",
       "    .dataframe tbody tr th {\n",
       "        vertical-align: top;\n",
       "    }\n",
       "\n",
       "    .dataframe thead th {\n",
       "        text-align: right;\n",
       "    }\n",
       "</style>\n",
       "<table border=\"1\" class=\"dataframe\">\n",
       "  <thead>\n",
       "    <tr style=\"text-align: right;\">\n",
       "      <th></th>\n",
       "      <th>feature_1</th>\n",
       "      <th>feature_2</th>\n",
       "      <th>correlation_all</th>\n",
       "    </tr>\n",
       "  </thead>\n",
       "  <tbody>\n",
       "    <tr>\n",
       "      <th>12045</th>\n",
       "      <td>D_74</td>\n",
       "      <td>D_58</td>\n",
       "      <td>0.927332</td>\n",
       "    </tr>\n",
       "    <tr>\n",
       "      <th>6471</th>\n",
       "      <td>B_13</td>\n",
       "      <td>B_12</td>\n",
       "      <td>0.921825</td>\n",
       "    </tr>\n",
       "    <tr>\n",
       "      <th>457</th>\n",
       "      <td>B_2</td>\n",
       "      <td>B_33</td>\n",
       "      <td>0.913250</td>\n",
       "    </tr>\n",
       "    <tr>\n",
       "      <th>728</th>\n",
       "      <td>S_3</td>\n",
       "      <td>S_7</td>\n",
       "      <td>0.903899</td>\n",
       "    </tr>\n",
       "    <tr>\n",
       "      <th>28001</th>\n",
       "      <td>D_131</td>\n",
       "      <td>D_132</td>\n",
       "      <td>0.891850</td>\n",
       "    </tr>\n",
       "    <tr>\n",
       "      <th>...</th>\n",
       "      <td>...</td>\n",
       "      <td>...</td>\n",
       "      <td>...</td>\n",
       "    </tr>\n",
       "    <tr>\n",
       "      <th>9398</th>\n",
       "      <td>B_20</td>\n",
       "      <td>B_2</td>\n",
       "      <td>-0.779728</td>\n",
       "    </tr>\n",
       "    <tr>\n",
       "      <th>5981</th>\n",
       "      <td>S_8</td>\n",
       "      <td>S_15</td>\n",
       "      <td>-0.783457</td>\n",
       "    </tr>\n",
       "    <tr>\n",
       "      <th>23888</th>\n",
       "      <td>B_39</td>\n",
       "      <td>B_17</td>\n",
       "      <td>-0.805295</td>\n",
       "    </tr>\n",
       "    <tr>\n",
       "      <th>11791</th>\n",
       "      <td>D_73</td>\n",
       "      <td>D_108</td>\n",
       "      <td>-0.851429</td>\n",
       "    </tr>\n",
       "    <tr>\n",
       "      <th>99</th>\n",
       "      <td>P_2</td>\n",
       "      <td>D_87</td>\n",
       "      <td>NaN</td>\n",
       "    </tr>\n",
       "  </tbody>\n",
       "</table>\n",
       "<p>14849 rows × 3 columns</p>\n",
       "</div>"
      ],
      "text/plain": [
       "      feature_1 feature_2  correlation_all\n",
       "12045      D_74      D_58         0.927332\n",
       "6471       B_13      B_12         0.921825\n",
       "457         B_2      B_33         0.913250\n",
       "728         S_3       S_7         0.903899\n",
       "28001     D_131     D_132         0.891850\n",
       "...         ...       ...              ...\n",
       "9398       B_20       B_2        -0.779728\n",
       "5981        S_8      S_15        -0.783457\n",
       "23888      B_39      B_17        -0.805295\n",
       "11791      D_73     D_108        -0.851429\n",
       "99          P_2      D_87              NaN\n",
       "\n",
       "[14849 rows x 3 columns]"
      ]
     },
     "execution_count": 12,
     "metadata": {},
     "output_type": "execute_result"
    }
   ],
   "source": [
    "X_red_corr"
   ]
  },
  {
   "cell_type": "code",
   "execution_count": 13,
   "id": "742c0878-a19a-4bd3-ad67-f60ee5e95124",
   "metadata": {},
   "outputs": [
    {
     "data": {
      "text/plain": [
       "13"
      ]
     },
     "execution_count": 13,
     "metadata": {},
     "output_type": "execute_result"
    }
   ],
   "source": [
    "len(red_features) ## we removed 13 columns"
   ]
  },
  {
   "cell_type": "markdown",
   "id": "a2dab05a-f828-4547-b0ad-a975585c1be4",
   "metadata": {},
   "source": [
    "drop columns with nans if in __both__ groups > 80% nans"
   ]
  },
  {
   "cell_type": "code",
   "execution_count": 14,
   "id": "149032c6-a599-460a-a7d1-a12702d77b3f",
   "metadata": {},
   "outputs": [],
   "source": [
    "nan_threshold= 0.8 ## adjust the hardcoded values"
   ]
  },
  {
   "cell_type": "code",
   "execution_count": 15,
   "id": "9d229f31-4e9e-4e50-9bab-7074d7cd3182",
   "metadata": {},
   "outputs": [],
   "source": [
    "def_nans = def_df.isna().sum()/len(def_df) "
   ]
  },
  {
   "cell_type": "code",
   "execution_count": 16,
   "id": "8ce797b7-2d83-4f61-af78-32b64b7c717a",
   "metadata": {},
   "outputs": [],
   "source": [
    "def_nans_80 = def_nans[def_nans >= 0.8].index"
   ]
  },
  {
   "cell_type": "code",
   "execution_count": 17,
   "id": "f75a67ef-b1c2-4224-a663-4273c6465fca",
   "metadata": {},
   "outputs": [],
   "source": [
    "pay_nans = pay_df.isna().sum()/len(pay_df)"
   ]
  },
  {
   "cell_type": "code",
   "execution_count": 18,
   "id": "e90e21f2-228f-4b14-bd89-ac3f7ab79add",
   "metadata": {},
   "outputs": [],
   "source": [
    "pay_nans_80 = pay_nans[pay_nans>=0.8].index"
   ]
  },
  {
   "cell_type": "code",
   "execution_count": 19,
   "id": "d308f3a7-f73a-419c-8600-6034b4f418b0",
   "metadata": {},
   "outputs": [],
   "source": [
    "nans_80 = [feature for feature in pay_nans_80 if feature in def_nans_80]"
   ]
  },
  {
   "cell_type": "code",
   "execution_count": 20,
   "id": "bc740bb6-8679-4b70-92d3-5cf851b69500",
   "metadata": {},
   "outputs": [],
   "source": [
    "## check whether features were already removed\n",
    "red_features_nan = [feature for feature in nans_80 if feature not in red_features] "
   ]
  },
  {
   "cell_type": "code",
   "execution_count": 21,
   "id": "e09f028c-b5f1-4996-ba28-93ad51434137",
   "metadata": {},
   "outputs": [],
   "source": [
    "X_red = X_red.drop(columns=red_features_nan)"
   ]
  },
  {
   "cell_type": "code",
   "execution_count": 22,
   "id": "f283116b-9841-497f-b3ca-018d69e7b69b",
   "metadata": {},
   "outputs": [],
   "source": [
    "dropped_columns = red_features + red_features_nan"
   ]
  },
  {
   "cell_type": "code",
   "execution_count": 62,
   "id": "52f77cb7-0155-43d1-b7e9-58fb867ece9d",
   "metadata": {},
   "outputs": [
    {
     "data": {
      "text/plain": [
       "['D_63',\n",
       " 'D_64',\n",
       " 'B_30',\n",
       " 'B_38',\n",
       " 'D_114',\n",
       " 'D_116',\n",
       " 'D_117',\n",
       " 'D_120',\n",
       " 'D_126',\n",
       " 'D_63',\n",
       " 'D_64',\n",
       " 'D_66',\n",
       " 'D_68']"
      ]
     },
     "execution_count": 62,
     "metadata": {},
     "output_type": "execute_result"
    }
   ],
   "source": [
    "str_vars + cat_vars"
   ]
  },
  {
   "cell_type": "markdown",
   "id": "cc8b4046-2879-447a-b37a-170fe719f0a2",
   "metadata": {},
   "source": [
    "Building the pipeline"
   ]
  },
  {
   "cell_type": "code",
   "execution_count": 115,
   "id": "2b7dfc18-31c0-4345-8b6f-032b7ddad524",
   "metadata": {},
   "outputs": [],
   "source": [
    "num_vars = [feature for feature in X_red.columns[2:] if feature not in cat_vars] ## exclude dates and IDs (first two columns)\n",
    "str_vars = [feature for feature in X_red.columns[2:] if not pd.api.types.is_numeric_dtype(X_red[feature])] ## columns that are not numeric at all \n",
    "red_cat_vars = [feature for feature in cat_vars if feature not in dropped_columns] ## remaining categorical variables that have no string values"
   ]
  },
  {
   "cell_type": "markdown",
   "id": "f38a8856-2346-47b3-b1ea-e2c28ee84592",
   "metadata": {},
   "source": [
    "mark rows in categorical columns with values of -1 as NaNs"
   ]
  },
  {
   "cell_type": "code",
   "execution_count": 24,
   "id": "3160180e-3a45-4ceb-92df-cda0d0f6e342",
   "metadata": {},
   "outputs": [],
   "source": [
    "#X_red[red_cat_vars] = X_red[red_cat_vars].applymap(lambda x: np.nan if x in [-1,-1.0, \"-1.0\", \"-1\"] else x)"
   ]
  },
  {
   "cell_type": "code",
   "execution_count": 46,
   "id": "f36d2956-2b39-4911-b37d-3f86efeb7bb4",
   "metadata": {},
   "outputs": [],
   "source": [
    "def nan_imp(X): ## imputes nan values for alternative values signifying nans\n",
    "    nan_list = [-1,-1.0, \"-1.0\", \"-1\"] \n",
    "    return X.applymap(lambda x: np.nan if x in nan_list else x) ## perhaps subfunctions for arrays"
   ]
  },
  {
   "cell_type": "code",
   "execution_count": 116,
   "id": "3d8e1be4-c208-44d6-b1c0-18c5d527b09e",
   "metadata": {},
   "outputs": [],
   "source": [
    "# impute mean/most frequent value for other nans (specific to group?)\n",
    "# robustscale all numerical values\n",
    "\n",
    "num_scaler = RobustScaler()\n",
    "num_imputer = SimpleImputer(strategy='mean')\n",
    "#num_imputer = KNNImputer(n_neighbors=2) ## KNNIMputer is computationally demanding\n",
    "## should come AFTER SCALING\n",
    "\n",
    "num_pipe = make_pipeline(num_scaler, num_imputer)\n",
    "\n",
    "str_trans = OrdinalEncoder() # is only needed if one wants to do knnimputer\n",
    "\n",
    "nan_trans = FunctionTransformer(nan_imp)\n",
    "cat_imputer = SimpleImputer(strategy=\"most_frequent\") ## replace with KNNimputer on one neighbour, after transforming to numericals\n",
    "#cat_imputer = KNNImputer(n_neighbors=1) # introducing it did not improve performance, but is computationally demanding\n",
    "cat_encoder = OneHotEncoder(sparse=False, handle_unknown='ignore') ## what happens to the old columns?\n",
    "cat_pipe = make_pipeline(nan_trans, cat_imputer, cat_encoder)\n",
    "str_pipe = make_pipeline(nan_trans, str_trans, cat_imputer, cat_encoder)"
   ]
  },
  {
   "cell_type": "markdown",
   "id": "c8ebe538-159d-4837-b1b4-440958d04432",
   "metadata": {},
   "source": [
    "Beware of the Dummy trap. OneHotEncoder automatically deletes one column."
   ]
  },
  {
   "cell_type": "code",
   "execution_count": 102,
   "id": "444f2961-8209-44f9-8b1b-c4fd5f2c619d",
   "metadata": {},
   "outputs": [
    {
     "data": {
      "text/html": [
       "<style>#sk-container-id-13 {color: black;background-color: white;}#sk-container-id-13 pre{padding: 0;}#sk-container-id-13 div.sk-toggleable {background-color: white;}#sk-container-id-13 label.sk-toggleable__label {cursor: pointer;display: block;width: 100%;margin-bottom: 0;padding: 0.3em;box-sizing: border-box;text-align: center;}#sk-container-id-13 label.sk-toggleable__label-arrow:before {content: \"▸\";float: left;margin-right: 0.25em;color: #696969;}#sk-container-id-13 label.sk-toggleable__label-arrow:hover:before {color: black;}#sk-container-id-13 div.sk-estimator:hover label.sk-toggleable__label-arrow:before {color: black;}#sk-container-id-13 div.sk-toggleable__content {max-height: 0;max-width: 0;overflow: hidden;text-align: left;background-color: #f0f8ff;}#sk-container-id-13 div.sk-toggleable__content pre {margin: 0.2em;color: black;border-radius: 0.25em;background-color: #f0f8ff;}#sk-container-id-13 input.sk-toggleable__control:checked~div.sk-toggleable__content {max-height: 200px;max-width: 100%;overflow: auto;}#sk-container-id-13 input.sk-toggleable__control:checked~label.sk-toggleable__label-arrow:before {content: \"▾\";}#sk-container-id-13 div.sk-estimator input.sk-toggleable__control:checked~label.sk-toggleable__label {background-color: #d4ebff;}#sk-container-id-13 div.sk-label input.sk-toggleable__control:checked~label.sk-toggleable__label {background-color: #d4ebff;}#sk-container-id-13 input.sk-hidden--visually {border: 0;clip: rect(1px 1px 1px 1px);clip: rect(1px, 1px, 1px, 1px);height: 1px;margin: -1px;overflow: hidden;padding: 0;position: absolute;width: 1px;}#sk-container-id-13 div.sk-estimator {font-family: monospace;background-color: #f0f8ff;border: 1px dotted black;border-radius: 0.25em;box-sizing: border-box;margin-bottom: 0.5em;}#sk-container-id-13 div.sk-estimator:hover {background-color: #d4ebff;}#sk-container-id-13 div.sk-parallel-item::after {content: \"\";width: 100%;border-bottom: 1px solid gray;flex-grow: 1;}#sk-container-id-13 div.sk-label:hover label.sk-toggleable__label {background-color: #d4ebff;}#sk-container-id-13 div.sk-serial::before {content: \"\";position: absolute;border-left: 1px solid gray;box-sizing: border-box;top: 0;bottom: 0;left: 50%;z-index: 0;}#sk-container-id-13 div.sk-serial {display: flex;flex-direction: column;align-items: center;background-color: white;padding-right: 0.2em;padding-left: 0.2em;position: relative;}#sk-container-id-13 div.sk-item {position: relative;z-index: 1;}#sk-container-id-13 div.sk-parallel {display: flex;align-items: stretch;justify-content: center;background-color: white;position: relative;}#sk-container-id-13 div.sk-item::before, #sk-container-id-13 div.sk-parallel-item::before {content: \"\";position: absolute;border-left: 1px solid gray;box-sizing: border-box;top: 0;bottom: 0;left: 50%;z-index: -1;}#sk-container-id-13 div.sk-parallel-item {display: flex;flex-direction: column;z-index: 1;position: relative;background-color: white;}#sk-container-id-13 div.sk-parallel-item:first-child::after {align-self: flex-end;width: 50%;}#sk-container-id-13 div.sk-parallel-item:last-child::after {align-self: flex-start;width: 50%;}#sk-container-id-13 div.sk-parallel-item:only-child::after {width: 0;}#sk-container-id-13 div.sk-dashed-wrapped {border: 1px dashed gray;margin: 0 0.4em 0.5em 0.4em;box-sizing: border-box;padding-bottom: 0.4em;background-color: white;}#sk-container-id-13 div.sk-label label {font-family: monospace;font-weight: bold;display: inline-block;line-height: 1.2em;}#sk-container-id-13 div.sk-label-container {text-align: center;}#sk-container-id-13 div.sk-container {/* jupyter's `normalize.less` sets `[hidden] { display: none; }` but bootstrap.min.css set `[hidden] { display: none !important; }` so we also need the `!important` here to be able to override the default hidden behavior on the sphinx rendered scikit-learn.org. See: https://github.com/scikit-learn/scikit-learn/issues/21755 */display: inline-block !important;position: relative;}#sk-container-id-13 div.sk-text-repr-fallback {display: none;}</style><div id=\"sk-container-id-13\" class=\"sk-top-container\"><div class=\"sk-text-repr-fallback\"><pre>Pipeline(steps=[(&#x27;functiontransformer&#x27;,\n",
       "                 FunctionTransformer(func=&lt;function nan_imp at 0x7f65fb68cd30&gt;)),\n",
       "                (&#x27;ordinalencoder&#x27;, OrdinalEncoder()),\n",
       "                (&#x27;knnimputer&#x27;, KNNImputer(n_neighbors=1)),\n",
       "                (&#x27;onehotencoder&#x27;,\n",
       "                 OneHotEncoder(handle_unknown=&#x27;ignore&#x27;, sparse=False))])</pre><b>In a Jupyter environment, please rerun this cell to show the HTML representation or trust the notebook. <br />On GitHub, the HTML representation is unable to render, please try loading this page with nbviewer.org.</b></div><div class=\"sk-container\" hidden><div class=\"sk-item sk-dashed-wrapped\"><div class=\"sk-label-container\"><div class=\"sk-label sk-toggleable\"><input class=\"sk-toggleable__control sk-hidden--visually\" id=\"sk-estimator-id-80\" type=\"checkbox\" ><label for=\"sk-estimator-id-80\" class=\"sk-toggleable__label sk-toggleable__label-arrow\">Pipeline</label><div class=\"sk-toggleable__content\"><pre>Pipeline(steps=[(&#x27;functiontransformer&#x27;,\n",
       "                 FunctionTransformer(func=&lt;function nan_imp at 0x7f65fb68cd30&gt;)),\n",
       "                (&#x27;ordinalencoder&#x27;, OrdinalEncoder()),\n",
       "                (&#x27;knnimputer&#x27;, KNNImputer(n_neighbors=1)),\n",
       "                (&#x27;onehotencoder&#x27;,\n",
       "                 OneHotEncoder(handle_unknown=&#x27;ignore&#x27;, sparse=False))])</pre></div></div></div><div class=\"sk-serial\"><div class=\"sk-item\"><div class=\"sk-estimator sk-toggleable\"><input class=\"sk-toggleable__control sk-hidden--visually\" id=\"sk-estimator-id-81\" type=\"checkbox\" ><label for=\"sk-estimator-id-81\" class=\"sk-toggleable__label sk-toggleable__label-arrow\">FunctionTransformer</label><div class=\"sk-toggleable__content\"><pre>FunctionTransformer(func=&lt;function nan_imp at 0x7f65fb68cd30&gt;)</pre></div></div></div><div class=\"sk-item\"><div class=\"sk-estimator sk-toggleable\"><input class=\"sk-toggleable__control sk-hidden--visually\" id=\"sk-estimator-id-82\" type=\"checkbox\" ><label for=\"sk-estimator-id-82\" class=\"sk-toggleable__label sk-toggleable__label-arrow\">OrdinalEncoder</label><div class=\"sk-toggleable__content\"><pre>OrdinalEncoder()</pre></div></div></div><div class=\"sk-item\"><div class=\"sk-estimator sk-toggleable\"><input class=\"sk-toggleable__control sk-hidden--visually\" id=\"sk-estimator-id-83\" type=\"checkbox\" ><label for=\"sk-estimator-id-83\" class=\"sk-toggleable__label sk-toggleable__label-arrow\">KNNImputer</label><div class=\"sk-toggleable__content\"><pre>KNNImputer(n_neighbors=1)</pre></div></div></div><div class=\"sk-item\"><div class=\"sk-estimator sk-toggleable\"><input class=\"sk-toggleable__control sk-hidden--visually\" id=\"sk-estimator-id-84\" type=\"checkbox\" ><label for=\"sk-estimator-id-84\" class=\"sk-toggleable__label sk-toggleable__label-arrow\">OneHotEncoder</label><div class=\"sk-toggleable__content\"><pre>OneHotEncoder(handle_unknown=&#x27;ignore&#x27;, sparse=False)</pre></div></div></div></div></div></div></div>"
      ],
      "text/plain": [
       "Pipeline(steps=[('functiontransformer',\n",
       "                 FunctionTransformer(func=<function nan_imp at 0x7f65fb68cd30>)),\n",
       "                ('ordinalencoder', OrdinalEncoder()),\n",
       "                ('knnimputer', KNNImputer(n_neighbors=1)),\n",
       "                ('onehotencoder',\n",
       "                 OneHotEncoder(handle_unknown='ignore', sparse=False))])"
      ]
     },
     "execution_count": 102,
     "metadata": {},
     "output_type": "execute_result"
    }
   ],
   "source": [
    "str_pipe"
   ]
  },
  {
   "cell_type": "code",
   "execution_count": 117,
   "id": "1b372455-8f9f-4e9a-9eac-62c4d745b4fd",
   "metadata": {},
   "outputs": [],
   "source": [
    "preprocessor = ColumnTransformer([\n",
    "    ('num_pip', num_pipe, num_vars),\n",
    "    ('cat_pip', cat_pipe, red_cat_vars), \n",
    "    ('str_pip', str_pipe, str_vars)],\n",
    "    remainder='drop' ## all columns not in num_vars and red_cat_vars are dropped.\n",
    ")"
   ]
  },
  {
   "cell_type": "code",
   "execution_count": null,
   "id": "68905072-fb4e-4332-b712-30d59cf70a69",
   "metadata": {},
   "outputs": [],
   "source": []
  },
  {
   "cell_type": "code",
   "execution_count": 118,
   "id": "4fab0e75-7ae8-4584-9309-82f453536ae2",
   "metadata": {},
   "outputs": [
    {
     "data": {
      "text/html": [
       "<style>#sk-container-id-15 {color: black;background-color: white;}#sk-container-id-15 pre{padding: 0;}#sk-container-id-15 div.sk-toggleable {background-color: white;}#sk-container-id-15 label.sk-toggleable__label {cursor: pointer;display: block;width: 100%;margin-bottom: 0;padding: 0.3em;box-sizing: border-box;text-align: center;}#sk-container-id-15 label.sk-toggleable__label-arrow:before {content: \"▸\";float: left;margin-right: 0.25em;color: #696969;}#sk-container-id-15 label.sk-toggleable__label-arrow:hover:before {color: black;}#sk-container-id-15 div.sk-estimator:hover label.sk-toggleable__label-arrow:before {color: black;}#sk-container-id-15 div.sk-toggleable__content {max-height: 0;max-width: 0;overflow: hidden;text-align: left;background-color: #f0f8ff;}#sk-container-id-15 div.sk-toggleable__content pre {margin: 0.2em;color: black;border-radius: 0.25em;background-color: #f0f8ff;}#sk-container-id-15 input.sk-toggleable__control:checked~div.sk-toggleable__content {max-height: 200px;max-width: 100%;overflow: auto;}#sk-container-id-15 input.sk-toggleable__control:checked~label.sk-toggleable__label-arrow:before {content: \"▾\";}#sk-container-id-15 div.sk-estimator input.sk-toggleable__control:checked~label.sk-toggleable__label {background-color: #d4ebff;}#sk-container-id-15 div.sk-label input.sk-toggleable__control:checked~label.sk-toggleable__label {background-color: #d4ebff;}#sk-container-id-15 input.sk-hidden--visually {border: 0;clip: rect(1px 1px 1px 1px);clip: rect(1px, 1px, 1px, 1px);height: 1px;margin: -1px;overflow: hidden;padding: 0;position: absolute;width: 1px;}#sk-container-id-15 div.sk-estimator {font-family: monospace;background-color: #f0f8ff;border: 1px dotted black;border-radius: 0.25em;box-sizing: border-box;margin-bottom: 0.5em;}#sk-container-id-15 div.sk-estimator:hover {background-color: #d4ebff;}#sk-container-id-15 div.sk-parallel-item::after {content: \"\";width: 100%;border-bottom: 1px solid gray;flex-grow: 1;}#sk-container-id-15 div.sk-label:hover label.sk-toggleable__label {background-color: #d4ebff;}#sk-container-id-15 div.sk-serial::before {content: \"\";position: absolute;border-left: 1px solid gray;box-sizing: border-box;top: 0;bottom: 0;left: 50%;z-index: 0;}#sk-container-id-15 div.sk-serial {display: flex;flex-direction: column;align-items: center;background-color: white;padding-right: 0.2em;padding-left: 0.2em;position: relative;}#sk-container-id-15 div.sk-item {position: relative;z-index: 1;}#sk-container-id-15 div.sk-parallel {display: flex;align-items: stretch;justify-content: center;background-color: white;position: relative;}#sk-container-id-15 div.sk-item::before, #sk-container-id-15 div.sk-parallel-item::before {content: \"\";position: absolute;border-left: 1px solid gray;box-sizing: border-box;top: 0;bottom: 0;left: 50%;z-index: -1;}#sk-container-id-15 div.sk-parallel-item {display: flex;flex-direction: column;z-index: 1;position: relative;background-color: white;}#sk-container-id-15 div.sk-parallel-item:first-child::after {align-self: flex-end;width: 50%;}#sk-container-id-15 div.sk-parallel-item:last-child::after {align-self: flex-start;width: 50%;}#sk-container-id-15 div.sk-parallel-item:only-child::after {width: 0;}#sk-container-id-15 div.sk-dashed-wrapped {border: 1px dashed gray;margin: 0 0.4em 0.5em 0.4em;box-sizing: border-box;padding-bottom: 0.4em;background-color: white;}#sk-container-id-15 div.sk-label label {font-family: monospace;font-weight: bold;display: inline-block;line-height: 1.2em;}#sk-container-id-15 div.sk-label-container {text-align: center;}#sk-container-id-15 div.sk-container {/* jupyter's `normalize.less` sets `[hidden] { display: none; }` but bootstrap.min.css set `[hidden] { display: none !important; }` so we also need the `!important` here to be able to override the default hidden behavior on the sphinx rendered scikit-learn.org. See: https://github.com/scikit-learn/scikit-learn/issues/21755 */display: inline-block !important;position: relative;}#sk-container-id-15 div.sk-text-repr-fallback {display: none;}</style><div id=\"sk-container-id-15\" class=\"sk-top-container\"><div class=\"sk-text-repr-fallback\"><pre>ColumnTransformer(transformers=[(&#x27;num_pip&#x27;,\n",
       "                                 Pipeline(steps=[(&#x27;robustscaler&#x27;,\n",
       "                                                  RobustScaler()),\n",
       "                                                 (&#x27;simpleimputer&#x27;,\n",
       "                                                  SimpleImputer())]),\n",
       "                                 [&#x27;P_2&#x27;, &#x27;D_39&#x27;, &#x27;B_2&#x27;, &#x27;R_1&#x27;, &#x27;S_3&#x27;, &#x27;D_41&#x27;,\n",
       "                                  &#x27;B_3&#x27;, &#x27;D_42&#x27;, &#x27;D_43&#x27;, &#x27;D_44&#x27;, &#x27;B_4&#x27;, &#x27;D_45&#x27;,\n",
       "                                  &#x27;B_5&#x27;, &#x27;R_2&#x27;, &#x27;D_46&#x27;, &#x27;D_47&#x27;, &#x27;D_48&#x27;, &#x27;D_49&#x27;,\n",
       "                                  &#x27;B_6&#x27;, &#x27;B_8&#x27;, &#x27;D_50&#x27;, &#x27;D_51&#x27;, &#x27;B_9&#x27;, &#x27;R_3&#x27;,\n",
       "                                  &#x27;D_52&#x27;, &#x27;P_3&#x27;, &#x27;B_10&#x27;, &#x27;D_53&#x27;, &#x27;S_5&#x27;, &#x27;S_6&#x27;, ...]),\n",
       "                                (&#x27;cat_pip&#x27;,\n",
       "                                 Pipeline(steps=[(&#x27;functiontransformer&#x27;,\n",
       "                                                  FunctionTransformer(func=&lt;function nan_imp at 0x7f65fb68cd30&gt;)),\n",
       "                                                 (&#x27;simpleimputer&#x27;,\n",
       "                                                  SimpleImputer(strategy=&#x27;most_frequent&#x27;)),\n",
       "                                                 (&#x27;onehotencoder&#x27;,\n",
       "                                                  OneHotEncoder(handle_unknown=&#x27;ignore&#x27;,\n",
       "                                                                sparse=False))]),\n",
       "                                 [&#x27;B_30&#x27;, &#x27;B_38&#x27;, &#x27;D_114&#x27;, &#x27;D_116&#x27;, &#x27;D_117&#x27;,\n",
       "                                  &#x27;D_120&#x27;, &#x27;D_126&#x27;, &#x27;D_63&#x27;, &#x27;D_64&#x27;, &#x27;D_68&#x27;])])</pre><b>In a Jupyter environment, please rerun this cell to show the HTML representation or trust the notebook. <br />On GitHub, the HTML representation is unable to render, please try loading this page with nbviewer.org.</b></div><div class=\"sk-container\" hidden><div class=\"sk-item sk-dashed-wrapped\"><div class=\"sk-label-container\"><div class=\"sk-label sk-toggleable\"><input class=\"sk-toggleable__control sk-hidden--visually\" id=\"sk-estimator-id-98\" type=\"checkbox\" ><label for=\"sk-estimator-id-98\" class=\"sk-toggleable__label sk-toggleable__label-arrow\">ColumnTransformer</label><div class=\"sk-toggleable__content\"><pre>ColumnTransformer(transformers=[(&#x27;num_pip&#x27;,\n",
       "                                 Pipeline(steps=[(&#x27;robustscaler&#x27;,\n",
       "                                                  RobustScaler()),\n",
       "                                                 (&#x27;simpleimputer&#x27;,\n",
       "                                                  SimpleImputer())]),\n",
       "                                 [&#x27;P_2&#x27;, &#x27;D_39&#x27;, &#x27;B_2&#x27;, &#x27;R_1&#x27;, &#x27;S_3&#x27;, &#x27;D_41&#x27;,\n",
       "                                  &#x27;B_3&#x27;, &#x27;D_42&#x27;, &#x27;D_43&#x27;, &#x27;D_44&#x27;, &#x27;B_4&#x27;, &#x27;D_45&#x27;,\n",
       "                                  &#x27;B_5&#x27;, &#x27;R_2&#x27;, &#x27;D_46&#x27;, &#x27;D_47&#x27;, &#x27;D_48&#x27;, &#x27;D_49&#x27;,\n",
       "                                  &#x27;B_6&#x27;, &#x27;B_8&#x27;, &#x27;D_50&#x27;, &#x27;D_51&#x27;, &#x27;B_9&#x27;, &#x27;R_3&#x27;,\n",
       "                                  &#x27;D_52&#x27;, &#x27;P_3&#x27;, &#x27;B_10&#x27;, &#x27;D_53&#x27;, &#x27;S_5&#x27;, &#x27;S_6&#x27;, ...]),\n",
       "                                (&#x27;cat_pip&#x27;,\n",
       "                                 Pipeline(steps=[(&#x27;functiontransformer&#x27;,\n",
       "                                                  FunctionTransformer(func=&lt;function nan_imp at 0x7f65fb68cd30&gt;)),\n",
       "                                                 (&#x27;simpleimputer&#x27;,\n",
       "                                                  SimpleImputer(strategy=&#x27;most_frequent&#x27;)),\n",
       "                                                 (&#x27;onehotencoder&#x27;,\n",
       "                                                  OneHotEncoder(handle_unknown=&#x27;ignore&#x27;,\n",
       "                                                                sparse=False))]),\n",
       "                                 [&#x27;B_30&#x27;, &#x27;B_38&#x27;, &#x27;D_114&#x27;, &#x27;D_116&#x27;, &#x27;D_117&#x27;,\n",
       "                                  &#x27;D_120&#x27;, &#x27;D_126&#x27;, &#x27;D_63&#x27;, &#x27;D_64&#x27;, &#x27;D_68&#x27;])])</pre></div></div></div><div class=\"sk-parallel\"><div class=\"sk-parallel-item\"><div class=\"sk-item\"><div class=\"sk-label-container\"><div class=\"sk-label sk-toggleable\"><input class=\"sk-toggleable__control sk-hidden--visually\" id=\"sk-estimator-id-99\" type=\"checkbox\" ><label for=\"sk-estimator-id-99\" class=\"sk-toggleable__label sk-toggleable__label-arrow\">num_pip</label><div class=\"sk-toggleable__content\"><pre>[&#x27;P_2&#x27;, &#x27;D_39&#x27;, &#x27;B_2&#x27;, &#x27;R_1&#x27;, &#x27;S_3&#x27;, &#x27;D_41&#x27;, &#x27;B_3&#x27;, &#x27;D_42&#x27;, &#x27;D_43&#x27;, &#x27;D_44&#x27;, &#x27;B_4&#x27;, &#x27;D_45&#x27;, &#x27;B_5&#x27;, &#x27;R_2&#x27;, &#x27;D_46&#x27;, &#x27;D_47&#x27;, &#x27;D_48&#x27;, &#x27;D_49&#x27;, &#x27;B_6&#x27;, &#x27;B_8&#x27;, &#x27;D_50&#x27;, &#x27;D_51&#x27;, &#x27;B_9&#x27;, &#x27;R_3&#x27;, &#x27;D_52&#x27;, &#x27;P_3&#x27;, &#x27;B_10&#x27;, &#x27;D_53&#x27;, &#x27;S_5&#x27;, &#x27;S_6&#x27;, &#x27;D_54&#x27;, &#x27;R_4&#x27;, &#x27;S_7&#x27;, &#x27;B_12&#x27;, &#x27;S_8&#x27;, &#x27;D_55&#x27;, &#x27;D_56&#x27;, &#x27;B_13&#x27;, &#x27;R_5&#x27;, &#x27;D_58&#x27;, &#x27;S_9&#x27;, &#x27;B_14&#x27;, &#x27;D_59&#x27;, &#x27;D_60&#x27;, &#x27;D_61&#x27;, &#x27;B_15&#x27;, &#x27;S_11&#x27;, &#x27;D_62&#x27;, &#x27;D_65&#x27;, &#x27;B_16&#x27;, &#x27;B_17&#x27;, &#x27;B_18&#x27;, &#x27;B_19&#x27;, &#x27;B_20&#x27;, &#x27;S_12&#x27;, &#x27;R_6&#x27;, &#x27;S_13&#x27;, &#x27;B_21&#x27;, &#x27;D_69&#x27;, &#x27;B_22&#x27;, &#x27;D_70&#x27;, &#x27;D_71&#x27;, &#x27;D_72&#x27;, &#x27;S_15&#x27;, &#x27;B_23&#x27;, &#x27;P_4&#x27;, &#x27;D_74&#x27;, &#x27;B_24&#x27;, &#x27;R_7&#x27;, &#x27;B_25&#x27;, &#x27;B_26&#x27;, &#x27;D_78&#x27;, &#x27;D_79&#x27;, &#x27;R_8&#x27;, &#x27;S_16&#x27;, &#x27;D_80&#x27;, &#x27;R_10&#x27;, &#x27;R_11&#x27;, &#x27;B_27&#x27;, &#x27;D_81&#x27;, &#x27;D_82&#x27;, &#x27;S_17&#x27;, &#x27;R_12&#x27;, &#x27;B_28&#x27;, &#x27;R_13&#x27;, &#x27;D_83&#x27;, &#x27;R_14&#x27;, &#x27;R_15&#x27;, &#x27;D_84&#x27;, &#x27;R_16&#x27;, &#x27;S_18&#x27;, &#x27;D_86&#x27;, &#x27;R_17&#x27;, &#x27;R_18&#x27;, &#x27;B_31&#x27;, &#x27;S_19&#x27;, &#x27;R_19&#x27;, &#x27;B_32&#x27;, &#x27;S_20&#x27;, &#x27;R_20&#x27;, &#x27;R_21&#x27;, &#x27;B_33&#x27;, &#x27;D_89&#x27;, &#x27;R_22&#x27;, &#x27;R_23&#x27;, &#x27;D_91&#x27;, &#x27;D_92&#x27;, &#x27;D_93&#x27;, &#x27;D_94&#x27;, &#x27;R_24&#x27;, &#x27;R_25&#x27;, &#x27;D_96&#x27;, &#x27;S_22&#x27;, &#x27;S_23&#x27;, &#x27;S_25&#x27;, &#x27;S_26&#x27;, &#x27;D_102&#x27;, &#x27;D_104&#x27;, &#x27;D_105&#x27;, &#x27;D_106&#x27;, &#x27;D_107&#x27;, &#x27;B_36&#x27;, &#x27;R_26&#x27;, &#x27;R_27&#x27;, &#x27;D_109&#x27;, &#x27;D_112&#x27;, &#x27;B_40&#x27;, &#x27;S_27&#x27;, &#x27;D_113&#x27;, &#x27;D_115&#x27;, &#x27;D_119&#x27;, &#x27;D_121&#x27;, &#x27;D_122&#x27;, &#x27;D_123&#x27;, &#x27;D_124&#x27;, &#x27;D_125&#x27;, &#x27;D_127&#x27;, &#x27;D_128&#x27;, &#x27;D_129&#x27;, &#x27;B_41&#x27;, &#x27;D_130&#x27;, &#x27;D_131&#x27;, &#x27;D_132&#x27;, &#x27;D_133&#x27;, &#x27;R_28&#x27;, &#x27;D_139&#x27;, &#x27;D_140&#x27;, &#x27;D_142&#x27;, &#x27;D_144&#x27;, &#x27;D_145&#x27;]</pre></div></div></div><div class=\"sk-serial\"><div class=\"sk-item\"><div class=\"sk-serial\"><div class=\"sk-item\"><div class=\"sk-estimator sk-toggleable\"><input class=\"sk-toggleable__control sk-hidden--visually\" id=\"sk-estimator-id-100\" type=\"checkbox\" ><label for=\"sk-estimator-id-100\" class=\"sk-toggleable__label sk-toggleable__label-arrow\">RobustScaler</label><div class=\"sk-toggleable__content\"><pre>RobustScaler()</pre></div></div></div><div class=\"sk-item\"><div class=\"sk-estimator sk-toggleable\"><input class=\"sk-toggleable__control sk-hidden--visually\" id=\"sk-estimator-id-101\" type=\"checkbox\" ><label for=\"sk-estimator-id-101\" class=\"sk-toggleable__label sk-toggleable__label-arrow\">SimpleImputer</label><div class=\"sk-toggleable__content\"><pre>SimpleImputer()</pre></div></div></div></div></div></div></div></div><div class=\"sk-parallel-item\"><div class=\"sk-item\"><div class=\"sk-label-container\"><div class=\"sk-label sk-toggleable\"><input class=\"sk-toggleable__control sk-hidden--visually\" id=\"sk-estimator-id-102\" type=\"checkbox\" ><label for=\"sk-estimator-id-102\" class=\"sk-toggleable__label sk-toggleable__label-arrow\">cat_pip</label><div class=\"sk-toggleable__content\"><pre>[&#x27;B_30&#x27;, &#x27;B_38&#x27;, &#x27;D_114&#x27;, &#x27;D_116&#x27;, &#x27;D_117&#x27;, &#x27;D_120&#x27;, &#x27;D_126&#x27;, &#x27;D_63&#x27;, &#x27;D_64&#x27;, &#x27;D_68&#x27;]</pre></div></div></div><div class=\"sk-serial\"><div class=\"sk-item\"><div class=\"sk-serial\"><div class=\"sk-item\"><div class=\"sk-estimator sk-toggleable\"><input class=\"sk-toggleable__control sk-hidden--visually\" id=\"sk-estimator-id-103\" type=\"checkbox\" ><label for=\"sk-estimator-id-103\" class=\"sk-toggleable__label sk-toggleable__label-arrow\">FunctionTransformer</label><div class=\"sk-toggleable__content\"><pre>FunctionTransformer(func=&lt;function nan_imp at 0x7f65fb68cd30&gt;)</pre></div></div></div><div class=\"sk-item\"><div class=\"sk-estimator sk-toggleable\"><input class=\"sk-toggleable__control sk-hidden--visually\" id=\"sk-estimator-id-104\" type=\"checkbox\" ><label for=\"sk-estimator-id-104\" class=\"sk-toggleable__label sk-toggleable__label-arrow\">SimpleImputer</label><div class=\"sk-toggleable__content\"><pre>SimpleImputer(strategy=&#x27;most_frequent&#x27;)</pre></div></div></div><div class=\"sk-item\"><div class=\"sk-estimator sk-toggleable\"><input class=\"sk-toggleable__control sk-hidden--visually\" id=\"sk-estimator-id-105\" type=\"checkbox\" ><label for=\"sk-estimator-id-105\" class=\"sk-toggleable__label sk-toggleable__label-arrow\">OneHotEncoder</label><div class=\"sk-toggleable__content\"><pre>OneHotEncoder(handle_unknown=&#x27;ignore&#x27;, sparse=False)</pre></div></div></div></div></div></div></div></div></div></div></div></div>"
      ],
      "text/plain": [
       "ColumnTransformer(transformers=[('num_pip',\n",
       "                                 Pipeline(steps=[('robustscaler',\n",
       "                                                  RobustScaler()),\n",
       "                                                 ('simpleimputer',\n",
       "                                                  SimpleImputer())]),\n",
       "                                 ['P_2', 'D_39', 'B_2', 'R_1', 'S_3', 'D_41',\n",
       "                                  'B_3', 'D_42', 'D_43', 'D_44', 'B_4', 'D_45',\n",
       "                                  'B_5', 'R_2', 'D_46', 'D_47', 'D_48', 'D_49',\n",
       "                                  'B_6', 'B_8', 'D_50', 'D_51', 'B_9', 'R_3',\n",
       "                                  'D_52', 'P_3', 'B_10', 'D_53', 'S_5', 'S_6', ...]),\n",
       "                                ('cat_pip',\n",
       "                                 Pipeline(steps=[('functiontransformer',\n",
       "                                                  FunctionTransformer(func=<function nan_imp at 0x7f65fb68cd30>)),\n",
       "                                                 ('simpleimputer',\n",
       "                                                  SimpleImputer(strategy='most_frequent')),\n",
       "                                                 ('onehotencoder',\n",
       "                                                  OneHotEncoder(handle_unknown='ignore',\n",
       "                                                                sparse=False))]),\n",
       "                                 ['B_30', 'B_38', 'D_114', 'D_116', 'D_117',\n",
       "                                  'D_120', 'D_126', 'D_63', 'D_64', 'D_68'])])"
      ]
     },
     "execution_count": 118,
     "metadata": {},
     "output_type": "execute_result"
    }
   ],
   "source": [
    "preprocessor"
   ]
  },
  {
   "cell_type": "code",
   "execution_count": 119,
   "id": "ef1f272b-1506-4e2b-b77c-76d7d45f25c5",
   "metadata": {},
   "outputs": [],
   "source": [
    "X_pp = pd.DataFrame(preprocessor.fit_transform(X_red))"
   ]
  },
  {
   "cell_type": "code",
   "execution_count": 105,
   "id": "8200afab-cdd2-4106-be42-01ff001780a1",
   "metadata": {},
   "outputs": [
    {
     "data": {
      "text/plain": [
       "40"
      ]
     },
     "execution_count": 105,
     "metadata": {},
     "output_type": "execute_result"
    }
   ],
   "source": [
    "X_red[red_cat_vars].nunique().sum() ## number of unqie values in all cat. values\n",
    "## should equal the number of new onehotencoded columns, but it does not\n"
   ]
  },
  {
   "cell_type": "code",
   "execution_count": null,
   "id": "12ec647a-cf02-47fb-b22d-a97c6ce83db9",
   "metadata": {},
   "outputs": [],
   "source": [
    "# X_red_cat = X_red[red_cat_vars]\n",
    "# X_dummified = X_red_cat.astype(str)\n",
    "# X_dummified = X_dummified.applymap(lambda x: x if x not in [\"nan\", \"NaN\", \"NAN\", \"Nan\", \"-1\", \"-1.0\"] else float(\"nan\"))\n",
    "# X_dummified = pd.get_dummies(X_dummified)\n",
    "# ## here I additionally make -1s to NaNs, thus 40, not 43 new columns come out. \n",
    "# #there only 33 come out ... dummy trap?"
   ]
  },
  {
   "cell_type": "code",
   "execution_count": 108,
   "id": "fa4cb92b-f980-414d-8138-af9ce4309b89",
   "metadata": {},
   "outputs": [],
   "source": [
    "# defaulters = pd.DataFrame(def_df['customer_ID'].unique())\n",
    "# payers = pd.DataFrame(pay_df['customer_ID'].unique())\n",
    "# defaulters['default']=1\n",
    "# payers['default']=0\n",
    "\n",
    "# default_per_customer = pd.concat([defaulters, payers])\n",
    "\n",
    "# y_unique = default_per_customer['default']\n",
    "\n",
    "#ynp.r_[def_df['customer_ID'].unique(), pay_df['customer_ID'].unique()].shape"
   ]
  },
  {
   "cell_type": "markdown",
   "id": "b7fee8f2-6199-40e1-9862-89d2c94b688a",
   "metadata": {},
   "source": [
    "Building the simple model and putting it into the pipe"
   ]
  },
  {
   "cell_type": "code",
   "execution_count": 120,
   "id": "038f2715-3747-4277-822b-0e709d150de8",
   "metadata": {},
   "outputs": [
    {
     "name": "stderr",
     "output_type": "stream",
     "text": [
      "/home/slawa/.pyenv/versions/3.8.12/envs/amex_default_pred/lib/python3.8/site-packages/sklearn/linear_model/_logistic.py:444: ConvergenceWarning: lbfgs failed to converge (status=1):\n",
      "STOP: TOTAL NO. of ITERATIONS REACHED LIMIT.\n",
      "\n",
      "Increase the number of iterations (max_iter) or scale the data as shown in:\n",
      "    https://scikit-learn.org/stable/modules/preprocessing.html\n",
      "Please also refer to the documentation for alternative solver options:\n",
      "    https://scikit-learn.org/stable/modules/linear_model.html#logistic-regression\n",
      "  n_iter_i = _check_optimize_result(\n",
      "/home/slawa/.pyenv/versions/3.8.12/envs/amex_default_pred/lib/python3.8/site-packages/sklearn/linear_model/_logistic.py:444: ConvergenceWarning: lbfgs failed to converge (status=1):\n",
      "STOP: TOTAL NO. of ITERATIONS REACHED LIMIT.\n",
      "\n",
      "Increase the number of iterations (max_iter) or scale the data as shown in:\n",
      "    https://scikit-learn.org/stable/modules/preprocessing.html\n",
      "Please also refer to the documentation for alternative solver options:\n",
      "    https://scikit-learn.org/stable/modules/linear_model.html#logistic-regression\n",
      "  n_iter_i = _check_optimize_result(\n",
      "/home/slawa/.pyenv/versions/3.8.12/envs/amex_default_pred/lib/python3.8/site-packages/sklearn/linear_model/_logistic.py:444: ConvergenceWarning: lbfgs failed to converge (status=1):\n",
      "STOP: TOTAL NO. of ITERATIONS REACHED LIMIT.\n",
      "\n",
      "Increase the number of iterations (max_iter) or scale the data as shown in:\n",
      "    https://scikit-learn.org/stable/modules/preprocessing.html\n",
      "Please also refer to the documentation for alternative solver options:\n",
      "    https://scikit-learn.org/stable/modules/linear_model.html#logistic-regression\n",
      "  n_iter_i = _check_optimize_result(\n",
      "/home/slawa/.pyenv/versions/3.8.12/envs/amex_default_pred/lib/python3.8/site-packages/sklearn/linear_model/_logistic.py:444: ConvergenceWarning: lbfgs failed to converge (status=1):\n",
      "STOP: TOTAL NO. of ITERATIONS REACHED LIMIT.\n",
      "\n",
      "Increase the number of iterations (max_iter) or scale the data as shown in:\n",
      "    https://scikit-learn.org/stable/modules/preprocessing.html\n",
      "Please also refer to the documentation for alternative solver options:\n",
      "    https://scikit-learn.org/stable/modules/linear_model.html#logistic-regression\n",
      "  n_iter_i = _check_optimize_result(\n",
      "/home/slawa/.pyenv/versions/3.8.12/envs/amex_default_pred/lib/python3.8/site-packages/sklearn/linear_model/_logistic.py:444: ConvergenceWarning: lbfgs failed to converge (status=1):\n",
      "STOP: TOTAL NO. of ITERATIONS REACHED LIMIT.\n",
      "\n",
      "Increase the number of iterations (max_iter) or scale the data as shown in:\n",
      "    https://scikit-learn.org/stable/modules/preprocessing.html\n",
      "Please also refer to the documentation for alternative solver options:\n",
      "    https://scikit-learn.org/stable/modules/linear_model.html#logistic-regression\n",
      "  n_iter_i = _check_optimize_result(\n"
     ]
    }
   ],
   "source": [
    "mod = LogisticRegression() \n",
    "## such a model treats all rows as independent despite them being from the same person\n",
    "results = cross_validate(mod, X_pp, y, cv = 5, scoring=['accuracy', 'recall', 'f1'])"
   ]
  },
  {
   "cell_type": "code",
   "execution_count": 114,
   "id": "d08a06c8-3784-4791-a428-45a4f1e56d37",
   "metadata": {},
   "outputs": [
    {
     "data": {
      "text/plain": [
       "{'fit_time': array([1.9299469 , 1.79605651, 1.71983409, 2.16600227, 1.70930767]),\n",
       " 'score_time': array([0.02362657, 0.02491212, 0.02906871, 0.02416158, 0.03222513]),\n",
       " 'test_accuracy': array([0.84305217, 0.83636199, 0.84739174, 0.85064642, 0.83218807]),\n",
       " 'test_recall': array([0.67190423, 0.57575758, 0.62813318, 0.63000374, 0.59431138]),\n",
       " 'test_f1': array([0.67417417, 0.6297054 , 0.66547761, 0.67091633, 0.63116057])}"
      ]
     },
     "execution_count": 114,
     "metadata": {},
     "output_type": "execute_result"
    }
   ],
   "source": [
    "results"
   ]
  },
  {
   "cell_type": "code",
   "execution_count": 106,
   "id": "a93ac057-9057-4a7f-b791-ec5c3c698b77",
   "metadata": {},
   "outputs": [
    {
     "data": {
      "text/plain": [
       "{'fit_time': array([1.96157551, 1.93135667, 1.73852777, 1.78588533, 1.70706511]),\n",
       " 'score_time': array([0.03117967, 0.0251298 , 0.02462554, 0.02541804, 0.02456045]),\n",
       " 'test_accuracy': array([0.83916463, 0.838803  , 0.84359461, 0.85353946, 0.839783  ]),\n",
       " 'test_recall': array([0.63262252, 0.60007482, 0.61728395, 0.64197531, 0.62649701]),\n",
       " 'test_f1': array([0.65529936, 0.64275696, 0.65606362, 0.67933492, 0.65390625])}"
      ]
     },
     "execution_count": 106,
     "metadata": {},
     "output_type": "execute_result"
    }
   ],
   "source": [
    "results"
   ]
  },
  {
   "cell_type": "code",
   "execution_count": 111,
   "id": "0b481ebd-bbd5-40fa-bc2c-7bb23d493fb1",
   "metadata": {},
   "outputs": [],
   "source": [
    "X_train, X_val, y_train, y_val = train_test_split(X, y, test_size=0.3)"
   ]
  },
  {
   "cell_type": "code",
   "execution_count": 113,
   "id": "0e417b01-c5f9-4062-8134-146fb6923400",
   "metadata": {},
   "outputs": [],
   "source": [
    "pp_pred_pipe = make_pipeline(preprocessor, mod)"
   ]
  },
  {
   "cell_type": "code",
   "execution_count": 114,
   "id": "30e3557a-9a96-4c3d-a196-45049dc155c4",
   "metadata": {},
   "outputs": [
    {
     "data": {
      "text/html": [
       "<style>#sk-container-id-4 {color: black;background-color: white;}#sk-container-id-4 pre{padding: 0;}#sk-container-id-4 div.sk-toggleable {background-color: white;}#sk-container-id-4 label.sk-toggleable__label {cursor: pointer;display: block;width: 100%;margin-bottom: 0;padding: 0.3em;box-sizing: border-box;text-align: center;}#sk-container-id-4 label.sk-toggleable__label-arrow:before {content: \"▸\";float: left;margin-right: 0.25em;color: #696969;}#sk-container-id-4 label.sk-toggleable__label-arrow:hover:before {color: black;}#sk-container-id-4 div.sk-estimator:hover label.sk-toggleable__label-arrow:before {color: black;}#sk-container-id-4 div.sk-toggleable__content {max-height: 0;max-width: 0;overflow: hidden;text-align: left;background-color: #f0f8ff;}#sk-container-id-4 div.sk-toggleable__content pre {margin: 0.2em;color: black;border-radius: 0.25em;background-color: #f0f8ff;}#sk-container-id-4 input.sk-toggleable__control:checked~div.sk-toggleable__content {max-height: 200px;max-width: 100%;overflow: auto;}#sk-container-id-4 input.sk-toggleable__control:checked~label.sk-toggleable__label-arrow:before {content: \"▾\";}#sk-container-id-4 div.sk-estimator input.sk-toggleable__control:checked~label.sk-toggleable__label {background-color: #d4ebff;}#sk-container-id-4 div.sk-label input.sk-toggleable__control:checked~label.sk-toggleable__label {background-color: #d4ebff;}#sk-container-id-4 input.sk-hidden--visually {border: 0;clip: rect(1px 1px 1px 1px);clip: rect(1px, 1px, 1px, 1px);height: 1px;margin: -1px;overflow: hidden;padding: 0;position: absolute;width: 1px;}#sk-container-id-4 div.sk-estimator {font-family: monospace;background-color: #f0f8ff;border: 1px dotted black;border-radius: 0.25em;box-sizing: border-box;margin-bottom: 0.5em;}#sk-container-id-4 div.sk-estimator:hover {background-color: #d4ebff;}#sk-container-id-4 div.sk-parallel-item::after {content: \"\";width: 100%;border-bottom: 1px solid gray;flex-grow: 1;}#sk-container-id-4 div.sk-label:hover label.sk-toggleable__label {background-color: #d4ebff;}#sk-container-id-4 div.sk-serial::before {content: \"\";position: absolute;border-left: 1px solid gray;box-sizing: border-box;top: 0;bottom: 0;left: 50%;z-index: 0;}#sk-container-id-4 div.sk-serial {display: flex;flex-direction: column;align-items: center;background-color: white;padding-right: 0.2em;padding-left: 0.2em;position: relative;}#sk-container-id-4 div.sk-item {position: relative;z-index: 1;}#sk-container-id-4 div.sk-parallel {display: flex;align-items: stretch;justify-content: center;background-color: white;position: relative;}#sk-container-id-4 div.sk-item::before, #sk-container-id-4 div.sk-parallel-item::before {content: \"\";position: absolute;border-left: 1px solid gray;box-sizing: border-box;top: 0;bottom: 0;left: 50%;z-index: -1;}#sk-container-id-4 div.sk-parallel-item {display: flex;flex-direction: column;z-index: 1;position: relative;background-color: white;}#sk-container-id-4 div.sk-parallel-item:first-child::after {align-self: flex-end;width: 50%;}#sk-container-id-4 div.sk-parallel-item:last-child::after {align-self: flex-start;width: 50%;}#sk-container-id-4 div.sk-parallel-item:only-child::after {width: 0;}#sk-container-id-4 div.sk-dashed-wrapped {border: 1px dashed gray;margin: 0 0.4em 0.5em 0.4em;box-sizing: border-box;padding-bottom: 0.4em;background-color: white;}#sk-container-id-4 div.sk-label label {font-family: monospace;font-weight: bold;display: inline-block;line-height: 1.2em;}#sk-container-id-4 div.sk-label-container {text-align: center;}#sk-container-id-4 div.sk-container {/* jupyter's `normalize.less` sets `[hidden] { display: none; }` but bootstrap.min.css set `[hidden] { display: none !important; }` so we also need the `!important` here to be able to override the default hidden behavior on the sphinx rendered scikit-learn.org. See: https://github.com/scikit-learn/scikit-learn/issues/21755 */display: inline-block !important;position: relative;}#sk-container-id-4 div.sk-text-repr-fallback {display: none;}</style><div id=\"sk-container-id-4\" class=\"sk-top-container\"><div class=\"sk-text-repr-fallback\"><pre>Pipeline(steps=[(&#x27;columntransformer&#x27;,\n",
       "                 ColumnTransformer(transformers=[(&#x27;num_pip&#x27;,\n",
       "                                                  Pipeline(steps=[(&#x27;simpleimputer&#x27;,\n",
       "                                                                   SimpleImputer()),\n",
       "                                                                  (&#x27;robustscaler&#x27;,\n",
       "                                                                   RobustScaler())]),\n",
       "                                                  [&#x27;P_2&#x27;, &#x27;D_39&#x27;, &#x27;B_2&#x27;, &#x27;R_1&#x27;,\n",
       "                                                   &#x27;S_3&#x27;, &#x27;D_41&#x27;, &#x27;B_3&#x27;, &#x27;D_42&#x27;,\n",
       "                                                   &#x27;D_43&#x27;, &#x27;D_44&#x27;, &#x27;B_4&#x27;,\n",
       "                                                   &#x27;D_45&#x27;, &#x27;B_5&#x27;, &#x27;R_2&#x27;, &#x27;D_46&#x27;,\n",
       "                                                   &#x27;D_47&#x27;, &#x27;D_48&#x27;, &#x27;D_49&#x27;,\n",
       "                                                   &#x27;B_6&#x27;, &#x27;B_8&#x27;, &#x27;D_50&#x27;, &#x27;D_51&#x27;,\n",
       "                                                   &#x27;B_9&#x27;, &#x27;R_3&#x27;, &#x27;D_52&#x27;, &#x27;P_3&#x27;,\n",
       "                                                   &#x27;B_10&#x27;, &#x27;D_53&#x27;, &#x27;S_5&#x27;, &#x27;S_6&#x27;, ...]),\n",
       "                                                 (&#x27;cat_pip&#x27;,\n",
       "                                                  Pipeline(steps=[(&#x27;simpleimputer&#x27;,\n",
       "                                                                   SimpleImputer(strategy=&#x27;most_frequent&#x27;)),\n",
       "                                                                  (&#x27;onehotencoder&#x27;,\n",
       "                                                                   OneHotEncoder(handle_unknown=&#x27;ignore&#x27;,\n",
       "                                                                                 sparse=False))]),\n",
       "                                                  [&#x27;B_30&#x27;, &#x27;B_38&#x27;, &#x27;D_114&#x27;,\n",
       "                                                   &#x27;D_116&#x27;, &#x27;D_117&#x27;, &#x27;D_120&#x27;,\n",
       "                                                   &#x27;D_126&#x27;, &#x27;D_63&#x27;, &#x27;D_64&#x27;,\n",
       "                                                   &#x27;D_68&#x27;])])),\n",
       "                (&#x27;logisticregression&#x27;, LogisticRegression())])</pre><b>In a Jupyter environment, please rerun this cell to show the HTML representation or trust the notebook. <br />On GitHub, the HTML representation is unable to render, please try loading this page with nbviewer.org.</b></div><div class=\"sk-container\" hidden><div class=\"sk-item sk-dashed-wrapped\"><div class=\"sk-label-container\"><div class=\"sk-label sk-toggleable\"><input class=\"sk-toggleable__control sk-hidden--visually\" id=\"sk-estimator-id-22\" type=\"checkbox\" ><label for=\"sk-estimator-id-22\" class=\"sk-toggleable__label sk-toggleable__label-arrow\">Pipeline</label><div class=\"sk-toggleable__content\"><pre>Pipeline(steps=[(&#x27;columntransformer&#x27;,\n",
       "                 ColumnTransformer(transformers=[(&#x27;num_pip&#x27;,\n",
       "                                                  Pipeline(steps=[(&#x27;simpleimputer&#x27;,\n",
       "                                                                   SimpleImputer()),\n",
       "                                                                  (&#x27;robustscaler&#x27;,\n",
       "                                                                   RobustScaler())]),\n",
       "                                                  [&#x27;P_2&#x27;, &#x27;D_39&#x27;, &#x27;B_2&#x27;, &#x27;R_1&#x27;,\n",
       "                                                   &#x27;S_3&#x27;, &#x27;D_41&#x27;, &#x27;B_3&#x27;, &#x27;D_42&#x27;,\n",
       "                                                   &#x27;D_43&#x27;, &#x27;D_44&#x27;, &#x27;B_4&#x27;,\n",
       "                                                   &#x27;D_45&#x27;, &#x27;B_5&#x27;, &#x27;R_2&#x27;, &#x27;D_46&#x27;,\n",
       "                                                   &#x27;D_47&#x27;, &#x27;D_48&#x27;, &#x27;D_49&#x27;,\n",
       "                                                   &#x27;B_6&#x27;, &#x27;B_8&#x27;, &#x27;D_50&#x27;, &#x27;D_51&#x27;,\n",
       "                                                   &#x27;B_9&#x27;, &#x27;R_3&#x27;, &#x27;D_52&#x27;, &#x27;P_3&#x27;,\n",
       "                                                   &#x27;B_10&#x27;, &#x27;D_53&#x27;, &#x27;S_5&#x27;, &#x27;S_6&#x27;, ...]),\n",
       "                                                 (&#x27;cat_pip&#x27;,\n",
       "                                                  Pipeline(steps=[(&#x27;simpleimputer&#x27;,\n",
       "                                                                   SimpleImputer(strategy=&#x27;most_frequent&#x27;)),\n",
       "                                                                  (&#x27;onehotencoder&#x27;,\n",
       "                                                                   OneHotEncoder(handle_unknown=&#x27;ignore&#x27;,\n",
       "                                                                                 sparse=False))]),\n",
       "                                                  [&#x27;B_30&#x27;, &#x27;B_38&#x27;, &#x27;D_114&#x27;,\n",
       "                                                   &#x27;D_116&#x27;, &#x27;D_117&#x27;, &#x27;D_120&#x27;,\n",
       "                                                   &#x27;D_126&#x27;, &#x27;D_63&#x27;, &#x27;D_64&#x27;,\n",
       "                                                   &#x27;D_68&#x27;])])),\n",
       "                (&#x27;logisticregression&#x27;, LogisticRegression())])</pre></div></div></div><div class=\"sk-serial\"><div class=\"sk-item sk-dashed-wrapped\"><div class=\"sk-label-container\"><div class=\"sk-label sk-toggleable\"><input class=\"sk-toggleable__control sk-hidden--visually\" id=\"sk-estimator-id-23\" type=\"checkbox\" ><label for=\"sk-estimator-id-23\" class=\"sk-toggleable__label sk-toggleable__label-arrow\">columntransformer: ColumnTransformer</label><div class=\"sk-toggleable__content\"><pre>ColumnTransformer(transformers=[(&#x27;num_pip&#x27;,\n",
       "                                 Pipeline(steps=[(&#x27;simpleimputer&#x27;,\n",
       "                                                  SimpleImputer()),\n",
       "                                                 (&#x27;robustscaler&#x27;,\n",
       "                                                  RobustScaler())]),\n",
       "                                 [&#x27;P_2&#x27;, &#x27;D_39&#x27;, &#x27;B_2&#x27;, &#x27;R_1&#x27;, &#x27;S_3&#x27;, &#x27;D_41&#x27;,\n",
       "                                  &#x27;B_3&#x27;, &#x27;D_42&#x27;, &#x27;D_43&#x27;, &#x27;D_44&#x27;, &#x27;B_4&#x27;, &#x27;D_45&#x27;,\n",
       "                                  &#x27;B_5&#x27;, &#x27;R_2&#x27;, &#x27;D_46&#x27;, &#x27;D_47&#x27;, &#x27;D_48&#x27;, &#x27;D_49&#x27;,\n",
       "                                  &#x27;B_6&#x27;, &#x27;B_8&#x27;, &#x27;D_50&#x27;, &#x27;D_51&#x27;, &#x27;B_9&#x27;, &#x27;R_3&#x27;,\n",
       "                                  &#x27;D_52&#x27;, &#x27;P_3&#x27;, &#x27;B_10&#x27;, &#x27;D_53&#x27;, &#x27;S_5&#x27;, &#x27;S_6&#x27;, ...]),\n",
       "                                (&#x27;cat_pip&#x27;,\n",
       "                                 Pipeline(steps=[(&#x27;simpleimputer&#x27;,\n",
       "                                                  SimpleImputer(strategy=&#x27;most_frequent&#x27;)),\n",
       "                                                 (&#x27;onehotencoder&#x27;,\n",
       "                                                  OneHotEncoder(handle_unknown=&#x27;ignore&#x27;,\n",
       "                                                                sparse=False))]),\n",
       "                                 [&#x27;B_30&#x27;, &#x27;B_38&#x27;, &#x27;D_114&#x27;, &#x27;D_116&#x27;, &#x27;D_117&#x27;,\n",
       "                                  &#x27;D_120&#x27;, &#x27;D_126&#x27;, &#x27;D_63&#x27;, &#x27;D_64&#x27;, &#x27;D_68&#x27;])])</pre></div></div></div><div class=\"sk-parallel\"><div class=\"sk-parallel-item\"><div class=\"sk-item\"><div class=\"sk-label-container\"><div class=\"sk-label sk-toggleable\"><input class=\"sk-toggleable__control sk-hidden--visually\" id=\"sk-estimator-id-24\" type=\"checkbox\" ><label for=\"sk-estimator-id-24\" class=\"sk-toggleable__label sk-toggleable__label-arrow\">num_pip</label><div class=\"sk-toggleable__content\"><pre>[&#x27;P_2&#x27;, &#x27;D_39&#x27;, &#x27;B_2&#x27;, &#x27;R_1&#x27;, &#x27;S_3&#x27;, &#x27;D_41&#x27;, &#x27;B_3&#x27;, &#x27;D_42&#x27;, &#x27;D_43&#x27;, &#x27;D_44&#x27;, &#x27;B_4&#x27;, &#x27;D_45&#x27;, &#x27;B_5&#x27;, &#x27;R_2&#x27;, &#x27;D_46&#x27;, &#x27;D_47&#x27;, &#x27;D_48&#x27;, &#x27;D_49&#x27;, &#x27;B_6&#x27;, &#x27;B_8&#x27;, &#x27;D_50&#x27;, &#x27;D_51&#x27;, &#x27;B_9&#x27;, &#x27;R_3&#x27;, &#x27;D_52&#x27;, &#x27;P_3&#x27;, &#x27;B_10&#x27;, &#x27;D_53&#x27;, &#x27;S_5&#x27;, &#x27;S_6&#x27;, &#x27;D_54&#x27;, &#x27;R_4&#x27;, &#x27;S_7&#x27;, &#x27;B_12&#x27;, &#x27;S_8&#x27;, &#x27;D_55&#x27;, &#x27;D_56&#x27;, &#x27;B_13&#x27;, &#x27;R_5&#x27;, &#x27;D_58&#x27;, &#x27;S_9&#x27;, &#x27;B_14&#x27;, &#x27;D_59&#x27;, &#x27;D_60&#x27;, &#x27;D_61&#x27;, &#x27;B_15&#x27;, &#x27;S_11&#x27;, &#x27;D_62&#x27;, &#x27;D_65&#x27;, &#x27;B_16&#x27;, &#x27;B_17&#x27;, &#x27;B_18&#x27;, &#x27;B_19&#x27;, &#x27;B_20&#x27;, &#x27;S_12&#x27;, &#x27;R_6&#x27;, &#x27;S_13&#x27;, &#x27;B_21&#x27;, &#x27;D_69&#x27;, &#x27;B_22&#x27;, &#x27;D_70&#x27;, &#x27;D_71&#x27;, &#x27;D_72&#x27;, &#x27;S_15&#x27;, &#x27;B_23&#x27;, &#x27;P_4&#x27;, &#x27;D_74&#x27;, &#x27;B_24&#x27;, &#x27;R_7&#x27;, &#x27;B_25&#x27;, &#x27;B_26&#x27;, &#x27;D_78&#x27;, &#x27;D_79&#x27;, &#x27;R_8&#x27;, &#x27;S_16&#x27;, &#x27;D_80&#x27;, &#x27;R_10&#x27;, &#x27;R_11&#x27;, &#x27;B_27&#x27;, &#x27;D_81&#x27;, &#x27;D_82&#x27;, &#x27;S_17&#x27;, &#x27;R_12&#x27;, &#x27;B_28&#x27;, &#x27;R_13&#x27;, &#x27;D_83&#x27;, &#x27;R_14&#x27;, &#x27;R_15&#x27;, &#x27;D_84&#x27;, &#x27;R_16&#x27;, &#x27;S_18&#x27;, &#x27;D_86&#x27;, &#x27;R_17&#x27;, &#x27;R_18&#x27;, &#x27;B_31&#x27;, &#x27;S_19&#x27;, &#x27;R_19&#x27;, &#x27;B_32&#x27;, &#x27;S_20&#x27;, &#x27;R_20&#x27;, &#x27;R_21&#x27;, &#x27;B_33&#x27;, &#x27;D_89&#x27;, &#x27;R_22&#x27;, &#x27;R_23&#x27;, &#x27;D_91&#x27;, &#x27;D_92&#x27;, &#x27;D_93&#x27;, &#x27;D_94&#x27;, &#x27;R_24&#x27;, &#x27;R_25&#x27;, &#x27;D_96&#x27;, &#x27;S_22&#x27;, &#x27;S_23&#x27;, &#x27;S_25&#x27;, &#x27;S_26&#x27;, &#x27;D_102&#x27;, &#x27;D_104&#x27;, &#x27;D_105&#x27;, &#x27;D_106&#x27;, &#x27;D_107&#x27;, &#x27;B_36&#x27;, &#x27;R_26&#x27;, &#x27;R_27&#x27;, &#x27;D_109&#x27;, &#x27;D_112&#x27;, &#x27;B_40&#x27;, &#x27;S_27&#x27;, &#x27;D_113&#x27;, &#x27;D_115&#x27;, &#x27;D_119&#x27;, &#x27;D_121&#x27;, &#x27;D_122&#x27;, &#x27;D_123&#x27;, &#x27;D_124&#x27;, &#x27;D_125&#x27;, &#x27;D_127&#x27;, &#x27;D_128&#x27;, &#x27;D_129&#x27;, &#x27;B_41&#x27;, &#x27;D_130&#x27;, &#x27;D_131&#x27;, &#x27;D_132&#x27;, &#x27;D_133&#x27;, &#x27;R_28&#x27;, &#x27;D_139&#x27;, &#x27;D_140&#x27;, &#x27;D_142&#x27;, &#x27;D_144&#x27;, &#x27;D_145&#x27;]</pre></div></div></div><div class=\"sk-serial\"><div class=\"sk-item\"><div class=\"sk-serial\"><div class=\"sk-item\"><div class=\"sk-estimator sk-toggleable\"><input class=\"sk-toggleable__control sk-hidden--visually\" id=\"sk-estimator-id-25\" type=\"checkbox\" ><label for=\"sk-estimator-id-25\" class=\"sk-toggleable__label sk-toggleable__label-arrow\">SimpleImputer</label><div class=\"sk-toggleable__content\"><pre>SimpleImputer()</pre></div></div></div><div class=\"sk-item\"><div class=\"sk-estimator sk-toggleable\"><input class=\"sk-toggleable__control sk-hidden--visually\" id=\"sk-estimator-id-26\" type=\"checkbox\" ><label for=\"sk-estimator-id-26\" class=\"sk-toggleable__label sk-toggleable__label-arrow\">RobustScaler</label><div class=\"sk-toggleable__content\"><pre>RobustScaler()</pre></div></div></div></div></div></div></div></div><div class=\"sk-parallel-item\"><div class=\"sk-item\"><div class=\"sk-label-container\"><div class=\"sk-label sk-toggleable\"><input class=\"sk-toggleable__control sk-hidden--visually\" id=\"sk-estimator-id-27\" type=\"checkbox\" ><label for=\"sk-estimator-id-27\" class=\"sk-toggleable__label sk-toggleable__label-arrow\">cat_pip</label><div class=\"sk-toggleable__content\"><pre>[&#x27;B_30&#x27;, &#x27;B_38&#x27;, &#x27;D_114&#x27;, &#x27;D_116&#x27;, &#x27;D_117&#x27;, &#x27;D_120&#x27;, &#x27;D_126&#x27;, &#x27;D_63&#x27;, &#x27;D_64&#x27;, &#x27;D_68&#x27;]</pre></div></div></div><div class=\"sk-serial\"><div class=\"sk-item\"><div class=\"sk-serial\"><div class=\"sk-item\"><div class=\"sk-estimator sk-toggleable\"><input class=\"sk-toggleable__control sk-hidden--visually\" id=\"sk-estimator-id-28\" type=\"checkbox\" ><label for=\"sk-estimator-id-28\" class=\"sk-toggleable__label sk-toggleable__label-arrow\">SimpleImputer</label><div class=\"sk-toggleable__content\"><pre>SimpleImputer(strategy=&#x27;most_frequent&#x27;)</pre></div></div></div><div class=\"sk-item\"><div class=\"sk-estimator sk-toggleable\"><input class=\"sk-toggleable__control sk-hidden--visually\" id=\"sk-estimator-id-29\" type=\"checkbox\" ><label for=\"sk-estimator-id-29\" class=\"sk-toggleable__label sk-toggleable__label-arrow\">OneHotEncoder</label><div class=\"sk-toggleable__content\"><pre>OneHotEncoder(handle_unknown=&#x27;ignore&#x27;, sparse=False)</pre></div></div></div></div></div></div></div></div></div></div><div class=\"sk-item\"><div class=\"sk-estimator sk-toggleable\"><input class=\"sk-toggleable__control sk-hidden--visually\" id=\"sk-estimator-id-30\" type=\"checkbox\" ><label for=\"sk-estimator-id-30\" class=\"sk-toggleable__label sk-toggleable__label-arrow\">LogisticRegression</label><div class=\"sk-toggleable__content\"><pre>LogisticRegression()</pre></div></div></div></div></div></div></div>"
      ],
      "text/plain": [
       "Pipeline(steps=[('columntransformer',\n",
       "                 ColumnTransformer(transformers=[('num_pip',\n",
       "                                                  Pipeline(steps=[('simpleimputer',\n",
       "                                                                   SimpleImputer()),\n",
       "                                                                  ('robustscaler',\n",
       "                                                                   RobustScaler())]),\n",
       "                                                  ['P_2', 'D_39', 'B_2', 'R_1',\n",
       "                                                   'S_3', 'D_41', 'B_3', 'D_42',\n",
       "                                                   'D_43', 'D_44', 'B_4',\n",
       "                                                   'D_45', 'B_5', 'R_2', 'D_46',\n",
       "                                                   'D_47', 'D_48', 'D_49',\n",
       "                                                   'B_6', 'B_8', 'D_50', 'D_51',\n",
       "                                                   'B_9', 'R_3', 'D_52', 'P_3',\n",
       "                                                   'B_10', 'D_53', 'S_5', 'S_6', ...]),\n",
       "                                                 ('cat_pip',\n",
       "                                                  Pipeline(steps=[('simpleimputer',\n",
       "                                                                   SimpleImputer(strategy='most_frequent')),\n",
       "                                                                  ('onehotencoder',\n",
       "                                                                   OneHotEncoder(handle_unknown='ignore',\n",
       "                                                                                 sparse=False))]),\n",
       "                                                  ['B_30', 'B_38', 'D_114',\n",
       "                                                   'D_116', 'D_117', 'D_120',\n",
       "                                                   'D_126', 'D_63', 'D_64',\n",
       "                                                   'D_68'])])),\n",
       "                ('logisticregression', LogisticRegression())])"
      ]
     },
     "execution_count": 114,
     "metadata": {},
     "output_type": "execute_result"
    }
   ],
   "source": [
    "pp_pred_pipe"
   ]
  },
  {
   "cell_type": "code",
   "execution_count": 115,
   "id": "12e857c1-8c74-4576-b37a-d65d35051214",
   "metadata": {},
   "outputs": [
    {
     "name": "stderr",
     "output_type": "stream",
     "text": [
      "/home/slawa/.pyenv/versions/3.8.12/envs/amex_default_pred/lib/python3.8/site-packages/sklearn/linear_model/_logistic.py:444: ConvergenceWarning: lbfgs failed to converge (status=1):\n",
      "STOP: TOTAL NO. of ITERATIONS REACHED LIMIT.\n",
      "\n",
      "Increase the number of iterations (max_iter) or scale the data as shown in:\n",
      "    https://scikit-learn.org/stable/modules/preprocessing.html\n",
      "Please also refer to the documentation for alternative solver options:\n",
      "    https://scikit-learn.org/stable/modules/linear_model.html#logistic-regression\n",
      "  n_iter_i = _check_optimize_result(\n"
     ]
    },
    {
     "data": {
      "text/html": [
       "<style>#sk-container-id-5 {color: black;background-color: white;}#sk-container-id-5 pre{padding: 0;}#sk-container-id-5 div.sk-toggleable {background-color: white;}#sk-container-id-5 label.sk-toggleable__label {cursor: pointer;display: block;width: 100%;margin-bottom: 0;padding: 0.3em;box-sizing: border-box;text-align: center;}#sk-container-id-5 label.sk-toggleable__label-arrow:before {content: \"▸\";float: left;margin-right: 0.25em;color: #696969;}#sk-container-id-5 label.sk-toggleable__label-arrow:hover:before {color: black;}#sk-container-id-5 div.sk-estimator:hover label.sk-toggleable__label-arrow:before {color: black;}#sk-container-id-5 div.sk-toggleable__content {max-height: 0;max-width: 0;overflow: hidden;text-align: left;background-color: #f0f8ff;}#sk-container-id-5 div.sk-toggleable__content pre {margin: 0.2em;color: black;border-radius: 0.25em;background-color: #f0f8ff;}#sk-container-id-5 input.sk-toggleable__control:checked~div.sk-toggleable__content {max-height: 200px;max-width: 100%;overflow: auto;}#sk-container-id-5 input.sk-toggleable__control:checked~label.sk-toggleable__label-arrow:before {content: \"▾\";}#sk-container-id-5 div.sk-estimator input.sk-toggleable__control:checked~label.sk-toggleable__label {background-color: #d4ebff;}#sk-container-id-5 div.sk-label input.sk-toggleable__control:checked~label.sk-toggleable__label {background-color: #d4ebff;}#sk-container-id-5 input.sk-hidden--visually {border: 0;clip: rect(1px 1px 1px 1px);clip: rect(1px, 1px, 1px, 1px);height: 1px;margin: -1px;overflow: hidden;padding: 0;position: absolute;width: 1px;}#sk-container-id-5 div.sk-estimator {font-family: monospace;background-color: #f0f8ff;border: 1px dotted black;border-radius: 0.25em;box-sizing: border-box;margin-bottom: 0.5em;}#sk-container-id-5 div.sk-estimator:hover {background-color: #d4ebff;}#sk-container-id-5 div.sk-parallel-item::after {content: \"\";width: 100%;border-bottom: 1px solid gray;flex-grow: 1;}#sk-container-id-5 div.sk-label:hover label.sk-toggleable__label {background-color: #d4ebff;}#sk-container-id-5 div.sk-serial::before {content: \"\";position: absolute;border-left: 1px solid gray;box-sizing: border-box;top: 0;bottom: 0;left: 50%;z-index: 0;}#sk-container-id-5 div.sk-serial {display: flex;flex-direction: column;align-items: center;background-color: white;padding-right: 0.2em;padding-left: 0.2em;position: relative;}#sk-container-id-5 div.sk-item {position: relative;z-index: 1;}#sk-container-id-5 div.sk-parallel {display: flex;align-items: stretch;justify-content: center;background-color: white;position: relative;}#sk-container-id-5 div.sk-item::before, #sk-container-id-5 div.sk-parallel-item::before {content: \"\";position: absolute;border-left: 1px solid gray;box-sizing: border-box;top: 0;bottom: 0;left: 50%;z-index: -1;}#sk-container-id-5 div.sk-parallel-item {display: flex;flex-direction: column;z-index: 1;position: relative;background-color: white;}#sk-container-id-5 div.sk-parallel-item:first-child::after {align-self: flex-end;width: 50%;}#sk-container-id-5 div.sk-parallel-item:last-child::after {align-self: flex-start;width: 50%;}#sk-container-id-5 div.sk-parallel-item:only-child::after {width: 0;}#sk-container-id-5 div.sk-dashed-wrapped {border: 1px dashed gray;margin: 0 0.4em 0.5em 0.4em;box-sizing: border-box;padding-bottom: 0.4em;background-color: white;}#sk-container-id-5 div.sk-label label {font-family: monospace;font-weight: bold;display: inline-block;line-height: 1.2em;}#sk-container-id-5 div.sk-label-container {text-align: center;}#sk-container-id-5 div.sk-container {/* jupyter's `normalize.less` sets `[hidden] { display: none; }` but bootstrap.min.css set `[hidden] { display: none !important; }` so we also need the `!important` here to be able to override the default hidden behavior on the sphinx rendered scikit-learn.org. See: https://github.com/scikit-learn/scikit-learn/issues/21755 */display: inline-block !important;position: relative;}#sk-container-id-5 div.sk-text-repr-fallback {display: none;}</style><div id=\"sk-container-id-5\" class=\"sk-top-container\"><div class=\"sk-text-repr-fallback\"><pre>Pipeline(steps=[(&#x27;columntransformer&#x27;,\n",
       "                 ColumnTransformer(transformers=[(&#x27;num_pip&#x27;,\n",
       "                                                  Pipeline(steps=[(&#x27;simpleimputer&#x27;,\n",
       "                                                                   SimpleImputer()),\n",
       "                                                                  (&#x27;robustscaler&#x27;,\n",
       "                                                                   RobustScaler())]),\n",
       "                                                  [&#x27;P_2&#x27;, &#x27;D_39&#x27;, &#x27;B_2&#x27;, &#x27;R_1&#x27;,\n",
       "                                                   &#x27;S_3&#x27;, &#x27;D_41&#x27;, &#x27;B_3&#x27;, &#x27;D_42&#x27;,\n",
       "                                                   &#x27;D_43&#x27;, &#x27;D_44&#x27;, &#x27;B_4&#x27;,\n",
       "                                                   &#x27;D_45&#x27;, &#x27;B_5&#x27;, &#x27;R_2&#x27;, &#x27;D_46&#x27;,\n",
       "                                                   &#x27;D_47&#x27;, &#x27;D_48&#x27;, &#x27;D_49&#x27;,\n",
       "                                                   &#x27;B_6&#x27;, &#x27;B_8&#x27;, &#x27;D_50&#x27;, &#x27;D_51&#x27;,\n",
       "                                                   &#x27;B_9&#x27;, &#x27;R_3&#x27;, &#x27;D_52&#x27;, &#x27;P_3&#x27;,\n",
       "                                                   &#x27;B_10&#x27;, &#x27;D_53&#x27;, &#x27;S_5&#x27;, &#x27;S_6&#x27;, ...]),\n",
       "                                                 (&#x27;cat_pip&#x27;,\n",
       "                                                  Pipeline(steps=[(&#x27;simpleimputer&#x27;,\n",
       "                                                                   SimpleImputer(strategy=&#x27;most_frequent&#x27;)),\n",
       "                                                                  (&#x27;onehotencoder&#x27;,\n",
       "                                                                   OneHotEncoder(handle_unknown=&#x27;ignore&#x27;,\n",
       "                                                                                 sparse=False))]),\n",
       "                                                  [&#x27;B_30&#x27;, &#x27;B_38&#x27;, &#x27;D_114&#x27;,\n",
       "                                                   &#x27;D_116&#x27;, &#x27;D_117&#x27;, &#x27;D_120&#x27;,\n",
       "                                                   &#x27;D_126&#x27;, &#x27;D_63&#x27;, &#x27;D_64&#x27;,\n",
       "                                                   &#x27;D_68&#x27;])])),\n",
       "                (&#x27;logisticregression&#x27;, LogisticRegression())])</pre><b>In a Jupyter environment, please rerun this cell to show the HTML representation or trust the notebook. <br />On GitHub, the HTML representation is unable to render, please try loading this page with nbviewer.org.</b></div><div class=\"sk-container\" hidden><div class=\"sk-item sk-dashed-wrapped\"><div class=\"sk-label-container\"><div class=\"sk-label sk-toggleable\"><input class=\"sk-toggleable__control sk-hidden--visually\" id=\"sk-estimator-id-31\" type=\"checkbox\" ><label for=\"sk-estimator-id-31\" class=\"sk-toggleable__label sk-toggleable__label-arrow\">Pipeline</label><div class=\"sk-toggleable__content\"><pre>Pipeline(steps=[(&#x27;columntransformer&#x27;,\n",
       "                 ColumnTransformer(transformers=[(&#x27;num_pip&#x27;,\n",
       "                                                  Pipeline(steps=[(&#x27;simpleimputer&#x27;,\n",
       "                                                                   SimpleImputer()),\n",
       "                                                                  (&#x27;robustscaler&#x27;,\n",
       "                                                                   RobustScaler())]),\n",
       "                                                  [&#x27;P_2&#x27;, &#x27;D_39&#x27;, &#x27;B_2&#x27;, &#x27;R_1&#x27;,\n",
       "                                                   &#x27;S_3&#x27;, &#x27;D_41&#x27;, &#x27;B_3&#x27;, &#x27;D_42&#x27;,\n",
       "                                                   &#x27;D_43&#x27;, &#x27;D_44&#x27;, &#x27;B_4&#x27;,\n",
       "                                                   &#x27;D_45&#x27;, &#x27;B_5&#x27;, &#x27;R_2&#x27;, &#x27;D_46&#x27;,\n",
       "                                                   &#x27;D_47&#x27;, &#x27;D_48&#x27;, &#x27;D_49&#x27;,\n",
       "                                                   &#x27;B_6&#x27;, &#x27;B_8&#x27;, &#x27;D_50&#x27;, &#x27;D_51&#x27;,\n",
       "                                                   &#x27;B_9&#x27;, &#x27;R_3&#x27;, &#x27;D_52&#x27;, &#x27;P_3&#x27;,\n",
       "                                                   &#x27;B_10&#x27;, &#x27;D_53&#x27;, &#x27;S_5&#x27;, &#x27;S_6&#x27;, ...]),\n",
       "                                                 (&#x27;cat_pip&#x27;,\n",
       "                                                  Pipeline(steps=[(&#x27;simpleimputer&#x27;,\n",
       "                                                                   SimpleImputer(strategy=&#x27;most_frequent&#x27;)),\n",
       "                                                                  (&#x27;onehotencoder&#x27;,\n",
       "                                                                   OneHotEncoder(handle_unknown=&#x27;ignore&#x27;,\n",
       "                                                                                 sparse=False))]),\n",
       "                                                  [&#x27;B_30&#x27;, &#x27;B_38&#x27;, &#x27;D_114&#x27;,\n",
       "                                                   &#x27;D_116&#x27;, &#x27;D_117&#x27;, &#x27;D_120&#x27;,\n",
       "                                                   &#x27;D_126&#x27;, &#x27;D_63&#x27;, &#x27;D_64&#x27;,\n",
       "                                                   &#x27;D_68&#x27;])])),\n",
       "                (&#x27;logisticregression&#x27;, LogisticRegression())])</pre></div></div></div><div class=\"sk-serial\"><div class=\"sk-item sk-dashed-wrapped\"><div class=\"sk-label-container\"><div class=\"sk-label sk-toggleable\"><input class=\"sk-toggleable__control sk-hidden--visually\" id=\"sk-estimator-id-32\" type=\"checkbox\" ><label for=\"sk-estimator-id-32\" class=\"sk-toggleable__label sk-toggleable__label-arrow\">columntransformer: ColumnTransformer</label><div class=\"sk-toggleable__content\"><pre>ColumnTransformer(transformers=[(&#x27;num_pip&#x27;,\n",
       "                                 Pipeline(steps=[(&#x27;simpleimputer&#x27;,\n",
       "                                                  SimpleImputer()),\n",
       "                                                 (&#x27;robustscaler&#x27;,\n",
       "                                                  RobustScaler())]),\n",
       "                                 [&#x27;P_2&#x27;, &#x27;D_39&#x27;, &#x27;B_2&#x27;, &#x27;R_1&#x27;, &#x27;S_3&#x27;, &#x27;D_41&#x27;,\n",
       "                                  &#x27;B_3&#x27;, &#x27;D_42&#x27;, &#x27;D_43&#x27;, &#x27;D_44&#x27;, &#x27;B_4&#x27;, &#x27;D_45&#x27;,\n",
       "                                  &#x27;B_5&#x27;, &#x27;R_2&#x27;, &#x27;D_46&#x27;, &#x27;D_47&#x27;, &#x27;D_48&#x27;, &#x27;D_49&#x27;,\n",
       "                                  &#x27;B_6&#x27;, &#x27;B_8&#x27;, &#x27;D_50&#x27;, &#x27;D_51&#x27;, &#x27;B_9&#x27;, &#x27;R_3&#x27;,\n",
       "                                  &#x27;D_52&#x27;, &#x27;P_3&#x27;, &#x27;B_10&#x27;, &#x27;D_53&#x27;, &#x27;S_5&#x27;, &#x27;S_6&#x27;, ...]),\n",
       "                                (&#x27;cat_pip&#x27;,\n",
       "                                 Pipeline(steps=[(&#x27;simpleimputer&#x27;,\n",
       "                                                  SimpleImputer(strategy=&#x27;most_frequent&#x27;)),\n",
       "                                                 (&#x27;onehotencoder&#x27;,\n",
       "                                                  OneHotEncoder(handle_unknown=&#x27;ignore&#x27;,\n",
       "                                                                sparse=False))]),\n",
       "                                 [&#x27;B_30&#x27;, &#x27;B_38&#x27;, &#x27;D_114&#x27;, &#x27;D_116&#x27;, &#x27;D_117&#x27;,\n",
       "                                  &#x27;D_120&#x27;, &#x27;D_126&#x27;, &#x27;D_63&#x27;, &#x27;D_64&#x27;, &#x27;D_68&#x27;])])</pre></div></div></div><div class=\"sk-parallel\"><div class=\"sk-parallel-item\"><div class=\"sk-item\"><div class=\"sk-label-container\"><div class=\"sk-label sk-toggleable\"><input class=\"sk-toggleable__control sk-hidden--visually\" id=\"sk-estimator-id-33\" type=\"checkbox\" ><label for=\"sk-estimator-id-33\" class=\"sk-toggleable__label sk-toggleable__label-arrow\">num_pip</label><div class=\"sk-toggleable__content\"><pre>[&#x27;P_2&#x27;, &#x27;D_39&#x27;, &#x27;B_2&#x27;, &#x27;R_1&#x27;, &#x27;S_3&#x27;, &#x27;D_41&#x27;, &#x27;B_3&#x27;, &#x27;D_42&#x27;, &#x27;D_43&#x27;, &#x27;D_44&#x27;, &#x27;B_4&#x27;, &#x27;D_45&#x27;, &#x27;B_5&#x27;, &#x27;R_2&#x27;, &#x27;D_46&#x27;, &#x27;D_47&#x27;, &#x27;D_48&#x27;, &#x27;D_49&#x27;, &#x27;B_6&#x27;, &#x27;B_8&#x27;, &#x27;D_50&#x27;, &#x27;D_51&#x27;, &#x27;B_9&#x27;, &#x27;R_3&#x27;, &#x27;D_52&#x27;, &#x27;P_3&#x27;, &#x27;B_10&#x27;, &#x27;D_53&#x27;, &#x27;S_5&#x27;, &#x27;S_6&#x27;, &#x27;D_54&#x27;, &#x27;R_4&#x27;, &#x27;S_7&#x27;, &#x27;B_12&#x27;, &#x27;S_8&#x27;, &#x27;D_55&#x27;, &#x27;D_56&#x27;, &#x27;B_13&#x27;, &#x27;R_5&#x27;, &#x27;D_58&#x27;, &#x27;S_9&#x27;, &#x27;B_14&#x27;, &#x27;D_59&#x27;, &#x27;D_60&#x27;, &#x27;D_61&#x27;, &#x27;B_15&#x27;, &#x27;S_11&#x27;, &#x27;D_62&#x27;, &#x27;D_65&#x27;, &#x27;B_16&#x27;, &#x27;B_17&#x27;, &#x27;B_18&#x27;, &#x27;B_19&#x27;, &#x27;B_20&#x27;, &#x27;S_12&#x27;, &#x27;R_6&#x27;, &#x27;S_13&#x27;, &#x27;B_21&#x27;, &#x27;D_69&#x27;, &#x27;B_22&#x27;, &#x27;D_70&#x27;, &#x27;D_71&#x27;, &#x27;D_72&#x27;, &#x27;S_15&#x27;, &#x27;B_23&#x27;, &#x27;P_4&#x27;, &#x27;D_74&#x27;, &#x27;B_24&#x27;, &#x27;R_7&#x27;, &#x27;B_25&#x27;, &#x27;B_26&#x27;, &#x27;D_78&#x27;, &#x27;D_79&#x27;, &#x27;R_8&#x27;, &#x27;S_16&#x27;, &#x27;D_80&#x27;, &#x27;R_10&#x27;, &#x27;R_11&#x27;, &#x27;B_27&#x27;, &#x27;D_81&#x27;, &#x27;D_82&#x27;, &#x27;S_17&#x27;, &#x27;R_12&#x27;, &#x27;B_28&#x27;, &#x27;R_13&#x27;, &#x27;D_83&#x27;, &#x27;R_14&#x27;, &#x27;R_15&#x27;, &#x27;D_84&#x27;, &#x27;R_16&#x27;, &#x27;S_18&#x27;, &#x27;D_86&#x27;, &#x27;R_17&#x27;, &#x27;R_18&#x27;, &#x27;B_31&#x27;, &#x27;S_19&#x27;, &#x27;R_19&#x27;, &#x27;B_32&#x27;, &#x27;S_20&#x27;, &#x27;R_20&#x27;, &#x27;R_21&#x27;, &#x27;B_33&#x27;, &#x27;D_89&#x27;, &#x27;R_22&#x27;, &#x27;R_23&#x27;, &#x27;D_91&#x27;, &#x27;D_92&#x27;, &#x27;D_93&#x27;, &#x27;D_94&#x27;, &#x27;R_24&#x27;, &#x27;R_25&#x27;, &#x27;D_96&#x27;, &#x27;S_22&#x27;, &#x27;S_23&#x27;, &#x27;S_25&#x27;, &#x27;S_26&#x27;, &#x27;D_102&#x27;, &#x27;D_104&#x27;, &#x27;D_105&#x27;, &#x27;D_106&#x27;, &#x27;D_107&#x27;, &#x27;B_36&#x27;, &#x27;R_26&#x27;, &#x27;R_27&#x27;, &#x27;D_109&#x27;, &#x27;D_112&#x27;, &#x27;B_40&#x27;, &#x27;S_27&#x27;, &#x27;D_113&#x27;, &#x27;D_115&#x27;, &#x27;D_119&#x27;, &#x27;D_121&#x27;, &#x27;D_122&#x27;, &#x27;D_123&#x27;, &#x27;D_124&#x27;, &#x27;D_125&#x27;, &#x27;D_127&#x27;, &#x27;D_128&#x27;, &#x27;D_129&#x27;, &#x27;B_41&#x27;, &#x27;D_130&#x27;, &#x27;D_131&#x27;, &#x27;D_132&#x27;, &#x27;D_133&#x27;, &#x27;R_28&#x27;, &#x27;D_139&#x27;, &#x27;D_140&#x27;, &#x27;D_142&#x27;, &#x27;D_144&#x27;, &#x27;D_145&#x27;]</pre></div></div></div><div class=\"sk-serial\"><div class=\"sk-item\"><div class=\"sk-serial\"><div class=\"sk-item\"><div class=\"sk-estimator sk-toggleable\"><input class=\"sk-toggleable__control sk-hidden--visually\" id=\"sk-estimator-id-34\" type=\"checkbox\" ><label for=\"sk-estimator-id-34\" class=\"sk-toggleable__label sk-toggleable__label-arrow\">SimpleImputer</label><div class=\"sk-toggleable__content\"><pre>SimpleImputer()</pre></div></div></div><div class=\"sk-item\"><div class=\"sk-estimator sk-toggleable\"><input class=\"sk-toggleable__control sk-hidden--visually\" id=\"sk-estimator-id-35\" type=\"checkbox\" ><label for=\"sk-estimator-id-35\" class=\"sk-toggleable__label sk-toggleable__label-arrow\">RobustScaler</label><div class=\"sk-toggleable__content\"><pre>RobustScaler()</pre></div></div></div></div></div></div></div></div><div class=\"sk-parallel-item\"><div class=\"sk-item\"><div class=\"sk-label-container\"><div class=\"sk-label sk-toggleable\"><input class=\"sk-toggleable__control sk-hidden--visually\" id=\"sk-estimator-id-36\" type=\"checkbox\" ><label for=\"sk-estimator-id-36\" class=\"sk-toggleable__label sk-toggleable__label-arrow\">cat_pip</label><div class=\"sk-toggleable__content\"><pre>[&#x27;B_30&#x27;, &#x27;B_38&#x27;, &#x27;D_114&#x27;, &#x27;D_116&#x27;, &#x27;D_117&#x27;, &#x27;D_120&#x27;, &#x27;D_126&#x27;, &#x27;D_63&#x27;, &#x27;D_64&#x27;, &#x27;D_68&#x27;]</pre></div></div></div><div class=\"sk-serial\"><div class=\"sk-item\"><div class=\"sk-serial\"><div class=\"sk-item\"><div class=\"sk-estimator sk-toggleable\"><input class=\"sk-toggleable__control sk-hidden--visually\" id=\"sk-estimator-id-37\" type=\"checkbox\" ><label for=\"sk-estimator-id-37\" class=\"sk-toggleable__label sk-toggleable__label-arrow\">SimpleImputer</label><div class=\"sk-toggleable__content\"><pre>SimpleImputer(strategy=&#x27;most_frequent&#x27;)</pre></div></div></div><div class=\"sk-item\"><div class=\"sk-estimator sk-toggleable\"><input class=\"sk-toggleable__control sk-hidden--visually\" id=\"sk-estimator-id-38\" type=\"checkbox\" ><label for=\"sk-estimator-id-38\" class=\"sk-toggleable__label sk-toggleable__label-arrow\">OneHotEncoder</label><div class=\"sk-toggleable__content\"><pre>OneHotEncoder(handle_unknown=&#x27;ignore&#x27;, sparse=False)</pre></div></div></div></div></div></div></div></div></div></div><div class=\"sk-item\"><div class=\"sk-estimator sk-toggleable\"><input class=\"sk-toggleable__control sk-hidden--visually\" id=\"sk-estimator-id-39\" type=\"checkbox\" ><label for=\"sk-estimator-id-39\" class=\"sk-toggleable__label sk-toggleable__label-arrow\">LogisticRegression</label><div class=\"sk-toggleable__content\"><pre>LogisticRegression()</pre></div></div></div></div></div></div></div>"
      ],
      "text/plain": [
       "Pipeline(steps=[('columntransformer',\n",
       "                 ColumnTransformer(transformers=[('num_pip',\n",
       "                                                  Pipeline(steps=[('simpleimputer',\n",
       "                                                                   SimpleImputer()),\n",
       "                                                                  ('robustscaler',\n",
       "                                                                   RobustScaler())]),\n",
       "                                                  ['P_2', 'D_39', 'B_2', 'R_1',\n",
       "                                                   'S_3', 'D_41', 'B_3', 'D_42',\n",
       "                                                   'D_43', 'D_44', 'B_4',\n",
       "                                                   'D_45', 'B_5', 'R_2', 'D_46',\n",
       "                                                   'D_47', 'D_48', 'D_49',\n",
       "                                                   'B_6', 'B_8', 'D_50', 'D_51',\n",
       "                                                   'B_9', 'R_3', 'D_52', 'P_3',\n",
       "                                                   'B_10', 'D_53', 'S_5', 'S_6', ...]),\n",
       "                                                 ('cat_pip',\n",
       "                                                  Pipeline(steps=[('simpleimputer',\n",
       "                                                                   SimpleImputer(strategy='most_frequent')),\n",
       "                                                                  ('onehotencoder',\n",
       "                                                                   OneHotEncoder(handle_unknown='ignore',\n",
       "                                                                                 sparse=False))]),\n",
       "                                                  ['B_30', 'B_38', 'D_114',\n",
       "                                                   'D_116', 'D_117', 'D_120',\n",
       "                                                   'D_126', 'D_63', 'D_64',\n",
       "                                                   'D_68'])])),\n",
       "                ('logisticregression', LogisticRegression())])"
      ]
     },
     "execution_count": 115,
     "metadata": {},
     "output_type": "execute_result"
    }
   ],
   "source": [
    "pp_pred_pipe.fit(X, y)"
   ]
  },
  {
   "cell_type": "code",
   "execution_count": 116,
   "id": "1e2d5de2-7d9d-48cd-8a98-031c9dc7dd29",
   "metadata": {},
   "outputs": [],
   "source": [
    "import pickle"
   ]
  },
  {
   "cell_type": "code",
   "execution_count": 118,
   "id": "7892aac8-a17a-4843-8158-3786c59ba55c",
   "metadata": {},
   "outputs": [],
   "source": [
    "pickle.dump(pp_pred_pipe, open('pp_pred_pipe', 'wb'))"
   ]
  },
  {
   "cell_type": "code",
   "execution_count": 120,
   "id": "a746d61a-a8d1-4c0c-8020-76f74f0274cc",
   "metadata": {},
   "outputs": [],
   "source": [
    "#loaded_model = pickle.load(open('pp_pred_pipe', 'rb'))"
   ]
  },
  {
   "cell_type": "code",
   "execution_count": 121,
   "id": "2c9c1687-a35d-42d2-9404-84b985fac897",
   "metadata": {},
   "outputs": [
    {
     "data": {
      "text/html": [
       "<style>#sk-container-id-6 {color: black;background-color: white;}#sk-container-id-6 pre{padding: 0;}#sk-container-id-6 div.sk-toggleable {background-color: white;}#sk-container-id-6 label.sk-toggleable__label {cursor: pointer;display: block;width: 100%;margin-bottom: 0;padding: 0.3em;box-sizing: border-box;text-align: center;}#sk-container-id-6 label.sk-toggleable__label-arrow:before {content: \"▸\";float: left;margin-right: 0.25em;color: #696969;}#sk-container-id-6 label.sk-toggleable__label-arrow:hover:before {color: black;}#sk-container-id-6 div.sk-estimator:hover label.sk-toggleable__label-arrow:before {color: black;}#sk-container-id-6 div.sk-toggleable__content {max-height: 0;max-width: 0;overflow: hidden;text-align: left;background-color: #f0f8ff;}#sk-container-id-6 div.sk-toggleable__content pre {margin: 0.2em;color: black;border-radius: 0.25em;background-color: #f0f8ff;}#sk-container-id-6 input.sk-toggleable__control:checked~div.sk-toggleable__content {max-height: 200px;max-width: 100%;overflow: auto;}#sk-container-id-6 input.sk-toggleable__control:checked~label.sk-toggleable__label-arrow:before {content: \"▾\";}#sk-container-id-6 div.sk-estimator input.sk-toggleable__control:checked~label.sk-toggleable__label {background-color: #d4ebff;}#sk-container-id-6 div.sk-label input.sk-toggleable__control:checked~label.sk-toggleable__label {background-color: #d4ebff;}#sk-container-id-6 input.sk-hidden--visually {border: 0;clip: rect(1px 1px 1px 1px);clip: rect(1px, 1px, 1px, 1px);height: 1px;margin: -1px;overflow: hidden;padding: 0;position: absolute;width: 1px;}#sk-container-id-6 div.sk-estimator {font-family: monospace;background-color: #f0f8ff;border: 1px dotted black;border-radius: 0.25em;box-sizing: border-box;margin-bottom: 0.5em;}#sk-container-id-6 div.sk-estimator:hover {background-color: #d4ebff;}#sk-container-id-6 div.sk-parallel-item::after {content: \"\";width: 100%;border-bottom: 1px solid gray;flex-grow: 1;}#sk-container-id-6 div.sk-label:hover label.sk-toggleable__label {background-color: #d4ebff;}#sk-container-id-6 div.sk-serial::before {content: \"\";position: absolute;border-left: 1px solid gray;box-sizing: border-box;top: 0;bottom: 0;left: 50%;z-index: 0;}#sk-container-id-6 div.sk-serial {display: flex;flex-direction: column;align-items: center;background-color: white;padding-right: 0.2em;padding-left: 0.2em;position: relative;}#sk-container-id-6 div.sk-item {position: relative;z-index: 1;}#sk-container-id-6 div.sk-parallel {display: flex;align-items: stretch;justify-content: center;background-color: white;position: relative;}#sk-container-id-6 div.sk-item::before, #sk-container-id-6 div.sk-parallel-item::before {content: \"\";position: absolute;border-left: 1px solid gray;box-sizing: border-box;top: 0;bottom: 0;left: 50%;z-index: -1;}#sk-container-id-6 div.sk-parallel-item {display: flex;flex-direction: column;z-index: 1;position: relative;background-color: white;}#sk-container-id-6 div.sk-parallel-item:first-child::after {align-self: flex-end;width: 50%;}#sk-container-id-6 div.sk-parallel-item:last-child::after {align-self: flex-start;width: 50%;}#sk-container-id-6 div.sk-parallel-item:only-child::after {width: 0;}#sk-container-id-6 div.sk-dashed-wrapped {border: 1px dashed gray;margin: 0 0.4em 0.5em 0.4em;box-sizing: border-box;padding-bottom: 0.4em;background-color: white;}#sk-container-id-6 div.sk-label label {font-family: monospace;font-weight: bold;display: inline-block;line-height: 1.2em;}#sk-container-id-6 div.sk-label-container {text-align: center;}#sk-container-id-6 div.sk-container {/* jupyter's `normalize.less` sets `[hidden] { display: none; }` but bootstrap.min.css set `[hidden] { display: none !important; }` so we also need the `!important` here to be able to override the default hidden behavior on the sphinx rendered scikit-learn.org. See: https://github.com/scikit-learn/scikit-learn/issues/21755 */display: inline-block !important;position: relative;}#sk-container-id-6 div.sk-text-repr-fallback {display: none;}</style><div id=\"sk-container-id-6\" class=\"sk-top-container\"><div class=\"sk-text-repr-fallback\"><pre>Pipeline(steps=[(&#x27;columntransformer&#x27;,\n",
       "                 ColumnTransformer(transformers=[(&#x27;num_pip&#x27;,\n",
       "                                                  Pipeline(steps=[(&#x27;simpleimputer&#x27;,\n",
       "                                                                   SimpleImputer()),\n",
       "                                                                  (&#x27;robustscaler&#x27;,\n",
       "                                                                   RobustScaler())]),\n",
       "                                                  [&#x27;P_2&#x27;, &#x27;D_39&#x27;, &#x27;B_2&#x27;, &#x27;R_1&#x27;,\n",
       "                                                   &#x27;S_3&#x27;, &#x27;D_41&#x27;, &#x27;B_3&#x27;, &#x27;D_42&#x27;,\n",
       "                                                   &#x27;D_43&#x27;, &#x27;D_44&#x27;, &#x27;B_4&#x27;,\n",
       "                                                   &#x27;D_45&#x27;, &#x27;B_5&#x27;, &#x27;R_2&#x27;, &#x27;D_46&#x27;,\n",
       "                                                   &#x27;D_47&#x27;, &#x27;D_48&#x27;, &#x27;D_49&#x27;,\n",
       "                                                   &#x27;B_6&#x27;, &#x27;B_8&#x27;, &#x27;D_50&#x27;, &#x27;D_51&#x27;,\n",
       "                                                   &#x27;B_9&#x27;, &#x27;R_3&#x27;, &#x27;D_52&#x27;, &#x27;P_3&#x27;,\n",
       "                                                   &#x27;B_10&#x27;, &#x27;D_53&#x27;, &#x27;S_5&#x27;, &#x27;S_6&#x27;, ...]),\n",
       "                                                 (&#x27;cat_pip&#x27;,\n",
       "                                                  Pipeline(steps=[(&#x27;simpleimputer&#x27;,\n",
       "                                                                   SimpleImputer(strategy=&#x27;most_frequent&#x27;)),\n",
       "                                                                  (&#x27;onehotencoder&#x27;,\n",
       "                                                                   OneHotEncoder(handle_unknown=&#x27;ignore&#x27;,\n",
       "                                                                                 sparse=False))]),\n",
       "                                                  [&#x27;B_30&#x27;, &#x27;B_38&#x27;, &#x27;D_114&#x27;,\n",
       "                                                   &#x27;D_116&#x27;, &#x27;D_117&#x27;, &#x27;D_120&#x27;,\n",
       "                                                   &#x27;D_126&#x27;, &#x27;D_63&#x27;, &#x27;D_64&#x27;,\n",
       "                                                   &#x27;D_68&#x27;])])),\n",
       "                (&#x27;logisticregression&#x27;, LogisticRegression())])</pre><b>In a Jupyter environment, please rerun this cell to show the HTML representation or trust the notebook. <br />On GitHub, the HTML representation is unable to render, please try loading this page with nbviewer.org.</b></div><div class=\"sk-container\" hidden><div class=\"sk-item sk-dashed-wrapped\"><div class=\"sk-label-container\"><div class=\"sk-label sk-toggleable\"><input class=\"sk-toggleable__control sk-hidden--visually\" id=\"sk-estimator-id-40\" type=\"checkbox\" ><label for=\"sk-estimator-id-40\" class=\"sk-toggleable__label sk-toggleable__label-arrow\">Pipeline</label><div class=\"sk-toggleable__content\"><pre>Pipeline(steps=[(&#x27;columntransformer&#x27;,\n",
       "                 ColumnTransformer(transformers=[(&#x27;num_pip&#x27;,\n",
       "                                                  Pipeline(steps=[(&#x27;simpleimputer&#x27;,\n",
       "                                                                   SimpleImputer()),\n",
       "                                                                  (&#x27;robustscaler&#x27;,\n",
       "                                                                   RobustScaler())]),\n",
       "                                                  [&#x27;P_2&#x27;, &#x27;D_39&#x27;, &#x27;B_2&#x27;, &#x27;R_1&#x27;,\n",
       "                                                   &#x27;S_3&#x27;, &#x27;D_41&#x27;, &#x27;B_3&#x27;, &#x27;D_42&#x27;,\n",
       "                                                   &#x27;D_43&#x27;, &#x27;D_44&#x27;, &#x27;B_4&#x27;,\n",
       "                                                   &#x27;D_45&#x27;, &#x27;B_5&#x27;, &#x27;R_2&#x27;, &#x27;D_46&#x27;,\n",
       "                                                   &#x27;D_47&#x27;, &#x27;D_48&#x27;, &#x27;D_49&#x27;,\n",
       "                                                   &#x27;B_6&#x27;, &#x27;B_8&#x27;, &#x27;D_50&#x27;, &#x27;D_51&#x27;,\n",
       "                                                   &#x27;B_9&#x27;, &#x27;R_3&#x27;, &#x27;D_52&#x27;, &#x27;P_3&#x27;,\n",
       "                                                   &#x27;B_10&#x27;, &#x27;D_53&#x27;, &#x27;S_5&#x27;, &#x27;S_6&#x27;, ...]),\n",
       "                                                 (&#x27;cat_pip&#x27;,\n",
       "                                                  Pipeline(steps=[(&#x27;simpleimputer&#x27;,\n",
       "                                                                   SimpleImputer(strategy=&#x27;most_frequent&#x27;)),\n",
       "                                                                  (&#x27;onehotencoder&#x27;,\n",
       "                                                                   OneHotEncoder(handle_unknown=&#x27;ignore&#x27;,\n",
       "                                                                                 sparse=False))]),\n",
       "                                                  [&#x27;B_30&#x27;, &#x27;B_38&#x27;, &#x27;D_114&#x27;,\n",
       "                                                   &#x27;D_116&#x27;, &#x27;D_117&#x27;, &#x27;D_120&#x27;,\n",
       "                                                   &#x27;D_126&#x27;, &#x27;D_63&#x27;, &#x27;D_64&#x27;,\n",
       "                                                   &#x27;D_68&#x27;])])),\n",
       "                (&#x27;logisticregression&#x27;, LogisticRegression())])</pre></div></div></div><div class=\"sk-serial\"><div class=\"sk-item sk-dashed-wrapped\"><div class=\"sk-label-container\"><div class=\"sk-label sk-toggleable\"><input class=\"sk-toggleable__control sk-hidden--visually\" id=\"sk-estimator-id-41\" type=\"checkbox\" ><label for=\"sk-estimator-id-41\" class=\"sk-toggleable__label sk-toggleable__label-arrow\">columntransformer: ColumnTransformer</label><div class=\"sk-toggleable__content\"><pre>ColumnTransformer(transformers=[(&#x27;num_pip&#x27;,\n",
       "                                 Pipeline(steps=[(&#x27;simpleimputer&#x27;,\n",
       "                                                  SimpleImputer()),\n",
       "                                                 (&#x27;robustscaler&#x27;,\n",
       "                                                  RobustScaler())]),\n",
       "                                 [&#x27;P_2&#x27;, &#x27;D_39&#x27;, &#x27;B_2&#x27;, &#x27;R_1&#x27;, &#x27;S_3&#x27;, &#x27;D_41&#x27;,\n",
       "                                  &#x27;B_3&#x27;, &#x27;D_42&#x27;, &#x27;D_43&#x27;, &#x27;D_44&#x27;, &#x27;B_4&#x27;, &#x27;D_45&#x27;,\n",
       "                                  &#x27;B_5&#x27;, &#x27;R_2&#x27;, &#x27;D_46&#x27;, &#x27;D_47&#x27;, &#x27;D_48&#x27;, &#x27;D_49&#x27;,\n",
       "                                  &#x27;B_6&#x27;, &#x27;B_8&#x27;, &#x27;D_50&#x27;, &#x27;D_51&#x27;, &#x27;B_9&#x27;, &#x27;R_3&#x27;,\n",
       "                                  &#x27;D_52&#x27;, &#x27;P_3&#x27;, &#x27;B_10&#x27;, &#x27;D_53&#x27;, &#x27;S_5&#x27;, &#x27;S_6&#x27;, ...]),\n",
       "                                (&#x27;cat_pip&#x27;,\n",
       "                                 Pipeline(steps=[(&#x27;simpleimputer&#x27;,\n",
       "                                                  SimpleImputer(strategy=&#x27;most_frequent&#x27;)),\n",
       "                                                 (&#x27;onehotencoder&#x27;,\n",
       "                                                  OneHotEncoder(handle_unknown=&#x27;ignore&#x27;,\n",
       "                                                                sparse=False))]),\n",
       "                                 [&#x27;B_30&#x27;, &#x27;B_38&#x27;, &#x27;D_114&#x27;, &#x27;D_116&#x27;, &#x27;D_117&#x27;,\n",
       "                                  &#x27;D_120&#x27;, &#x27;D_126&#x27;, &#x27;D_63&#x27;, &#x27;D_64&#x27;, &#x27;D_68&#x27;])])</pre></div></div></div><div class=\"sk-parallel\"><div class=\"sk-parallel-item\"><div class=\"sk-item\"><div class=\"sk-label-container\"><div class=\"sk-label sk-toggleable\"><input class=\"sk-toggleable__control sk-hidden--visually\" id=\"sk-estimator-id-42\" type=\"checkbox\" ><label for=\"sk-estimator-id-42\" class=\"sk-toggleable__label sk-toggleable__label-arrow\">num_pip</label><div class=\"sk-toggleable__content\"><pre>[&#x27;P_2&#x27;, &#x27;D_39&#x27;, &#x27;B_2&#x27;, &#x27;R_1&#x27;, &#x27;S_3&#x27;, &#x27;D_41&#x27;, &#x27;B_3&#x27;, &#x27;D_42&#x27;, &#x27;D_43&#x27;, &#x27;D_44&#x27;, &#x27;B_4&#x27;, &#x27;D_45&#x27;, &#x27;B_5&#x27;, &#x27;R_2&#x27;, &#x27;D_46&#x27;, &#x27;D_47&#x27;, &#x27;D_48&#x27;, &#x27;D_49&#x27;, &#x27;B_6&#x27;, &#x27;B_8&#x27;, &#x27;D_50&#x27;, &#x27;D_51&#x27;, &#x27;B_9&#x27;, &#x27;R_3&#x27;, &#x27;D_52&#x27;, &#x27;P_3&#x27;, &#x27;B_10&#x27;, &#x27;D_53&#x27;, &#x27;S_5&#x27;, &#x27;S_6&#x27;, &#x27;D_54&#x27;, &#x27;R_4&#x27;, &#x27;S_7&#x27;, &#x27;B_12&#x27;, &#x27;S_8&#x27;, &#x27;D_55&#x27;, &#x27;D_56&#x27;, &#x27;B_13&#x27;, &#x27;R_5&#x27;, &#x27;D_58&#x27;, &#x27;S_9&#x27;, &#x27;B_14&#x27;, &#x27;D_59&#x27;, &#x27;D_60&#x27;, &#x27;D_61&#x27;, &#x27;B_15&#x27;, &#x27;S_11&#x27;, &#x27;D_62&#x27;, &#x27;D_65&#x27;, &#x27;B_16&#x27;, &#x27;B_17&#x27;, &#x27;B_18&#x27;, &#x27;B_19&#x27;, &#x27;B_20&#x27;, &#x27;S_12&#x27;, &#x27;R_6&#x27;, &#x27;S_13&#x27;, &#x27;B_21&#x27;, &#x27;D_69&#x27;, &#x27;B_22&#x27;, &#x27;D_70&#x27;, &#x27;D_71&#x27;, &#x27;D_72&#x27;, &#x27;S_15&#x27;, &#x27;B_23&#x27;, &#x27;P_4&#x27;, &#x27;D_74&#x27;, &#x27;B_24&#x27;, &#x27;R_7&#x27;, &#x27;B_25&#x27;, &#x27;B_26&#x27;, &#x27;D_78&#x27;, &#x27;D_79&#x27;, &#x27;R_8&#x27;, &#x27;S_16&#x27;, &#x27;D_80&#x27;, &#x27;R_10&#x27;, &#x27;R_11&#x27;, &#x27;B_27&#x27;, &#x27;D_81&#x27;, &#x27;D_82&#x27;, &#x27;S_17&#x27;, &#x27;R_12&#x27;, &#x27;B_28&#x27;, &#x27;R_13&#x27;, &#x27;D_83&#x27;, &#x27;R_14&#x27;, &#x27;R_15&#x27;, &#x27;D_84&#x27;, &#x27;R_16&#x27;, &#x27;S_18&#x27;, &#x27;D_86&#x27;, &#x27;R_17&#x27;, &#x27;R_18&#x27;, &#x27;B_31&#x27;, &#x27;S_19&#x27;, &#x27;R_19&#x27;, &#x27;B_32&#x27;, &#x27;S_20&#x27;, &#x27;R_20&#x27;, &#x27;R_21&#x27;, &#x27;B_33&#x27;, &#x27;D_89&#x27;, &#x27;R_22&#x27;, &#x27;R_23&#x27;, &#x27;D_91&#x27;, &#x27;D_92&#x27;, &#x27;D_93&#x27;, &#x27;D_94&#x27;, &#x27;R_24&#x27;, &#x27;R_25&#x27;, &#x27;D_96&#x27;, &#x27;S_22&#x27;, &#x27;S_23&#x27;, &#x27;S_25&#x27;, &#x27;S_26&#x27;, &#x27;D_102&#x27;, &#x27;D_104&#x27;, &#x27;D_105&#x27;, &#x27;D_106&#x27;, &#x27;D_107&#x27;, &#x27;B_36&#x27;, &#x27;R_26&#x27;, &#x27;R_27&#x27;, &#x27;D_109&#x27;, &#x27;D_112&#x27;, &#x27;B_40&#x27;, &#x27;S_27&#x27;, &#x27;D_113&#x27;, &#x27;D_115&#x27;, &#x27;D_119&#x27;, &#x27;D_121&#x27;, &#x27;D_122&#x27;, &#x27;D_123&#x27;, &#x27;D_124&#x27;, &#x27;D_125&#x27;, &#x27;D_127&#x27;, &#x27;D_128&#x27;, &#x27;D_129&#x27;, &#x27;B_41&#x27;, &#x27;D_130&#x27;, &#x27;D_131&#x27;, &#x27;D_132&#x27;, &#x27;D_133&#x27;, &#x27;R_28&#x27;, &#x27;D_139&#x27;, &#x27;D_140&#x27;, &#x27;D_142&#x27;, &#x27;D_144&#x27;, &#x27;D_145&#x27;]</pre></div></div></div><div class=\"sk-serial\"><div class=\"sk-item\"><div class=\"sk-serial\"><div class=\"sk-item\"><div class=\"sk-estimator sk-toggleable\"><input class=\"sk-toggleable__control sk-hidden--visually\" id=\"sk-estimator-id-43\" type=\"checkbox\" ><label for=\"sk-estimator-id-43\" class=\"sk-toggleable__label sk-toggleable__label-arrow\">SimpleImputer</label><div class=\"sk-toggleable__content\"><pre>SimpleImputer()</pre></div></div></div><div class=\"sk-item\"><div class=\"sk-estimator sk-toggleable\"><input class=\"sk-toggleable__control sk-hidden--visually\" id=\"sk-estimator-id-44\" type=\"checkbox\" ><label for=\"sk-estimator-id-44\" class=\"sk-toggleable__label sk-toggleable__label-arrow\">RobustScaler</label><div class=\"sk-toggleable__content\"><pre>RobustScaler()</pre></div></div></div></div></div></div></div></div><div class=\"sk-parallel-item\"><div class=\"sk-item\"><div class=\"sk-label-container\"><div class=\"sk-label sk-toggleable\"><input class=\"sk-toggleable__control sk-hidden--visually\" id=\"sk-estimator-id-45\" type=\"checkbox\" ><label for=\"sk-estimator-id-45\" class=\"sk-toggleable__label sk-toggleable__label-arrow\">cat_pip</label><div class=\"sk-toggleable__content\"><pre>[&#x27;B_30&#x27;, &#x27;B_38&#x27;, &#x27;D_114&#x27;, &#x27;D_116&#x27;, &#x27;D_117&#x27;, &#x27;D_120&#x27;, &#x27;D_126&#x27;, &#x27;D_63&#x27;, &#x27;D_64&#x27;, &#x27;D_68&#x27;]</pre></div></div></div><div class=\"sk-serial\"><div class=\"sk-item\"><div class=\"sk-serial\"><div class=\"sk-item\"><div class=\"sk-estimator sk-toggleable\"><input class=\"sk-toggleable__control sk-hidden--visually\" id=\"sk-estimator-id-46\" type=\"checkbox\" ><label for=\"sk-estimator-id-46\" class=\"sk-toggleable__label sk-toggleable__label-arrow\">SimpleImputer</label><div class=\"sk-toggleable__content\"><pre>SimpleImputer(strategy=&#x27;most_frequent&#x27;)</pre></div></div></div><div class=\"sk-item\"><div class=\"sk-estimator sk-toggleable\"><input class=\"sk-toggleable__control sk-hidden--visually\" id=\"sk-estimator-id-47\" type=\"checkbox\" ><label for=\"sk-estimator-id-47\" class=\"sk-toggleable__label sk-toggleable__label-arrow\">OneHotEncoder</label><div class=\"sk-toggleable__content\"><pre>OneHotEncoder(handle_unknown=&#x27;ignore&#x27;, sparse=False)</pre></div></div></div></div></div></div></div></div></div></div><div class=\"sk-item\"><div class=\"sk-estimator sk-toggleable\"><input class=\"sk-toggleable__control sk-hidden--visually\" id=\"sk-estimator-id-48\" type=\"checkbox\" ><label for=\"sk-estimator-id-48\" class=\"sk-toggleable__label sk-toggleable__label-arrow\">LogisticRegression</label><div class=\"sk-toggleable__content\"><pre>LogisticRegression()</pre></div></div></div></div></div></div></div>"
      ],
      "text/plain": [
       "Pipeline(steps=[('columntransformer',\n",
       "                 ColumnTransformer(transformers=[('num_pip',\n",
       "                                                  Pipeline(steps=[('simpleimputer',\n",
       "                                                                   SimpleImputer()),\n",
       "                                                                  ('robustscaler',\n",
       "                                                                   RobustScaler())]),\n",
       "                                                  ['P_2', 'D_39', 'B_2', 'R_1',\n",
       "                                                   'S_3', 'D_41', 'B_3', 'D_42',\n",
       "                                                   'D_43', 'D_44', 'B_4',\n",
       "                                                   'D_45', 'B_5', 'R_2', 'D_46',\n",
       "                                                   'D_47', 'D_48', 'D_49',\n",
       "                                                   'B_6', 'B_8', 'D_50', 'D_51',\n",
       "                                                   'B_9', 'R_3', 'D_52', 'P_3',\n",
       "                                                   'B_10', 'D_53', 'S_5', 'S_6', ...]),\n",
       "                                                 ('cat_pip',\n",
       "                                                  Pipeline(steps=[('simpleimputer',\n",
       "                                                                   SimpleImputer(strategy='most_frequent')),\n",
       "                                                                  ('onehotencoder',\n",
       "                                                                   OneHotEncoder(handle_unknown='ignore',\n",
       "                                                                                 sparse=False))]),\n",
       "                                                  ['B_30', 'B_38', 'D_114',\n",
       "                                                   'D_116', 'D_117', 'D_120',\n",
       "                                                   'D_126', 'D_63', 'D_64',\n",
       "                                                   'D_68'])])),\n",
       "                ('logisticregression', LogisticRegression())])"
      ]
     },
     "execution_count": 121,
     "metadata": {},
     "output_type": "execute_result"
    }
   ],
   "source": [
    "#loaded_model"
   ]
  }
 ],
 "metadata": {
  "kernelspec": {
   "display_name": "Python 3 (ipykernel)",
   "language": "python",
   "name": "python3"
  },
  "language_info": {
   "codemirror_mode": {
    "name": "ipython",
    "version": 3
   },
   "file_extension": ".py",
   "mimetype": "text/x-python",
   "name": "python",
   "nbconvert_exporter": "python",
   "pygments_lexer": "ipython3",
   "version": "3.8.12"
  }
 },
 "nbformat": 4,
 "nbformat_minor": 5
}
