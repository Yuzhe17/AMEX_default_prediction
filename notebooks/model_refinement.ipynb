{
 "cells": [
  {
   "cell_type": "markdown",
   "id": "3944824d-c530-447e-ab28-4e6c66a7dd79",
   "metadata": {},
   "source": [
    "# Simple preprocessing pipeline"
   ]
  },
  {
   "cell_type": "code",
   "execution_count": 1,
   "id": "dce77626-cb95-4f3f-82f6-babe2c08c279",
   "metadata": {},
   "outputs": [],
   "source": [
    "import numpy as np\n",
    "import pandas as pd\n",
    "import matplotlib.pyplot as plt\n",
    "import seaborn as sns"
   ]
  },
  {
   "cell_type": "code",
   "execution_count": 2,
   "id": "b72b126e-38bd-4174-ab49-7ea7e9b4d092",
   "metadata": {},
   "outputs": [],
   "source": [
    "from scipy import stats\n",
    "\n",
    "from sklearn.model_selection import cross_validate, cross_val_score, cross_val_predict, learning_curve,\\\n",
    "train_test_split, GridSearchCV, RandomizedSearchCV, train_test_split\n",
    "from sklearn.preprocessing import StandardScaler, RobustScaler, MinMaxScaler, OneHotEncoder, FunctionTransformer, LabelEncoder, OrdinalEncoder\n",
    "from sklearn.impute import SimpleImputer, KNNImputer\n",
    "from sklearn.inspection import permutation_importance\n",
    "from sklearn.metrics import plot_confusion_matrix, classification_report, precision_recall_curve\n",
    "from sklearn.linear_model import LinearRegression, LogisticRegression, SGDRegressor, SGDClassifier, Ridge, RidgeClassifier\n",
    "from sklearn.neighbors import KNeighborsClassifier, KNeighborsRegressor\n",
    "from sklearn.svm import SVC\n",
    "from sklearn.compose import make_column_selector\n",
    "\n",
    "## pipeline stuff\n",
    "\n",
    "from sklearn.pipeline import Pipeline, make_pipeline, make_union\n",
    "from sklearn.compose import ColumnTransformer, make_column_transformer, make_column_selector\n",
    "from sklearn import set_config; set_config(display='diagram')\n"
   ]
  },
  {
   "cell_type": "code",
   "execution_count": 3,
   "id": "ca1f5989-0d50-4ac0-87b9-2cdb2c69a2cb",
   "metadata": {},
   "outputs": [],
   "source": [
    "def_df = pd.read_csv(\"/home/slawa/code/code-rep0/projects/data/defaulter_data_13364.csv\", index_col=[0])\n",
    "pay_df = pd.read_csv(\"/home/slawa/code/code-rep0/projects/data/payer_data_41940.csv\", index_col=[0])\n",
    "def_df['default'] = 1\n",
    "pay_df['default'] = 0\n",
    "\n",
    "df = pd.concat([def_df, pay_df])"
   ]
  },
  {
   "cell_type": "code",
   "execution_count": 4,
   "id": "eb5565e5-5b78-4ecb-b492-5899111c98f4",
   "metadata": {},
   "outputs": [],
   "source": [
    "y = df['default'].reset_index(drop=True)\n",
    "\n",
    "X = df.drop(columns=['default']).reset_index(drop=True)"
   ]
  },
  {
   "cell_type": "markdown",
   "id": "43217fee-73b4-43c4-a8b5-8aa71d9ad9d5",
   "metadata": {},
   "source": [
    "Discarding columns if too highly correlated with other or too many Nans"
   ]
  },
  {
   "cell_type": "code",
   "execution_count": 5,
   "id": "4abb7bf8-3052-47ad-9a09-093efa955672",
   "metadata": {},
   "outputs": [],
   "source": [
    "cat_vars = ['B_30', \n",
    "            'B_38', \n",
    "            'D_114', \n",
    "            'D_116', \n",
    "            'D_117', \n",
    "            'D_120', \n",
    "            'D_126', \n",
    "            'D_63', \n",
    "            'D_64', \n",
    "            'D_66', \n",
    "            'D_68']"
   ]
  },
  {
   "cell_type": "markdown",
   "id": "d533533d-646f-48b1-bcc8-6832b7d00285",
   "metadata": {},
   "source": [
    "drop columns if they correlate > 95% with others"
   ]
  },
  {
   "cell_type": "code",
   "execution_count": 6,
   "id": "cd3efde1-e65c-4457-93bf-9b3d1af4b968",
   "metadata": {},
   "outputs": [],
   "source": [
    "X_corr = X.corr()"
   ]
  },
  {
   "cell_type": "code",
   "execution_count": 7,
   "id": "2cc7ce56-c159-42b9-98ea-f95d49e195c7",
   "metadata": {},
   "outputs": [],
   "source": [
    "X_corr = X_corr.unstack().reset_index() # Unstack correlation matrix \n",
    "X_corr.columns = ['feature_1','feature_2', 'correlation_all'] # rename columns\n",
    "X_corr.sort_values(by=\"correlation_all\",ascending=False, inplace=True) # sort by correlation\n",
    "X_corr = X_corr[X_corr['feature_1'] != X_corr['feature_2']] # Remove self correlation\n",
    "X_corr = X_corr.drop_duplicates(subset='correlation_all')"
   ]
  },
  {
   "cell_type": "code",
   "execution_count": 8,
   "id": "4e97cca9-7e6f-4f4a-8953-d6d8113fddda",
   "metadata": {},
   "outputs": [],
   "source": [
    "red_features = list(X_corr[abs(X_corr['correlation_all'])>=.95]['feature_1']) ## abs so we also consider the negative corrs"
   ]
  },
  {
   "cell_type": "code",
   "execution_count": 9,
   "id": "65f0c098-1b79-4453-bb60-08e750c652d6",
   "metadata": {},
   "outputs": [],
   "source": [
    "X_red = X.drop(columns=red_features) ## dropping the highly correlated columns"
   ]
  },
  {
   "cell_type": "code",
   "execution_count": 10,
   "id": "ab65db0f-0f3d-4a8a-86f0-cfa49a32c48d",
   "metadata": {},
   "outputs": [],
   "source": [
    "## checking whether the high correlations are gone\n",
    "X_red_corr = X_red.corr()\n",
    "X_red_corr = X_red_corr.unstack().reset_index() # Unstack correlation matrix \n",
    "X_red_corr.columns = ['feature_1','feature_2', 'correlation_all'] # rename columns\n",
    "X_red_corr.sort_values(by=\"correlation_all\",ascending=False, inplace=True) # sort by correlation\n",
    "X_red_corr = X_red_corr[X_red_corr['feature_1'] != X_red_corr['feature_2']] # Remove self correlation\n",
    "X_red_corr = X_red_corr.drop_duplicates(subset='correlation_all')"
   ]
  },
  {
   "cell_type": "code",
   "execution_count": 11,
   "id": "36893cdd-8644-48b8-990f-34ab4f9fc1a9",
   "metadata": {},
   "outputs": [
    {
     "data": {
      "text/html": [
       "<div>\n",
       "<style scoped>\n",
       "    .dataframe tbody tr th:only-of-type {\n",
       "        vertical-align: middle;\n",
       "    }\n",
       "\n",
       "    .dataframe tbody tr th {\n",
       "        vertical-align: top;\n",
       "    }\n",
       "\n",
       "    .dataframe thead th {\n",
       "        text-align: right;\n",
       "    }\n",
       "</style>\n",
       "<table border=\"1\" class=\"dataframe\">\n",
       "  <thead>\n",
       "    <tr style=\"text-align: right;\">\n",
       "      <th></th>\n",
       "      <th>feature_1</th>\n",
       "      <th>feature_2</th>\n",
       "      <th>correlation_all</th>\n",
       "    </tr>\n",
       "  </thead>\n",
       "  <tbody>\n",
       "    <tr>\n",
       "      <th>12045</th>\n",
       "      <td>D_74</td>\n",
       "      <td>D_58</td>\n",
       "      <td>0.927332</td>\n",
       "    </tr>\n",
       "    <tr>\n",
       "      <th>6471</th>\n",
       "      <td>B_13</td>\n",
       "      <td>B_12</td>\n",
       "      <td>0.921825</td>\n",
       "    </tr>\n",
       "    <tr>\n",
       "      <th>457</th>\n",
       "      <td>B_2</td>\n",
       "      <td>B_33</td>\n",
       "      <td>0.913250</td>\n",
       "    </tr>\n",
       "    <tr>\n",
       "      <th>728</th>\n",
       "      <td>S_3</td>\n",
       "      <td>S_7</td>\n",
       "      <td>0.903899</td>\n",
       "    </tr>\n",
       "    <tr>\n",
       "      <th>28001</th>\n",
       "      <td>D_131</td>\n",
       "      <td>D_132</td>\n",
       "      <td>0.891850</td>\n",
       "    </tr>\n",
       "    <tr>\n",
       "      <th>...</th>\n",
       "      <td>...</td>\n",
       "      <td>...</td>\n",
       "      <td>...</td>\n",
       "    </tr>\n",
       "    <tr>\n",
       "      <th>9398</th>\n",
       "      <td>B_20</td>\n",
       "      <td>B_2</td>\n",
       "      <td>-0.779728</td>\n",
       "    </tr>\n",
       "    <tr>\n",
       "      <th>5981</th>\n",
       "      <td>S_8</td>\n",
       "      <td>S_15</td>\n",
       "      <td>-0.783457</td>\n",
       "    </tr>\n",
       "    <tr>\n",
       "      <th>23888</th>\n",
       "      <td>B_39</td>\n",
       "      <td>B_17</td>\n",
       "      <td>-0.805295</td>\n",
       "    </tr>\n",
       "    <tr>\n",
       "      <th>11791</th>\n",
       "      <td>D_73</td>\n",
       "      <td>D_108</td>\n",
       "      <td>-0.851429</td>\n",
       "    </tr>\n",
       "    <tr>\n",
       "      <th>99</th>\n",
       "      <td>P_2</td>\n",
       "      <td>D_87</td>\n",
       "      <td>NaN</td>\n",
       "    </tr>\n",
       "  </tbody>\n",
       "</table>\n",
       "<p>14849 rows × 3 columns</p>\n",
       "</div>"
      ],
      "text/plain": [
       "      feature_1 feature_2  correlation_all\n",
       "12045      D_74      D_58         0.927332\n",
       "6471       B_13      B_12         0.921825\n",
       "457         B_2      B_33         0.913250\n",
       "728         S_3       S_7         0.903899\n",
       "28001     D_131     D_132         0.891850\n",
       "...         ...       ...              ...\n",
       "9398       B_20       B_2        -0.779728\n",
       "5981        S_8      S_15        -0.783457\n",
       "23888      B_39      B_17        -0.805295\n",
       "11791      D_73     D_108        -0.851429\n",
       "99          P_2      D_87              NaN\n",
       "\n",
       "[14849 rows x 3 columns]"
      ]
     },
     "execution_count": 11,
     "metadata": {},
     "output_type": "execute_result"
    }
   ],
   "source": [
    "X_red_corr"
   ]
  },
  {
   "cell_type": "code",
   "execution_count": 12,
   "id": "742c0878-a19a-4bd3-ad67-f60ee5e95124",
   "metadata": {},
   "outputs": [
    {
     "data": {
      "text/plain": [
       "13"
      ]
     },
     "execution_count": 12,
     "metadata": {},
     "output_type": "execute_result"
    }
   ],
   "source": [
    "len(red_features) ## we removed 13 columns"
   ]
  },
  {
   "cell_type": "markdown",
   "id": "a2dab05a-f828-4547-b0ad-a975585c1be4",
   "metadata": {},
   "source": [
    "drop columns with nans if in __both__ groups > 80% nans"
   ]
  },
  {
   "cell_type": "code",
   "execution_count": 13,
   "id": "149032c6-a599-460a-a7d1-a12702d77b3f",
   "metadata": {},
   "outputs": [],
   "source": [
    "nan_threshold= 0.8 ## adjust the hardcoded values"
   ]
  },
  {
   "cell_type": "code",
   "execution_count": 14,
   "id": "9d229f31-4e9e-4e50-9bab-7074d7cd3182",
   "metadata": {},
   "outputs": [],
   "source": [
    "def_nans = def_df.isna().sum()/len(def_df) "
   ]
  },
  {
   "cell_type": "code",
   "execution_count": 15,
   "id": "8ce797b7-2d83-4f61-af78-32b64b7c717a",
   "metadata": {},
   "outputs": [],
   "source": [
    "def_nans_80 = def_nans[def_nans >= 0.8].index"
   ]
  },
  {
   "cell_type": "code",
   "execution_count": 16,
   "id": "f75a67ef-b1c2-4224-a663-4273c6465fca",
   "metadata": {},
   "outputs": [],
   "source": [
    "pay_nans = pay_df.isna().sum()/len(pay_df)"
   ]
  },
  {
   "cell_type": "code",
   "execution_count": 17,
   "id": "e90e21f2-228f-4b14-bd89-ac3f7ab79add",
   "metadata": {},
   "outputs": [],
   "source": [
    "pay_nans_80 = pay_nans[pay_nans>=0.8].index"
   ]
  },
  {
   "cell_type": "code",
   "execution_count": 18,
   "id": "d308f3a7-f73a-419c-8600-6034b4f418b0",
   "metadata": {},
   "outputs": [],
   "source": [
    "nans_80 = [feature for feature in pay_nans_80 if feature in def_nans_80]"
   ]
  },
  {
   "cell_type": "code",
   "execution_count": 19,
   "id": "bc740bb6-8679-4b70-92d3-5cf851b69500",
   "metadata": {},
   "outputs": [],
   "source": [
    "## check whether features were already removed\n",
    "red_features_nan = [feature for feature in nans_80 if feature not in red_features] "
   ]
  },
  {
   "cell_type": "code",
   "execution_count": 20,
   "id": "e09f028c-b5f1-4996-ba28-93ad51434137",
   "metadata": {},
   "outputs": [],
   "source": [
    "X_red = X_red.drop(columns=red_features_nan)"
   ]
  },
  {
   "cell_type": "code",
   "execution_count": 21,
   "id": "f283116b-9841-497f-b3ca-018d69e7b69b",
   "metadata": {},
   "outputs": [],
   "source": [
    "dropped_columns = red_features + red_features_nan"
   ]
  },
  {
   "cell_type": "markdown",
   "id": "cc8b4046-2879-447a-b37a-170fe719f0a2",
   "metadata": {},
   "source": [
    "Building the pipeline"
   ]
  },
  {
   "cell_type": "code",
   "execution_count": 22,
   "id": "2b7dfc18-31c0-4345-8b6f-032b7ddad524",
   "metadata": {},
   "outputs": [],
   "source": [
    "num_vars = [feature for feature in X_red.columns[2:] if feature not in cat_vars] ## exclude dates and IDs (first two columns)\n",
    "str_vars = [feature for feature in X_red.columns[2:] if not pd.api.types.is_numeric_dtype(X_red[feature])] ## columns that are not numeric at all \n",
    "red_cat_vars = [feature for feature in cat_vars if feature not in dropped_columns] ## remaining categorical variables that have no string values"
   ]
  },
  {
   "cell_type": "markdown",
   "id": "f38a8856-2346-47b3-b1ea-e2c28ee84592",
   "metadata": {},
   "source": [
    "mark rows in categorical columns with values of -1 as NaNs"
   ]
  },
  {
   "cell_type": "code",
   "execution_count": 23,
   "id": "3160180e-3a45-4ceb-92df-cda0d0f6e342",
   "metadata": {},
   "outputs": [],
   "source": [
    "#X_red[red_cat_vars] = X_red[red_cat_vars].applymap(lambda x: np.nan if x in [-1,-1.0, \"-1.0\", \"-1\"] else x)"
   ]
  },
  {
   "cell_type": "code",
   "execution_count": 24,
   "id": "f36d2956-2b39-4911-b37d-3f86efeb7bb4",
   "metadata": {},
   "outputs": [],
   "source": [
    "def nan_imp(X): ## imputes nan values for alternative values signifying nans\n",
    "    nan_list = [-1,-1.0, \"-1.0\", \"-1\"] \n",
    "    return X.applymap(lambda x: np.nan if x in nan_list else x) ## perhaps subfunctions for arrays"
   ]
  },
  {
   "cell_type": "code",
   "execution_count": 25,
   "id": "3d8e1be4-c208-44d6-b1c0-18c5d527b09e",
   "metadata": {},
   "outputs": [],
   "source": [
    "# impute mean/most frequent value for other nans (specific to group?)\n",
    "# robustscale all numerical values\n",
    "\n",
    "num_scaler = RobustScaler()\n",
    "num_imputer = SimpleImputer(strategy='mean')\n",
    "#num_imputer = KNNImputer(n_neighbors=2) ## KNNIMputer is computationally demanding\n",
    "## should come AFTER SCALING\n",
    "\n",
    "num_pipe = make_pipeline(num_scaler, num_imputer)\n",
    "\n",
    "str_trans = OrdinalEncoder() # is only needed if one wants to do knnimputer\n",
    "\n",
    "nan_trans = FunctionTransformer(nan_imp)\n",
    "cat_imputer = SimpleImputer(strategy=\"most_frequent\") ## replace with KNNimputer on one neighbour, after transforming to numericals\n",
    "#cat_imputer = KNNImputer(n_neighbors=1) # introducing it did not improve performance, but is computationally demanding\n",
    "cat_encoder = OneHotEncoder(sparse=False, handle_unknown='ignore') ## what happens to the old columns?\n",
    "cat_pipe = make_pipeline(nan_trans, cat_imputer, cat_encoder)\n",
    "str_pipe = make_pipeline(nan_trans, str_trans, cat_imputer, cat_encoder)"
   ]
  },
  {
   "cell_type": "markdown",
   "id": "c8ebe538-159d-4837-b1b4-440958d04432",
   "metadata": {},
   "source": [
    "Beware of the Dummy trap. OneHotEncoder automatically deletes one column."
   ]
  },
  {
   "cell_type": "code",
   "execution_count": 26,
   "id": "444f2961-8209-44f9-8b1b-c4fd5f2c619d",
   "metadata": {},
   "outputs": [
    {
     "data": {
      "text/html": [
       "<style>#sk-container-id-1 {color: black;background-color: white;}#sk-container-id-1 pre{padding: 0;}#sk-container-id-1 div.sk-toggleable {background-color: white;}#sk-container-id-1 label.sk-toggleable__label {cursor: pointer;display: block;width: 100%;margin-bottom: 0;padding: 0.3em;box-sizing: border-box;text-align: center;}#sk-container-id-1 label.sk-toggleable__label-arrow:before {content: \"▸\";float: left;margin-right: 0.25em;color: #696969;}#sk-container-id-1 label.sk-toggleable__label-arrow:hover:before {color: black;}#sk-container-id-1 div.sk-estimator:hover label.sk-toggleable__label-arrow:before {color: black;}#sk-container-id-1 div.sk-toggleable__content {max-height: 0;max-width: 0;overflow: hidden;text-align: left;background-color: #f0f8ff;}#sk-container-id-1 div.sk-toggleable__content pre {margin: 0.2em;color: black;border-radius: 0.25em;background-color: #f0f8ff;}#sk-container-id-1 input.sk-toggleable__control:checked~div.sk-toggleable__content {max-height: 200px;max-width: 100%;overflow: auto;}#sk-container-id-1 input.sk-toggleable__control:checked~label.sk-toggleable__label-arrow:before {content: \"▾\";}#sk-container-id-1 div.sk-estimator input.sk-toggleable__control:checked~label.sk-toggleable__label {background-color: #d4ebff;}#sk-container-id-1 div.sk-label input.sk-toggleable__control:checked~label.sk-toggleable__label {background-color: #d4ebff;}#sk-container-id-1 input.sk-hidden--visually {border: 0;clip: rect(1px 1px 1px 1px);clip: rect(1px, 1px, 1px, 1px);height: 1px;margin: -1px;overflow: hidden;padding: 0;position: absolute;width: 1px;}#sk-container-id-1 div.sk-estimator {font-family: monospace;background-color: #f0f8ff;border: 1px dotted black;border-radius: 0.25em;box-sizing: border-box;margin-bottom: 0.5em;}#sk-container-id-1 div.sk-estimator:hover {background-color: #d4ebff;}#sk-container-id-1 div.sk-parallel-item::after {content: \"\";width: 100%;border-bottom: 1px solid gray;flex-grow: 1;}#sk-container-id-1 div.sk-label:hover label.sk-toggleable__label {background-color: #d4ebff;}#sk-container-id-1 div.sk-serial::before {content: \"\";position: absolute;border-left: 1px solid gray;box-sizing: border-box;top: 0;bottom: 0;left: 50%;z-index: 0;}#sk-container-id-1 div.sk-serial {display: flex;flex-direction: column;align-items: center;background-color: white;padding-right: 0.2em;padding-left: 0.2em;position: relative;}#sk-container-id-1 div.sk-item {position: relative;z-index: 1;}#sk-container-id-1 div.sk-parallel {display: flex;align-items: stretch;justify-content: center;background-color: white;position: relative;}#sk-container-id-1 div.sk-item::before, #sk-container-id-1 div.sk-parallel-item::before {content: \"\";position: absolute;border-left: 1px solid gray;box-sizing: border-box;top: 0;bottom: 0;left: 50%;z-index: -1;}#sk-container-id-1 div.sk-parallel-item {display: flex;flex-direction: column;z-index: 1;position: relative;background-color: white;}#sk-container-id-1 div.sk-parallel-item:first-child::after {align-self: flex-end;width: 50%;}#sk-container-id-1 div.sk-parallel-item:last-child::after {align-self: flex-start;width: 50%;}#sk-container-id-1 div.sk-parallel-item:only-child::after {width: 0;}#sk-container-id-1 div.sk-dashed-wrapped {border: 1px dashed gray;margin: 0 0.4em 0.5em 0.4em;box-sizing: border-box;padding-bottom: 0.4em;background-color: white;}#sk-container-id-1 div.sk-label label {font-family: monospace;font-weight: bold;display: inline-block;line-height: 1.2em;}#sk-container-id-1 div.sk-label-container {text-align: center;}#sk-container-id-1 div.sk-container {/* jupyter's `normalize.less` sets `[hidden] { display: none; }` but bootstrap.min.css set `[hidden] { display: none !important; }` so we also need the `!important` here to be able to override the default hidden behavior on the sphinx rendered scikit-learn.org. See: https://github.com/scikit-learn/scikit-learn/issues/21755 */display: inline-block !important;position: relative;}#sk-container-id-1 div.sk-text-repr-fallback {display: none;}</style><div id=\"sk-container-id-1\" class=\"sk-top-container\"><div class=\"sk-text-repr-fallback\"><pre>Pipeline(steps=[(&#x27;functiontransformer&#x27;,\n",
       "                 FunctionTransformer(func=&lt;function nan_imp at 0x7ff287dd5dc0&gt;)),\n",
       "                (&#x27;ordinalencoder&#x27;, OrdinalEncoder()),\n",
       "                (&#x27;simpleimputer&#x27;, SimpleImputer(strategy=&#x27;most_frequent&#x27;)),\n",
       "                (&#x27;onehotencoder&#x27;,\n",
       "                 OneHotEncoder(handle_unknown=&#x27;ignore&#x27;, sparse=False))])</pre><b>In a Jupyter environment, please rerun this cell to show the HTML representation or trust the notebook. <br />On GitHub, the HTML representation is unable to render, please try loading this page with nbviewer.org.</b></div><div class=\"sk-container\" hidden><div class=\"sk-item sk-dashed-wrapped\"><div class=\"sk-label-container\"><div class=\"sk-label sk-toggleable\"><input class=\"sk-toggleable__control sk-hidden--visually\" id=\"sk-estimator-id-1\" type=\"checkbox\" ><label for=\"sk-estimator-id-1\" class=\"sk-toggleable__label sk-toggleable__label-arrow\">Pipeline</label><div class=\"sk-toggleable__content\"><pre>Pipeline(steps=[(&#x27;functiontransformer&#x27;,\n",
       "                 FunctionTransformer(func=&lt;function nan_imp at 0x7ff287dd5dc0&gt;)),\n",
       "                (&#x27;ordinalencoder&#x27;, OrdinalEncoder()),\n",
       "                (&#x27;simpleimputer&#x27;, SimpleImputer(strategy=&#x27;most_frequent&#x27;)),\n",
       "                (&#x27;onehotencoder&#x27;,\n",
       "                 OneHotEncoder(handle_unknown=&#x27;ignore&#x27;, sparse=False))])</pre></div></div></div><div class=\"sk-serial\"><div class=\"sk-item\"><div class=\"sk-estimator sk-toggleable\"><input class=\"sk-toggleable__control sk-hidden--visually\" id=\"sk-estimator-id-2\" type=\"checkbox\" ><label for=\"sk-estimator-id-2\" class=\"sk-toggleable__label sk-toggleable__label-arrow\">FunctionTransformer</label><div class=\"sk-toggleable__content\"><pre>FunctionTransformer(func=&lt;function nan_imp at 0x7ff287dd5dc0&gt;)</pre></div></div></div><div class=\"sk-item\"><div class=\"sk-estimator sk-toggleable\"><input class=\"sk-toggleable__control sk-hidden--visually\" id=\"sk-estimator-id-3\" type=\"checkbox\" ><label for=\"sk-estimator-id-3\" class=\"sk-toggleable__label sk-toggleable__label-arrow\">OrdinalEncoder</label><div class=\"sk-toggleable__content\"><pre>OrdinalEncoder()</pre></div></div></div><div class=\"sk-item\"><div class=\"sk-estimator sk-toggleable\"><input class=\"sk-toggleable__control sk-hidden--visually\" id=\"sk-estimator-id-4\" type=\"checkbox\" ><label for=\"sk-estimator-id-4\" class=\"sk-toggleable__label sk-toggleable__label-arrow\">SimpleImputer</label><div class=\"sk-toggleable__content\"><pre>SimpleImputer(strategy=&#x27;most_frequent&#x27;)</pre></div></div></div><div class=\"sk-item\"><div class=\"sk-estimator sk-toggleable\"><input class=\"sk-toggleable__control sk-hidden--visually\" id=\"sk-estimator-id-5\" type=\"checkbox\" ><label for=\"sk-estimator-id-5\" class=\"sk-toggleable__label sk-toggleable__label-arrow\">OneHotEncoder</label><div class=\"sk-toggleable__content\"><pre>OneHotEncoder(handle_unknown=&#x27;ignore&#x27;, sparse=False)</pre></div></div></div></div></div></div></div>"
      ],
      "text/plain": [
       "Pipeline(steps=[('functiontransformer',\n",
       "                 FunctionTransformer(func=<function nan_imp at 0x7ff287dd5dc0>)),\n",
       "                ('ordinalencoder', OrdinalEncoder()),\n",
       "                ('simpleimputer', SimpleImputer(strategy='most_frequent')),\n",
       "                ('onehotencoder',\n",
       "                 OneHotEncoder(handle_unknown='ignore', sparse=False))])"
      ]
     },
     "execution_count": 26,
     "metadata": {},
     "output_type": "execute_result"
    }
   ],
   "source": [
    "str_pipe"
   ]
  },
  {
   "cell_type": "code",
   "execution_count": 27,
   "id": "1b372455-8f9f-4e9a-9eac-62c4d745b4fd",
   "metadata": {},
   "outputs": [],
   "source": [
    "preprocessor = ColumnTransformer([\n",
    "    ('num_pip', num_pipe, num_vars),\n",
    "    ('cat_pip', cat_pipe, red_cat_vars), \n",
    "    ('str_pip', str_pipe, str_vars)],\n",
    "    remainder='drop' ## all columns not in num_vars and red_cat_vars are dropped.\n",
    ")"
   ]
  },
  {
   "cell_type": "code",
   "execution_count": 28,
   "id": "4fab0e75-7ae8-4584-9309-82f453536ae2",
   "metadata": {},
   "outputs": [
    {
     "data": {
      "text/html": [
       "<style>#sk-container-id-2 {color: black;background-color: white;}#sk-container-id-2 pre{padding: 0;}#sk-container-id-2 div.sk-toggleable {background-color: white;}#sk-container-id-2 label.sk-toggleable__label {cursor: pointer;display: block;width: 100%;margin-bottom: 0;padding: 0.3em;box-sizing: border-box;text-align: center;}#sk-container-id-2 label.sk-toggleable__label-arrow:before {content: \"▸\";float: left;margin-right: 0.25em;color: #696969;}#sk-container-id-2 label.sk-toggleable__label-arrow:hover:before {color: black;}#sk-container-id-2 div.sk-estimator:hover label.sk-toggleable__label-arrow:before {color: black;}#sk-container-id-2 div.sk-toggleable__content {max-height: 0;max-width: 0;overflow: hidden;text-align: left;background-color: #f0f8ff;}#sk-container-id-2 div.sk-toggleable__content pre {margin: 0.2em;color: black;border-radius: 0.25em;background-color: #f0f8ff;}#sk-container-id-2 input.sk-toggleable__control:checked~div.sk-toggleable__content {max-height: 200px;max-width: 100%;overflow: auto;}#sk-container-id-2 input.sk-toggleable__control:checked~label.sk-toggleable__label-arrow:before {content: \"▾\";}#sk-container-id-2 div.sk-estimator input.sk-toggleable__control:checked~label.sk-toggleable__label {background-color: #d4ebff;}#sk-container-id-2 div.sk-label input.sk-toggleable__control:checked~label.sk-toggleable__label {background-color: #d4ebff;}#sk-container-id-2 input.sk-hidden--visually {border: 0;clip: rect(1px 1px 1px 1px);clip: rect(1px, 1px, 1px, 1px);height: 1px;margin: -1px;overflow: hidden;padding: 0;position: absolute;width: 1px;}#sk-container-id-2 div.sk-estimator {font-family: monospace;background-color: #f0f8ff;border: 1px dotted black;border-radius: 0.25em;box-sizing: border-box;margin-bottom: 0.5em;}#sk-container-id-2 div.sk-estimator:hover {background-color: #d4ebff;}#sk-container-id-2 div.sk-parallel-item::after {content: \"\";width: 100%;border-bottom: 1px solid gray;flex-grow: 1;}#sk-container-id-2 div.sk-label:hover label.sk-toggleable__label {background-color: #d4ebff;}#sk-container-id-2 div.sk-serial::before {content: \"\";position: absolute;border-left: 1px solid gray;box-sizing: border-box;top: 0;bottom: 0;left: 50%;z-index: 0;}#sk-container-id-2 div.sk-serial {display: flex;flex-direction: column;align-items: center;background-color: white;padding-right: 0.2em;padding-left: 0.2em;position: relative;}#sk-container-id-2 div.sk-item {position: relative;z-index: 1;}#sk-container-id-2 div.sk-parallel {display: flex;align-items: stretch;justify-content: center;background-color: white;position: relative;}#sk-container-id-2 div.sk-item::before, #sk-container-id-2 div.sk-parallel-item::before {content: \"\";position: absolute;border-left: 1px solid gray;box-sizing: border-box;top: 0;bottom: 0;left: 50%;z-index: -1;}#sk-container-id-2 div.sk-parallel-item {display: flex;flex-direction: column;z-index: 1;position: relative;background-color: white;}#sk-container-id-2 div.sk-parallel-item:first-child::after {align-self: flex-end;width: 50%;}#sk-container-id-2 div.sk-parallel-item:last-child::after {align-self: flex-start;width: 50%;}#sk-container-id-2 div.sk-parallel-item:only-child::after {width: 0;}#sk-container-id-2 div.sk-dashed-wrapped {border: 1px dashed gray;margin: 0 0.4em 0.5em 0.4em;box-sizing: border-box;padding-bottom: 0.4em;background-color: white;}#sk-container-id-2 div.sk-label label {font-family: monospace;font-weight: bold;display: inline-block;line-height: 1.2em;}#sk-container-id-2 div.sk-label-container {text-align: center;}#sk-container-id-2 div.sk-container {/* jupyter's `normalize.less` sets `[hidden] { display: none; }` but bootstrap.min.css set `[hidden] { display: none !important; }` so we also need the `!important` here to be able to override the default hidden behavior on the sphinx rendered scikit-learn.org. See: https://github.com/scikit-learn/scikit-learn/issues/21755 */display: inline-block !important;position: relative;}#sk-container-id-2 div.sk-text-repr-fallback {display: none;}</style><div id=\"sk-container-id-2\" class=\"sk-top-container\"><div class=\"sk-text-repr-fallback\"><pre>ColumnTransformer(transformers=[(&#x27;num_pip&#x27;,\n",
       "                                 Pipeline(steps=[(&#x27;robustscaler&#x27;,\n",
       "                                                  RobustScaler()),\n",
       "                                                 (&#x27;simpleimputer&#x27;,\n",
       "                                                  SimpleImputer())]),\n",
       "                                 [&#x27;P_2&#x27;, &#x27;D_39&#x27;, &#x27;B_2&#x27;, &#x27;R_1&#x27;, &#x27;S_3&#x27;, &#x27;D_41&#x27;,\n",
       "                                  &#x27;B_3&#x27;, &#x27;D_42&#x27;, &#x27;D_43&#x27;, &#x27;D_44&#x27;, &#x27;B_4&#x27;, &#x27;D_45&#x27;,\n",
       "                                  &#x27;B_5&#x27;, &#x27;R_2&#x27;, &#x27;D_46&#x27;, &#x27;D_47&#x27;, &#x27;D_48&#x27;, &#x27;D_49&#x27;,\n",
       "                                  &#x27;B_6&#x27;, &#x27;B_8&#x27;, &#x27;D_50&#x27;, &#x27;D_51&#x27;, &#x27;B_9&#x27;, &#x27;R_3&#x27;,\n",
       "                                  &#x27;D_52&#x27;, &#x27;P_3&#x27;, &#x27;B_10&#x27;, &#x27;D_53&#x27;, &#x27;S_5&#x27;, &#x27;S_6&#x27;, ...]),\n",
       "                                (&#x27;cat_pip&#x27;,\n",
       "                                 Pipeline(s...\n",
       "                                 [&#x27;B_30&#x27;, &#x27;B_38&#x27;, &#x27;D_114&#x27;, &#x27;D_116&#x27;, &#x27;D_117&#x27;,\n",
       "                                  &#x27;D_120&#x27;, &#x27;D_126&#x27;, &#x27;D_63&#x27;, &#x27;D_64&#x27;, &#x27;D_68&#x27;]),\n",
       "                                (&#x27;str_pip&#x27;,\n",
       "                                 Pipeline(steps=[(&#x27;functiontransformer&#x27;,\n",
       "                                                  FunctionTransformer(func=&lt;function nan_imp at 0x7ff287dd5dc0&gt;)),\n",
       "                                                 (&#x27;ordinalencoder&#x27;,\n",
       "                                                  OrdinalEncoder()),\n",
       "                                                 (&#x27;simpleimputer&#x27;,\n",
       "                                                  SimpleImputer(strategy=&#x27;most_frequent&#x27;)),\n",
       "                                                 (&#x27;onehotencoder&#x27;,\n",
       "                                                  OneHotEncoder(handle_unknown=&#x27;ignore&#x27;,\n",
       "                                                                sparse=False))]),\n",
       "                                 [&#x27;D_63&#x27;, &#x27;D_64&#x27;])])</pre><b>In a Jupyter environment, please rerun this cell to show the HTML representation or trust the notebook. <br />On GitHub, the HTML representation is unable to render, please try loading this page with nbviewer.org.</b></div><div class=\"sk-container\" hidden><div class=\"sk-item sk-dashed-wrapped\"><div class=\"sk-label-container\"><div class=\"sk-label sk-toggleable\"><input class=\"sk-toggleable__control sk-hidden--visually\" id=\"sk-estimator-id-6\" type=\"checkbox\" ><label for=\"sk-estimator-id-6\" class=\"sk-toggleable__label sk-toggleable__label-arrow\">ColumnTransformer</label><div class=\"sk-toggleable__content\"><pre>ColumnTransformer(transformers=[(&#x27;num_pip&#x27;,\n",
       "                                 Pipeline(steps=[(&#x27;robustscaler&#x27;,\n",
       "                                                  RobustScaler()),\n",
       "                                                 (&#x27;simpleimputer&#x27;,\n",
       "                                                  SimpleImputer())]),\n",
       "                                 [&#x27;P_2&#x27;, &#x27;D_39&#x27;, &#x27;B_2&#x27;, &#x27;R_1&#x27;, &#x27;S_3&#x27;, &#x27;D_41&#x27;,\n",
       "                                  &#x27;B_3&#x27;, &#x27;D_42&#x27;, &#x27;D_43&#x27;, &#x27;D_44&#x27;, &#x27;B_4&#x27;, &#x27;D_45&#x27;,\n",
       "                                  &#x27;B_5&#x27;, &#x27;R_2&#x27;, &#x27;D_46&#x27;, &#x27;D_47&#x27;, &#x27;D_48&#x27;, &#x27;D_49&#x27;,\n",
       "                                  &#x27;B_6&#x27;, &#x27;B_8&#x27;, &#x27;D_50&#x27;, &#x27;D_51&#x27;, &#x27;B_9&#x27;, &#x27;R_3&#x27;,\n",
       "                                  &#x27;D_52&#x27;, &#x27;P_3&#x27;, &#x27;B_10&#x27;, &#x27;D_53&#x27;, &#x27;S_5&#x27;, &#x27;S_6&#x27;, ...]),\n",
       "                                (&#x27;cat_pip&#x27;,\n",
       "                                 Pipeline(s...\n",
       "                                 [&#x27;B_30&#x27;, &#x27;B_38&#x27;, &#x27;D_114&#x27;, &#x27;D_116&#x27;, &#x27;D_117&#x27;,\n",
       "                                  &#x27;D_120&#x27;, &#x27;D_126&#x27;, &#x27;D_63&#x27;, &#x27;D_64&#x27;, &#x27;D_68&#x27;]),\n",
       "                                (&#x27;str_pip&#x27;,\n",
       "                                 Pipeline(steps=[(&#x27;functiontransformer&#x27;,\n",
       "                                                  FunctionTransformer(func=&lt;function nan_imp at 0x7ff287dd5dc0&gt;)),\n",
       "                                                 (&#x27;ordinalencoder&#x27;,\n",
       "                                                  OrdinalEncoder()),\n",
       "                                                 (&#x27;simpleimputer&#x27;,\n",
       "                                                  SimpleImputer(strategy=&#x27;most_frequent&#x27;)),\n",
       "                                                 (&#x27;onehotencoder&#x27;,\n",
       "                                                  OneHotEncoder(handle_unknown=&#x27;ignore&#x27;,\n",
       "                                                                sparse=False))]),\n",
       "                                 [&#x27;D_63&#x27;, &#x27;D_64&#x27;])])</pre></div></div></div><div class=\"sk-parallel\"><div class=\"sk-parallel-item\"><div class=\"sk-item\"><div class=\"sk-label-container\"><div class=\"sk-label sk-toggleable\"><input class=\"sk-toggleable__control sk-hidden--visually\" id=\"sk-estimator-id-7\" type=\"checkbox\" ><label for=\"sk-estimator-id-7\" class=\"sk-toggleable__label sk-toggleable__label-arrow\">num_pip</label><div class=\"sk-toggleable__content\"><pre>[&#x27;P_2&#x27;, &#x27;D_39&#x27;, &#x27;B_2&#x27;, &#x27;R_1&#x27;, &#x27;S_3&#x27;, &#x27;D_41&#x27;, &#x27;B_3&#x27;, &#x27;D_42&#x27;, &#x27;D_43&#x27;, &#x27;D_44&#x27;, &#x27;B_4&#x27;, &#x27;D_45&#x27;, &#x27;B_5&#x27;, &#x27;R_2&#x27;, &#x27;D_46&#x27;, &#x27;D_47&#x27;, &#x27;D_48&#x27;, &#x27;D_49&#x27;, &#x27;B_6&#x27;, &#x27;B_8&#x27;, &#x27;D_50&#x27;, &#x27;D_51&#x27;, &#x27;B_9&#x27;, &#x27;R_3&#x27;, &#x27;D_52&#x27;, &#x27;P_3&#x27;, &#x27;B_10&#x27;, &#x27;D_53&#x27;, &#x27;S_5&#x27;, &#x27;S_6&#x27;, &#x27;D_54&#x27;, &#x27;R_4&#x27;, &#x27;S_7&#x27;, &#x27;B_12&#x27;, &#x27;S_8&#x27;, &#x27;D_55&#x27;, &#x27;D_56&#x27;, &#x27;B_13&#x27;, &#x27;R_5&#x27;, &#x27;D_58&#x27;, &#x27;S_9&#x27;, &#x27;B_14&#x27;, &#x27;D_59&#x27;, &#x27;D_60&#x27;, &#x27;D_61&#x27;, &#x27;B_15&#x27;, &#x27;S_11&#x27;, &#x27;D_62&#x27;, &#x27;D_65&#x27;, &#x27;B_16&#x27;, &#x27;B_17&#x27;, &#x27;B_18&#x27;, &#x27;B_19&#x27;, &#x27;B_20&#x27;, &#x27;S_12&#x27;, &#x27;R_6&#x27;, &#x27;S_13&#x27;, &#x27;B_21&#x27;, &#x27;D_69&#x27;, &#x27;B_22&#x27;, &#x27;D_70&#x27;, &#x27;D_71&#x27;, &#x27;D_72&#x27;, &#x27;S_15&#x27;, &#x27;B_23&#x27;, &#x27;P_4&#x27;, &#x27;D_74&#x27;, &#x27;B_24&#x27;, &#x27;R_7&#x27;, &#x27;B_25&#x27;, &#x27;B_26&#x27;, &#x27;D_78&#x27;, &#x27;D_79&#x27;, &#x27;R_8&#x27;, &#x27;S_16&#x27;, &#x27;D_80&#x27;, &#x27;R_10&#x27;, &#x27;R_11&#x27;, &#x27;B_27&#x27;, &#x27;D_81&#x27;, &#x27;D_82&#x27;, &#x27;S_17&#x27;, &#x27;R_12&#x27;, &#x27;B_28&#x27;, &#x27;R_13&#x27;, &#x27;D_83&#x27;, &#x27;R_14&#x27;, &#x27;R_15&#x27;, &#x27;D_84&#x27;, &#x27;R_16&#x27;, &#x27;S_18&#x27;, &#x27;D_86&#x27;, &#x27;R_17&#x27;, &#x27;R_18&#x27;, &#x27;B_31&#x27;, &#x27;S_19&#x27;, &#x27;R_19&#x27;, &#x27;B_32&#x27;, &#x27;S_20&#x27;, &#x27;R_20&#x27;, &#x27;R_21&#x27;, &#x27;B_33&#x27;, &#x27;D_89&#x27;, &#x27;R_22&#x27;, &#x27;R_23&#x27;, &#x27;D_91&#x27;, &#x27;D_92&#x27;, &#x27;D_93&#x27;, &#x27;D_94&#x27;, &#x27;R_24&#x27;, &#x27;R_25&#x27;, &#x27;D_96&#x27;, &#x27;S_22&#x27;, &#x27;S_23&#x27;, &#x27;S_25&#x27;, &#x27;S_26&#x27;, &#x27;D_102&#x27;, &#x27;D_104&#x27;, &#x27;D_105&#x27;, &#x27;D_106&#x27;, &#x27;D_107&#x27;, &#x27;B_36&#x27;, &#x27;R_26&#x27;, &#x27;R_27&#x27;, &#x27;D_109&#x27;, &#x27;D_112&#x27;, &#x27;B_40&#x27;, &#x27;S_27&#x27;, &#x27;D_113&#x27;, &#x27;D_115&#x27;, &#x27;D_119&#x27;, &#x27;D_121&#x27;, &#x27;D_122&#x27;, &#x27;D_123&#x27;, &#x27;D_124&#x27;, &#x27;D_125&#x27;, &#x27;D_127&#x27;, &#x27;D_128&#x27;, &#x27;D_129&#x27;, &#x27;B_41&#x27;, &#x27;D_130&#x27;, &#x27;D_131&#x27;, &#x27;D_132&#x27;, &#x27;D_133&#x27;, &#x27;R_28&#x27;, &#x27;D_139&#x27;, &#x27;D_140&#x27;, &#x27;D_142&#x27;, &#x27;D_144&#x27;, &#x27;D_145&#x27;]</pre></div></div></div><div class=\"sk-serial\"><div class=\"sk-item\"><div class=\"sk-serial\"><div class=\"sk-item\"><div class=\"sk-estimator sk-toggleable\"><input class=\"sk-toggleable__control sk-hidden--visually\" id=\"sk-estimator-id-8\" type=\"checkbox\" ><label for=\"sk-estimator-id-8\" class=\"sk-toggleable__label sk-toggleable__label-arrow\">RobustScaler</label><div class=\"sk-toggleable__content\"><pre>RobustScaler()</pre></div></div></div><div class=\"sk-item\"><div class=\"sk-estimator sk-toggleable\"><input class=\"sk-toggleable__control sk-hidden--visually\" id=\"sk-estimator-id-9\" type=\"checkbox\" ><label for=\"sk-estimator-id-9\" class=\"sk-toggleable__label sk-toggleable__label-arrow\">SimpleImputer</label><div class=\"sk-toggleable__content\"><pre>SimpleImputer()</pre></div></div></div></div></div></div></div></div><div class=\"sk-parallel-item\"><div class=\"sk-item\"><div class=\"sk-label-container\"><div class=\"sk-label sk-toggleable\"><input class=\"sk-toggleable__control sk-hidden--visually\" id=\"sk-estimator-id-10\" type=\"checkbox\" ><label for=\"sk-estimator-id-10\" class=\"sk-toggleable__label sk-toggleable__label-arrow\">cat_pip</label><div class=\"sk-toggleable__content\"><pre>[&#x27;B_30&#x27;, &#x27;B_38&#x27;, &#x27;D_114&#x27;, &#x27;D_116&#x27;, &#x27;D_117&#x27;, &#x27;D_120&#x27;, &#x27;D_126&#x27;, &#x27;D_63&#x27;, &#x27;D_64&#x27;, &#x27;D_68&#x27;]</pre></div></div></div><div class=\"sk-serial\"><div class=\"sk-item\"><div class=\"sk-serial\"><div class=\"sk-item\"><div class=\"sk-estimator sk-toggleable\"><input class=\"sk-toggleable__control sk-hidden--visually\" id=\"sk-estimator-id-11\" type=\"checkbox\" ><label for=\"sk-estimator-id-11\" class=\"sk-toggleable__label sk-toggleable__label-arrow\">FunctionTransformer</label><div class=\"sk-toggleable__content\"><pre>FunctionTransformer(func=&lt;function nan_imp at 0x7ff287dd5dc0&gt;)</pre></div></div></div><div class=\"sk-item\"><div class=\"sk-estimator sk-toggleable\"><input class=\"sk-toggleable__control sk-hidden--visually\" id=\"sk-estimator-id-12\" type=\"checkbox\" ><label for=\"sk-estimator-id-12\" class=\"sk-toggleable__label sk-toggleable__label-arrow\">SimpleImputer</label><div class=\"sk-toggleable__content\"><pre>SimpleImputer(strategy=&#x27;most_frequent&#x27;)</pre></div></div></div><div class=\"sk-item\"><div class=\"sk-estimator sk-toggleable\"><input class=\"sk-toggleable__control sk-hidden--visually\" id=\"sk-estimator-id-13\" type=\"checkbox\" ><label for=\"sk-estimator-id-13\" class=\"sk-toggleable__label sk-toggleable__label-arrow\">OneHotEncoder</label><div class=\"sk-toggleable__content\"><pre>OneHotEncoder(handle_unknown=&#x27;ignore&#x27;, sparse=False)</pre></div></div></div></div></div></div></div></div><div class=\"sk-parallel-item\"><div class=\"sk-item\"><div class=\"sk-label-container\"><div class=\"sk-label sk-toggleable\"><input class=\"sk-toggleable__control sk-hidden--visually\" id=\"sk-estimator-id-14\" type=\"checkbox\" ><label for=\"sk-estimator-id-14\" class=\"sk-toggleable__label sk-toggleable__label-arrow\">str_pip</label><div class=\"sk-toggleable__content\"><pre>[&#x27;D_63&#x27;, &#x27;D_64&#x27;]</pre></div></div></div><div class=\"sk-serial\"><div class=\"sk-item\"><div class=\"sk-serial\"><div class=\"sk-item\"><div class=\"sk-estimator sk-toggleable\"><input class=\"sk-toggleable__control sk-hidden--visually\" id=\"sk-estimator-id-15\" type=\"checkbox\" ><label for=\"sk-estimator-id-15\" class=\"sk-toggleable__label sk-toggleable__label-arrow\">FunctionTransformer</label><div class=\"sk-toggleable__content\"><pre>FunctionTransformer(func=&lt;function nan_imp at 0x7ff287dd5dc0&gt;)</pre></div></div></div><div class=\"sk-item\"><div class=\"sk-estimator sk-toggleable\"><input class=\"sk-toggleable__control sk-hidden--visually\" id=\"sk-estimator-id-16\" type=\"checkbox\" ><label for=\"sk-estimator-id-16\" class=\"sk-toggleable__label sk-toggleable__label-arrow\">OrdinalEncoder</label><div class=\"sk-toggleable__content\"><pre>OrdinalEncoder()</pre></div></div></div><div class=\"sk-item\"><div class=\"sk-estimator sk-toggleable\"><input class=\"sk-toggleable__control sk-hidden--visually\" id=\"sk-estimator-id-17\" type=\"checkbox\" ><label for=\"sk-estimator-id-17\" class=\"sk-toggleable__label sk-toggleable__label-arrow\">SimpleImputer</label><div class=\"sk-toggleable__content\"><pre>SimpleImputer(strategy=&#x27;most_frequent&#x27;)</pre></div></div></div><div class=\"sk-item\"><div class=\"sk-estimator sk-toggleable\"><input class=\"sk-toggleable__control sk-hidden--visually\" id=\"sk-estimator-id-18\" type=\"checkbox\" ><label for=\"sk-estimator-id-18\" class=\"sk-toggleable__label sk-toggleable__label-arrow\">OneHotEncoder</label><div class=\"sk-toggleable__content\"><pre>OneHotEncoder(handle_unknown=&#x27;ignore&#x27;, sparse=False)</pre></div></div></div></div></div></div></div></div></div></div></div></div>"
      ],
      "text/plain": [
       "ColumnTransformer(transformers=[('num_pip',\n",
       "                                 Pipeline(steps=[('robustscaler',\n",
       "                                                  RobustScaler()),\n",
       "                                                 ('simpleimputer',\n",
       "                                                  SimpleImputer())]),\n",
       "                                 ['P_2', 'D_39', 'B_2', 'R_1', 'S_3', 'D_41',\n",
       "                                  'B_3', 'D_42', 'D_43', 'D_44', 'B_4', 'D_45',\n",
       "                                  'B_5', 'R_2', 'D_46', 'D_47', 'D_48', 'D_49',\n",
       "                                  'B_6', 'B_8', 'D_50', 'D_51', 'B_9', 'R_3',\n",
       "                                  'D_52', 'P_3', 'B_10', 'D_53', 'S_5', 'S_6', ...]),\n",
       "                                ('cat_pip',\n",
       "                                 Pipeline(s...\n",
       "                                 ['B_30', 'B_38', 'D_114', 'D_116', 'D_117',\n",
       "                                  'D_120', 'D_126', 'D_63', 'D_64', 'D_68']),\n",
       "                                ('str_pip',\n",
       "                                 Pipeline(steps=[('functiontransformer',\n",
       "                                                  FunctionTransformer(func=<function nan_imp at 0x7ff287dd5dc0>)),\n",
       "                                                 ('ordinalencoder',\n",
       "                                                  OrdinalEncoder()),\n",
       "                                                 ('simpleimputer',\n",
       "                                                  SimpleImputer(strategy='most_frequent')),\n",
       "                                                 ('onehotencoder',\n",
       "                                                  OneHotEncoder(handle_unknown='ignore',\n",
       "                                                                sparse=False))]),\n",
       "                                 ['D_63', 'D_64'])])"
      ]
     },
     "execution_count": 28,
     "metadata": {},
     "output_type": "execute_result"
    }
   ],
   "source": [
    "preprocessor"
   ]
  },
  {
   "cell_type": "code",
   "execution_count": 29,
   "id": "38099c49-aee7-495c-9a5a-2f57f676508f",
   "metadata": {},
   "outputs": [
    {
     "data": {
      "text/html": [
       "<style>#sk-container-id-3 {color: black;background-color: white;}#sk-container-id-3 pre{padding: 0;}#sk-container-id-3 div.sk-toggleable {background-color: white;}#sk-container-id-3 label.sk-toggleable__label {cursor: pointer;display: block;width: 100%;margin-bottom: 0;padding: 0.3em;box-sizing: border-box;text-align: center;}#sk-container-id-3 label.sk-toggleable__label-arrow:before {content: \"▸\";float: left;margin-right: 0.25em;color: #696969;}#sk-container-id-3 label.sk-toggleable__label-arrow:hover:before {color: black;}#sk-container-id-3 div.sk-estimator:hover label.sk-toggleable__label-arrow:before {color: black;}#sk-container-id-3 div.sk-toggleable__content {max-height: 0;max-width: 0;overflow: hidden;text-align: left;background-color: #f0f8ff;}#sk-container-id-3 div.sk-toggleable__content pre {margin: 0.2em;color: black;border-radius: 0.25em;background-color: #f0f8ff;}#sk-container-id-3 input.sk-toggleable__control:checked~div.sk-toggleable__content {max-height: 200px;max-width: 100%;overflow: auto;}#sk-container-id-3 input.sk-toggleable__control:checked~label.sk-toggleable__label-arrow:before {content: \"▾\";}#sk-container-id-3 div.sk-estimator input.sk-toggleable__control:checked~label.sk-toggleable__label {background-color: #d4ebff;}#sk-container-id-3 div.sk-label input.sk-toggleable__control:checked~label.sk-toggleable__label {background-color: #d4ebff;}#sk-container-id-3 input.sk-hidden--visually {border: 0;clip: rect(1px 1px 1px 1px);clip: rect(1px, 1px, 1px, 1px);height: 1px;margin: -1px;overflow: hidden;padding: 0;position: absolute;width: 1px;}#sk-container-id-3 div.sk-estimator {font-family: monospace;background-color: #f0f8ff;border: 1px dotted black;border-radius: 0.25em;box-sizing: border-box;margin-bottom: 0.5em;}#sk-container-id-3 div.sk-estimator:hover {background-color: #d4ebff;}#sk-container-id-3 div.sk-parallel-item::after {content: \"\";width: 100%;border-bottom: 1px solid gray;flex-grow: 1;}#sk-container-id-3 div.sk-label:hover label.sk-toggleable__label {background-color: #d4ebff;}#sk-container-id-3 div.sk-serial::before {content: \"\";position: absolute;border-left: 1px solid gray;box-sizing: border-box;top: 0;bottom: 0;left: 50%;z-index: 0;}#sk-container-id-3 div.sk-serial {display: flex;flex-direction: column;align-items: center;background-color: white;padding-right: 0.2em;padding-left: 0.2em;position: relative;}#sk-container-id-3 div.sk-item {position: relative;z-index: 1;}#sk-container-id-3 div.sk-parallel {display: flex;align-items: stretch;justify-content: center;background-color: white;position: relative;}#sk-container-id-3 div.sk-item::before, #sk-container-id-3 div.sk-parallel-item::before {content: \"\";position: absolute;border-left: 1px solid gray;box-sizing: border-box;top: 0;bottom: 0;left: 50%;z-index: -1;}#sk-container-id-3 div.sk-parallel-item {display: flex;flex-direction: column;z-index: 1;position: relative;background-color: white;}#sk-container-id-3 div.sk-parallel-item:first-child::after {align-self: flex-end;width: 50%;}#sk-container-id-3 div.sk-parallel-item:last-child::after {align-self: flex-start;width: 50%;}#sk-container-id-3 div.sk-parallel-item:only-child::after {width: 0;}#sk-container-id-3 div.sk-dashed-wrapped {border: 1px dashed gray;margin: 0 0.4em 0.5em 0.4em;box-sizing: border-box;padding-bottom: 0.4em;background-color: white;}#sk-container-id-3 div.sk-label label {font-family: monospace;font-weight: bold;display: inline-block;line-height: 1.2em;}#sk-container-id-3 div.sk-label-container {text-align: center;}#sk-container-id-3 div.sk-container {/* jupyter's `normalize.less` sets `[hidden] { display: none; }` but bootstrap.min.css set `[hidden] { display: none !important; }` so we also need the `!important` here to be able to override the default hidden behavior on the sphinx rendered scikit-learn.org. See: https://github.com/scikit-learn/scikit-learn/issues/21755 */display: inline-block !important;position: relative;}#sk-container-id-3 div.sk-text-repr-fallback {display: none;}</style><div id=\"sk-container-id-3\" class=\"sk-top-container\"><div class=\"sk-text-repr-fallback\"><pre>ColumnTransformer(transformers=[(&#x27;num_pip&#x27;,\n",
       "                                 Pipeline(steps=[(&#x27;robustscaler&#x27;,\n",
       "                                                  RobustScaler()),\n",
       "                                                 (&#x27;simpleimputer&#x27;,\n",
       "                                                  SimpleImputer())]),\n",
       "                                 [&#x27;P_2&#x27;, &#x27;D_39&#x27;, &#x27;B_2&#x27;, &#x27;R_1&#x27;, &#x27;S_3&#x27;, &#x27;D_41&#x27;,\n",
       "                                  &#x27;B_3&#x27;, &#x27;D_42&#x27;, &#x27;D_43&#x27;, &#x27;D_44&#x27;, &#x27;B_4&#x27;, &#x27;D_45&#x27;,\n",
       "                                  &#x27;B_5&#x27;, &#x27;R_2&#x27;, &#x27;D_46&#x27;, &#x27;D_47&#x27;, &#x27;D_48&#x27;, &#x27;D_49&#x27;,\n",
       "                                  &#x27;B_6&#x27;, &#x27;B_8&#x27;, &#x27;D_50&#x27;, &#x27;D_51&#x27;, &#x27;B_9&#x27;, &#x27;R_3&#x27;,\n",
       "                                  &#x27;D_52&#x27;, &#x27;P_3&#x27;, &#x27;B_10&#x27;, &#x27;D_53&#x27;, &#x27;S_5&#x27;, &#x27;S_6&#x27;, ...]),\n",
       "                                (&#x27;cat_pip&#x27;,\n",
       "                                 Pipeline(s...\n",
       "                                 [&#x27;B_30&#x27;, &#x27;B_38&#x27;, &#x27;D_114&#x27;, &#x27;D_116&#x27;, &#x27;D_117&#x27;,\n",
       "                                  &#x27;D_120&#x27;, &#x27;D_126&#x27;, &#x27;D_63&#x27;, &#x27;D_64&#x27;, &#x27;D_68&#x27;]),\n",
       "                                (&#x27;str_pip&#x27;,\n",
       "                                 Pipeline(steps=[(&#x27;functiontransformer&#x27;,\n",
       "                                                  FunctionTransformer(func=&lt;function nan_imp at 0x7ff287dd5dc0&gt;)),\n",
       "                                                 (&#x27;ordinalencoder&#x27;,\n",
       "                                                  OrdinalEncoder()),\n",
       "                                                 (&#x27;simpleimputer&#x27;,\n",
       "                                                  SimpleImputer(strategy=&#x27;most_frequent&#x27;)),\n",
       "                                                 (&#x27;onehotencoder&#x27;,\n",
       "                                                  OneHotEncoder(handle_unknown=&#x27;ignore&#x27;,\n",
       "                                                                sparse=False))]),\n",
       "                                 [&#x27;D_63&#x27;, &#x27;D_64&#x27;])])</pre><b>In a Jupyter environment, please rerun this cell to show the HTML representation or trust the notebook. <br />On GitHub, the HTML representation is unable to render, please try loading this page with nbviewer.org.</b></div><div class=\"sk-container\" hidden><div class=\"sk-item sk-dashed-wrapped\"><div class=\"sk-label-container\"><div class=\"sk-label sk-toggleable\"><input class=\"sk-toggleable__control sk-hidden--visually\" id=\"sk-estimator-id-19\" type=\"checkbox\" ><label for=\"sk-estimator-id-19\" class=\"sk-toggleable__label sk-toggleable__label-arrow\">ColumnTransformer</label><div class=\"sk-toggleable__content\"><pre>ColumnTransformer(transformers=[(&#x27;num_pip&#x27;,\n",
       "                                 Pipeline(steps=[(&#x27;robustscaler&#x27;,\n",
       "                                                  RobustScaler()),\n",
       "                                                 (&#x27;simpleimputer&#x27;,\n",
       "                                                  SimpleImputer())]),\n",
       "                                 [&#x27;P_2&#x27;, &#x27;D_39&#x27;, &#x27;B_2&#x27;, &#x27;R_1&#x27;, &#x27;S_3&#x27;, &#x27;D_41&#x27;,\n",
       "                                  &#x27;B_3&#x27;, &#x27;D_42&#x27;, &#x27;D_43&#x27;, &#x27;D_44&#x27;, &#x27;B_4&#x27;, &#x27;D_45&#x27;,\n",
       "                                  &#x27;B_5&#x27;, &#x27;R_2&#x27;, &#x27;D_46&#x27;, &#x27;D_47&#x27;, &#x27;D_48&#x27;, &#x27;D_49&#x27;,\n",
       "                                  &#x27;B_6&#x27;, &#x27;B_8&#x27;, &#x27;D_50&#x27;, &#x27;D_51&#x27;, &#x27;B_9&#x27;, &#x27;R_3&#x27;,\n",
       "                                  &#x27;D_52&#x27;, &#x27;P_3&#x27;, &#x27;B_10&#x27;, &#x27;D_53&#x27;, &#x27;S_5&#x27;, &#x27;S_6&#x27;, ...]),\n",
       "                                (&#x27;cat_pip&#x27;,\n",
       "                                 Pipeline(s...\n",
       "                                 [&#x27;B_30&#x27;, &#x27;B_38&#x27;, &#x27;D_114&#x27;, &#x27;D_116&#x27;, &#x27;D_117&#x27;,\n",
       "                                  &#x27;D_120&#x27;, &#x27;D_126&#x27;, &#x27;D_63&#x27;, &#x27;D_64&#x27;, &#x27;D_68&#x27;]),\n",
       "                                (&#x27;str_pip&#x27;,\n",
       "                                 Pipeline(steps=[(&#x27;functiontransformer&#x27;,\n",
       "                                                  FunctionTransformer(func=&lt;function nan_imp at 0x7ff287dd5dc0&gt;)),\n",
       "                                                 (&#x27;ordinalencoder&#x27;,\n",
       "                                                  OrdinalEncoder()),\n",
       "                                                 (&#x27;simpleimputer&#x27;,\n",
       "                                                  SimpleImputer(strategy=&#x27;most_frequent&#x27;)),\n",
       "                                                 (&#x27;onehotencoder&#x27;,\n",
       "                                                  OneHotEncoder(handle_unknown=&#x27;ignore&#x27;,\n",
       "                                                                sparse=False))]),\n",
       "                                 [&#x27;D_63&#x27;, &#x27;D_64&#x27;])])</pre></div></div></div><div class=\"sk-parallel\"><div class=\"sk-parallel-item\"><div class=\"sk-item\"><div class=\"sk-label-container\"><div class=\"sk-label sk-toggleable\"><input class=\"sk-toggleable__control sk-hidden--visually\" id=\"sk-estimator-id-20\" type=\"checkbox\" ><label for=\"sk-estimator-id-20\" class=\"sk-toggleable__label sk-toggleable__label-arrow\">num_pip</label><div class=\"sk-toggleable__content\"><pre>[&#x27;P_2&#x27;, &#x27;D_39&#x27;, &#x27;B_2&#x27;, &#x27;R_1&#x27;, &#x27;S_3&#x27;, &#x27;D_41&#x27;, &#x27;B_3&#x27;, &#x27;D_42&#x27;, &#x27;D_43&#x27;, &#x27;D_44&#x27;, &#x27;B_4&#x27;, &#x27;D_45&#x27;, &#x27;B_5&#x27;, &#x27;R_2&#x27;, &#x27;D_46&#x27;, &#x27;D_47&#x27;, &#x27;D_48&#x27;, &#x27;D_49&#x27;, &#x27;B_6&#x27;, &#x27;B_8&#x27;, &#x27;D_50&#x27;, &#x27;D_51&#x27;, &#x27;B_9&#x27;, &#x27;R_3&#x27;, &#x27;D_52&#x27;, &#x27;P_3&#x27;, &#x27;B_10&#x27;, &#x27;D_53&#x27;, &#x27;S_5&#x27;, &#x27;S_6&#x27;, &#x27;D_54&#x27;, &#x27;R_4&#x27;, &#x27;S_7&#x27;, &#x27;B_12&#x27;, &#x27;S_8&#x27;, &#x27;D_55&#x27;, &#x27;D_56&#x27;, &#x27;B_13&#x27;, &#x27;R_5&#x27;, &#x27;D_58&#x27;, &#x27;S_9&#x27;, &#x27;B_14&#x27;, &#x27;D_59&#x27;, &#x27;D_60&#x27;, &#x27;D_61&#x27;, &#x27;B_15&#x27;, &#x27;S_11&#x27;, &#x27;D_62&#x27;, &#x27;D_65&#x27;, &#x27;B_16&#x27;, &#x27;B_17&#x27;, &#x27;B_18&#x27;, &#x27;B_19&#x27;, &#x27;B_20&#x27;, &#x27;S_12&#x27;, &#x27;R_6&#x27;, &#x27;S_13&#x27;, &#x27;B_21&#x27;, &#x27;D_69&#x27;, &#x27;B_22&#x27;, &#x27;D_70&#x27;, &#x27;D_71&#x27;, &#x27;D_72&#x27;, &#x27;S_15&#x27;, &#x27;B_23&#x27;, &#x27;P_4&#x27;, &#x27;D_74&#x27;, &#x27;B_24&#x27;, &#x27;R_7&#x27;, &#x27;B_25&#x27;, &#x27;B_26&#x27;, &#x27;D_78&#x27;, &#x27;D_79&#x27;, &#x27;R_8&#x27;, &#x27;S_16&#x27;, &#x27;D_80&#x27;, &#x27;R_10&#x27;, &#x27;R_11&#x27;, &#x27;B_27&#x27;, &#x27;D_81&#x27;, &#x27;D_82&#x27;, &#x27;S_17&#x27;, &#x27;R_12&#x27;, &#x27;B_28&#x27;, &#x27;R_13&#x27;, &#x27;D_83&#x27;, &#x27;R_14&#x27;, &#x27;R_15&#x27;, &#x27;D_84&#x27;, &#x27;R_16&#x27;, &#x27;S_18&#x27;, &#x27;D_86&#x27;, &#x27;R_17&#x27;, &#x27;R_18&#x27;, &#x27;B_31&#x27;, &#x27;S_19&#x27;, &#x27;R_19&#x27;, &#x27;B_32&#x27;, &#x27;S_20&#x27;, &#x27;R_20&#x27;, &#x27;R_21&#x27;, &#x27;B_33&#x27;, &#x27;D_89&#x27;, &#x27;R_22&#x27;, &#x27;R_23&#x27;, &#x27;D_91&#x27;, &#x27;D_92&#x27;, &#x27;D_93&#x27;, &#x27;D_94&#x27;, &#x27;R_24&#x27;, &#x27;R_25&#x27;, &#x27;D_96&#x27;, &#x27;S_22&#x27;, &#x27;S_23&#x27;, &#x27;S_25&#x27;, &#x27;S_26&#x27;, &#x27;D_102&#x27;, &#x27;D_104&#x27;, &#x27;D_105&#x27;, &#x27;D_106&#x27;, &#x27;D_107&#x27;, &#x27;B_36&#x27;, &#x27;R_26&#x27;, &#x27;R_27&#x27;, &#x27;D_109&#x27;, &#x27;D_112&#x27;, &#x27;B_40&#x27;, &#x27;S_27&#x27;, &#x27;D_113&#x27;, &#x27;D_115&#x27;, &#x27;D_119&#x27;, &#x27;D_121&#x27;, &#x27;D_122&#x27;, &#x27;D_123&#x27;, &#x27;D_124&#x27;, &#x27;D_125&#x27;, &#x27;D_127&#x27;, &#x27;D_128&#x27;, &#x27;D_129&#x27;, &#x27;B_41&#x27;, &#x27;D_130&#x27;, &#x27;D_131&#x27;, &#x27;D_132&#x27;, &#x27;D_133&#x27;, &#x27;R_28&#x27;, &#x27;D_139&#x27;, &#x27;D_140&#x27;, &#x27;D_142&#x27;, &#x27;D_144&#x27;, &#x27;D_145&#x27;]</pre></div></div></div><div class=\"sk-serial\"><div class=\"sk-item\"><div class=\"sk-serial\"><div class=\"sk-item\"><div class=\"sk-estimator sk-toggleable\"><input class=\"sk-toggleable__control sk-hidden--visually\" id=\"sk-estimator-id-21\" type=\"checkbox\" ><label for=\"sk-estimator-id-21\" class=\"sk-toggleable__label sk-toggleable__label-arrow\">RobustScaler</label><div class=\"sk-toggleable__content\"><pre>RobustScaler()</pre></div></div></div><div class=\"sk-item\"><div class=\"sk-estimator sk-toggleable\"><input class=\"sk-toggleable__control sk-hidden--visually\" id=\"sk-estimator-id-22\" type=\"checkbox\" ><label for=\"sk-estimator-id-22\" class=\"sk-toggleable__label sk-toggleable__label-arrow\">SimpleImputer</label><div class=\"sk-toggleable__content\"><pre>SimpleImputer()</pre></div></div></div></div></div></div></div></div><div class=\"sk-parallel-item\"><div class=\"sk-item\"><div class=\"sk-label-container\"><div class=\"sk-label sk-toggleable\"><input class=\"sk-toggleable__control sk-hidden--visually\" id=\"sk-estimator-id-23\" type=\"checkbox\" ><label for=\"sk-estimator-id-23\" class=\"sk-toggleable__label sk-toggleable__label-arrow\">cat_pip</label><div class=\"sk-toggleable__content\"><pre>[&#x27;B_30&#x27;, &#x27;B_38&#x27;, &#x27;D_114&#x27;, &#x27;D_116&#x27;, &#x27;D_117&#x27;, &#x27;D_120&#x27;, &#x27;D_126&#x27;, &#x27;D_63&#x27;, &#x27;D_64&#x27;, &#x27;D_68&#x27;]</pre></div></div></div><div class=\"sk-serial\"><div class=\"sk-item\"><div class=\"sk-serial\"><div class=\"sk-item\"><div class=\"sk-estimator sk-toggleable\"><input class=\"sk-toggleable__control sk-hidden--visually\" id=\"sk-estimator-id-24\" type=\"checkbox\" ><label for=\"sk-estimator-id-24\" class=\"sk-toggleable__label sk-toggleable__label-arrow\">FunctionTransformer</label><div class=\"sk-toggleable__content\"><pre>FunctionTransformer(func=&lt;function nan_imp at 0x7ff287dd5dc0&gt;)</pre></div></div></div><div class=\"sk-item\"><div class=\"sk-estimator sk-toggleable\"><input class=\"sk-toggleable__control sk-hidden--visually\" id=\"sk-estimator-id-25\" type=\"checkbox\" ><label for=\"sk-estimator-id-25\" class=\"sk-toggleable__label sk-toggleable__label-arrow\">SimpleImputer</label><div class=\"sk-toggleable__content\"><pre>SimpleImputer(strategy=&#x27;most_frequent&#x27;)</pre></div></div></div><div class=\"sk-item\"><div class=\"sk-estimator sk-toggleable\"><input class=\"sk-toggleable__control sk-hidden--visually\" id=\"sk-estimator-id-26\" type=\"checkbox\" ><label for=\"sk-estimator-id-26\" class=\"sk-toggleable__label sk-toggleable__label-arrow\">OneHotEncoder</label><div class=\"sk-toggleable__content\"><pre>OneHotEncoder(handle_unknown=&#x27;ignore&#x27;, sparse=False)</pre></div></div></div></div></div></div></div></div><div class=\"sk-parallel-item\"><div class=\"sk-item\"><div class=\"sk-label-container\"><div class=\"sk-label sk-toggleable\"><input class=\"sk-toggleable__control sk-hidden--visually\" id=\"sk-estimator-id-27\" type=\"checkbox\" ><label for=\"sk-estimator-id-27\" class=\"sk-toggleable__label sk-toggleable__label-arrow\">str_pip</label><div class=\"sk-toggleable__content\"><pre>[&#x27;D_63&#x27;, &#x27;D_64&#x27;]</pre></div></div></div><div class=\"sk-serial\"><div class=\"sk-item\"><div class=\"sk-serial\"><div class=\"sk-item\"><div class=\"sk-estimator sk-toggleable\"><input class=\"sk-toggleable__control sk-hidden--visually\" id=\"sk-estimator-id-28\" type=\"checkbox\" ><label for=\"sk-estimator-id-28\" class=\"sk-toggleable__label sk-toggleable__label-arrow\">FunctionTransformer</label><div class=\"sk-toggleable__content\"><pre>FunctionTransformer(func=&lt;function nan_imp at 0x7ff287dd5dc0&gt;)</pre></div></div></div><div class=\"sk-item\"><div class=\"sk-estimator sk-toggleable\"><input class=\"sk-toggleable__control sk-hidden--visually\" id=\"sk-estimator-id-29\" type=\"checkbox\" ><label for=\"sk-estimator-id-29\" class=\"sk-toggleable__label sk-toggleable__label-arrow\">OrdinalEncoder</label><div class=\"sk-toggleable__content\"><pre>OrdinalEncoder()</pre></div></div></div><div class=\"sk-item\"><div class=\"sk-estimator sk-toggleable\"><input class=\"sk-toggleable__control sk-hidden--visually\" id=\"sk-estimator-id-30\" type=\"checkbox\" ><label for=\"sk-estimator-id-30\" class=\"sk-toggleable__label sk-toggleable__label-arrow\">SimpleImputer</label><div class=\"sk-toggleable__content\"><pre>SimpleImputer(strategy=&#x27;most_frequent&#x27;)</pre></div></div></div><div class=\"sk-item\"><div class=\"sk-estimator sk-toggleable\"><input class=\"sk-toggleable__control sk-hidden--visually\" id=\"sk-estimator-id-31\" type=\"checkbox\" ><label for=\"sk-estimator-id-31\" class=\"sk-toggleable__label sk-toggleable__label-arrow\">OneHotEncoder</label><div class=\"sk-toggleable__content\"><pre>OneHotEncoder(handle_unknown=&#x27;ignore&#x27;, sparse=False)</pre></div></div></div></div></div></div></div></div></div></div></div></div>"
      ],
      "text/plain": [
       "ColumnTransformer(transformers=[('num_pip',\n",
       "                                 Pipeline(steps=[('robustscaler',\n",
       "                                                  RobustScaler()),\n",
       "                                                 ('simpleimputer',\n",
       "                                                  SimpleImputer())]),\n",
       "                                 ['P_2', 'D_39', 'B_2', 'R_1', 'S_3', 'D_41',\n",
       "                                  'B_3', 'D_42', 'D_43', 'D_44', 'B_4', 'D_45',\n",
       "                                  'B_5', 'R_2', 'D_46', 'D_47', 'D_48', 'D_49',\n",
       "                                  'B_6', 'B_8', 'D_50', 'D_51', 'B_9', 'R_3',\n",
       "                                  'D_52', 'P_3', 'B_10', 'D_53', 'S_5', 'S_6', ...]),\n",
       "                                ('cat_pip',\n",
       "                                 Pipeline(s...\n",
       "                                 ['B_30', 'B_38', 'D_114', 'D_116', 'D_117',\n",
       "                                  'D_120', 'D_126', 'D_63', 'D_64', 'D_68']),\n",
       "                                ('str_pip',\n",
       "                                 Pipeline(steps=[('functiontransformer',\n",
       "                                                  FunctionTransformer(func=<function nan_imp at 0x7ff287dd5dc0>)),\n",
       "                                                 ('ordinalencoder',\n",
       "                                                  OrdinalEncoder()),\n",
       "                                                 ('simpleimputer',\n",
       "                                                  SimpleImputer(strategy='most_frequent')),\n",
       "                                                 ('onehotencoder',\n",
       "                                                  OneHotEncoder(handle_unknown='ignore',\n",
       "                                                                sparse=False))]),\n",
       "                                 ['D_63', 'D_64'])])"
      ]
     },
     "execution_count": 29,
     "metadata": {},
     "output_type": "execute_result"
    }
   ],
   "source": [
    "preprocessor.fit(X_red)"
   ]
  },
  {
   "cell_type": "code",
   "execution_count": 30,
   "id": "ef1f272b-1506-4e2b-b77c-76d7d45f25c5",
   "metadata": {},
   "outputs": [],
   "source": [
    "X_pp = pd.DataFrame(preprocessor.transform(X_red))"
   ]
  },
  {
   "cell_type": "code",
   "execution_count": 31,
   "id": "1b4aa1fd-eda8-4588-bbb7-e4cec289308c",
   "metadata": {},
   "outputs": [
    {
     "data": {
      "text/html": [
       "<div>\n",
       "<style scoped>\n",
       "    .dataframe tbody tr th:only-of-type {\n",
       "        vertical-align: middle;\n",
       "    }\n",
       "\n",
       "    .dataframe tbody tr th {\n",
       "        vertical-align: top;\n",
       "    }\n",
       "\n",
       "    .dataframe thead th {\n",
       "        text-align: right;\n",
       "    }\n",
       "</style>\n",
       "<table border=\"1\" class=\"dataframe\">\n",
       "  <thead>\n",
       "    <tr style=\"text-align: right;\">\n",
       "      <th></th>\n",
       "      <th>0</th>\n",
       "      <th>1</th>\n",
       "      <th>2</th>\n",
       "      <th>3</th>\n",
       "      <th>4</th>\n",
       "      <th>5</th>\n",
       "      <th>6</th>\n",
       "      <th>7</th>\n",
       "      <th>8</th>\n",
       "      <th>9</th>\n",
       "      <th>...</th>\n",
       "      <th>189</th>\n",
       "      <th>190</th>\n",
       "      <th>191</th>\n",
       "      <th>192</th>\n",
       "      <th>193</th>\n",
       "      <th>194</th>\n",
       "      <th>195</th>\n",
       "      <th>196</th>\n",
       "      <th>197</th>\n",
       "      <th>198</th>\n",
       "    </tr>\n",
       "  </thead>\n",
       "  <tbody>\n",
       "    <tr>\n",
       "      <th>0</th>\n",
       "      <td>-0.432532</td>\n",
       "      <td>1.390477</td>\n",
       "      <td>0.219561</td>\n",
       "      <td>0.633174</td>\n",
       "      <td>1.052237</td>\n",
       "      <td>0.377275</td>\n",
       "      <td>0.112275</td>\n",
       "      <td>0.107377</td>\n",
       "      <td>1.289006</td>\n",
       "      <td>0.861310</td>\n",
       "      <td>...</td>\n",
       "      <td>0.0</td>\n",
       "      <td>0.0</td>\n",
       "      <td>1.0</td>\n",
       "      <td>0.0</td>\n",
       "      <td>0.0</td>\n",
       "      <td>0.0</td>\n",
       "      <td>0.0</td>\n",
       "      <td>0.0</td>\n",
       "      <td>0.0</td>\n",
       "      <td>1.0</td>\n",
       "    </tr>\n",
       "    <tr>\n",
       "      <th>1</th>\n",
       "      <td>-0.590602</td>\n",
       "      <td>-0.024268</td>\n",
       "      <td>0.004731</td>\n",
       "      <td>85.887104</td>\n",
       "      <td>0.417020</td>\n",
       "      <td>-0.753076</td>\n",
       "      <td>0.035995</td>\n",
       "      <td>1.706369</td>\n",
       "      <td>1.245628</td>\n",
       "      <td>-0.012141</td>\n",
       "      <td>...</td>\n",
       "      <td>1.0</td>\n",
       "      <td>0.0</td>\n",
       "      <td>1.0</td>\n",
       "      <td>0.0</td>\n",
       "      <td>0.0</td>\n",
       "      <td>0.0</td>\n",
       "      <td>0.0</td>\n",
       "      <td>1.0</td>\n",
       "      <td>0.0</td>\n",
       "      <td>0.0</td>\n",
       "    </tr>\n",
       "    <tr>\n",
       "      <th>2</th>\n",
       "      <td>-0.590359</td>\n",
       "      <td>0.365948</td>\n",
       "      <td>0.005088</td>\n",
       "      <td>85.474799</td>\n",
       "      <td>0.588708</td>\n",
       "      <td>-0.628862</td>\n",
       "      <td>0.125662</td>\n",
       "      <td>0.310612</td>\n",
       "      <td>0.391219</td>\n",
       "      <td>5.811345</td>\n",
       "      <td>...</td>\n",
       "      <td>1.0</td>\n",
       "      <td>0.0</td>\n",
       "      <td>1.0</td>\n",
       "      <td>0.0</td>\n",
       "      <td>0.0</td>\n",
       "      <td>0.0</td>\n",
       "      <td>0.0</td>\n",
       "      <td>1.0</td>\n",
       "      <td>0.0</td>\n",
       "      <td>0.0</td>\n",
       "    </tr>\n",
       "    <tr>\n",
       "      <th>3</th>\n",
       "      <td>-0.644202</td>\n",
       "      <td>-0.027197</td>\n",
       "      <td>0.214465</td>\n",
       "      <td>0.403981</td>\n",
       "      <td>0.721292</td>\n",
       "      <td>0.464084</td>\n",
       "      <td>0.095199</td>\n",
       "      <td>0.310612</td>\n",
       "      <td>0.384427</td>\n",
       "      <td>5.817559</td>\n",
       "      <td>...</td>\n",
       "      <td>1.0</td>\n",
       "      <td>0.0</td>\n",
       "      <td>1.0</td>\n",
       "      <td>0.0</td>\n",
       "      <td>0.0</td>\n",
       "      <td>0.0</td>\n",
       "      <td>0.0</td>\n",
       "      <td>1.0</td>\n",
       "      <td>0.0</td>\n",
       "      <td>0.0</td>\n",
       "    </tr>\n",
       "    <tr>\n",
       "      <th>4</th>\n",
       "      <td>-0.568984</td>\n",
       "      <td>0.374308</td>\n",
       "      <td>0.003306</td>\n",
       "      <td>86.646623</td>\n",
       "      <td>-0.069924</td>\n",
       "      <td>-0.861669</td>\n",
       "      <td>0.113541</td>\n",
       "      <td>0.310612</td>\n",
       "      <td>2.925453</td>\n",
       "      <td>4.838007</td>\n",
       "      <td>...</td>\n",
       "      <td>1.0</td>\n",
       "      <td>0.0</td>\n",
       "      <td>1.0</td>\n",
       "      <td>0.0</td>\n",
       "      <td>0.0</td>\n",
       "      <td>0.0</td>\n",
       "      <td>0.0</td>\n",
       "      <td>1.0</td>\n",
       "      <td>0.0</td>\n",
       "      <td>0.0</td>\n",
       "    </tr>\n",
       "    <tr>\n",
       "      <th>...</th>\n",
       "      <td>...</td>\n",
       "      <td>...</td>\n",
       "      <td>...</td>\n",
       "      <td>...</td>\n",
       "      <td>...</td>\n",
       "      <td>...</td>\n",
       "      <td>...</td>\n",
       "      <td>...</td>\n",
       "      <td>...</td>\n",
       "      <td>...</td>\n",
       "      <td>...</td>\n",
       "      <td>...</td>\n",
       "      <td>...</td>\n",
       "      <td>...</td>\n",
       "      <td>...</td>\n",
       "      <td>...</td>\n",
       "      <td>...</td>\n",
       "      <td>...</td>\n",
       "      <td>...</td>\n",
       "      <td>...</td>\n",
       "      <td>...</td>\n",
       "    </tr>\n",
       "    <tr>\n",
       "      <th>55299</th>\n",
       "      <td>0.268886</td>\n",
       "      <td>-0.028833</td>\n",
       "      <td>-0.004019</td>\n",
       "      <td>-0.765108</td>\n",
       "      <td>2.473778</td>\n",
       "      <td>-0.502812</td>\n",
       "      <td>-0.050748</td>\n",
       "      <td>0.310612</td>\n",
       "      <td>0.467831</td>\n",
       "      <td>0.861310</td>\n",
       "      <td>...</td>\n",
       "      <td>1.0</td>\n",
       "      <td>0.0</td>\n",
       "      <td>0.0</td>\n",
       "      <td>1.0</td>\n",
       "      <td>0.0</td>\n",
       "      <td>0.0</td>\n",
       "      <td>0.0</td>\n",
       "      <td>1.0</td>\n",
       "      <td>0.0</td>\n",
       "      <td>0.0</td>\n",
       "    </tr>\n",
       "    <tr>\n",
       "      <th>55300</th>\n",
       "      <td>0.256161</td>\n",
       "      <td>-0.037582</td>\n",
       "      <td>0.002408</td>\n",
       "      <td>0.116283</td>\n",
       "      <td>0.108060</td>\n",
       "      <td>-0.137992</td>\n",
       "      <td>0.026207</td>\n",
       "      <td>0.310612</td>\n",
       "      <td>0.467831</td>\n",
       "      <td>0.861310</td>\n",
       "      <td>...</td>\n",
       "      <td>1.0</td>\n",
       "      <td>0.0</td>\n",
       "      <td>0.0</td>\n",
       "      <td>1.0</td>\n",
       "      <td>0.0</td>\n",
       "      <td>0.0</td>\n",
       "      <td>0.0</td>\n",
       "      <td>1.0</td>\n",
       "      <td>0.0</td>\n",
       "      <td>0.0</td>\n",
       "    </tr>\n",
       "    <tr>\n",
       "      <th>55301</th>\n",
       "      <td>0.260653</td>\n",
       "      <td>-0.016493</td>\n",
       "      <td>-0.001604</td>\n",
       "      <td>0.424582</td>\n",
       "      <td>0.080116</td>\n",
       "      <td>0.053407</td>\n",
       "      <td>-0.008005</td>\n",
       "      <td>0.310612</td>\n",
       "      <td>0.467831</td>\n",
       "      <td>0.861310</td>\n",
       "      <td>...</td>\n",
       "      <td>1.0</td>\n",
       "      <td>0.0</td>\n",
       "      <td>0.0</td>\n",
       "      <td>1.0</td>\n",
       "      <td>0.0</td>\n",
       "      <td>0.0</td>\n",
       "      <td>0.0</td>\n",
       "      <td>1.0</td>\n",
       "      <td>0.0</td>\n",
       "      <td>0.0</td>\n",
       "    </tr>\n",
       "    <tr>\n",
       "      <th>55302</th>\n",
       "      <td>0.255417</td>\n",
       "      <td>-0.016073</td>\n",
       "      <td>-0.004165</td>\n",
       "      <td>-0.560179</td>\n",
       "      <td>0.054235</td>\n",
       "      <td>0.670990</td>\n",
       "      <td>-0.065415</td>\n",
       "      <td>0.310612</td>\n",
       "      <td>0.467831</td>\n",
       "      <td>0.861310</td>\n",
       "      <td>...</td>\n",
       "      <td>1.0</td>\n",
       "      <td>0.0</td>\n",
       "      <td>0.0</td>\n",
       "      <td>1.0</td>\n",
       "      <td>0.0</td>\n",
       "      <td>0.0</td>\n",
       "      <td>0.0</td>\n",
       "      <td>1.0</td>\n",
       "      <td>0.0</td>\n",
       "      <td>0.0</td>\n",
       "    </tr>\n",
       "    <tr>\n",
       "      <th>55303</th>\n",
       "      <td>-0.036775</td>\n",
       "      <td>-0.028241</td>\n",
       "      <td>-0.001716</td>\n",
       "      <td>-0.712647</td>\n",
       "      <td>0.086307</td>\n",
       "      <td>-0.975059</td>\n",
       "      <td>0.001352</td>\n",
       "      <td>0.310612</td>\n",
       "      <td>0.467831</td>\n",
       "      <td>0.861310</td>\n",
       "      <td>...</td>\n",
       "      <td>1.0</td>\n",
       "      <td>0.0</td>\n",
       "      <td>0.0</td>\n",
       "      <td>1.0</td>\n",
       "      <td>0.0</td>\n",
       "      <td>0.0</td>\n",
       "      <td>0.0</td>\n",
       "      <td>1.0</td>\n",
       "      <td>0.0</td>\n",
       "      <td>0.0</td>\n",
       "    </tr>\n",
       "  </tbody>\n",
       "</table>\n",
       "<p>55304 rows × 199 columns</p>\n",
       "</div>"
      ],
      "text/plain": [
       "            0         1         2          3         4         5         6    \\\n",
       "0     -0.432532  1.390477  0.219561   0.633174  1.052237  0.377275  0.112275   \n",
       "1     -0.590602 -0.024268  0.004731  85.887104  0.417020 -0.753076  0.035995   \n",
       "2     -0.590359  0.365948  0.005088  85.474799  0.588708 -0.628862  0.125662   \n",
       "3     -0.644202 -0.027197  0.214465   0.403981  0.721292  0.464084  0.095199   \n",
       "4     -0.568984  0.374308  0.003306  86.646623 -0.069924 -0.861669  0.113541   \n",
       "...         ...       ...       ...        ...       ...       ...       ...   \n",
       "55299  0.268886 -0.028833 -0.004019  -0.765108  2.473778 -0.502812 -0.050748   \n",
       "55300  0.256161 -0.037582  0.002408   0.116283  0.108060 -0.137992  0.026207   \n",
       "55301  0.260653 -0.016493 -0.001604   0.424582  0.080116  0.053407 -0.008005   \n",
       "55302  0.255417 -0.016073 -0.004165  -0.560179  0.054235  0.670990 -0.065415   \n",
       "55303 -0.036775 -0.028241 -0.001716  -0.712647  0.086307 -0.975059  0.001352   \n",
       "\n",
       "            7         8         9    ...  189  190  191  192  193  194  195  \\\n",
       "0      0.107377  1.289006  0.861310  ...  0.0  0.0  1.0  0.0  0.0  0.0  0.0   \n",
       "1      1.706369  1.245628 -0.012141  ...  1.0  0.0  1.0  0.0  0.0  0.0  0.0   \n",
       "2      0.310612  0.391219  5.811345  ...  1.0  0.0  1.0  0.0  0.0  0.0  0.0   \n",
       "3      0.310612  0.384427  5.817559  ...  1.0  0.0  1.0  0.0  0.0  0.0  0.0   \n",
       "4      0.310612  2.925453  4.838007  ...  1.0  0.0  1.0  0.0  0.0  0.0  0.0   \n",
       "...         ...       ...       ...  ...  ...  ...  ...  ...  ...  ...  ...   \n",
       "55299  0.310612  0.467831  0.861310  ...  1.0  0.0  0.0  1.0  0.0  0.0  0.0   \n",
       "55300  0.310612  0.467831  0.861310  ...  1.0  0.0  0.0  1.0  0.0  0.0  0.0   \n",
       "55301  0.310612  0.467831  0.861310  ...  1.0  0.0  0.0  1.0  0.0  0.0  0.0   \n",
       "55302  0.310612  0.467831  0.861310  ...  1.0  0.0  0.0  1.0  0.0  0.0  0.0   \n",
       "55303  0.310612  0.467831  0.861310  ...  1.0  0.0  0.0  1.0  0.0  0.0  0.0   \n",
       "\n",
       "       196  197  198  \n",
       "0      0.0  0.0  1.0  \n",
       "1      1.0  0.0  0.0  \n",
       "2      1.0  0.0  0.0  \n",
       "3      1.0  0.0  0.0  \n",
       "4      1.0  0.0  0.0  \n",
       "...    ...  ...  ...  \n",
       "55299  1.0  0.0  0.0  \n",
       "55300  1.0  0.0  0.0  \n",
       "55301  1.0  0.0  0.0  \n",
       "55302  1.0  0.0  0.0  \n",
       "55303  1.0  0.0  0.0  \n",
       "\n",
       "[55304 rows x 199 columns]"
      ]
     },
     "execution_count": 31,
     "metadata": {},
     "output_type": "execute_result"
    }
   ],
   "source": [
    "X_pp"
   ]
  },
  {
   "cell_type": "code",
   "execution_count": 32,
   "id": "8200afab-cdd2-4106-be42-01ff001780a1",
   "metadata": {},
   "outputs": [
    {
     "data": {
      "text/plain": [
       "43"
      ]
     },
     "execution_count": 32,
     "metadata": {},
     "output_type": "execute_result"
    }
   ],
   "source": [
    "X_red[red_cat_vars].nunique().sum() ## number of unqie values in all cat. values\n",
    "## should equal the number of new onehotencoded columns - 1*number of features. The latter to avoid Dummy Trap.\n"
   ]
  },
  {
   "cell_type": "markdown",
   "id": "b7fee8f2-6199-40e1-9862-89d2c94b688a",
   "metadata": {},
   "source": [
    "Building the simple model and putting it into the pipe"
   ]
  },
  {
   "cell_type": "code",
   "execution_count": 33,
   "id": "038f2715-3747-4277-822b-0e709d150de8",
   "metadata": {},
   "outputs": [
    {
     "name": "stderr",
     "output_type": "stream",
     "text": [
      "/home/slawa/.pyenv/versions/3.8.12/envs/amex_default_pred/lib/python3.8/site-packages/sklearn/linear_model/_logistic.py:444: ConvergenceWarning: lbfgs failed to converge (status=1):\n",
      "STOP: TOTAL NO. of ITERATIONS REACHED LIMIT.\n",
      "\n",
      "Increase the number of iterations (max_iter) or scale the data as shown in:\n",
      "    https://scikit-learn.org/stable/modules/preprocessing.html\n",
      "Please also refer to the documentation for alternative solver options:\n",
      "    https://scikit-learn.org/stable/modules/linear_model.html#logistic-regression\n",
      "  n_iter_i = _check_optimize_result(\n",
      "/home/slawa/.pyenv/versions/3.8.12/envs/amex_default_pred/lib/python3.8/site-packages/sklearn/linear_model/_logistic.py:444: ConvergenceWarning: lbfgs failed to converge (status=1):\n",
      "STOP: TOTAL NO. of ITERATIONS REACHED LIMIT.\n",
      "\n",
      "Increase the number of iterations (max_iter) or scale the data as shown in:\n",
      "    https://scikit-learn.org/stable/modules/preprocessing.html\n",
      "Please also refer to the documentation for alternative solver options:\n",
      "    https://scikit-learn.org/stable/modules/linear_model.html#logistic-regression\n",
      "  n_iter_i = _check_optimize_result(\n",
      "/home/slawa/.pyenv/versions/3.8.12/envs/amex_default_pred/lib/python3.8/site-packages/sklearn/linear_model/_logistic.py:444: ConvergenceWarning: lbfgs failed to converge (status=1):\n",
      "STOP: TOTAL NO. of ITERATIONS REACHED LIMIT.\n",
      "\n",
      "Increase the number of iterations (max_iter) or scale the data as shown in:\n",
      "    https://scikit-learn.org/stable/modules/preprocessing.html\n",
      "Please also refer to the documentation for alternative solver options:\n",
      "    https://scikit-learn.org/stable/modules/linear_model.html#logistic-regression\n",
      "  n_iter_i = _check_optimize_result(\n",
      "/home/slawa/.pyenv/versions/3.8.12/envs/amex_default_pred/lib/python3.8/site-packages/sklearn/linear_model/_logistic.py:444: ConvergenceWarning: lbfgs failed to converge (status=1):\n",
      "STOP: TOTAL NO. of ITERATIONS REACHED LIMIT.\n",
      "\n",
      "Increase the number of iterations (max_iter) or scale the data as shown in:\n",
      "    https://scikit-learn.org/stable/modules/preprocessing.html\n",
      "Please also refer to the documentation for alternative solver options:\n",
      "    https://scikit-learn.org/stable/modules/linear_model.html#logistic-regression\n",
      "  n_iter_i = _check_optimize_result(\n",
      "/home/slawa/.pyenv/versions/3.8.12/envs/amex_default_pred/lib/python3.8/site-packages/sklearn/linear_model/_logistic.py:444: ConvergenceWarning: lbfgs failed to converge (status=1):\n",
      "STOP: TOTAL NO. of ITERATIONS REACHED LIMIT.\n",
      "\n",
      "Increase the number of iterations (max_iter) or scale the data as shown in:\n",
      "    https://scikit-learn.org/stable/modules/preprocessing.html\n",
      "Please also refer to the documentation for alternative solver options:\n",
      "    https://scikit-learn.org/stable/modules/linear_model.html#logistic-regression\n",
      "  n_iter_i = _check_optimize_result(\n"
     ]
    }
   ],
   "source": [
    "mod = LogisticRegression() \n",
    "## such a model treats all rows as independent despite them being from the same person\n",
    "results = cross_validate(mod, X_pp, y, cv = 5, scoring=['accuracy', 'recall', 'f1'])"
   ]
  },
  {
   "cell_type": "code",
   "execution_count": 34,
   "id": "d08a06c8-3784-4791-a428-45a4f1e56d37",
   "metadata": {},
   "outputs": [
    {
     "data": {
      "text/plain": [
       "{'fit_time': array([2.48946071, 1.93731499, 2.54018807, 2.37138557, 2.60667443]),\n",
       " 'score_time': array([0.02555966, 0.02388167, 0.0252974 , 0.03677344, 0.04230881]),\n",
       " 'test_accuracy': array([0.84061116, 0.84187686, 0.85200253, 0.85200253, 0.8358047 ]),\n",
       " 'test_recall': array([0.63598952, 0.59259259, 0.63711186, 0.6285073 , 0.58196108]),\n",
       " 'test_f1': array([0.65853186, 0.6442953 , 0.67539163, 0.67240344, 0.63134389])}"
      ]
     },
     "execution_count": 34,
     "metadata": {},
     "output_type": "execute_result"
    }
   ],
   "source": [
    "results"
   ]
  },
  {
   "cell_type": "code",
   "execution_count": 35,
   "id": "0b481ebd-bbd5-40fa-bc2c-7bb23d493fb1",
   "metadata": {},
   "outputs": [],
   "source": [
    "X_train, X_val, y_train, y_val = train_test_split(X, y, test_size=0.3)"
   ]
  },
  {
   "cell_type": "code",
   "execution_count": 36,
   "id": "0e417b01-c5f9-4062-8134-146fb6923400",
   "metadata": {},
   "outputs": [],
   "source": [
    "pp_pred_pipe = make_pipeline(preprocessor, mod)"
   ]
  },
  {
   "cell_type": "code",
   "execution_count": 37,
   "id": "30e3557a-9a96-4c3d-a196-45049dc155c4",
   "metadata": {},
   "outputs": [
    {
     "data": {
      "text/html": [
       "<style>#sk-container-id-4 {color: black;background-color: white;}#sk-container-id-4 pre{padding: 0;}#sk-container-id-4 div.sk-toggleable {background-color: white;}#sk-container-id-4 label.sk-toggleable__label {cursor: pointer;display: block;width: 100%;margin-bottom: 0;padding: 0.3em;box-sizing: border-box;text-align: center;}#sk-container-id-4 label.sk-toggleable__label-arrow:before {content: \"▸\";float: left;margin-right: 0.25em;color: #696969;}#sk-container-id-4 label.sk-toggleable__label-arrow:hover:before {color: black;}#sk-container-id-4 div.sk-estimator:hover label.sk-toggleable__label-arrow:before {color: black;}#sk-container-id-4 div.sk-toggleable__content {max-height: 0;max-width: 0;overflow: hidden;text-align: left;background-color: #f0f8ff;}#sk-container-id-4 div.sk-toggleable__content pre {margin: 0.2em;color: black;border-radius: 0.25em;background-color: #f0f8ff;}#sk-container-id-4 input.sk-toggleable__control:checked~div.sk-toggleable__content {max-height: 200px;max-width: 100%;overflow: auto;}#sk-container-id-4 input.sk-toggleable__control:checked~label.sk-toggleable__label-arrow:before {content: \"▾\";}#sk-container-id-4 div.sk-estimator input.sk-toggleable__control:checked~label.sk-toggleable__label {background-color: #d4ebff;}#sk-container-id-4 div.sk-label input.sk-toggleable__control:checked~label.sk-toggleable__label {background-color: #d4ebff;}#sk-container-id-4 input.sk-hidden--visually {border: 0;clip: rect(1px 1px 1px 1px);clip: rect(1px, 1px, 1px, 1px);height: 1px;margin: -1px;overflow: hidden;padding: 0;position: absolute;width: 1px;}#sk-container-id-4 div.sk-estimator {font-family: monospace;background-color: #f0f8ff;border: 1px dotted black;border-radius: 0.25em;box-sizing: border-box;margin-bottom: 0.5em;}#sk-container-id-4 div.sk-estimator:hover {background-color: #d4ebff;}#sk-container-id-4 div.sk-parallel-item::after {content: \"\";width: 100%;border-bottom: 1px solid gray;flex-grow: 1;}#sk-container-id-4 div.sk-label:hover label.sk-toggleable__label {background-color: #d4ebff;}#sk-container-id-4 div.sk-serial::before {content: \"\";position: absolute;border-left: 1px solid gray;box-sizing: border-box;top: 0;bottom: 0;left: 50%;z-index: 0;}#sk-container-id-4 div.sk-serial {display: flex;flex-direction: column;align-items: center;background-color: white;padding-right: 0.2em;padding-left: 0.2em;position: relative;}#sk-container-id-4 div.sk-item {position: relative;z-index: 1;}#sk-container-id-4 div.sk-parallel {display: flex;align-items: stretch;justify-content: center;background-color: white;position: relative;}#sk-container-id-4 div.sk-item::before, #sk-container-id-4 div.sk-parallel-item::before {content: \"\";position: absolute;border-left: 1px solid gray;box-sizing: border-box;top: 0;bottom: 0;left: 50%;z-index: -1;}#sk-container-id-4 div.sk-parallel-item {display: flex;flex-direction: column;z-index: 1;position: relative;background-color: white;}#sk-container-id-4 div.sk-parallel-item:first-child::after {align-self: flex-end;width: 50%;}#sk-container-id-4 div.sk-parallel-item:last-child::after {align-self: flex-start;width: 50%;}#sk-container-id-4 div.sk-parallel-item:only-child::after {width: 0;}#sk-container-id-4 div.sk-dashed-wrapped {border: 1px dashed gray;margin: 0 0.4em 0.5em 0.4em;box-sizing: border-box;padding-bottom: 0.4em;background-color: white;}#sk-container-id-4 div.sk-label label {font-family: monospace;font-weight: bold;display: inline-block;line-height: 1.2em;}#sk-container-id-4 div.sk-label-container {text-align: center;}#sk-container-id-4 div.sk-container {/* jupyter's `normalize.less` sets `[hidden] { display: none; }` but bootstrap.min.css set `[hidden] { display: none !important; }` so we also need the `!important` here to be able to override the default hidden behavior on the sphinx rendered scikit-learn.org. See: https://github.com/scikit-learn/scikit-learn/issues/21755 */display: inline-block !important;position: relative;}#sk-container-id-4 div.sk-text-repr-fallback {display: none;}</style><div id=\"sk-container-id-4\" class=\"sk-top-container\"><div class=\"sk-text-repr-fallback\"><pre>Pipeline(steps=[(&#x27;columntransformer&#x27;,\n",
       "                 ColumnTransformer(transformers=[(&#x27;num_pip&#x27;,\n",
       "                                                  Pipeline(steps=[(&#x27;robustscaler&#x27;,\n",
       "                                                                   RobustScaler()),\n",
       "                                                                  (&#x27;simpleimputer&#x27;,\n",
       "                                                                   SimpleImputer())]),\n",
       "                                                  [&#x27;P_2&#x27;, &#x27;D_39&#x27;, &#x27;B_2&#x27;, &#x27;R_1&#x27;,\n",
       "                                                   &#x27;S_3&#x27;, &#x27;D_41&#x27;, &#x27;B_3&#x27;, &#x27;D_42&#x27;,\n",
       "                                                   &#x27;D_43&#x27;, &#x27;D_44&#x27;, &#x27;B_4&#x27;,\n",
       "                                                   &#x27;D_45&#x27;, &#x27;B_5&#x27;, &#x27;R_2&#x27;, &#x27;D_46&#x27;,\n",
       "                                                   &#x27;D_47&#x27;, &#x27;D_48&#x27;, &#x27;D_49&#x27;,\n",
       "                                                   &#x27;B_6&#x27;, &#x27;B_8&#x27;, &#x27;D_50&#x27;, &#x27;D_51&#x27;,\n",
       "                                                   &#x27;B_9&#x27;, &#x27;R_3&#x27;, &#x27;D_52&#x27;, &#x27;P_3&#x27;,\n",
       "                                                   &#x27;B_10&#x27;, &#x27;D_53&#x27;, &#x27;S...\n",
       "                                                   &#x27;D_68&#x27;]),\n",
       "                                                 (&#x27;str_pip&#x27;,\n",
       "                                                  Pipeline(steps=[(&#x27;functiontransformer&#x27;,\n",
       "                                                                   FunctionTransformer(func=&lt;function nan_imp at 0x7ff287dd5dc0&gt;)),\n",
       "                                                                  (&#x27;ordinalencoder&#x27;,\n",
       "                                                                   OrdinalEncoder()),\n",
       "                                                                  (&#x27;simpleimputer&#x27;,\n",
       "                                                                   SimpleImputer(strategy=&#x27;most_frequent&#x27;)),\n",
       "                                                                  (&#x27;onehotencoder&#x27;,\n",
       "                                                                   OneHotEncoder(handle_unknown=&#x27;ignore&#x27;,\n",
       "                                                                                 sparse=False))]),\n",
       "                                                  [&#x27;D_63&#x27;, &#x27;D_64&#x27;])])),\n",
       "                (&#x27;logisticregression&#x27;, LogisticRegression())])</pre><b>In a Jupyter environment, please rerun this cell to show the HTML representation or trust the notebook. <br />On GitHub, the HTML representation is unable to render, please try loading this page with nbviewer.org.</b></div><div class=\"sk-container\" hidden><div class=\"sk-item sk-dashed-wrapped\"><div class=\"sk-label-container\"><div class=\"sk-label sk-toggleable\"><input class=\"sk-toggleable__control sk-hidden--visually\" id=\"sk-estimator-id-32\" type=\"checkbox\" ><label for=\"sk-estimator-id-32\" class=\"sk-toggleable__label sk-toggleable__label-arrow\">Pipeline</label><div class=\"sk-toggleable__content\"><pre>Pipeline(steps=[(&#x27;columntransformer&#x27;,\n",
       "                 ColumnTransformer(transformers=[(&#x27;num_pip&#x27;,\n",
       "                                                  Pipeline(steps=[(&#x27;robustscaler&#x27;,\n",
       "                                                                   RobustScaler()),\n",
       "                                                                  (&#x27;simpleimputer&#x27;,\n",
       "                                                                   SimpleImputer())]),\n",
       "                                                  [&#x27;P_2&#x27;, &#x27;D_39&#x27;, &#x27;B_2&#x27;, &#x27;R_1&#x27;,\n",
       "                                                   &#x27;S_3&#x27;, &#x27;D_41&#x27;, &#x27;B_3&#x27;, &#x27;D_42&#x27;,\n",
       "                                                   &#x27;D_43&#x27;, &#x27;D_44&#x27;, &#x27;B_4&#x27;,\n",
       "                                                   &#x27;D_45&#x27;, &#x27;B_5&#x27;, &#x27;R_2&#x27;, &#x27;D_46&#x27;,\n",
       "                                                   &#x27;D_47&#x27;, &#x27;D_48&#x27;, &#x27;D_49&#x27;,\n",
       "                                                   &#x27;B_6&#x27;, &#x27;B_8&#x27;, &#x27;D_50&#x27;, &#x27;D_51&#x27;,\n",
       "                                                   &#x27;B_9&#x27;, &#x27;R_3&#x27;, &#x27;D_52&#x27;, &#x27;P_3&#x27;,\n",
       "                                                   &#x27;B_10&#x27;, &#x27;D_53&#x27;, &#x27;S...\n",
       "                                                   &#x27;D_68&#x27;]),\n",
       "                                                 (&#x27;str_pip&#x27;,\n",
       "                                                  Pipeline(steps=[(&#x27;functiontransformer&#x27;,\n",
       "                                                                   FunctionTransformer(func=&lt;function nan_imp at 0x7ff287dd5dc0&gt;)),\n",
       "                                                                  (&#x27;ordinalencoder&#x27;,\n",
       "                                                                   OrdinalEncoder()),\n",
       "                                                                  (&#x27;simpleimputer&#x27;,\n",
       "                                                                   SimpleImputer(strategy=&#x27;most_frequent&#x27;)),\n",
       "                                                                  (&#x27;onehotencoder&#x27;,\n",
       "                                                                   OneHotEncoder(handle_unknown=&#x27;ignore&#x27;,\n",
       "                                                                                 sparse=False))]),\n",
       "                                                  [&#x27;D_63&#x27;, &#x27;D_64&#x27;])])),\n",
       "                (&#x27;logisticregression&#x27;, LogisticRegression())])</pre></div></div></div><div class=\"sk-serial\"><div class=\"sk-item sk-dashed-wrapped\"><div class=\"sk-label-container\"><div class=\"sk-label sk-toggleable\"><input class=\"sk-toggleable__control sk-hidden--visually\" id=\"sk-estimator-id-33\" type=\"checkbox\" ><label for=\"sk-estimator-id-33\" class=\"sk-toggleable__label sk-toggleable__label-arrow\">columntransformer: ColumnTransformer</label><div class=\"sk-toggleable__content\"><pre>ColumnTransformer(transformers=[(&#x27;num_pip&#x27;,\n",
       "                                 Pipeline(steps=[(&#x27;robustscaler&#x27;,\n",
       "                                                  RobustScaler()),\n",
       "                                                 (&#x27;simpleimputer&#x27;,\n",
       "                                                  SimpleImputer())]),\n",
       "                                 [&#x27;P_2&#x27;, &#x27;D_39&#x27;, &#x27;B_2&#x27;, &#x27;R_1&#x27;, &#x27;S_3&#x27;, &#x27;D_41&#x27;,\n",
       "                                  &#x27;B_3&#x27;, &#x27;D_42&#x27;, &#x27;D_43&#x27;, &#x27;D_44&#x27;, &#x27;B_4&#x27;, &#x27;D_45&#x27;,\n",
       "                                  &#x27;B_5&#x27;, &#x27;R_2&#x27;, &#x27;D_46&#x27;, &#x27;D_47&#x27;, &#x27;D_48&#x27;, &#x27;D_49&#x27;,\n",
       "                                  &#x27;B_6&#x27;, &#x27;B_8&#x27;, &#x27;D_50&#x27;, &#x27;D_51&#x27;, &#x27;B_9&#x27;, &#x27;R_3&#x27;,\n",
       "                                  &#x27;D_52&#x27;, &#x27;P_3&#x27;, &#x27;B_10&#x27;, &#x27;D_53&#x27;, &#x27;S_5&#x27;, &#x27;S_6&#x27;, ...]),\n",
       "                                (&#x27;cat_pip&#x27;,\n",
       "                                 Pipeline(s...\n",
       "                                 [&#x27;B_30&#x27;, &#x27;B_38&#x27;, &#x27;D_114&#x27;, &#x27;D_116&#x27;, &#x27;D_117&#x27;,\n",
       "                                  &#x27;D_120&#x27;, &#x27;D_126&#x27;, &#x27;D_63&#x27;, &#x27;D_64&#x27;, &#x27;D_68&#x27;]),\n",
       "                                (&#x27;str_pip&#x27;,\n",
       "                                 Pipeline(steps=[(&#x27;functiontransformer&#x27;,\n",
       "                                                  FunctionTransformer(func=&lt;function nan_imp at 0x7ff287dd5dc0&gt;)),\n",
       "                                                 (&#x27;ordinalencoder&#x27;,\n",
       "                                                  OrdinalEncoder()),\n",
       "                                                 (&#x27;simpleimputer&#x27;,\n",
       "                                                  SimpleImputer(strategy=&#x27;most_frequent&#x27;)),\n",
       "                                                 (&#x27;onehotencoder&#x27;,\n",
       "                                                  OneHotEncoder(handle_unknown=&#x27;ignore&#x27;,\n",
       "                                                                sparse=False))]),\n",
       "                                 [&#x27;D_63&#x27;, &#x27;D_64&#x27;])])</pre></div></div></div><div class=\"sk-parallel\"><div class=\"sk-parallel-item\"><div class=\"sk-item\"><div class=\"sk-label-container\"><div class=\"sk-label sk-toggleable\"><input class=\"sk-toggleable__control sk-hidden--visually\" id=\"sk-estimator-id-34\" type=\"checkbox\" ><label for=\"sk-estimator-id-34\" class=\"sk-toggleable__label sk-toggleable__label-arrow\">num_pip</label><div class=\"sk-toggleable__content\"><pre>[&#x27;P_2&#x27;, &#x27;D_39&#x27;, &#x27;B_2&#x27;, &#x27;R_1&#x27;, &#x27;S_3&#x27;, &#x27;D_41&#x27;, &#x27;B_3&#x27;, &#x27;D_42&#x27;, &#x27;D_43&#x27;, &#x27;D_44&#x27;, &#x27;B_4&#x27;, &#x27;D_45&#x27;, &#x27;B_5&#x27;, &#x27;R_2&#x27;, &#x27;D_46&#x27;, &#x27;D_47&#x27;, &#x27;D_48&#x27;, &#x27;D_49&#x27;, &#x27;B_6&#x27;, &#x27;B_8&#x27;, &#x27;D_50&#x27;, &#x27;D_51&#x27;, &#x27;B_9&#x27;, &#x27;R_3&#x27;, &#x27;D_52&#x27;, &#x27;P_3&#x27;, &#x27;B_10&#x27;, &#x27;D_53&#x27;, &#x27;S_5&#x27;, &#x27;S_6&#x27;, &#x27;D_54&#x27;, &#x27;R_4&#x27;, &#x27;S_7&#x27;, &#x27;B_12&#x27;, &#x27;S_8&#x27;, &#x27;D_55&#x27;, &#x27;D_56&#x27;, &#x27;B_13&#x27;, &#x27;R_5&#x27;, &#x27;D_58&#x27;, &#x27;S_9&#x27;, &#x27;B_14&#x27;, &#x27;D_59&#x27;, &#x27;D_60&#x27;, &#x27;D_61&#x27;, &#x27;B_15&#x27;, &#x27;S_11&#x27;, &#x27;D_62&#x27;, &#x27;D_65&#x27;, &#x27;B_16&#x27;, &#x27;B_17&#x27;, &#x27;B_18&#x27;, &#x27;B_19&#x27;, &#x27;B_20&#x27;, &#x27;S_12&#x27;, &#x27;R_6&#x27;, &#x27;S_13&#x27;, &#x27;B_21&#x27;, &#x27;D_69&#x27;, &#x27;B_22&#x27;, &#x27;D_70&#x27;, &#x27;D_71&#x27;, &#x27;D_72&#x27;, &#x27;S_15&#x27;, &#x27;B_23&#x27;, &#x27;P_4&#x27;, &#x27;D_74&#x27;, &#x27;B_24&#x27;, &#x27;R_7&#x27;, &#x27;B_25&#x27;, &#x27;B_26&#x27;, &#x27;D_78&#x27;, &#x27;D_79&#x27;, &#x27;R_8&#x27;, &#x27;S_16&#x27;, &#x27;D_80&#x27;, &#x27;R_10&#x27;, &#x27;R_11&#x27;, &#x27;B_27&#x27;, &#x27;D_81&#x27;, &#x27;D_82&#x27;, &#x27;S_17&#x27;, &#x27;R_12&#x27;, &#x27;B_28&#x27;, &#x27;R_13&#x27;, &#x27;D_83&#x27;, &#x27;R_14&#x27;, &#x27;R_15&#x27;, &#x27;D_84&#x27;, &#x27;R_16&#x27;, &#x27;S_18&#x27;, &#x27;D_86&#x27;, &#x27;R_17&#x27;, &#x27;R_18&#x27;, &#x27;B_31&#x27;, &#x27;S_19&#x27;, &#x27;R_19&#x27;, &#x27;B_32&#x27;, &#x27;S_20&#x27;, &#x27;R_20&#x27;, &#x27;R_21&#x27;, &#x27;B_33&#x27;, &#x27;D_89&#x27;, &#x27;R_22&#x27;, &#x27;R_23&#x27;, &#x27;D_91&#x27;, &#x27;D_92&#x27;, &#x27;D_93&#x27;, &#x27;D_94&#x27;, &#x27;R_24&#x27;, &#x27;R_25&#x27;, &#x27;D_96&#x27;, &#x27;S_22&#x27;, &#x27;S_23&#x27;, &#x27;S_25&#x27;, &#x27;S_26&#x27;, &#x27;D_102&#x27;, &#x27;D_104&#x27;, &#x27;D_105&#x27;, &#x27;D_106&#x27;, &#x27;D_107&#x27;, &#x27;B_36&#x27;, &#x27;R_26&#x27;, &#x27;R_27&#x27;, &#x27;D_109&#x27;, &#x27;D_112&#x27;, &#x27;B_40&#x27;, &#x27;S_27&#x27;, &#x27;D_113&#x27;, &#x27;D_115&#x27;, &#x27;D_119&#x27;, &#x27;D_121&#x27;, &#x27;D_122&#x27;, &#x27;D_123&#x27;, &#x27;D_124&#x27;, &#x27;D_125&#x27;, &#x27;D_127&#x27;, &#x27;D_128&#x27;, &#x27;D_129&#x27;, &#x27;B_41&#x27;, &#x27;D_130&#x27;, &#x27;D_131&#x27;, &#x27;D_132&#x27;, &#x27;D_133&#x27;, &#x27;R_28&#x27;, &#x27;D_139&#x27;, &#x27;D_140&#x27;, &#x27;D_142&#x27;, &#x27;D_144&#x27;, &#x27;D_145&#x27;]</pre></div></div></div><div class=\"sk-serial\"><div class=\"sk-item\"><div class=\"sk-serial\"><div class=\"sk-item\"><div class=\"sk-estimator sk-toggleable\"><input class=\"sk-toggleable__control sk-hidden--visually\" id=\"sk-estimator-id-35\" type=\"checkbox\" ><label for=\"sk-estimator-id-35\" class=\"sk-toggleable__label sk-toggleable__label-arrow\">RobustScaler</label><div class=\"sk-toggleable__content\"><pre>RobustScaler()</pre></div></div></div><div class=\"sk-item\"><div class=\"sk-estimator sk-toggleable\"><input class=\"sk-toggleable__control sk-hidden--visually\" id=\"sk-estimator-id-36\" type=\"checkbox\" ><label for=\"sk-estimator-id-36\" class=\"sk-toggleable__label sk-toggleable__label-arrow\">SimpleImputer</label><div class=\"sk-toggleable__content\"><pre>SimpleImputer()</pre></div></div></div></div></div></div></div></div><div class=\"sk-parallel-item\"><div class=\"sk-item\"><div class=\"sk-label-container\"><div class=\"sk-label sk-toggleable\"><input class=\"sk-toggleable__control sk-hidden--visually\" id=\"sk-estimator-id-37\" type=\"checkbox\" ><label for=\"sk-estimator-id-37\" class=\"sk-toggleable__label sk-toggleable__label-arrow\">cat_pip</label><div class=\"sk-toggleable__content\"><pre>[&#x27;B_30&#x27;, &#x27;B_38&#x27;, &#x27;D_114&#x27;, &#x27;D_116&#x27;, &#x27;D_117&#x27;, &#x27;D_120&#x27;, &#x27;D_126&#x27;, &#x27;D_63&#x27;, &#x27;D_64&#x27;, &#x27;D_68&#x27;]</pre></div></div></div><div class=\"sk-serial\"><div class=\"sk-item\"><div class=\"sk-serial\"><div class=\"sk-item\"><div class=\"sk-estimator sk-toggleable\"><input class=\"sk-toggleable__control sk-hidden--visually\" id=\"sk-estimator-id-38\" type=\"checkbox\" ><label for=\"sk-estimator-id-38\" class=\"sk-toggleable__label sk-toggleable__label-arrow\">FunctionTransformer</label><div class=\"sk-toggleable__content\"><pre>FunctionTransformer(func=&lt;function nan_imp at 0x7ff287dd5dc0&gt;)</pre></div></div></div><div class=\"sk-item\"><div class=\"sk-estimator sk-toggleable\"><input class=\"sk-toggleable__control sk-hidden--visually\" id=\"sk-estimator-id-39\" type=\"checkbox\" ><label for=\"sk-estimator-id-39\" class=\"sk-toggleable__label sk-toggleable__label-arrow\">SimpleImputer</label><div class=\"sk-toggleable__content\"><pre>SimpleImputer(strategy=&#x27;most_frequent&#x27;)</pre></div></div></div><div class=\"sk-item\"><div class=\"sk-estimator sk-toggleable\"><input class=\"sk-toggleable__control sk-hidden--visually\" id=\"sk-estimator-id-40\" type=\"checkbox\" ><label for=\"sk-estimator-id-40\" class=\"sk-toggleable__label sk-toggleable__label-arrow\">OneHotEncoder</label><div class=\"sk-toggleable__content\"><pre>OneHotEncoder(handle_unknown=&#x27;ignore&#x27;, sparse=False)</pre></div></div></div></div></div></div></div></div><div class=\"sk-parallel-item\"><div class=\"sk-item\"><div class=\"sk-label-container\"><div class=\"sk-label sk-toggleable\"><input class=\"sk-toggleable__control sk-hidden--visually\" id=\"sk-estimator-id-41\" type=\"checkbox\" ><label for=\"sk-estimator-id-41\" class=\"sk-toggleable__label sk-toggleable__label-arrow\">str_pip</label><div class=\"sk-toggleable__content\"><pre>[&#x27;D_63&#x27;, &#x27;D_64&#x27;]</pre></div></div></div><div class=\"sk-serial\"><div class=\"sk-item\"><div class=\"sk-serial\"><div class=\"sk-item\"><div class=\"sk-estimator sk-toggleable\"><input class=\"sk-toggleable__control sk-hidden--visually\" id=\"sk-estimator-id-42\" type=\"checkbox\" ><label for=\"sk-estimator-id-42\" class=\"sk-toggleable__label sk-toggleable__label-arrow\">FunctionTransformer</label><div class=\"sk-toggleable__content\"><pre>FunctionTransformer(func=&lt;function nan_imp at 0x7ff287dd5dc0&gt;)</pre></div></div></div><div class=\"sk-item\"><div class=\"sk-estimator sk-toggleable\"><input class=\"sk-toggleable__control sk-hidden--visually\" id=\"sk-estimator-id-43\" type=\"checkbox\" ><label for=\"sk-estimator-id-43\" class=\"sk-toggleable__label sk-toggleable__label-arrow\">OrdinalEncoder</label><div class=\"sk-toggleable__content\"><pre>OrdinalEncoder()</pre></div></div></div><div class=\"sk-item\"><div class=\"sk-estimator sk-toggleable\"><input class=\"sk-toggleable__control sk-hidden--visually\" id=\"sk-estimator-id-44\" type=\"checkbox\" ><label for=\"sk-estimator-id-44\" class=\"sk-toggleable__label sk-toggleable__label-arrow\">SimpleImputer</label><div class=\"sk-toggleable__content\"><pre>SimpleImputer(strategy=&#x27;most_frequent&#x27;)</pre></div></div></div><div class=\"sk-item\"><div class=\"sk-estimator sk-toggleable\"><input class=\"sk-toggleable__control sk-hidden--visually\" id=\"sk-estimator-id-45\" type=\"checkbox\" ><label for=\"sk-estimator-id-45\" class=\"sk-toggleable__label sk-toggleable__label-arrow\">OneHotEncoder</label><div class=\"sk-toggleable__content\"><pre>OneHotEncoder(handle_unknown=&#x27;ignore&#x27;, sparse=False)</pre></div></div></div></div></div></div></div></div></div></div><div class=\"sk-item\"><div class=\"sk-estimator sk-toggleable\"><input class=\"sk-toggleable__control sk-hidden--visually\" id=\"sk-estimator-id-46\" type=\"checkbox\" ><label for=\"sk-estimator-id-46\" class=\"sk-toggleable__label sk-toggleable__label-arrow\">LogisticRegression</label><div class=\"sk-toggleable__content\"><pre>LogisticRegression()</pre></div></div></div></div></div></div></div>"
      ],
      "text/plain": [
       "Pipeline(steps=[('columntransformer',\n",
       "                 ColumnTransformer(transformers=[('num_pip',\n",
       "                                                  Pipeline(steps=[('robustscaler',\n",
       "                                                                   RobustScaler()),\n",
       "                                                                  ('simpleimputer',\n",
       "                                                                   SimpleImputer())]),\n",
       "                                                  ['P_2', 'D_39', 'B_2', 'R_1',\n",
       "                                                   'S_3', 'D_41', 'B_3', 'D_42',\n",
       "                                                   'D_43', 'D_44', 'B_4',\n",
       "                                                   'D_45', 'B_5', 'R_2', 'D_46',\n",
       "                                                   'D_47', 'D_48', 'D_49',\n",
       "                                                   'B_6', 'B_8', 'D_50', 'D_51',\n",
       "                                                   'B_9', 'R_3', 'D_52', 'P_3',\n",
       "                                                   'B_10', 'D_53', 'S...\n",
       "                                                   'D_68']),\n",
       "                                                 ('str_pip',\n",
       "                                                  Pipeline(steps=[('functiontransformer',\n",
       "                                                                   FunctionTransformer(func=<function nan_imp at 0x7ff287dd5dc0>)),\n",
       "                                                                  ('ordinalencoder',\n",
       "                                                                   OrdinalEncoder()),\n",
       "                                                                  ('simpleimputer',\n",
       "                                                                   SimpleImputer(strategy='most_frequent')),\n",
       "                                                                  ('onehotencoder',\n",
       "                                                                   OneHotEncoder(handle_unknown='ignore',\n",
       "                                                                                 sparse=False))]),\n",
       "                                                  ['D_63', 'D_64'])])),\n",
       "                ('logisticregression', LogisticRegression())])"
      ]
     },
     "execution_count": 37,
     "metadata": {},
     "output_type": "execute_result"
    }
   ],
   "source": [
    "pp_pred_pipe"
   ]
  },
  {
   "cell_type": "code",
   "execution_count": null,
   "id": "12e857c1-8c74-4576-b37a-d65d35051214",
   "metadata": {},
   "outputs": [],
   "source": [
    "pp_pred_pipe.fit(X, y)"
   ]
  },
  {
   "cell_type": "code",
   "execution_count": 36,
   "id": "1e2d5de2-7d9d-48cd-8a98-031c9dc7dd29",
   "metadata": {},
   "outputs": [],
   "source": [
    "import pickle"
   ]
  },
  {
   "cell_type": "code",
   "execution_count": 118,
   "id": "7892aac8-a17a-4843-8158-3786c59ba55c",
   "metadata": {},
   "outputs": [],
   "source": [
    "pickle.dump(pp_pred_pipe, open('pp_pred_pipe', 'wb'))"
   ]
  },
  {
   "cell_type": "code",
   "execution_count": 37,
   "id": "a746d61a-a8d1-4c0c-8020-76f74f0274cc",
   "metadata": {},
   "outputs": [],
   "source": [
    "loaded_model = pickle.load(open('../pickles/pp_pred_pipe', 'rb'))"
   ]
  },
  {
   "cell_type": "code",
   "execution_count": 43,
   "id": "b3bd80c2-ead7-4f3b-8394-f8b9a1c3cf2c",
   "metadata": {},
   "outputs": [
    {
     "data": {
      "text/html": [
       "<div>\n",
       "<style scoped>\n",
       "    .dataframe tbody tr th:only-of-type {\n",
       "        vertical-align: middle;\n",
       "    }\n",
       "\n",
       "    .dataframe tbody tr th {\n",
       "        vertical-align: top;\n",
       "    }\n",
       "\n",
       "    .dataframe thead th {\n",
       "        text-align: right;\n",
       "    }\n",
       "</style>\n",
       "<table border=\"1\" class=\"dataframe\">\n",
       "  <thead>\n",
       "    <tr style=\"text-align: right;\">\n",
       "      <th></th>\n",
       "      <th>customer_ID</th>\n",
       "      <th>S_2</th>\n",
       "      <th>P_2</th>\n",
       "      <th>D_39</th>\n",
       "      <th>B_2</th>\n",
       "      <th>R_1</th>\n",
       "      <th>S_3</th>\n",
       "      <th>D_41</th>\n",
       "      <th>B_3</th>\n",
       "      <th>D_42</th>\n",
       "      <th>...</th>\n",
       "      <th>D_130</th>\n",
       "      <th>D_131</th>\n",
       "      <th>D_132</th>\n",
       "      <th>D_133</th>\n",
       "      <th>R_28</th>\n",
       "      <th>D_139</th>\n",
       "      <th>D_140</th>\n",
       "      <th>D_142</th>\n",
       "      <th>D_144</th>\n",
       "      <th>D_145</th>\n",
       "    </tr>\n",
       "  </thead>\n",
       "  <tbody>\n",
       "    <tr>\n",
       "      <th>0</th>\n",
       "      <td>6ba461c93869797c49b0f34c29274e50915466eda02a82...</td>\n",
       "      <td>2017-04-29</td>\n",
       "      <td>0.524390</td>\n",
       "      <td>0.331352</td>\n",
       "      <td>1.009814</td>\n",
       "      <td>0.009442</td>\n",
       "      <td>0.301375</td>\n",
       "      <td>0.007879</td>\n",
       "      <td>0.025821</td>\n",
       "      <td>0.144267</td>\n",
       "      <td>...</td>\n",
       "      <td>1.002085</td>\n",
       "      <td>0.006137</td>\n",
       "      <td>NaN</td>\n",
       "      <td>0.001802</td>\n",
       "      <td>0.002142</td>\n",
       "      <td>1.008062</td>\n",
       "      <td>0.003595</td>\n",
       "      <td>0.090184</td>\n",
       "      <td>0.004446</td>\n",
       "      <td>0.365380</td>\n",
       "    </tr>\n",
       "    <tr>\n",
       "      <th>1</th>\n",
       "      <td>6ea315e6f219bc513964121907331f96e5b194127ebee3...</td>\n",
       "      <td>2017-09-10</td>\n",
       "      <td>0.463367</td>\n",
       "      <td>0.003464</td>\n",
       "      <td>0.818614</td>\n",
       "      <td>0.504045</td>\n",
       "      <td>0.218091</td>\n",
       "      <td>0.001362</td>\n",
       "      <td>0.014894</td>\n",
       "      <td>0.502401</td>\n",
       "      <td>...</td>\n",
       "      <td>0.002285</td>\n",
       "      <td>0.006148</td>\n",
       "      <td>NaN</td>\n",
       "      <td>0.007019</td>\n",
       "      <td>0.005237</td>\n",
       "      <td>0.003997</td>\n",
       "      <td>0.001457</td>\n",
       "      <td>NaN</td>\n",
       "      <td>0.000199</td>\n",
       "      <td>0.000804</td>\n",
       "    </tr>\n",
       "    <tr>\n",
       "      <th>2</th>\n",
       "      <td>6f105fec0ab833183a6a7aa3e39e79a6adf88a7cabe9df...</td>\n",
       "      <td>2017-03-26</td>\n",
       "      <td>0.463461</td>\n",
       "      <td>0.093902</td>\n",
       "      <td>0.818932</td>\n",
       "      <td>0.501653</td>\n",
       "      <td>0.240602</td>\n",
       "      <td>0.002078</td>\n",
       "      <td>0.027738</td>\n",
       "      <td>NaN</td>\n",
       "      <td>...</td>\n",
       "      <td>1.004462</td>\n",
       "      <td>0.008238</td>\n",
       "      <td>NaN</td>\n",
       "      <td>0.006285</td>\n",
       "      <td>0.007136</td>\n",
       "      <td>0.009838</td>\n",
       "      <td>0.009414</td>\n",
       "      <td>NaN</td>\n",
       "      <td>0.004965</td>\n",
       "      <td>0.001735</td>\n",
       "    </tr>\n",
       "    <tr>\n",
       "      <th>3</th>\n",
       "      <td>6f105fec0ab833183a6a7aa3e39e79a6adf88a7cabe9df...</td>\n",
       "      <td>2017-04-26</td>\n",
       "      <td>0.442675</td>\n",
       "      <td>0.002785</td>\n",
       "      <td>1.005278</td>\n",
       "      <td>0.008112</td>\n",
       "      <td>0.257985</td>\n",
       "      <td>0.008379</td>\n",
       "      <td>0.023375</td>\n",
       "      <td>NaN</td>\n",
       "      <td>...</td>\n",
       "      <td>1.008531</td>\n",
       "      <td>0.005823</td>\n",
       "      <td>NaN</td>\n",
       "      <td>0.001023</td>\n",
       "      <td>0.007782</td>\n",
       "      <td>0.006977</td>\n",
       "      <td>0.007455</td>\n",
       "      <td>NaN</td>\n",
       "      <td>0.007293</td>\n",
       "      <td>0.003186</td>\n",
       "    </tr>\n",
       "    <tr>\n",
       "      <th>4</th>\n",
       "      <td>6f105fec0ab833183a6a7aa3e39e79a6adf88a7cabe9df...</td>\n",
       "      <td>2017-05-26</td>\n",
       "      <td>0.471713</td>\n",
       "      <td>0.095840</td>\n",
       "      <td>0.817346</td>\n",
       "      <td>0.508451</td>\n",
       "      <td>0.154248</td>\n",
       "      <td>0.000736</td>\n",
       "      <td>0.026002</td>\n",
       "      <td>NaN</td>\n",
       "      <td>...</td>\n",
       "      <td>1.001407</td>\n",
       "      <td>0.006686</td>\n",
       "      <td>NaN</td>\n",
       "      <td>0.003718</td>\n",
       "      <td>0.009005</td>\n",
       "      <td>0.009866</td>\n",
       "      <td>0.007082</td>\n",
       "      <td>NaN</td>\n",
       "      <td>0.000920</td>\n",
       "      <td>0.002958</td>\n",
       "    </tr>\n",
       "    <tr>\n",
       "      <th>...</th>\n",
       "      <td>...</td>\n",
       "      <td>...</td>\n",
       "      <td>...</td>\n",
       "      <td>...</td>\n",
       "      <td>...</td>\n",
       "      <td>...</td>\n",
       "      <td>...</td>\n",
       "      <td>...</td>\n",
       "      <td>...</td>\n",
       "      <td>...</td>\n",
       "      <td>...</td>\n",
       "      <td>...</td>\n",
       "      <td>...</td>\n",
       "      <td>...</td>\n",
       "      <td>...</td>\n",
       "      <td>...</td>\n",
       "      <td>...</td>\n",
       "      <td>...</td>\n",
       "      <td>...</td>\n",
       "      <td>...</td>\n",
       "      <td>...</td>\n",
       "    </tr>\n",
       "    <tr>\n",
       "      <th>41935</th>\n",
       "      <td>ee9e5e4581c6949e605e528fe831f61f781b82d1dc9360...</td>\n",
       "      <td>2017-11-04</td>\n",
       "      <td>0.795172</td>\n",
       "      <td>0.002406</td>\n",
       "      <td>0.810826</td>\n",
       "      <td>0.001330</td>\n",
       "      <td>0.487755</td>\n",
       "      <td>0.002804</td>\n",
       "      <td>0.002469</td>\n",
       "      <td>NaN</td>\n",
       "      <td>...</td>\n",
       "      <td>0.007231</td>\n",
       "      <td>0.009593</td>\n",
       "      <td>NaN</td>\n",
       "      <td>0.000734</td>\n",
       "      <td>0.008338</td>\n",
       "      <td>0.008758</td>\n",
       "      <td>0.003598</td>\n",
       "      <td>NaN</td>\n",
       "      <td>0.007223</td>\n",
       "      <td>0.009585</td>\n",
       "    </tr>\n",
       "    <tr>\n",
       "      <th>41936</th>\n",
       "      <td>ee9e5e4581c6949e605e528fe831f61f781b82d1dc9360...</td>\n",
       "      <td>2017-12-12</td>\n",
       "      <td>0.790260</td>\n",
       "      <td>0.000378</td>\n",
       "      <td>0.816546</td>\n",
       "      <td>0.006443</td>\n",
       "      <td>0.177583</td>\n",
       "      <td>0.004908</td>\n",
       "      <td>0.013492</td>\n",
       "      <td>NaN</td>\n",
       "      <td>...</td>\n",
       "      <td>0.002935</td>\n",
       "      <td>0.001944</td>\n",
       "      <td>NaN</td>\n",
       "      <td>0.002512</td>\n",
       "      <td>0.000008</td>\n",
       "      <td>0.006394</td>\n",
       "      <td>0.008207</td>\n",
       "      <td>NaN</td>\n",
       "      <td>0.008766</td>\n",
       "      <td>0.005736</td>\n",
       "    </tr>\n",
       "    <tr>\n",
       "      <th>41937</th>\n",
       "      <td>ee9e5e4581c6949e605e528fe831f61f781b82d1dc9360...</td>\n",
       "      <td>2018-01-18</td>\n",
       "      <td>0.791994</td>\n",
       "      <td>0.005266</td>\n",
       "      <td>0.812976</td>\n",
       "      <td>0.008232</td>\n",
       "      <td>0.173920</td>\n",
       "      <td>0.006011</td>\n",
       "      <td>0.008592</td>\n",
       "      <td>NaN</td>\n",
       "      <td>...</td>\n",
       "      <td>0.004754</td>\n",
       "      <td>0.008680</td>\n",
       "      <td>NaN</td>\n",
       "      <td>0.003080</td>\n",
       "      <td>0.004641</td>\n",
       "      <td>0.004916</td>\n",
       "      <td>0.009980</td>\n",
       "      <td>NaN</td>\n",
       "      <td>0.007456</td>\n",
       "      <td>0.006827</td>\n",
       "    </tr>\n",
       "    <tr>\n",
       "      <th>41938</th>\n",
       "      <td>ee9e5e4581c6949e605e528fe831f61f781b82d1dc9360...</td>\n",
       "      <td>2018-02-03</td>\n",
       "      <td>0.789973</td>\n",
       "      <td>0.005363</td>\n",
       "      <td>0.810696</td>\n",
       "      <td>0.002519</td>\n",
       "      <td>0.170526</td>\n",
       "      <td>0.009572</td>\n",
       "      <td>0.000368</td>\n",
       "      <td>NaN</td>\n",
       "      <td>...</td>\n",
       "      <td>0.006846</td>\n",
       "      <td>0.005581</td>\n",
       "      <td>NaN</td>\n",
       "      <td>0.007156</td>\n",
       "      <td>0.009519</td>\n",
       "      <td>0.006323</td>\n",
       "      <td>0.001534</td>\n",
       "      <td>NaN</td>\n",
       "      <td>0.000794</td>\n",
       "      <td>0.000396</td>\n",
       "    </tr>\n",
       "    <tr>\n",
       "      <th>41939</th>\n",
       "      <td>ee9e5e4581c6949e605e528fe831f61f781b82d1dc9360...</td>\n",
       "      <td>2018-03-03</td>\n",
       "      <td>0.677172</td>\n",
       "      <td>0.002543</td>\n",
       "      <td>0.812876</td>\n",
       "      <td>0.001634</td>\n",
       "      <td>0.174731</td>\n",
       "      <td>0.000082</td>\n",
       "      <td>0.009932</td>\n",
       "      <td>NaN</td>\n",
       "      <td>...</td>\n",
       "      <td>0.009060</td>\n",
       "      <td>0.008646</td>\n",
       "      <td>NaN</td>\n",
       "      <td>0.001602</td>\n",
       "      <td>0.008895</td>\n",
       "      <td>0.008581</td>\n",
       "      <td>0.006302</td>\n",
       "      <td>NaN</td>\n",
       "      <td>0.009234</td>\n",
       "      <td>0.004886</td>\n",
       "    </tr>\n",
       "  </tbody>\n",
       "</table>\n",
       "<p>55304 rows × 162 columns</p>\n",
       "</div>"
      ],
      "text/plain": [
       "                                             customer_ID         S_2  \\\n",
       "0      6ba461c93869797c49b0f34c29274e50915466eda02a82...  2017-04-29   \n",
       "1      6ea315e6f219bc513964121907331f96e5b194127ebee3...  2017-09-10   \n",
       "2      6f105fec0ab833183a6a7aa3e39e79a6adf88a7cabe9df...  2017-03-26   \n",
       "3      6f105fec0ab833183a6a7aa3e39e79a6adf88a7cabe9df...  2017-04-26   \n",
       "4      6f105fec0ab833183a6a7aa3e39e79a6adf88a7cabe9df...  2017-05-26   \n",
       "...                                                  ...         ...   \n",
       "41935  ee9e5e4581c6949e605e528fe831f61f781b82d1dc9360...  2017-11-04   \n",
       "41936  ee9e5e4581c6949e605e528fe831f61f781b82d1dc9360...  2017-12-12   \n",
       "41937  ee9e5e4581c6949e605e528fe831f61f781b82d1dc9360...  2018-01-18   \n",
       "41938  ee9e5e4581c6949e605e528fe831f61f781b82d1dc9360...  2018-02-03   \n",
       "41939  ee9e5e4581c6949e605e528fe831f61f781b82d1dc9360...  2018-03-03   \n",
       "\n",
       "            P_2      D_39       B_2       R_1       S_3      D_41       B_3  \\\n",
       "0      0.524390  0.331352  1.009814  0.009442  0.301375  0.007879  0.025821   \n",
       "1      0.463367  0.003464  0.818614  0.504045  0.218091  0.001362  0.014894   \n",
       "2      0.463461  0.093902  0.818932  0.501653  0.240602  0.002078  0.027738   \n",
       "3      0.442675  0.002785  1.005278  0.008112  0.257985  0.008379  0.023375   \n",
       "4      0.471713  0.095840  0.817346  0.508451  0.154248  0.000736  0.026002   \n",
       "...         ...       ...       ...       ...       ...       ...       ...   \n",
       "41935  0.795172  0.002406  0.810826  0.001330  0.487755  0.002804  0.002469   \n",
       "41936  0.790260  0.000378  0.816546  0.006443  0.177583  0.004908  0.013492   \n",
       "41937  0.791994  0.005266  0.812976  0.008232  0.173920  0.006011  0.008592   \n",
       "41938  0.789973  0.005363  0.810696  0.002519  0.170526  0.009572  0.000368   \n",
       "41939  0.677172  0.002543  0.812876  0.001634  0.174731  0.000082  0.009932   \n",
       "\n",
       "           D_42  ...     D_130     D_131  D_132     D_133      R_28     D_139  \\\n",
       "0      0.144267  ...  1.002085  0.006137    NaN  0.001802  0.002142  1.008062   \n",
       "1      0.502401  ...  0.002285  0.006148    NaN  0.007019  0.005237  0.003997   \n",
       "2           NaN  ...  1.004462  0.008238    NaN  0.006285  0.007136  0.009838   \n",
       "3           NaN  ...  1.008531  0.005823    NaN  0.001023  0.007782  0.006977   \n",
       "4           NaN  ...  1.001407  0.006686    NaN  0.003718  0.009005  0.009866   \n",
       "...         ...  ...       ...       ...    ...       ...       ...       ...   \n",
       "41935       NaN  ...  0.007231  0.009593    NaN  0.000734  0.008338  0.008758   \n",
       "41936       NaN  ...  0.002935  0.001944    NaN  0.002512  0.000008  0.006394   \n",
       "41937       NaN  ...  0.004754  0.008680    NaN  0.003080  0.004641  0.004916   \n",
       "41938       NaN  ...  0.006846  0.005581    NaN  0.007156  0.009519  0.006323   \n",
       "41939       NaN  ...  0.009060  0.008646    NaN  0.001602  0.008895  0.008581   \n",
       "\n",
       "          D_140     D_142     D_144     D_145  \n",
       "0      0.003595  0.090184  0.004446  0.365380  \n",
       "1      0.001457       NaN  0.000199  0.000804  \n",
       "2      0.009414       NaN  0.004965  0.001735  \n",
       "3      0.007455       NaN  0.007293  0.003186  \n",
       "4      0.007082       NaN  0.000920  0.002958  \n",
       "...         ...       ...       ...       ...  \n",
       "41935  0.003598       NaN  0.007223  0.009585  \n",
       "41936  0.008207       NaN  0.008766  0.005736  \n",
       "41937  0.009980       NaN  0.007456  0.006827  \n",
       "41938  0.001534       NaN  0.000794  0.000396  \n",
       "41939  0.006302       NaN  0.009234  0.004886  \n",
       "\n",
       "[55304 rows x 162 columns]"
      ]
     },
     "execution_count": 43,
     "metadata": {},
     "output_type": "execute_result"
    }
   ],
   "source": []
  },
  {
   "cell_type": "code",
   "execution_count": 54,
   "id": "979b3a94-1214-415f-b689-e90c6df77d88",
   "metadata": {},
   "outputs": [],
   "source": [
    "sample = X_red.sample(1)"
   ]
  },
  {
   "cell_type": "code",
   "execution_count": 56,
   "id": "2c9c1687-a35d-42d2-9404-84b985fac897",
   "metadata": {},
   "outputs": [
    {
     "data": {
      "text/plain": [
       "8.899608798689334"
      ]
     },
     "execution_count": 56,
     "metadata": {},
     "output_type": "execute_result"
    }
   ],
   "source": [
    "loaded_model.predict_proba(sample)[0][1] * 100"
   ]
  },
  {
   "cell_type": "markdown",
   "id": "7446bfa0-506b-44c0-9d08-9e0263dae662",
   "metadata": {},
   "source": [
    "# Creating custom amex scoring metric"
   ]
  },
  {
   "cell_type": "code",
   "execution_count": 176,
   "id": "18414095-9607-41b9-94bd-2e08fc44868c",
   "metadata": {},
   "outputs": [],
   "source": [
    "def amex_metric(y_true: pd.DataFrame, y_pred: pd.DataFrame) -> float:\n",
    "    \n",
    "    ## TWEAK\n",
    "    y_true = pd.DataFrame(y_true.reset_index(drop=True))\n",
    "    y_pred = pd.DataFrame(y_pred)\n",
    "    \n",
    "    y_true = y_true.rename(columns={y_true.columns[0]:'target'})\n",
    "    y_pred = y_pred.rename(columns={y_pred.columns[0]:'prediction'})\n",
    "    ##\n",
    "    \n",
    "    def top_four_percent_captured(y_true: pd.DataFrame, y_pred: pd.DataFrame) -> float:\n",
    "        df = (pd.concat([y_true, y_pred], axis='columns')\n",
    "              .sort_values('prediction', ascending=False))\n",
    "        df['weight'] = df['target'].apply(lambda x: 20 if x==0 else 1)\n",
    "        four_pct_cutoff = int(0.04 * df['weight'].sum())\n",
    "        df['weight_cumsum'] = df['weight'].cumsum()\n",
    "        df_cutoff = df.loc[df['weight_cumsum'] <= four_pct_cutoff]\n",
    "        return (df_cutoff['target'] == 1).sum() / (df['target'] == 1).sum()\n",
    "    def weighted_gini(y_true: pd.DataFrame, y_pred: pd.DataFrame) -> float:\n",
    "        df = (pd.concat([y_true, y_pred], axis='columns')\n",
    "              .sort_values('prediction', ascending=False))\n",
    "        df['weight'] = df['target'].apply(lambda x: 20 if x==0 else 1)\n",
    "        df['random'] = (df['weight'] / df['weight'].sum()).cumsum()\n",
    "        total_pos = (df['target'] * df['weight']).sum()\n",
    "        df['cum_pos_found'] = (df['target'] * df['weight']).cumsum()\n",
    "        df['lorentz'] = df['cum_pos_found'] / total_pos\n",
    "        df['gini'] = (df['lorentz'] - df['random']) * df['weight']\n",
    "        return df['gini'].sum()\n",
    "\n",
    "    def normalized_weighted_gini(y_true: pd.DataFrame, y_pred: pd.DataFrame) -> float:\n",
    "        y_true_pred = y_true.rename(columns={'target': 'prediction'})\n",
    "        return weighted_gini(y_true, y_pred) / weighted_gini(y_true, y_true_pred)\n",
    "\n",
    "    g = normalized_weighted_gini(y_true, y_pred)\n",
    "    d = top_four_percent_captured(y_true, y_pred)\n",
    "\n",
    "    return 0.5 * (g + d)"
   ]
  },
  {
   "cell_type": "code",
   "execution_count": 177,
   "id": "0ff0dfc2-138d-4fc9-8b8b-a79924eaab52",
   "metadata": {},
   "outputs": [],
   "source": [
    "from sklearn.metrics import make_scorer"
   ]
  },
  {
   "cell_type": "code",
   "execution_count": 178,
   "id": "2ce27ca7-5113-4c8b-a5bb-48bfde404065",
   "metadata": {},
   "outputs": [],
   "source": [
    "amex_metric_scorer = make_scorer(amex_metric)"
   ]
  },
  {
   "cell_type": "code",
   "execution_count": null,
   "id": "ec5cb533-7017-4bb6-a0eb-5117222b3e3a",
   "metadata": {},
   "outputs": [],
   "source": [
    "## dict of scoring metrics one might want to pass into cross validation\n",
    "scorings = {'recall':'recall',\n",
    "            'f1':'f1',\n",
    "           'amex': amex_metric_scorer}"
   ]
  },
  {
   "cell_type": "markdown",
   "id": "52af7292-3d5d-45c7-b10f-86a6e46395d2",
   "metadata": {},
   "source": [
    "# Averaging preprocessed X and y"
   ]
  },
  {
   "cell_type": "code",
   "execution_count": 42,
   "id": "6d21bbbb-f06e-4113-8928-f96117d821df",
   "metadata": {},
   "outputs": [],
   "source": [
    "X_pp['customer_ID'] = X_red['customer_ID']"
   ]
  },
  {
   "cell_type": "code",
   "execution_count": 43,
   "id": "b2840450-2db5-4e1a-8efa-fce9f5e08a26",
   "metadata": {},
   "outputs": [],
   "source": [
    "X_avg_pp = X_pp.groupby('customer_ID').mean()"
   ]
  },
  {
   "cell_type": "code",
   "execution_count": 48,
   "id": "f22c0cf3-78bb-4677-9b8b-fe8fb7112a32",
   "metadata": {},
   "outputs": [],
   "source": [
    "y_ID = pd.DataFrame(y)"
   ]
  },
  {
   "cell_type": "code",
   "execution_count": 49,
   "id": "52efb244-ed76-4f17-aab7-dd32ff75823b",
   "metadata": {},
   "outputs": [],
   "source": [
    "y_ID['customer_ID'] = X_red['customer_ID']"
   ]
  },
  {
   "cell_type": "code",
   "execution_count": 55,
   "id": "c0d251a4-3482-4249-b76b-232d99a20710",
   "metadata": {},
   "outputs": [],
   "source": [
    "y_unique = y_ID.groupby('customer_ID').mean().astype(int) ## actually, this data is just in train_labels"
   ]
  },
  {
   "cell_type": "markdown",
   "id": "cac1ad0a-95ff-4822-b968-7f03d36e758c",
   "metadata": {},
   "source": [
    "# Trying out various models on averaged data"
   ]
  },
  {
   "cell_type": "code",
   "execution_count": 187,
   "id": "d472d77e-f70d-4814-b49f-93f136816254",
   "metadata": {},
   "outputs": [
    {
     "name": "stderr",
     "output_type": "stream",
     "text": [
      "/home/slawa/.pyenv/versions/3.8.12/envs/amex_default_pred/lib/python3.8/site-packages/sklearn/linear_model/_logistic.py:444: ConvergenceWarning: lbfgs failed to converge (status=1):\n",
      "STOP: TOTAL NO. of ITERATIONS REACHED LIMIT.\n",
      "\n",
      "Increase the number of iterations (max_iter) or scale the data as shown in:\n",
      "    https://scikit-learn.org/stable/modules/preprocessing.html\n",
      "Please also refer to the documentation for alternative solver options:\n",
      "    https://scikit-learn.org/stable/modules/linear_model.html#logistic-regression\n",
      "  n_iter_i = _check_optimize_result(\n",
      "/home/slawa/.pyenv/versions/3.8.12/envs/amex_default_pred/lib/python3.8/site-packages/sklearn/linear_model/_logistic.py:444: ConvergenceWarning: lbfgs failed to converge (status=1):\n",
      "STOP: TOTAL NO. of ITERATIONS REACHED LIMIT.\n",
      "\n",
      "Increase the number of iterations (max_iter) or scale the data as shown in:\n",
      "    https://scikit-learn.org/stable/modules/preprocessing.html\n",
      "Please also refer to the documentation for alternative solver options:\n",
      "    https://scikit-learn.org/stable/modules/linear_model.html#logistic-regression\n",
      "  n_iter_i = _check_optimize_result(\n",
      "/home/slawa/.pyenv/versions/3.8.12/envs/amex_default_pred/lib/python3.8/site-packages/sklearn/linear_model/_logistic.py:444: ConvergenceWarning: lbfgs failed to converge (status=1):\n",
      "STOP: TOTAL NO. of ITERATIONS REACHED LIMIT.\n",
      "\n",
      "Increase the number of iterations (max_iter) or scale the data as shown in:\n",
      "    https://scikit-learn.org/stable/modules/preprocessing.html\n",
      "Please also refer to the documentation for alternative solver options:\n",
      "    https://scikit-learn.org/stable/modules/linear_model.html#logistic-regression\n",
      "  n_iter_i = _check_optimize_result(\n",
      "/home/slawa/.pyenv/versions/3.8.12/envs/amex_default_pred/lib/python3.8/site-packages/sklearn/linear_model/_logistic.py:444: ConvergenceWarning: lbfgs failed to converge (status=1):\n",
      "STOP: TOTAL NO. of ITERATIONS REACHED LIMIT.\n",
      "\n",
      "Increase the number of iterations (max_iter) or scale the data as shown in:\n",
      "    https://scikit-learn.org/stable/modules/preprocessing.html\n",
      "Please also refer to the documentation for alternative solver options:\n",
      "    https://scikit-learn.org/stable/modules/linear_model.html#logistic-regression\n",
      "  n_iter_i = _check_optimize_result(\n",
      "/home/slawa/.pyenv/versions/3.8.12/envs/amex_default_pred/lib/python3.8/site-packages/sklearn/linear_model/_logistic.py:444: ConvergenceWarning: lbfgs failed to converge (status=1):\n",
      "STOP: TOTAL NO. of ITERATIONS REACHED LIMIT.\n",
      "\n",
      "Increase the number of iterations (max_iter) or scale the data as shown in:\n",
      "    https://scikit-learn.org/stable/modules/preprocessing.html\n",
      "Please also refer to the documentation for alternative solver options:\n",
      "    https://scikit-learn.org/stable/modules/linear_model.html#logistic-regression\n",
      "  n_iter_i = _check_optimize_result(\n"
     ]
    }
   ],
   "source": [
    "mod = LogisticRegression() \n",
    "## such a model treats all rows as independent despite them being from the same person\n",
    "results = cross_validate(mod, X_avg_pp, y_unique['default'], cv = 5, scoring=scorings)"
   ]
  },
  {
   "cell_type": "code",
   "execution_count": 188,
   "id": "315219af-42b3-47e9-82ed-b1a1bc4721e0",
   "metadata": {},
   "outputs": [
    {
     "data": {
      "text/plain": [
       "{'fit_time': array([0.43967652, 0.26714873, 0.26808286, 0.2818532 , 0.9147768 ]),\n",
       " 'score_time': array([0.04552531, 0.04289794, 0.03425288, 0.04941869, 0.05305338]),\n",
       " 'test_recall': array([0.64473684, 0.66666667, 0.73362445, 0.6419214 , 0.62445415]),\n",
       " 'test_amex': array([0.4532131 , 0.45552651, 0.45947708, 0.45125079, 0.45912858])}"
      ]
     },
     "execution_count": 188,
     "metadata": {},
     "output_type": "execute_result"
    }
   ],
   "source": [
    "results"
   ]
  },
  {
   "cell_type": "code",
   "execution_count": 190,
   "id": "aba4e5a9-890d-4109-8c83-a8c3f50c2530",
   "metadata": {},
   "outputs": [
    {
     "name": "stderr",
     "output_type": "stream",
     "text": [
      "/home/slawa/.pyenv/versions/3.8.12/envs/amex_default_pred/lib/python3.8/site-packages/sklearn/utils/validation.py:1111: DataConversionWarning: A column-vector y was passed when a 1d array was expected. Please change the shape of y to (n_samples, ), for example using ravel().\n",
      "  y = column_or_1d(y, warn=True)\n",
      "/home/slawa/.pyenv/versions/3.8.12/envs/amex_default_pred/lib/python3.8/site-packages/sklearn/utils/validation.py:1111: DataConversionWarning: A column-vector y was passed when a 1d array was expected. Please change the shape of y to (n_samples, ), for example using ravel().\n",
      "  y = column_or_1d(y, warn=True)\n",
      "/home/slawa/.pyenv/versions/3.8.12/envs/amex_default_pred/lib/python3.8/site-packages/sklearn/utils/validation.py:1111: DataConversionWarning: A column-vector y was passed when a 1d array was expected. Please change the shape of y to (n_samples, ), for example using ravel().\n",
      "  y = column_or_1d(y, warn=True)\n",
      "/home/slawa/.pyenv/versions/3.8.12/envs/amex_default_pred/lib/python3.8/site-packages/sklearn/utils/validation.py:1111: DataConversionWarning: A column-vector y was passed when a 1d array was expected. Please change the shape of y to (n_samples, ), for example using ravel().\n",
      "  y = column_or_1d(y, warn=True)\n",
      "/home/slawa/.pyenv/versions/3.8.12/envs/amex_default_pred/lib/python3.8/site-packages/sklearn/utils/validation.py:1111: DataConversionWarning: A column-vector y was passed when a 1d array was expected. Please change the shape of y to (n_samples, ), for example using ravel().\n",
      "  y = column_or_1d(y, warn=True)\n"
     ]
    }
   ],
   "source": [
    "mod = LogisticRegression(penalty='l1',solver='liblinear') \n",
    "## such a model treats all rows as independent despite them being from the same person\n",
    "results = cross_validate(mod, X_avg_pp, y_unique, cv = 5, scoring=scorings)"
   ]
  },
  {
   "cell_type": "code",
   "execution_count": 191,
   "id": "f7f05d6a-3b93-497f-9412-e2fa41de9602",
   "metadata": {},
   "outputs": [
    {
     "data": {
      "text/plain": [
       "{'fit_time': array([0.95894814, 1.43016315, 0.89425135, 0.5155282 , 0.81968164]),\n",
       " 'score_time': array([0.03467894, 0.05702305, 0.06101513, 0.04226947, 0.03156662]),\n",
       " 'test_recall': array([0.73245614, 0.70614035, 0.75982533, 0.74235808, 0.68558952]),\n",
       " 'test_f1': array([0.75565611, 0.7268623 , 0.75652174, 0.76576577, 0.71853547]),\n",
       " 'test_amex': array([0.49373806, 0.48588011, 0.50026109, 0.51791194, 0.44430416])}"
      ]
     },
     "execution_count": 191,
     "metadata": {},
     "output_type": "execute_result"
    }
   ],
   "source": [
    "results"
   ]
  },
  {
   "cell_type": "code",
   "execution_count": 69,
   "id": "e360c638-e99e-4c1f-8b60-33e6f4176a2b",
   "metadata": {},
   "outputs": [],
   "source": [
    "from sklearn.linear_model import Perceptron, PassiveAggressiveClassifier"
   ]
  },
  {
   "cell_type": "code",
   "execution_count": 192,
   "id": "f5f39c6d-fb1f-4793-9d33-3449a7fb0e17",
   "metadata": {},
   "outputs": [],
   "source": [
    "mod_perc = Perceptron(penalty='l1')"
   ]
  },
  {
   "cell_type": "code",
   "execution_count": 193,
   "id": "94bb46ac-f6a4-45f7-ac5b-8ef0fa01bc90",
   "metadata": {},
   "outputs": [
    {
     "name": "stderr",
     "output_type": "stream",
     "text": [
      "/home/slawa/.pyenv/versions/3.8.12/envs/amex_default_pred/lib/python3.8/site-packages/sklearn/utils/validation.py:1111: DataConversionWarning: A column-vector y was passed when a 1d array was expected. Please change the shape of y to (n_samples, ), for example using ravel().\n",
      "  y = column_or_1d(y, warn=True)\n",
      "/home/slawa/.pyenv/versions/3.8.12/envs/amex_default_pred/lib/python3.8/site-packages/sklearn/utils/validation.py:1111: DataConversionWarning: A column-vector y was passed when a 1d array was expected. Please change the shape of y to (n_samples, ), for example using ravel().\n",
      "  y = column_or_1d(y, warn=True)\n",
      "/home/slawa/.pyenv/versions/3.8.12/envs/amex_default_pred/lib/python3.8/site-packages/sklearn/utils/validation.py:1111: DataConversionWarning: A column-vector y was passed when a 1d array was expected. Please change the shape of y to (n_samples, ), for example using ravel().\n",
      "  y = column_or_1d(y, warn=True)\n",
      "/home/slawa/.pyenv/versions/3.8.12/envs/amex_default_pred/lib/python3.8/site-packages/sklearn/utils/validation.py:1111: DataConversionWarning: A column-vector y was passed when a 1d array was expected. Please change the shape of y to (n_samples, ), for example using ravel().\n",
      "  y = column_or_1d(y, warn=True)\n",
      "/home/slawa/.pyenv/versions/3.8.12/envs/amex_default_pred/lib/python3.8/site-packages/sklearn/utils/validation.py:1111: DataConversionWarning: A column-vector y was passed when a 1d array was expected. Please change the shape of y to (n_samples, ), for example using ravel().\n",
      "  y = column_or_1d(y, warn=True)\n"
     ]
    },
    {
     "data": {
      "text/plain": [
       "0.764778211905309"
      ]
     },
     "execution_count": 193,
     "metadata": {},
     "output_type": "execute_result"
    }
   ],
   "source": [
    "results_perc = cross_validate(mod_perc, X_avg_pp, y_unique, cv = 5, scoring=scorings)\n",
    "results_perc['test_recall'].mean()"
   ]
  },
  {
   "cell_type": "code",
   "execution_count": 194,
   "id": "c3dd8c15-1e4a-4934-b792-ea940f352b0f",
   "metadata": {},
   "outputs": [
    {
     "data": {
      "text/plain": [
       "{'fit_time': array([0.95894814, 1.43016315, 0.89425135, 0.5155282 , 0.81968164]),\n",
       " 'score_time': array([0.03467894, 0.05702305, 0.06101513, 0.04226947, 0.03156662]),\n",
       " 'test_recall': array([0.73245614, 0.70614035, 0.75982533, 0.74235808, 0.68558952]),\n",
       " 'test_f1': array([0.75565611, 0.7268623 , 0.75652174, 0.76576577, 0.71853547]),\n",
       " 'test_amex': array([0.49373806, 0.48588011, 0.50026109, 0.51791194, 0.44430416])}"
      ]
     },
     "execution_count": 194,
     "metadata": {},
     "output_type": "execute_result"
    }
   ],
   "source": [
    "results"
   ]
  },
  {
   "cell_type": "code",
   "execution_count": 195,
   "id": "da42f06b-3761-4152-917a-00716e80da05",
   "metadata": {},
   "outputs": [
    {
     "name": "stderr",
     "output_type": "stream",
     "text": [
      "/home/slawa/.pyenv/versions/3.8.12/envs/amex_default_pred/lib/python3.8/site-packages/sklearn/utils/validation.py:1111: DataConversionWarning: A column-vector y was passed when a 1d array was expected. Please change the shape of y to (n_samples, ), for example using ravel().\n",
      "  y = column_or_1d(y, warn=True)\n",
      "/home/slawa/.pyenv/versions/3.8.12/envs/amex_default_pred/lib/python3.8/site-packages/sklearn/utils/validation.py:1111: DataConversionWarning: A column-vector y was passed when a 1d array was expected. Please change the shape of y to (n_samples, ), for example using ravel().\n",
      "  y = column_or_1d(y, warn=True)\n",
      "/home/slawa/.pyenv/versions/3.8.12/envs/amex_default_pred/lib/python3.8/site-packages/sklearn/utils/validation.py:1111: DataConversionWarning: A column-vector y was passed when a 1d array was expected. Please change the shape of y to (n_samples, ), for example using ravel().\n",
      "  y = column_or_1d(y, warn=True)\n",
      "/home/slawa/.pyenv/versions/3.8.12/envs/amex_default_pred/lib/python3.8/site-packages/sklearn/utils/validation.py:1111: DataConversionWarning: A column-vector y was passed when a 1d array was expected. Please change the shape of y to (n_samples, ), for example using ravel().\n",
      "  y = column_or_1d(y, warn=True)\n",
      "/home/slawa/.pyenv/versions/3.8.12/envs/amex_default_pred/lib/python3.8/site-packages/sklearn/utils/validation.py:1111: DataConversionWarning: A column-vector y was passed when a 1d array was expected. Please change the shape of y to (n_samples, ), for example using ravel().\n",
      "  y = column_or_1d(y, warn=True)\n"
     ]
    },
    {
     "data": {
      "text/plain": [
       "{'fit_time': array([0.05657959, 0.06310368, 0.04209256, 0.08540249, 0.05321813]),\n",
       " 'score_time': array([0.07544971, 0.09906197, 0.08540058, 0.0533917 , 0.03215933]),\n",
       " 'test_recall': array([0.55701754, 0.47368421, 0.6069869 , 0.82969432, 0.60262009]),\n",
       " 'test_f1': array([0.6195122 , 0.53071253, 0.58280922, 0.73076923, 0.62585034]),\n",
       " 'test_amex': array([0.33738642, 0.25920546, 0.3194942 , 0.40785472, 0.35720282])}"
      ]
     },
     "execution_count": 195,
     "metadata": {},
     "output_type": "execute_result"
    }
   ],
   "source": [
    "mod_agg = PassiveAggressiveClassifier()\n",
    "results_agg = cross_validate(mod_agg, X_avg_pp, y_unique, cv = 5, scoring=scorings)\n",
    "results_agg"
   ]
  },
  {
   "cell_type": "code",
   "execution_count": 82,
   "id": "330fd8a8-7c4b-432f-9179-0c2fb914a90f",
   "metadata": {},
   "outputs": [],
   "source": [
    "from sklearn.neighbors import KNeighborsClassifier"
   ]
  },
  {
   "cell_type": "code",
   "execution_count": 199,
   "id": "5613047a-ef42-479a-8f25-8a808522fea8",
   "metadata": {},
   "outputs": [
    {
     "name": "stderr",
     "output_type": "stream",
     "text": [
      "/home/slawa/.pyenv/versions/3.8.12/envs/amex_default_pred/lib/python3.8/site-packages/sklearn/neighbors/_classification.py:207: DataConversionWarning: A column-vector y was passed when a 1d array was expected. Please change the shape of y to (n_samples,), for example using ravel().\n",
      "  return self._fit(X, y)\n",
      "/home/slawa/.pyenv/versions/3.8.12/envs/amex_default_pred/lib/python3.8/site-packages/sklearn/neighbors/_classification.py:207: DataConversionWarning: A column-vector y was passed when a 1d array was expected. Please change the shape of y to (n_samples,), for example using ravel().\n",
      "  return self._fit(X, y)\n",
      "/home/slawa/.pyenv/versions/3.8.12/envs/amex_default_pred/lib/python3.8/site-packages/sklearn/neighbors/_classification.py:207: DataConversionWarning: A column-vector y was passed when a 1d array was expected. Please change the shape of y to (n_samples,), for example using ravel().\n",
      "  return self._fit(X, y)\n",
      "/home/slawa/.pyenv/versions/3.8.12/envs/amex_default_pred/lib/python3.8/site-packages/sklearn/neighbors/_classification.py:207: DataConversionWarning: A column-vector y was passed when a 1d array was expected. Please change the shape of y to (n_samples,), for example using ravel().\n",
      "  return self._fit(X, y)\n",
      "/home/slawa/.pyenv/versions/3.8.12/envs/amex_default_pred/lib/python3.8/site-packages/sklearn/neighbors/_classification.py:207: DataConversionWarning: A column-vector y was passed when a 1d array was expected. Please change the shape of y to (n_samples,), for example using ravel().\n",
      "  return self._fit(X, y)\n"
     ]
    },
    {
     "data": {
      "text/plain": [
       "0.47855282310579944"
      ]
     },
     "execution_count": 199,
     "metadata": {},
     "output_type": "execute_result"
    }
   ],
   "source": [
    "knn = KNeighborsClassifier(n_neighbors=5)\n",
    "results_knn = cross_validate(knn, X_avg_pp, y_unique, cv = 5, scoring=scorings)\n",
    "results_knn['test_recall'].mean()"
   ]
  },
  {
   "cell_type": "code",
   "execution_count": 200,
   "id": "d8d031b4-0318-4f36-b2ce-90e7274b9b45",
   "metadata": {},
   "outputs": [
    {
     "data": {
      "text/plain": [
       "{'fit_time': array([0.01227546, 0.00798273, 0.00844502, 0.00742483, 0.01128435]),\n",
       " 'score_time': array([0.1573    , 0.14182854, 0.12138844, 0.12682533, 0.07112479]),\n",
       " 'test_recall': array([0.47368421, 0.46929825, 0.51965066, 0.4628821 , 0.46724891]),\n",
       " 'test_f1': array([0.5729443 , 0.57526882, 0.59649123, 0.54780362, 0.56613757]),\n",
       " 'test_amex': array([0.34166025, 0.39677783, 0.34823032, 0.30214456, 0.33086334])}"
      ]
     },
     "execution_count": 200,
     "metadata": {},
     "output_type": "execute_result"
    }
   ],
   "source": [
    "results_knn"
   ]
  },
  {
   "cell_type": "code",
   "execution_count": 92,
   "id": "32c0324a-d584-4b21-927c-546d67e52b3a",
   "metadata": {},
   "outputs": [],
   "source": [
    "from sklearn.ensemble import GradientBoostingClassifier"
   ]
  },
  {
   "cell_type": "code",
   "execution_count": 201,
   "id": "6d9cade5-bce1-4f8f-a727-95b4556ecc6f",
   "metadata": {},
   "outputs": [],
   "source": [
    "mod_gbc = GradientBoostingClassifier()"
   ]
  },
  {
   "cell_type": "code",
   "execution_count": 202,
   "id": "6d23811e-8309-4223-bd60-24ca6ebd23d8",
   "metadata": {},
   "outputs": [
    {
     "name": "stderr",
     "output_type": "stream",
     "text": [
      "/home/slawa/.pyenv/versions/3.8.12/envs/amex_default_pred/lib/python3.8/site-packages/sklearn/ensemble/_gb.py:570: DataConversionWarning: A column-vector y was passed when a 1d array was expected. Please change the shape of y to (n_samples, ), for example using ravel().\n",
      "  y = column_or_1d(y, warn=True)\n",
      "/home/slawa/.pyenv/versions/3.8.12/envs/amex_default_pred/lib/python3.8/site-packages/sklearn/ensemble/_gb.py:570: DataConversionWarning: A column-vector y was passed when a 1d array was expected. Please change the shape of y to (n_samples, ), for example using ravel().\n",
      "  y = column_or_1d(y, warn=True)\n",
      "/home/slawa/.pyenv/versions/3.8.12/envs/amex_default_pred/lib/python3.8/site-packages/sklearn/ensemble/_gb.py:570: DataConversionWarning: A column-vector y was passed when a 1d array was expected. Please change the shape of y to (n_samples, ), for example using ravel().\n",
      "  y = column_or_1d(y, warn=True)\n",
      "/home/slawa/.pyenv/versions/3.8.12/envs/amex_default_pred/lib/python3.8/site-packages/sklearn/ensemble/_gb.py:570: DataConversionWarning: A column-vector y was passed when a 1d array was expected. Please change the shape of y to (n_samples, ), for example using ravel().\n",
      "  y = column_or_1d(y, warn=True)\n",
      "/home/slawa/.pyenv/versions/3.8.12/envs/amex_default_pred/lib/python3.8/site-packages/sklearn/ensemble/_gb.py:570: DataConversionWarning: A column-vector y was passed when a 1d array was expected. Please change the shape of y to (n_samples, ), for example using ravel().\n",
      "  y = column_or_1d(y, warn=True)\n"
     ]
    },
    {
     "data": {
      "text/plain": [
       "{'fit_time': array([14.57703304, 15.44440269, 15.4460113 , 14.91057968, 14.98634648]),\n",
       " 'score_time': array([0.01776814, 0.03420639, 0.01747346, 0.0174253 , 0.01749253]),\n",
       " 'test_recall': array([0.71929825, 0.73245614, 0.75545852, 0.72052402, 0.68995633]),\n",
       " 'test_f1': array([0.74545455, 0.74887892, 0.74089936, 0.74324324, 0.71011236]),\n",
       " 'test_amex': array([0.46076064, 0.51150484, 0.47817671, 0.50152231, 0.4371964 ])}"
      ]
     },
     "execution_count": 202,
     "metadata": {},
     "output_type": "execute_result"
    }
   ],
   "source": [
    "results_gbc = cross_validate(mod_gbc, X_avg_pp, y_unique, cv = 5, scoring=scorings)\n",
    "results_gbc"
   ]
  },
  {
   "cell_type": "code",
   "execution_count": 95,
   "id": "fb526df0-8dab-461b-8c77-cc14fc99f01b",
   "metadata": {},
   "outputs": [
    {
     "data": {
      "text/plain": [
       "{'fit_time': array([15.31042814, 15.58400297, 15.10994864, 14.88649392, 14.3548708 ]),\n",
       " 'score_time': array([0.00783539, 0.00701785, 0.00785375, 0.00779939, 0.0067637 ]),\n",
       " 'test_accuracy': array([0.87868852, 0.87540984, 0.86775956, 0.87650273, 0.85901639]),\n",
       " 'test_recall': array([0.72368421, 0.73245614, 0.75545852, 0.72052402, 0.68995633]),\n",
       " 'test_f1': array([0.74829932, 0.74553571, 0.74089936, 0.74492099, 0.71011236])}"
      ]
     },
     "execution_count": 95,
     "metadata": {},
     "output_type": "execute_result"
    }
   ],
   "source": [
    "results_gbc"
   ]
  },
  {
   "cell_type": "code",
   "execution_count": null,
   "id": "015feb39-8066-4bfe-a17d-221229a10c82",
   "metadata": {},
   "outputs": [],
   "source": []
  }
 ],
 "metadata": {
  "kernelspec": {
   "display_name": "Python 3 (ipykernel)",
   "language": "python",
   "name": "python3"
  },
  "language_info": {
   "codemirror_mode": {
    "name": "ipython",
    "version": 3
   },
   "file_extension": ".py",
   "mimetype": "text/x-python",
   "name": "python",
   "nbconvert_exporter": "python",
   "pygments_lexer": "ipython3",
   "version": "3.8.12"
  },
  "toc": {
   "base_numbering": 1,
   "nav_menu": {},
   "number_sections": true,
   "sideBar": true,
   "skip_h1_title": false,
   "title_cell": "Table of Contents",
   "title_sidebar": "Contents",
   "toc_cell": false,
   "toc_position": {},
   "toc_section_display": true,
   "toc_window_display": false
  },
  "vscode": {
   "interpreter": {
    "hash": "ca5ea90c267710d9bfe78529f31e8ec79e7ef988a35577c3dfbf015c5510eecb"
   }
  }
 },
 "nbformat": 4,
 "nbformat_minor": 5
}
