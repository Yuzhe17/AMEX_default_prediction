{
 "cells": [
  {
   "cell_type": "markdown",
   "id": "7347a067",
   "metadata": {
    "heading_collapsed": true
   },
   "source": [
    "# Convert to parquet"
   ]
  },
  {
   "cell_type": "code",
   "execution_count": null,
   "id": "70e24d7e",
   "metadata": {
    "hidden": true
   },
   "outputs": [],
   "source": [
    "import pandas as pd"
   ]
  },
  {
   "cell_type": "code",
   "execution_count": null,
   "id": "c6560087",
   "metadata": {
    "hidden": true
   },
   "outputs": [],
   "source": [
    "# def_df = pd.read_csv(\"/Users/sjoerddewit/Desktop/Programming/6 Le Wagon Data Science/final_project/defaulter_data_6k_ids.csv\", index_col=[0])\n",
    "# pay_df = pd.read_csv(\"/Users/sjoerddewit/Desktop/Programming/6 Le Wagon Data Science/final_project/payer_data_20k_ids.csv\", index_col=[0])\n",
    "\n"
   ]
  },
  {
   "cell_type": "code",
   "execution_count": null,
   "id": "a86f73fc",
   "metadata": {
    "hidden": true
   },
   "outputs": [],
   "source": [
    "# def_df = pd.read_csv(\"/Users/sjoerddewit/Desktop/Programming/6 Le Wagon Data Science/final_project/defaulter_data_20k_ids.csv\", index_col=[0])\n",
    "\n"
   ]
  },
  {
   "cell_type": "code",
   "execution_count": null,
   "id": "7e093066",
   "metadata": {
    "hidden": true
   },
   "outputs": [],
   "source": [
    "def compress_datatypes(df, **kwargs):\n",
    "    \"\"\"\n",
    "    Reduces size of dataframe by downcasting numerical columns\n",
    "    \"\"\"\n",
    "    input_size = df.memory_usage(index=True).sum()/ 1024\n",
    "    print(\"new dataframe size: \", round(input_size,2), 'kB')\n",
    "    \n",
    "    in_size = df.memory_usage(index=True).sum()\n",
    "    for type in [\"float\", \"integer\"]:\n",
    "        l_cols = list(df.select_dtypes(include=type))\n",
    "        for col in l_cols:\n",
    "            df[col] = pd.to_numeric(df[col], downcast=type)\n",
    "    out_size = df.memory_usage(index=True).sum()\n",
    "    ratio = (1 - round(out_size / in_size, 2)) * 100\n",
    "    \n",
    "    print(\"optimized size by {} %\".format(round(ratio,2)))\n",
    "    print(\"new dataframe size: \", round(out_size / 1024,2), \" kB\")\n",
    "    \n",
    "    return df\n",
    "\n",
    "def_df_compress = compress_datatypes(def_df)\n",
    "# pay_df_compress = compress_datatypes(pay_df)\n",
    "\n",
    "# convert to parquet:\n",
    "def_df_compress.to_parquet('/Users/sjoerddewit/Desktop/Programming/6 Le Wagon Data Science/final_project/defaulter_data_20k_ids_compress.parquet')\n",
    "print('\\nparquet defaulter done')\n",
    "# pay_df_compress.to_parquet('/Users/sjoerddewit/Desktop/Programming/6 Le Wagon Data Science/final_project/payer_data_20k_ids.parquet')\n",
    "print('\\nparquet payer done')\n"
   ]
  },
  {
   "cell_type": "code",
   "execution_count": null,
   "id": "74200013",
   "metadata": {
    "hidden": true
   },
   "outputs": [],
   "source": []
  },
  {
   "cell_type": "markdown",
   "id": "456c227e",
   "metadata": {},
   "source": [
    "# Reduce dataset size  w Kaggle"
   ]
  },
  {
   "cell_type": "code",
   "execution_count": 12,
   "id": "1fc44d6d",
   "metadata": {},
   "outputs": [],
   "source": [
    "import numpy as np # linear algebra\n",
    "import pandas as pd # data processing, CSV file I/O (e.g. pd.read_csv)\n",
    "import pyarrow as pa\n",
    "import pyarrow.parquet as pq\n",
    "import time\n",
    "from tqdm.auto import tqdm\n",
    "from tqdm.notebook import trange, tqdm\n",
    "from time import sleep\n"
   ]
  },
  {
   "cell_type": "code",
   "execution_count": 13,
   "id": "6173736c",
   "metadata": {},
   "outputs": [],
   "source": [
    "test_path = '/Users/sjoerddewit/Downloads/test_data.csv'\n",
    "parquet_file = '/Users/sjoerddewit/Downloads/test_data.parquet'\n",
    "test = pd.read_csv(test_path, nrows=10000)"
   ]
  },
  {
   "cell_type": "code",
   "execution_count": null,
   "id": "699dbbf7",
   "metadata": {},
   "outputs": [],
   "source": [
    "# train_path = '/Users/sjoerddewit/Downloads/train_data.csv'\n",
    "# parquet_file = '/Users/sjoerddewit/Downloads/train_data.parquet'\n",
    "# train = pd.read_csv(train_path, nrows=10000)"
   ]
  },
  {
   "cell_type": "code",
   "execution_count": 14,
   "id": "02c1d4a1",
   "metadata": {},
   "outputs": [],
   "source": [
    "def get_col_dtypes(data):\n",
    "    col_dtypes = {}\n",
    "    for col in data.columns:\n",
    "        if str(data[col].dtype) == 'float64':\n",
    "            col_dtypes[col] = 'float32'\n",
    "        elif str(data[col].dtype) == 'int64':\n",
    "            col_dtypes[col] = 'int32'\n",
    "        elif str(data[col].dtype) == 'object':\n",
    "            col_dtypes[col] = 'category'\n",
    "        else:\n",
    "            col_dtypes[col] = str(data[col].dtype)\n",
    "    return col_dtypes"
   ]
  },
  {
   "cell_type": "code",
   "execution_count": 15,
   "id": "dd070dab",
   "metadata": {},
   "outputs": [],
   "source": [
    "col_dtypes = get_col_dtypes(test)"
   ]
  },
  {
   "cell_type": "code",
   "execution_count": 16,
   "id": "676e9df1",
   "metadata": {},
   "outputs": [],
   "source": [
    "def write_parquet(path, save_loc, col_dtypes, chunk_size=10000):\n",
    "    schema = ''\n",
    "    writer = ''\n",
    "    for i,chunk in enumerate(pd.read_csv(path, dtype=col_dtypes, iterator=True, chunksize=10000)):\n",
    "        if i == 0:\n",
    "            schema = pa.Table.from_pandas(df=chunk).schema\n",
    "            writer = pq.ParquetWriter(save_loc, schema, compression='snappy')\n",
    "        table = pa.Table.from_pandas(chunk, schema=schema)\n",
    "        writer.write_table(table)\n",
    "    return None"
   ]
  },
  {
   "cell_type": "code",
   "execution_count": 17,
   "id": "3cf46f38",
   "metadata": {},
   "outputs": [
    {
     "name": "stdout",
     "output_type": "stream",
     "text": [
      "Time taken for converting csv to parquet: 6.0 minutes and 56.42820596694946 seconds....\n"
     ]
    }
   ],
   "source": [
    "start = time.time()\n",
    "write_parquet(test_path, parquet_file, col_dtypes)\n",
    "end = time.time()\n",
    "minutes, seconds = divmod(end-start, 60)\n",
    "print(f\"Time taken for converting csv to parquet: {minutes} minutes and {seconds} seconds....\")\n"
   ]
  },
  {
   "cell_type": "code",
   "execution_count": null,
   "id": "5e2d73c1",
   "metadata": {},
   "outputs": [],
   "source": []
  },
  {
   "cell_type": "markdown",
   "id": "da663416",
   "metadata": {},
   "source": [
    "# Chuncking the parquet test file"
   ]
  },
  {
   "cell_type": "code",
   "execution_count": 1,
   "id": "c70c08bd",
   "metadata": {},
   "outputs": [
    {
     "ename": "ValueError",
     "evalue": "Failed to convert partition to expected pyarrow schema:\n    `ArrowInvalid('Integer value 462378 not in range: -128 to 127', 'Conversion failed for column customer_ID with type category')`\n\nExpected partition schema:\n    customer_ID: dictionary<values=string, indices=int8, ordered=0>\n    S_2: dictionary<values=string, indices=int8, ordered=0>\n    P_2: float\n    D_39: float\n    B_1: float\n    B_2: float\n    R_1: float\n    S_3: float\n    D_41: float\n    B_3: float\n    D_42: float\n    D_43: float\n    D_44: float\n    B_4: float\n    D_45: float\n    B_5: float\n    R_2: float\n    D_46: float\n    D_47: float\n    D_48: float\n    D_49: float\n    B_6: float\n    B_7: float\n    B_8: float\n    D_50: float\n    D_51: float\n    B_9: float\n    R_3: float\n    D_52: float\n    P_3: float\n    B_10: float\n    D_53: float\n    S_5: float\n    B_11: float\n    S_6: float\n    D_54: float\n    R_4: float\n    S_7: float\n    B_12: float\n    S_8: float\n    D_55: float\n    D_56: float\n    B_13: float\n    R_5: float\n    D_58: float\n    S_9: float\n    B_14: float\n    D_59: float\n    D_60: float\n    D_61: float\n    B_15: float\n    S_11: float\n    D_62: float\n    D_63: dictionary<values=string, indices=int8, ordered=0>\n    D_64: dictionary<values=string, indices=int8, ordered=0>\n    D_65: float\n    B_16: float\n    B_17: float\n    B_18: float\n    B_19: float\n    D_66: float\n    B_20: float\n    D_68: float\n    S_12: float\n    R_6: float\n    S_13: float\n    B_21: float\n    D_69: float\n    B_22: float\n    D_70: float\n    D_71: float\n    D_72: float\n    S_15: float\n    B_23: float\n    D_73: float\n    P_4: float\n    D_74: float\n    D_75: float\n    D_76: float\n    B_24: float\n    R_7: float\n    D_77: float\n    B_25: float\n    B_26: float\n    D_78: float\n    D_79: float\n    R_8: float\n    R_9: float\n    S_16: float\n    D_80: float\n    R_10: float\n    R_11: float\n    B_27: float\n    D_81: float\n    D_82: float\n    S_17: float\n    R_12: float\n    B_28: float\n    R_13: float\n    D_83: float\n    R_14: float\n    R_15: float\n    D_84: float\n    R_16: float\n    B_29: float\n    B_30: float\n    S_18: float\n    D_86: float\n    D_87: float\n    R_17: float\n    R_18: float\n    D_88: float\n    B_31: int32\n    S_19: float\n    R_19: float\n    B_32: float\n    S_20: float\n    R_20: float\n    R_21: float\n    B_33: float\n    D_89: float\n    R_22: float\n    R_23: float\n    D_91: float\n    D_92: float\n    D_93: float\n    D_94: float\n    R_24: float\n    R_25: float\n    D_96: float\n    S_22: float\n    S_23: float\n    S_24: float\n    S_25: float\n    S_26: float\n    D_102: float\n    D_103: float\n    D_104: float\n    D_105: float\n    D_106: float\n    D_107: float\n    B_36: float\n    B_37: float\n    R_26: float\n    R_27: float\n    B_38: float\n    D_108: float\n    D_109: float\n    D_110: float\n    D_111: float\n    B_39: float\n    D_112: float\n    B_40: float\n    S_27: float\n    D_113: float\n    D_114: float\n    D_115: float\n    D_116: float\n    D_117: float\n    D_118: float\n    D_119: float\n    D_120: float\n    D_121: float\n    D_122: float\n    D_123: float\n    D_124: float\n    D_125: float\n    D_126: float\n    D_127: float\n    D_128: float\n    D_129: float\n    B_41: float\n    B_42: float\n    D_130: float\n    D_131: float\n    D_132: float\n    D_133: float\n    R_28: float\n    D_134: float\n    D_135: float\n    D_136: float\n    D_137: float\n    D_138: float\n    D_139: float\n    D_140: float\n    D_141: float\n    D_142: float\n    D_143: float\n    D_144: float\n    D_145: float\n    __null_dask_index__: int64\n\nReceived partition schema:\n    customer_ID: dictionary<values=string, indices=int32, ordered=0>\n    S_2: dictionary<values=string, indices=int16, ordered=0>\n    P_2: float\n    D_39: float\n    B_1: float\n    B_2: float\n    R_1: float\n    S_3: float\n    D_41: float\n    B_3: float\n    D_42: float\n    D_43: float\n    D_44: float\n    B_4: float\n    D_45: float\n    B_5: float\n    R_2: float\n    D_46: float\n    D_47: float\n    D_48: float\n    D_49: float\n    B_6: float\n    B_7: float\n    B_8: float\n    D_50: float\n    D_51: float\n    B_9: float\n    R_3: float\n    D_52: float\n    P_3: float\n    B_10: float\n    D_53: float\n    S_5: float\n    B_11: float\n    S_6: float\n    D_54: float\n    R_4: float\n    S_7: float\n    B_12: float\n    S_8: float\n    D_55: float\n    D_56: float\n    B_13: float\n    R_5: float\n    D_58: float\n    S_9: float\n    B_14: float\n    D_59: float\n    D_60: float\n    D_61: float\n    B_15: float\n    S_11: float\n    D_62: float\n    D_63: dictionary<values=string, indices=int8, ordered=0>\n    D_64: dictionary<values=string, indices=int8, ordered=0>\n    D_65: float\n    B_16: float\n    B_17: float\n    B_18: float\n    B_19: float\n    D_66: float\n    B_20: float\n    D_68: float\n    S_12: float\n    R_6: float\n    S_13: float\n    B_21: float\n    D_69: float\n    B_22: float\n    D_70: float\n    D_71: float\n    D_72: float\n    S_15: float\n    B_23: float\n    D_73: float\n    P_4: float\n    D_74: float\n    D_75: float\n    D_76: float\n    B_24: float\n    R_7: float\n    D_77: float\n    B_25: float\n    B_26: float\n    D_78: float\n    D_79: float\n    R_8: float\n    R_9: float\n    S_16: float\n    D_80: float\n    R_10: float\n    R_11: float\n    B_27: float\n    D_81: float\n    D_82: float\n    S_17: float\n    R_12: float\n    B_28: float\n    R_13: float\n    D_83: float\n    R_14: float\n    R_15: float\n    D_84: float\n    R_16: float\n    B_29: float\n    B_30: float\n    S_18: float\n    D_86: float\n    D_87: float\n    R_17: float\n    R_18: float\n    D_88: float\n    B_31: int32\n    S_19: float\n    R_19: float\n    B_32: float\n    S_20: float\n    R_20: float\n    R_21: float\n    B_33: float\n    D_89: float\n    R_22: float\n    R_23: float\n    D_91: float\n    D_92: float\n    D_93: float\n    D_94: float\n    R_24: float\n    R_25: float\n    D_96: float\n    S_22: float\n    S_23: float\n    S_24: float\n    S_25: float\n    S_26: float\n    D_102: float\n    D_103: float\n    D_104: float\n    D_105: float\n    D_106: float\n    D_107: float\n    B_36: float\n    B_37: float\n    R_26: float\n    R_27: float\n    B_38: float\n    D_108: float\n    D_109: float\n    D_110: float\n    D_111: float\n    B_39: float\n    D_112: float\n    B_40: float\n    S_27: float\n    D_113: float\n    D_114: float\n    D_115: float\n    D_116: float\n    D_117: float\n    D_118: float\n    D_119: float\n    D_120: float\n    D_121: float\n    D_122: float\n    D_123: float\n    D_124: float\n    D_125: float\n    D_126: float\n    D_127: float\n    D_128: float\n    D_129: float\n    B_41: float\n    B_42: float\n    D_130: float\n    D_131: float\n    D_132: float\n    D_133: float\n    R_28: float\n    D_134: float\n    D_135: float\n    D_136: float\n    D_137: float\n    D_138: float\n    D_139: float\n    D_140: float\n    D_141: float\n    D_142: float\n    D_143: float\n    D_144: float\n    D_145: float\n    __null_dask_index__: int64\n\nThis error *may* be resolved by passing in schema information for\nthe mismatched column(s) using the `schema` keyword in `to_parquet`.",
     "output_type": "error",
     "traceback": [
      "\u001b[0;31m---------------------------------------------------------------------------\u001b[0m",
      "\u001b[0;31mValueError\u001b[0m                                Traceback (most recent call last)",
      "Input \u001b[0;32mIn [1]\u001b[0m, in \u001b[0;36m<cell line: 6>\u001b[0;34m()\u001b[0m\n\u001b[1;32m      3\u001b[0m path \u001b[38;5;241m=\u001b[39m \u001b[38;5;124m\"\u001b[39m\u001b[38;5;124m/Users/sjoerddewit/Downloads/\u001b[39m\u001b[38;5;124m\"\u001b[39m\n\u001b[1;32m      5\u001b[0m ddf \u001b[38;5;241m=\u001b[39m dd\u001b[38;5;241m.\u001b[39mread_parquet(\u001b[38;5;124m'\u001b[39m\u001b[38;5;124m/Users/sjoerddewit/Downloads/test_data.parquet\u001b[39m\u001b[38;5;124m'\u001b[39m)\n\u001b[0;32m----> 6\u001b[0m \u001b[43mddf\u001b[49m\u001b[38;5;241;43m.\u001b[39;49m\u001b[43mrepartition\u001b[49m\u001b[43m(\u001b[49m\u001b[38;5;241;43m8\u001b[39;49m\u001b[43m)\u001b[49m\u001b[38;5;241;43m.\u001b[39;49m\u001b[43mto_parquet\u001b[49m\u001b[43m(\u001b[49m\u001b[43mpath\u001b[49m\u001b[43m,\u001b[49m\n\u001b[1;32m      7\u001b[0m \u001b[43m                             \u001b[49m\u001b[43mallow_truncated_timestamps\u001b[49m\u001b[38;5;241;43m=\u001b[39;49m\u001b[38;5;28;43;01mTrue\u001b[39;49;00m\u001b[43m)\u001b[49m\n",
      "File \u001b[0;32m~/.pyenv/versions/3.8.12/envs/AMEX_default_prediction/lib/python3.8/site-packages/dask/dataframe/core.py:5145\u001b[0m, in \u001b[0;36mDataFrame.to_parquet\u001b[0;34m(self, path, *args, **kwargs)\u001b[0m\n\u001b[1;32m   5142\u001b[0m \u001b[38;5;124;03m\"\"\"See dd.to_parquet docstring for more information\"\"\"\u001b[39;00m\n\u001b[1;32m   5143\u001b[0m \u001b[38;5;28;01mfrom\u001b[39;00m \u001b[38;5;21;01mdask\u001b[39;00m\u001b[38;5;21;01m.\u001b[39;00m\u001b[38;5;21;01mdataframe\u001b[39;00m\u001b[38;5;21;01m.\u001b[39;00m\u001b[38;5;21;01mio\u001b[39;00m \u001b[38;5;28;01mimport\u001b[39;00m to_parquet\n\u001b[0;32m-> 5145\u001b[0m \u001b[38;5;28;01mreturn\u001b[39;00m \u001b[43mto_parquet\u001b[49m\u001b[43m(\u001b[49m\u001b[38;5;28;43mself\u001b[39;49m\u001b[43m,\u001b[49m\u001b[43m \u001b[49m\u001b[43mpath\u001b[49m\u001b[43m,\u001b[49m\u001b[43m \u001b[49m\u001b[38;5;241;43m*\u001b[39;49m\u001b[43margs\u001b[49m\u001b[43m,\u001b[49m\u001b[43m \u001b[49m\u001b[38;5;241;43m*\u001b[39;49m\u001b[38;5;241;43m*\u001b[39;49m\u001b[43mkwargs\u001b[49m\u001b[43m)\u001b[49m\n",
      "File \u001b[0;32m~/.pyenv/versions/3.8.12/envs/AMEX_default_prediction/lib/python3.8/site-packages/dask/dataframe/io/parquet/core.py:963\u001b[0m, in \u001b[0;36mto_parquet\u001b[0;34m(df, path, engine, compression, write_index, append, overwrite, ignore_divisions, partition_on, storage_options, custom_metadata, write_metadata_file, compute, compute_kwargs, schema, name_function, **kwargs)\u001b[0m\n\u001b[1;32m    960\u001b[0m out \u001b[38;5;241m=\u001b[39m Scalar(graph, final_name, \u001b[38;5;124m\"\u001b[39m\u001b[38;5;124m\"\u001b[39m)\n\u001b[1;32m    962\u001b[0m \u001b[38;5;28;01mif\u001b[39;00m compute:\n\u001b[0;32m--> 963\u001b[0m     out \u001b[38;5;241m=\u001b[39m \u001b[43mout\u001b[49m\u001b[38;5;241;43m.\u001b[39;49m\u001b[43mcompute\u001b[49m\u001b[43m(\u001b[49m\u001b[38;5;241;43m*\u001b[39;49m\u001b[38;5;241;43m*\u001b[39;49m\u001b[43mcompute_kwargs\u001b[49m\u001b[43m)\u001b[49m\n\u001b[1;32m    965\u001b[0m \u001b[38;5;66;03m# Invalidate the filesystem listing cache for the output path after write.\u001b[39;00m\n\u001b[1;32m    966\u001b[0m \u001b[38;5;66;03m# We do this before returning, even if `compute=False`. This helps ensure\u001b[39;00m\n\u001b[1;32m    967\u001b[0m \u001b[38;5;66;03m# that reading files that were just written succeeds.\u001b[39;00m\n\u001b[1;32m    968\u001b[0m fs\u001b[38;5;241m.\u001b[39minvalidate_cache(path)\n",
      "File \u001b[0;32m~/.pyenv/versions/3.8.12/envs/AMEX_default_prediction/lib/python3.8/site-packages/dask/base.py:315\u001b[0m, in \u001b[0;36mDaskMethodsMixin.compute\u001b[0;34m(self, **kwargs)\u001b[0m\n\u001b[1;32m    291\u001b[0m \u001b[38;5;28;01mdef\u001b[39;00m \u001b[38;5;21mcompute\u001b[39m(\u001b[38;5;28mself\u001b[39m, \u001b[38;5;241m*\u001b[39m\u001b[38;5;241m*\u001b[39mkwargs):\n\u001b[1;32m    292\u001b[0m     \u001b[38;5;124;03m\"\"\"Compute this dask collection\u001b[39;00m\n\u001b[1;32m    293\u001b[0m \n\u001b[1;32m    294\u001b[0m \u001b[38;5;124;03m    This turns a lazy Dask collection into its in-memory equivalent.\u001b[39;00m\n\u001b[0;32m   (...)\u001b[0m\n\u001b[1;32m    313\u001b[0m \u001b[38;5;124;03m    dask.base.compute\u001b[39;00m\n\u001b[1;32m    314\u001b[0m \u001b[38;5;124;03m    \"\"\"\u001b[39;00m\n\u001b[0;32m--> 315\u001b[0m     (result,) \u001b[38;5;241m=\u001b[39m \u001b[43mcompute\u001b[49m\u001b[43m(\u001b[49m\u001b[38;5;28;43mself\u001b[39;49m\u001b[43m,\u001b[49m\u001b[43m \u001b[49m\u001b[43mtraverse\u001b[49m\u001b[38;5;241;43m=\u001b[39;49m\u001b[38;5;28;43;01mFalse\u001b[39;49;00m\u001b[43m,\u001b[49m\u001b[43m \u001b[49m\u001b[38;5;241;43m*\u001b[39;49m\u001b[38;5;241;43m*\u001b[39;49m\u001b[43mkwargs\u001b[49m\u001b[43m)\u001b[49m\n\u001b[1;32m    316\u001b[0m     \u001b[38;5;28;01mreturn\u001b[39;00m result\n",
      "File \u001b[0;32m~/.pyenv/versions/3.8.12/envs/AMEX_default_prediction/lib/python3.8/site-packages/dask/base.py:600\u001b[0m, in \u001b[0;36mcompute\u001b[0;34m(traverse, optimize_graph, scheduler, get, *args, **kwargs)\u001b[0m\n\u001b[1;32m    597\u001b[0m     keys\u001b[38;5;241m.\u001b[39mappend(x\u001b[38;5;241m.\u001b[39m__dask_keys__())\n\u001b[1;32m    598\u001b[0m     postcomputes\u001b[38;5;241m.\u001b[39mappend(x\u001b[38;5;241m.\u001b[39m__dask_postcompute__())\n\u001b[0;32m--> 600\u001b[0m results \u001b[38;5;241m=\u001b[39m \u001b[43mschedule\u001b[49m\u001b[43m(\u001b[49m\u001b[43mdsk\u001b[49m\u001b[43m,\u001b[49m\u001b[43m \u001b[49m\u001b[43mkeys\u001b[49m\u001b[43m,\u001b[49m\u001b[43m \u001b[49m\u001b[38;5;241;43m*\u001b[39;49m\u001b[38;5;241;43m*\u001b[39;49m\u001b[43mkwargs\u001b[49m\u001b[43m)\u001b[49m\n\u001b[1;32m    601\u001b[0m \u001b[38;5;28;01mreturn\u001b[39;00m repack([f(r, \u001b[38;5;241m*\u001b[39ma) \u001b[38;5;28;01mfor\u001b[39;00m r, (f, a) \u001b[38;5;129;01min\u001b[39;00m \u001b[38;5;28mzip\u001b[39m(results, postcomputes)])\n",
      "File \u001b[0;32m~/.pyenv/versions/3.8.12/envs/AMEX_default_prediction/lib/python3.8/site-packages/dask/threaded.py:89\u001b[0m, in \u001b[0;36mget\u001b[0;34m(dsk, keys, cache, num_workers, pool, **kwargs)\u001b[0m\n\u001b[1;32m     86\u001b[0m     \u001b[38;5;28;01melif\u001b[39;00m \u001b[38;5;28misinstance\u001b[39m(pool, multiprocessing\u001b[38;5;241m.\u001b[39mpool\u001b[38;5;241m.\u001b[39mPool):\n\u001b[1;32m     87\u001b[0m         pool \u001b[38;5;241m=\u001b[39m MultiprocessingPoolExecutor(pool)\n\u001b[0;32m---> 89\u001b[0m results \u001b[38;5;241m=\u001b[39m \u001b[43mget_async\u001b[49m\u001b[43m(\u001b[49m\n\u001b[1;32m     90\u001b[0m \u001b[43m    \u001b[49m\u001b[43mpool\u001b[49m\u001b[38;5;241;43m.\u001b[39;49m\u001b[43msubmit\u001b[49m\u001b[43m,\u001b[49m\n\u001b[1;32m     91\u001b[0m \u001b[43m    \u001b[49m\u001b[43mpool\u001b[49m\u001b[38;5;241;43m.\u001b[39;49m\u001b[43m_max_workers\u001b[49m\u001b[43m,\u001b[49m\n\u001b[1;32m     92\u001b[0m \u001b[43m    \u001b[49m\u001b[43mdsk\u001b[49m\u001b[43m,\u001b[49m\n\u001b[1;32m     93\u001b[0m \u001b[43m    \u001b[49m\u001b[43mkeys\u001b[49m\u001b[43m,\u001b[49m\n\u001b[1;32m     94\u001b[0m \u001b[43m    \u001b[49m\u001b[43mcache\u001b[49m\u001b[38;5;241;43m=\u001b[39;49m\u001b[43mcache\u001b[49m\u001b[43m,\u001b[49m\n\u001b[1;32m     95\u001b[0m \u001b[43m    \u001b[49m\u001b[43mget_id\u001b[49m\u001b[38;5;241;43m=\u001b[39;49m\u001b[43m_thread_get_id\u001b[49m\u001b[43m,\u001b[49m\n\u001b[1;32m     96\u001b[0m \u001b[43m    \u001b[49m\u001b[43mpack_exception\u001b[49m\u001b[38;5;241;43m=\u001b[39;49m\u001b[43mpack_exception\u001b[49m\u001b[43m,\u001b[49m\n\u001b[1;32m     97\u001b[0m \u001b[43m    \u001b[49m\u001b[38;5;241;43m*\u001b[39;49m\u001b[38;5;241;43m*\u001b[39;49m\u001b[43mkwargs\u001b[49m\u001b[43m,\u001b[49m\n\u001b[1;32m     98\u001b[0m \u001b[43m\u001b[49m\u001b[43m)\u001b[49m\n\u001b[1;32m    100\u001b[0m \u001b[38;5;66;03m# Cleanup pools associated to dead threads\u001b[39;00m\n\u001b[1;32m    101\u001b[0m \u001b[38;5;28;01mwith\u001b[39;00m pools_lock:\n",
      "File \u001b[0;32m~/.pyenv/versions/3.8.12/envs/AMEX_default_prediction/lib/python3.8/site-packages/dask/local.py:511\u001b[0m, in \u001b[0;36mget_async\u001b[0;34m(submit, num_workers, dsk, result, cache, get_id, rerun_exceptions_locally, pack_exception, raise_exception, callbacks, dumps, loads, chunksize, **kwargs)\u001b[0m\n\u001b[1;32m    509\u001b[0m         _execute_task(task, data)  \u001b[38;5;66;03m# Re-execute locally\u001b[39;00m\n\u001b[1;32m    510\u001b[0m     \u001b[38;5;28;01melse\u001b[39;00m:\n\u001b[0;32m--> 511\u001b[0m         \u001b[43mraise_exception\u001b[49m\u001b[43m(\u001b[49m\u001b[43mexc\u001b[49m\u001b[43m,\u001b[49m\u001b[43m \u001b[49m\u001b[43mtb\u001b[49m\u001b[43m)\u001b[49m\n\u001b[1;32m    512\u001b[0m res, worker_id \u001b[38;5;241m=\u001b[39m loads(res_info)\n\u001b[1;32m    513\u001b[0m state[\u001b[38;5;124m\"\u001b[39m\u001b[38;5;124mcache\u001b[39m\u001b[38;5;124m\"\u001b[39m][key] \u001b[38;5;241m=\u001b[39m res\n",
      "File \u001b[0;32m~/.pyenv/versions/3.8.12/envs/AMEX_default_prediction/lib/python3.8/site-packages/dask/local.py:319\u001b[0m, in \u001b[0;36mreraise\u001b[0;34m(exc, tb)\u001b[0m\n\u001b[1;32m    317\u001b[0m \u001b[38;5;28;01mif\u001b[39;00m exc\u001b[38;5;241m.\u001b[39m__traceback__ \u001b[38;5;129;01mis\u001b[39;00m \u001b[38;5;129;01mnot\u001b[39;00m tb:\n\u001b[1;32m    318\u001b[0m     \u001b[38;5;28;01mraise\u001b[39;00m exc\u001b[38;5;241m.\u001b[39mwith_traceback(tb)\n\u001b[0;32m--> 319\u001b[0m \u001b[38;5;28;01mraise\u001b[39;00m exc\n",
      "File \u001b[0;32m~/.pyenv/versions/3.8.12/envs/AMEX_default_prediction/lib/python3.8/site-packages/dask/local.py:224\u001b[0m, in \u001b[0;36mexecute_task\u001b[0;34m(key, task_info, dumps, loads, get_id, pack_exception)\u001b[0m\n\u001b[1;32m    222\u001b[0m \u001b[38;5;28;01mtry\u001b[39;00m:\n\u001b[1;32m    223\u001b[0m     task, data \u001b[38;5;241m=\u001b[39m loads(task_info)\n\u001b[0;32m--> 224\u001b[0m     result \u001b[38;5;241m=\u001b[39m \u001b[43m_execute_task\u001b[49m\u001b[43m(\u001b[49m\u001b[43mtask\u001b[49m\u001b[43m,\u001b[49m\u001b[43m \u001b[49m\u001b[43mdata\u001b[49m\u001b[43m)\u001b[49m\n\u001b[1;32m    225\u001b[0m     \u001b[38;5;28mid\u001b[39m \u001b[38;5;241m=\u001b[39m get_id()\n\u001b[1;32m    226\u001b[0m     result \u001b[38;5;241m=\u001b[39m dumps((result, \u001b[38;5;28mid\u001b[39m))\n",
      "File \u001b[0;32m~/.pyenv/versions/3.8.12/envs/AMEX_default_prediction/lib/python3.8/site-packages/dask/core.py:119\u001b[0m, in \u001b[0;36m_execute_task\u001b[0;34m(arg, cache, dsk)\u001b[0m\n\u001b[1;32m    115\u001b[0m     func, args \u001b[38;5;241m=\u001b[39m arg[\u001b[38;5;241m0\u001b[39m], arg[\u001b[38;5;241m1\u001b[39m:]\n\u001b[1;32m    116\u001b[0m     \u001b[38;5;66;03m# Note: Don't assign the subtask results to a variable. numpy detects\u001b[39;00m\n\u001b[1;32m    117\u001b[0m     \u001b[38;5;66;03m# temporaries by their reference count and can execute certain\u001b[39;00m\n\u001b[1;32m    118\u001b[0m     \u001b[38;5;66;03m# operations in-place.\u001b[39;00m\n\u001b[0;32m--> 119\u001b[0m     \u001b[38;5;28;01mreturn\u001b[39;00m \u001b[43mfunc\u001b[49m\u001b[43m(\u001b[49m\u001b[38;5;241;43m*\u001b[39;49m\u001b[43m(\u001b[49m\u001b[43m_execute_task\u001b[49m\u001b[43m(\u001b[49m\u001b[43ma\u001b[49m\u001b[43m,\u001b[49m\u001b[43m \u001b[49m\u001b[43mcache\u001b[49m\u001b[43m)\u001b[49m\u001b[43m \u001b[49m\u001b[38;5;28;43;01mfor\u001b[39;49;00m\u001b[43m \u001b[49m\u001b[43ma\u001b[49m\u001b[43m \u001b[49m\u001b[38;5;129;43;01min\u001b[39;49;00m\u001b[43m \u001b[49m\u001b[43margs\u001b[49m\u001b[43m)\u001b[49m\u001b[43m)\u001b[49m\n\u001b[1;32m    120\u001b[0m \u001b[38;5;28;01melif\u001b[39;00m \u001b[38;5;129;01mnot\u001b[39;00m ishashable(arg):\n\u001b[1;32m    121\u001b[0m     \u001b[38;5;28;01mreturn\u001b[39;00m arg\n",
      "File \u001b[0;32m~/.pyenv/versions/3.8.12/envs/AMEX_default_prediction/lib/python3.8/site-packages/dask/optimization.py:990\u001b[0m, in \u001b[0;36mSubgraphCallable.__call__\u001b[0;34m(self, *args)\u001b[0m\n\u001b[1;32m    988\u001b[0m \u001b[38;5;28;01mif\u001b[39;00m \u001b[38;5;129;01mnot\u001b[39;00m \u001b[38;5;28mlen\u001b[39m(args) \u001b[38;5;241m==\u001b[39m \u001b[38;5;28mlen\u001b[39m(\u001b[38;5;28mself\u001b[39m\u001b[38;5;241m.\u001b[39minkeys):\n\u001b[1;32m    989\u001b[0m     \u001b[38;5;28;01mraise\u001b[39;00m \u001b[38;5;167;01mValueError\u001b[39;00m(\u001b[38;5;124m\"\u001b[39m\u001b[38;5;124mExpected \u001b[39m\u001b[38;5;132;01m%d\u001b[39;00m\u001b[38;5;124m args, got \u001b[39m\u001b[38;5;132;01m%d\u001b[39;00m\u001b[38;5;124m\"\u001b[39m \u001b[38;5;241m%\u001b[39m (\u001b[38;5;28mlen\u001b[39m(\u001b[38;5;28mself\u001b[39m\u001b[38;5;241m.\u001b[39minkeys), \u001b[38;5;28mlen\u001b[39m(args)))\n\u001b[0;32m--> 990\u001b[0m \u001b[38;5;28;01mreturn\u001b[39;00m \u001b[43mcore\u001b[49m\u001b[38;5;241;43m.\u001b[39;49m\u001b[43mget\u001b[49m\u001b[43m(\u001b[49m\u001b[38;5;28;43mself\u001b[39;49m\u001b[38;5;241;43m.\u001b[39;49m\u001b[43mdsk\u001b[49m\u001b[43m,\u001b[49m\u001b[43m \u001b[49m\u001b[38;5;28;43mself\u001b[39;49m\u001b[38;5;241;43m.\u001b[39;49m\u001b[43moutkey\u001b[49m\u001b[43m,\u001b[49m\u001b[43m \u001b[49m\u001b[38;5;28;43mdict\u001b[39;49m\u001b[43m(\u001b[49m\u001b[38;5;28;43mzip\u001b[39;49m\u001b[43m(\u001b[49m\u001b[38;5;28;43mself\u001b[39;49m\u001b[38;5;241;43m.\u001b[39;49m\u001b[43minkeys\u001b[49m\u001b[43m,\u001b[49m\u001b[43m \u001b[49m\u001b[43margs\u001b[49m\u001b[43m)\u001b[49m\u001b[43m)\u001b[49m\u001b[43m)\u001b[49m\n",
      "File \u001b[0;32m~/.pyenv/versions/3.8.12/envs/AMEX_default_prediction/lib/python3.8/site-packages/dask/core.py:149\u001b[0m, in \u001b[0;36mget\u001b[0;34m(dsk, out, cache)\u001b[0m\n\u001b[1;32m    147\u001b[0m \u001b[38;5;28;01mfor\u001b[39;00m key \u001b[38;5;129;01min\u001b[39;00m toposort(dsk):\n\u001b[1;32m    148\u001b[0m     task \u001b[38;5;241m=\u001b[39m dsk[key]\n\u001b[0;32m--> 149\u001b[0m     result \u001b[38;5;241m=\u001b[39m \u001b[43m_execute_task\u001b[49m\u001b[43m(\u001b[49m\u001b[43mtask\u001b[49m\u001b[43m,\u001b[49m\u001b[43m \u001b[49m\u001b[43mcache\u001b[49m\u001b[43m)\u001b[49m\n\u001b[1;32m    150\u001b[0m     cache[key] \u001b[38;5;241m=\u001b[39m result\n\u001b[1;32m    151\u001b[0m result \u001b[38;5;241m=\u001b[39m _execute_task(out, cache)\n",
      "File \u001b[0;32m~/.pyenv/versions/3.8.12/envs/AMEX_default_prediction/lib/python3.8/site-packages/dask/core.py:119\u001b[0m, in \u001b[0;36m_execute_task\u001b[0;34m(arg, cache, dsk)\u001b[0m\n\u001b[1;32m    115\u001b[0m     func, args \u001b[38;5;241m=\u001b[39m arg[\u001b[38;5;241m0\u001b[39m], arg[\u001b[38;5;241m1\u001b[39m:]\n\u001b[1;32m    116\u001b[0m     \u001b[38;5;66;03m# Note: Don't assign the subtask results to a variable. numpy detects\u001b[39;00m\n\u001b[1;32m    117\u001b[0m     \u001b[38;5;66;03m# temporaries by their reference count and can execute certain\u001b[39;00m\n\u001b[1;32m    118\u001b[0m     \u001b[38;5;66;03m# operations in-place.\u001b[39;00m\n\u001b[0;32m--> 119\u001b[0m     \u001b[38;5;28;01mreturn\u001b[39;00m \u001b[43mfunc\u001b[49m\u001b[43m(\u001b[49m\u001b[38;5;241;43m*\u001b[39;49m\u001b[43m(\u001b[49m\u001b[43m_execute_task\u001b[49m\u001b[43m(\u001b[49m\u001b[43ma\u001b[49m\u001b[43m,\u001b[49m\u001b[43m \u001b[49m\u001b[43mcache\u001b[49m\u001b[43m)\u001b[49m\u001b[43m \u001b[49m\u001b[38;5;28;43;01mfor\u001b[39;49;00m\u001b[43m \u001b[49m\u001b[43ma\u001b[49m\u001b[43m \u001b[49m\u001b[38;5;129;43;01min\u001b[39;49;00m\u001b[43m \u001b[49m\u001b[43margs\u001b[49m\u001b[43m)\u001b[49m\u001b[43m)\u001b[49m\n\u001b[1;32m    120\u001b[0m \u001b[38;5;28;01melif\u001b[39;00m \u001b[38;5;129;01mnot\u001b[39;00m ishashable(arg):\n\u001b[1;32m    121\u001b[0m     \u001b[38;5;28;01mreturn\u001b[39;00m arg\n",
      "File \u001b[0;32m~/.pyenv/versions/3.8.12/envs/AMEX_default_prediction/lib/python3.8/site-packages/dask/dataframe/io/parquet/core.py:163\u001b[0m, in \u001b[0;36mToParquetFunctionWrapper.__call__\u001b[0;34m(self, df, block_index)\u001b[0m\n\u001b[1;32m    156\u001b[0m filename \u001b[38;5;241m=\u001b[39m (\n\u001b[1;32m    157\u001b[0m     \u001b[38;5;124mf\u001b[39m\u001b[38;5;124m\"\u001b[39m\u001b[38;5;124mpart.\u001b[39m\u001b[38;5;132;01m{\u001b[39;00mpart_i \u001b[38;5;241m+\u001b[39m \u001b[38;5;28mself\u001b[39m\u001b[38;5;241m.\u001b[39mi_offset\u001b[38;5;132;01m}\u001b[39;00m\u001b[38;5;124m.parquet\u001b[39m\u001b[38;5;124m\"\u001b[39m\n\u001b[1;32m    158\u001b[0m     \u001b[38;5;28;01mif\u001b[39;00m \u001b[38;5;28mself\u001b[39m\u001b[38;5;241m.\u001b[39mname_function \u001b[38;5;129;01mis\u001b[39;00m \u001b[38;5;28;01mNone\u001b[39;00m\n\u001b[1;32m    159\u001b[0m     \u001b[38;5;28;01melse\u001b[39;00m \u001b[38;5;28mself\u001b[39m\u001b[38;5;241m.\u001b[39mname_function(part_i \u001b[38;5;241m+\u001b[39m \u001b[38;5;28mself\u001b[39m\u001b[38;5;241m.\u001b[39mi_offset)\n\u001b[1;32m    160\u001b[0m )\n\u001b[1;32m    162\u001b[0m \u001b[38;5;66;03m# Write out data\u001b[39;00m\n\u001b[0;32m--> 163\u001b[0m \u001b[38;5;28;01mreturn\u001b[39;00m \u001b[38;5;28;43mself\u001b[39;49m\u001b[38;5;241;43m.\u001b[39;49m\u001b[43mengine\u001b[49m\u001b[38;5;241;43m.\u001b[39;49m\u001b[43mwrite_partition\u001b[49m\u001b[43m(\u001b[49m\n\u001b[1;32m    164\u001b[0m \u001b[43m    \u001b[49m\u001b[43mdf\u001b[49m\u001b[43m,\u001b[49m\n\u001b[1;32m    165\u001b[0m \u001b[43m    \u001b[49m\u001b[38;5;28;43mself\u001b[39;49m\u001b[38;5;241;43m.\u001b[39;49m\u001b[43mpath\u001b[49m\u001b[43m,\u001b[49m\n\u001b[1;32m    166\u001b[0m \u001b[43m    \u001b[49m\u001b[38;5;28;43mself\u001b[39;49m\u001b[38;5;241;43m.\u001b[39;49m\u001b[43mfs\u001b[49m\u001b[43m,\u001b[49m\n\u001b[1;32m    167\u001b[0m \u001b[43m    \u001b[49m\u001b[43mfilename\u001b[49m\u001b[43m,\u001b[49m\n\u001b[1;32m    168\u001b[0m \u001b[43m    \u001b[49m\u001b[38;5;28;43mself\u001b[39;49m\u001b[38;5;241;43m.\u001b[39;49m\u001b[43mpartition_on\u001b[49m\u001b[43m,\u001b[49m\n\u001b[1;32m    169\u001b[0m \u001b[43m    \u001b[49m\u001b[38;5;28;43mself\u001b[39;49m\u001b[38;5;241;43m.\u001b[39;49m\u001b[43mwrite_metadata_file\u001b[49m\u001b[43m,\u001b[49m\n\u001b[1;32m    170\u001b[0m \u001b[43m    \u001b[49m\u001b[38;5;241;43m*\u001b[39;49m\u001b[38;5;241;43m*\u001b[39;49m\u001b[43m(\u001b[49m\u001b[38;5;28;43mdict\u001b[39;49m\u001b[43m(\u001b[49m\u001b[38;5;28;43mself\u001b[39;49m\u001b[38;5;241;43m.\u001b[39;49m\u001b[43mkwargs_pass\u001b[49m\u001b[43m,\u001b[49m\u001b[43m \u001b[49m\u001b[43mhead\u001b[49m\u001b[38;5;241;43m=\u001b[39;49m\u001b[38;5;28;43;01mTrue\u001b[39;49;00m\u001b[43m)\u001b[49m\u001b[43m \u001b[49m\u001b[38;5;28;43;01mif\u001b[39;49;00m\u001b[43m \u001b[49m\u001b[43mpart_i\u001b[49m\u001b[43m \u001b[49m\u001b[38;5;241;43m==\u001b[39;49m\u001b[43m \u001b[49m\u001b[38;5;241;43m0\u001b[39;49m\u001b[43m \u001b[49m\u001b[38;5;28;43;01melse\u001b[39;49;00m\u001b[43m \u001b[49m\u001b[38;5;28;43mself\u001b[39;49m\u001b[38;5;241;43m.\u001b[39;49m\u001b[43mkwargs_pass\u001b[49m\u001b[43m)\u001b[49m\u001b[43m,\u001b[49m\n\u001b[1;32m    171\u001b[0m \u001b[43m\u001b[49m\u001b[43m)\u001b[49m\n",
      "File \u001b[0;32m~/.pyenv/versions/3.8.12/envs/AMEX_default_prediction/lib/python3.8/site-packages/dask/dataframe/io/parquet/arrow.py:686\u001b[0m, in \u001b[0;36mArrowDatasetEngine.write_partition\u001b[0;34m(cls, df, path, fs, filename, partition_on, return_metadata, fmd, compression, index_cols, schema, head, custom_metadata, **kwargs)\u001b[0m\n\u001b[1;32m    683\u001b[0m \u001b[38;5;28;01melse\u001b[39;00m:\n\u001b[1;32m    684\u001b[0m     index_cols \u001b[38;5;241m=\u001b[39m []\n\u001b[0;32m--> 686\u001b[0m t \u001b[38;5;241m=\u001b[39m \u001b[38;5;28;43mcls\u001b[39;49m\u001b[38;5;241;43m.\u001b[39;49m\u001b[43m_pandas_to_arrow_table\u001b[49m\u001b[43m(\u001b[49m\u001b[43mdf\u001b[49m\u001b[43m,\u001b[49m\u001b[43m \u001b[49m\u001b[43mpreserve_index\u001b[49m\u001b[38;5;241;43m=\u001b[39;49m\u001b[43mpreserve_index\u001b[49m\u001b[43m,\u001b[49m\u001b[43m \u001b[49m\u001b[43mschema\u001b[49m\u001b[38;5;241;43m=\u001b[39;49m\u001b[43mschema\u001b[49m\u001b[43m)\u001b[49m\n\u001b[1;32m    687\u001b[0m \u001b[38;5;28;01mif\u001b[39;00m custom_metadata:\n\u001b[1;32m    688\u001b[0m     _md \u001b[38;5;241m=\u001b[39m t\u001b[38;5;241m.\u001b[39mschema\u001b[38;5;241m.\u001b[39mmetadata\n",
      "File \u001b[0;32m~/.pyenv/versions/3.8.12/envs/AMEX_default_prediction/lib/python3.8/site-packages/dask/dataframe/io/parquet/arrow.py:647\u001b[0m, in \u001b[0;36mArrowDatasetEngine._pandas_to_arrow_table\u001b[0;34m(cls, df, preserve_index, schema)\u001b[0m\n\u001b[1;32m    641\u001b[0m expected \u001b[38;5;241m=\u001b[39m textwrap\u001b[38;5;241m.\u001b[39mindent(\n\u001b[1;32m    642\u001b[0m     schema\u001b[38;5;241m.\u001b[39mto_string(show_schema_metadata\u001b[38;5;241m=\u001b[39m\u001b[38;5;28;01mFalse\u001b[39;00m), \u001b[38;5;124m\"\u001b[39m\u001b[38;5;124m    \u001b[39m\u001b[38;5;124m\"\u001b[39m\n\u001b[1;32m    643\u001b[0m )\n\u001b[1;32m    644\u001b[0m actual \u001b[38;5;241m=\u001b[39m textwrap\u001b[38;5;241m.\u001b[39mindent(\n\u001b[1;32m    645\u001b[0m     df_schema\u001b[38;5;241m.\u001b[39mto_string(show_schema_metadata\u001b[38;5;241m=\u001b[39m\u001b[38;5;28;01mFalse\u001b[39;00m), \u001b[38;5;124m\"\u001b[39m\u001b[38;5;124m    \u001b[39m\u001b[38;5;124m\"\u001b[39m\n\u001b[1;32m    646\u001b[0m )\n\u001b[0;32m--> 647\u001b[0m \u001b[38;5;28;01mraise\u001b[39;00m \u001b[38;5;167;01mValueError\u001b[39;00m(\n\u001b[1;32m    648\u001b[0m     \u001b[38;5;124mf\u001b[39m\u001b[38;5;124m\"\u001b[39m\u001b[38;5;124mFailed to convert partition to expected pyarrow schema:\u001b[39m\u001b[38;5;130;01m\\n\u001b[39;00m\u001b[38;5;124m\"\u001b[39m\n\u001b[1;32m    649\u001b[0m     \u001b[38;5;124mf\u001b[39m\u001b[38;5;124m\"\u001b[39m\u001b[38;5;124m    `\u001b[39m\u001b[38;5;132;01m{\u001b[39;00mexc\u001b[38;5;132;01m!r}\u001b[39;00m\u001b[38;5;124m`\u001b[39m\u001b[38;5;130;01m\\n\u001b[39;00m\u001b[38;5;124m\"\u001b[39m\n\u001b[1;32m    650\u001b[0m     \u001b[38;5;124mf\u001b[39m\u001b[38;5;124m\"\u001b[39m\u001b[38;5;130;01m\\n\u001b[39;00m\u001b[38;5;124m\"\u001b[39m\n\u001b[1;32m    651\u001b[0m     \u001b[38;5;124mf\u001b[39m\u001b[38;5;124m\"\u001b[39m\u001b[38;5;124mExpected partition schema:\u001b[39m\u001b[38;5;130;01m\\n\u001b[39;00m\u001b[38;5;124m\"\u001b[39m\n\u001b[1;32m    652\u001b[0m     \u001b[38;5;124mf\u001b[39m\u001b[38;5;124m\"\u001b[39m\u001b[38;5;132;01m{\u001b[39;00mexpected\u001b[38;5;132;01m}\u001b[39;00m\u001b[38;5;130;01m\\n\u001b[39;00m\u001b[38;5;124m\"\u001b[39m\n\u001b[1;32m    653\u001b[0m     \u001b[38;5;124mf\u001b[39m\u001b[38;5;124m\"\u001b[39m\u001b[38;5;130;01m\\n\u001b[39;00m\u001b[38;5;124m\"\u001b[39m\n\u001b[1;32m    654\u001b[0m     \u001b[38;5;124mf\u001b[39m\u001b[38;5;124m\"\u001b[39m\u001b[38;5;124mReceived partition schema:\u001b[39m\u001b[38;5;130;01m\\n\u001b[39;00m\u001b[38;5;124m\"\u001b[39m\n\u001b[1;32m    655\u001b[0m     \u001b[38;5;124mf\u001b[39m\u001b[38;5;124m\"\u001b[39m\u001b[38;5;132;01m{\u001b[39;00mactual\u001b[38;5;132;01m}\u001b[39;00m\u001b[38;5;130;01m\\n\u001b[39;00m\u001b[38;5;124m\"\u001b[39m\n\u001b[1;32m    656\u001b[0m     \u001b[38;5;124mf\u001b[39m\u001b[38;5;124m\"\u001b[39m\u001b[38;5;130;01m\\n\u001b[39;00m\u001b[38;5;124m\"\u001b[39m\n\u001b[1;32m    657\u001b[0m     \u001b[38;5;124mf\u001b[39m\u001b[38;5;124m\"\u001b[39m\u001b[38;5;124mThis error *may* be resolved by passing in schema information for\u001b[39m\u001b[38;5;130;01m\\n\u001b[39;00m\u001b[38;5;124m\"\u001b[39m\n\u001b[1;32m    658\u001b[0m     \u001b[38;5;124mf\u001b[39m\u001b[38;5;124m\"\u001b[39m\u001b[38;5;124mthe mismatched column(s) using the `schema` keyword in `to_parquet`.\u001b[39m\u001b[38;5;124m\"\u001b[39m\n\u001b[1;32m    659\u001b[0m ) \u001b[38;5;28;01mfrom\u001b[39;00m \u001b[38;5;28mNone\u001b[39m\n",
      "\u001b[0;31mValueError\u001b[0m: Failed to convert partition to expected pyarrow schema:\n    `ArrowInvalid('Integer value 462378 not in range: -128 to 127', 'Conversion failed for column customer_ID with type category')`\n\nExpected partition schema:\n    customer_ID: dictionary<values=string, indices=int8, ordered=0>\n    S_2: dictionary<values=string, indices=int8, ordered=0>\n    P_2: float\n    D_39: float\n    B_1: float\n    B_2: float\n    R_1: float\n    S_3: float\n    D_41: float\n    B_3: float\n    D_42: float\n    D_43: float\n    D_44: float\n    B_4: float\n    D_45: float\n    B_5: float\n    R_2: float\n    D_46: float\n    D_47: float\n    D_48: float\n    D_49: float\n    B_6: float\n    B_7: float\n    B_8: float\n    D_50: float\n    D_51: float\n    B_9: float\n    R_3: float\n    D_52: float\n    P_3: float\n    B_10: float\n    D_53: float\n    S_5: float\n    B_11: float\n    S_6: float\n    D_54: float\n    R_4: float\n    S_7: float\n    B_12: float\n    S_8: float\n    D_55: float\n    D_56: float\n    B_13: float\n    R_5: float\n    D_58: float\n    S_9: float\n    B_14: float\n    D_59: float\n    D_60: float\n    D_61: float\n    B_15: float\n    S_11: float\n    D_62: float\n    D_63: dictionary<values=string, indices=int8, ordered=0>\n    D_64: dictionary<values=string, indices=int8, ordered=0>\n    D_65: float\n    B_16: float\n    B_17: float\n    B_18: float\n    B_19: float\n    D_66: float\n    B_20: float\n    D_68: float\n    S_12: float\n    R_6: float\n    S_13: float\n    B_21: float\n    D_69: float\n    B_22: float\n    D_70: float\n    D_71: float\n    D_72: float\n    S_15: float\n    B_23: float\n    D_73: float\n    P_4: float\n    D_74: float\n    D_75: float\n    D_76: float\n    B_24: float\n    R_7: float\n    D_77: float\n    B_25: float\n    B_26: float\n    D_78: float\n    D_79: float\n    R_8: float\n    R_9: float\n    S_16: float\n    D_80: float\n    R_10: float\n    R_11: float\n    B_27: float\n    D_81: float\n    D_82: float\n    S_17: float\n    R_12: float\n    B_28: float\n    R_13: float\n    D_83: float\n    R_14: float\n    R_15: float\n    D_84: float\n    R_16: float\n    B_29: float\n    B_30: float\n    S_18: float\n    D_86: float\n    D_87: float\n    R_17: float\n    R_18: float\n    D_88: float\n    B_31: int32\n    S_19: float\n    R_19: float\n    B_32: float\n    S_20: float\n    R_20: float\n    R_21: float\n    B_33: float\n    D_89: float\n    R_22: float\n    R_23: float\n    D_91: float\n    D_92: float\n    D_93: float\n    D_94: float\n    R_24: float\n    R_25: float\n    D_96: float\n    S_22: float\n    S_23: float\n    S_24: float\n    S_25: float\n    S_26: float\n    D_102: float\n    D_103: float\n    D_104: float\n    D_105: float\n    D_106: float\n    D_107: float\n    B_36: float\n    B_37: float\n    R_26: float\n    R_27: float\n    B_38: float\n    D_108: float\n    D_109: float\n    D_110: float\n    D_111: float\n    B_39: float\n    D_112: float\n    B_40: float\n    S_27: float\n    D_113: float\n    D_114: float\n    D_115: float\n    D_116: float\n    D_117: float\n    D_118: float\n    D_119: float\n    D_120: float\n    D_121: float\n    D_122: float\n    D_123: float\n    D_124: float\n    D_125: float\n    D_126: float\n    D_127: float\n    D_128: float\n    D_129: float\n    B_41: float\n    B_42: float\n    D_130: float\n    D_131: float\n    D_132: float\n    D_133: float\n    R_28: float\n    D_134: float\n    D_135: float\n    D_136: float\n    D_137: float\n    D_138: float\n    D_139: float\n    D_140: float\n    D_141: float\n    D_142: float\n    D_143: float\n    D_144: float\n    D_145: float\n    __null_dask_index__: int64\n\nReceived partition schema:\n    customer_ID: dictionary<values=string, indices=int32, ordered=0>\n    S_2: dictionary<values=string, indices=int16, ordered=0>\n    P_2: float\n    D_39: float\n    B_1: float\n    B_2: float\n    R_1: float\n    S_3: float\n    D_41: float\n    B_3: float\n    D_42: float\n    D_43: float\n    D_44: float\n    B_4: float\n    D_45: float\n    B_5: float\n    R_2: float\n    D_46: float\n    D_47: float\n    D_48: float\n    D_49: float\n    B_6: float\n    B_7: float\n    B_8: float\n    D_50: float\n    D_51: float\n    B_9: float\n    R_3: float\n    D_52: float\n    P_3: float\n    B_10: float\n    D_53: float\n    S_5: float\n    B_11: float\n    S_6: float\n    D_54: float\n    R_4: float\n    S_7: float\n    B_12: float\n    S_8: float\n    D_55: float\n    D_56: float\n    B_13: float\n    R_5: float\n    D_58: float\n    S_9: float\n    B_14: float\n    D_59: float\n    D_60: float\n    D_61: float\n    B_15: float\n    S_11: float\n    D_62: float\n    D_63: dictionary<values=string, indices=int8, ordered=0>\n    D_64: dictionary<values=string, indices=int8, ordered=0>\n    D_65: float\n    B_16: float\n    B_17: float\n    B_18: float\n    B_19: float\n    D_66: float\n    B_20: float\n    D_68: float\n    S_12: float\n    R_6: float\n    S_13: float\n    B_21: float\n    D_69: float\n    B_22: float\n    D_70: float\n    D_71: float\n    D_72: float\n    S_15: float\n    B_23: float\n    D_73: float\n    P_4: float\n    D_74: float\n    D_75: float\n    D_76: float\n    B_24: float\n    R_7: float\n    D_77: float\n    B_25: float\n    B_26: float\n    D_78: float\n    D_79: float\n    R_8: float\n    R_9: float\n    S_16: float\n    D_80: float\n    R_10: float\n    R_11: float\n    B_27: float\n    D_81: float\n    D_82: float\n    S_17: float\n    R_12: float\n    B_28: float\n    R_13: float\n    D_83: float\n    R_14: float\n    R_15: float\n    D_84: float\n    R_16: float\n    B_29: float\n    B_30: float\n    S_18: float\n    D_86: float\n    D_87: float\n    R_17: float\n    R_18: float\n    D_88: float\n    B_31: int32\n    S_19: float\n    R_19: float\n    B_32: float\n    S_20: float\n    R_20: float\n    R_21: float\n    B_33: float\n    D_89: float\n    R_22: float\n    R_23: float\n    D_91: float\n    D_92: float\n    D_93: float\n    D_94: float\n    R_24: float\n    R_25: float\n    D_96: float\n    S_22: float\n    S_23: float\n    S_24: float\n    S_25: float\n    S_26: float\n    D_102: float\n    D_103: float\n    D_104: float\n    D_105: float\n    D_106: float\n    D_107: float\n    B_36: float\n    B_37: float\n    R_26: float\n    R_27: float\n    B_38: float\n    D_108: float\n    D_109: float\n    D_110: float\n    D_111: float\n    B_39: float\n    D_112: float\n    B_40: float\n    S_27: float\n    D_113: float\n    D_114: float\n    D_115: float\n    D_116: float\n    D_117: float\n    D_118: float\n    D_119: float\n    D_120: float\n    D_121: float\n    D_122: float\n    D_123: float\n    D_124: float\n    D_125: float\n    D_126: float\n    D_127: float\n    D_128: float\n    D_129: float\n    B_41: float\n    B_42: float\n    D_130: float\n    D_131: float\n    D_132: float\n    D_133: float\n    R_28: float\n    D_134: float\n    D_135: float\n    D_136: float\n    D_137: float\n    D_138: float\n    D_139: float\n    D_140: float\n    D_141: float\n    D_142: float\n    D_143: float\n    D_144: float\n    D_145: float\n    __null_dask_index__: int64\n\nThis error *may* be resolved by passing in schema information for\nthe mismatched column(s) using the `schema` keyword in `to_parquet`."
     ]
    }
   ],
   "source": [
    "import dask.dataframe as dd\n",
    "\n",
    "path = \"/Users/sjoerddewit/Downloads/\"\n",
    "\n",
    "ddf = dd.read_parquet('/Users/sjoerddewit/Downloads/test_data.parquet')\n",
    "ddf.repartition(8).to_parquet(path,\n",
    "                             allow_truncated_timestamps=True)\n"
   ]
  },
  {
   "cell_type": "code",
   "execution_count": null,
   "id": "1700fb71",
   "metadata": {},
   "outputs": [],
   "source": []
  }
 ],
 "metadata": {
  "kernelspec": {
   "display_name": "Python 3 (ipykernel)",
   "language": "python",
   "name": "python3"
  },
  "language_info": {
   "codemirror_mode": {
    "name": "ipython",
    "version": 3
   },
   "file_extension": ".py",
   "mimetype": "text/x-python",
   "name": "python",
   "nbconvert_exporter": "python",
   "pygments_lexer": "ipython3",
   "version": "3.8.12"
  },
  "toc": {
   "base_numbering": 1,
   "nav_menu": {},
   "number_sections": true,
   "sideBar": true,
   "skip_h1_title": false,
   "title_cell": "Table of Contents",
   "title_sidebar": "Contents",
   "toc_cell": false,
   "toc_position": {},
   "toc_section_display": true,
   "toc_window_display": false
  }
 },
 "nbformat": 4,
 "nbformat_minor": 5
}
