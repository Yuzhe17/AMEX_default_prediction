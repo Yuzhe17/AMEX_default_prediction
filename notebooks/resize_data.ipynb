{
 "cells": [
  {
   "cell_type": "markdown",
   "id": "7347a067",
   "metadata": {
    "heading_collapsed": true
   },
   "source": [
    "# Convert to parquet"
   ]
  },
  {
   "cell_type": "code",
   "execution_count": null,
   "id": "70e24d7e",
   "metadata": {
    "hidden": true
   },
   "outputs": [],
   "source": [
    "import pandas as pd"
   ]
  },
  {
   "cell_type": "code",
   "execution_count": null,
   "id": "c6560087",
   "metadata": {
    "hidden": true
   },
   "outputs": [],
   "source": [
    "def_df = pd.read_csv(\"/Users/sjoerddewit/Desktop/Programming/6 Le Wagon Data Science/final_project/defaulter_data_6k_ids.csv\", index_col=[0])\n",
    "# pay_df = pd.read_csv(\"/Users/sjoerddewit/Desktop/Programming/6 Le Wagon Data Science/final_project/payer_data_20k_ids.csv\", index_col=[0])\n",
    "\n"
   ]
  },
  {
   "cell_type": "code",
   "execution_count": null,
   "id": "a86f73fc",
   "metadata": {
    "hidden": true
   },
   "outputs": [],
   "source": [
    "# def_df = pd.read_csv(\"/Users/sjoerddewit/Desktop/Programming/6 Le Wagon Data Science/final_project/defaulter_data_20k_ids.csv\", index_col=[0])\n"
   ]
  },
  {
   "cell_type": "code",
   "execution_count": null,
   "id": "7e093066",
   "metadata": {
    "hidden": true
   },
   "outputs": [],
   "source": [
    "def compress_datatypes(df, **kwargs):\n",
    "    \"\"\"\n",
    "    Reduces size of dataframe by downcasting numerical columns\n",
    "    \"\"\"\n",
    "    input_size = df.memory_usage(index=True).sum()/ 1024\n",
    "    print(\"new dataframe size: \", round(input_size,2), 'kB')\n",
    "    \n",
    "    in_size = df.memory_usage(index=True).sum()\n",
    "    for type in [\"float\", \"integer\"]:\n",
    "        l_cols = list(df.select_dtypes(include=type))\n",
    "        for col in l_cols:\n",
    "            df[col] = pd.to_numeric(df[col], downcast=type)\n",
    "    out_size = df.memory_usage(index=True).sum()\n",
    "    ratio = (1 - round(out_size / in_size, 2)) * 100\n",
    "    \n",
    "    print(\"optimized size by {} %\".format(round(ratio,2)))\n",
    "    print(\"new dataframe size: \", round(out_size / 1024,2), \" kB\")\n",
    "    \n",
    "    return df\n",
    "\n",
    "def_df_compress = compress_datatypes(def_df)\n",
    "# pay_df_compress = compress_datatypes(pay_df)\n",
    "\n",
    "# convert to parquet:\n",
    "def_df_compress.to_parquet('/Users/sjoerddewit/Desktop/Programming/6 Le Wagon Data Science/final_project/defaulter_data_20k_ids_compress.parquet')\n",
    "print('\\nparquet defaulter done')\n",
    "# pay_df_compress.to_parquet('/Users/sjoerddewit/Desktop/Programming/6 Le Wagon Data Science/final_project/payer_data_20k_ids.parquet')\n",
    "print('\\nparquet payer done')\n"
   ]
  },
  {
   "cell_type": "code",
   "execution_count": null,
   "id": "74200013",
   "metadata": {
    "hidden": true
   },
   "outputs": [],
   "source": []
  },
  {
   "cell_type": "markdown",
   "id": "456c227e",
   "metadata": {},
   "source": [
    "# Reduce dataset size  w Kaggle"
   ]
  },
  {
   "cell_type": "code",
   "execution_count": 1,
   "id": "1fc44d6d",
   "metadata": {},
   "outputs": [],
   "source": [
    "import numpy as np # linear algebra\n",
    "import pandas as pd # data processing, CSV file I/O (e.g. pd.read_csv)\n",
    "import pyarrow as pa\n",
    "import pyarrow.parquet as pq\n",
    "import time\n",
    "from tqdm.auto import tqdm\n",
    "from tqdm.notebook import trange, tqdm\n",
    "from time import sleep\n"
   ]
  },
  {
   "cell_type": "code",
   "execution_count": 2,
   "id": "699dbbf7",
   "metadata": {},
   "outputs": [],
   "source": [
    "train_path = '/Users/sjoerddewit/Downloads/train_data.csv'\n",
    "parquet_file = '/Users/sjoerddewit/Downloads/train_data.parquet'\n",
    "train = pd.read_csv(train_path, nrows=10000)"
   ]
  },
  {
   "cell_type": "code",
   "execution_count": 3,
   "id": "02c1d4a1",
   "metadata": {},
   "outputs": [],
   "source": [
    "def get_col_dtypes(data):\n",
    "    col_dtypes = {}\n",
    "    for col in data.columns:\n",
    "        if str(data[col].dtype) == 'float64':\n",
    "            col_dtypes[col] = 'float32'\n",
    "        elif str(data[col].dtype) == 'int64':\n",
    "            col_dtypes[col] = 'int32'\n",
    "        elif str(data[col].dtype) == 'object':\n",
    "            col_dtypes[col] = 'category'\n",
    "        else:\n",
    "            col_dtypes[col] = str(data[col].dtype)\n",
    "    return col_dtypes"
   ]
  },
  {
   "cell_type": "code",
   "execution_count": 4,
   "id": "dd070dab",
   "metadata": {},
   "outputs": [],
   "source": [
    "col_dtypes = get_col_dtypes(train)"
   ]
  },
  {
   "cell_type": "code",
   "execution_count": 5,
   "id": "676e9df1",
   "metadata": {},
   "outputs": [],
   "source": [
    "def write_parquet(path, save_loc, col_dtypes, chunk_size=10000):\n",
    "    schema = ''\n",
    "    writer = ''\n",
    "    for i,chunk in enumerate(pd.read_csv(path, dtype=col_dtypes, iterator=True, chunksize=10000)):\n",
    "        if i == 0:\n",
    "            schema = pa.Table.from_pandas(df=chunk).schema\n",
    "            writer = pq.ParquetWriter(save_loc, schema, compression='snappy')\n",
    "        table = pa.Table.from_pandas(chunk, schema=schema)\n",
    "        writer.write_table(table)\n",
    "    return None"
   ]
  },
  {
   "cell_type": "code",
   "execution_count": 6,
   "id": "3cf46f38",
   "metadata": {},
   "outputs": [
    {
     "name": "stdout",
     "output_type": "stream",
     "text": [
      "Time taken for converting csv to parquet: 3.0 minutes and 29.187368154525757 seconds....\n"
     ]
    }
   ],
   "source": [
    "\n",
    "start = time.time()\n",
    "write_parquet(train_path, parquet_file, col_dtypes)\n",
    "end = time.time()\n",
    "minutes, seconds = divmod(end-start, 60)\n",
    "print(f\"Time taken for converting csv to parquet: {minutes} minutes and {seconds} seconds....\")"
   ]
  },
  {
   "cell_type": "code",
   "execution_count": null,
   "id": "5e2d73c1",
   "metadata": {},
   "outputs": [],
   "source": []
  }
 ],
 "metadata": {
  "kernelspec": {
   "display_name": "Python 3 (ipykernel)",
   "language": "python",
   "name": "python3"
  },
  "language_info": {
   "codemirror_mode": {
    "name": "ipython",
    "version": 3
   },
   "file_extension": ".py",
   "mimetype": "text/x-python",
   "name": "python",
   "nbconvert_exporter": "python",
   "pygments_lexer": "ipython3",
   "version": "3.8.12"
  },
  "toc": {
   "base_numbering": 1,
   "nav_menu": {},
   "number_sections": true,
   "sideBar": true,
   "skip_h1_title": false,
   "title_cell": "Table of Contents",
   "title_sidebar": "Contents",
   "toc_cell": false,
   "toc_position": {},
   "toc_section_display": true,
   "toc_window_display": false
  }
 },
 "nbformat": 4,
 "nbformat_minor": 5
}
