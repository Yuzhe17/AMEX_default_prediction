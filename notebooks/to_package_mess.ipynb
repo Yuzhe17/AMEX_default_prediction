{
 "cells": [
  {
   "cell_type": "markdown",
   "id": "3944824d-c530-447e-ab28-4e6c66a7dd79",
   "metadata": {},
   "source": [
    "# Simple preprocessing pipeline"
   ]
  },
  {
   "cell_type": "code",
   "execution_count": 1,
   "id": "dce77626-cb95-4f3f-82f6-babe2c08c279",
   "metadata": {},
   "outputs": [],
   "source": [
    "import numpy as np\n",
    "import pandas as pd\n",
    "import matplotlib.pyplot as plt\n",
    "import seaborn as sns"
   ]
  },
  {
   "cell_type": "code",
   "execution_count": 2,
   "id": "b72b126e-38bd-4174-ab49-7ea7e9b4d092",
   "metadata": {},
   "outputs": [],
   "source": [
    "from scipy import stats\n",
    "\n",
    "from sklearn.model_selection import cross_validate, cross_val_score, cross_val_predict, learning_curve,\\\n",
    "train_test_split, GridSearchCV, RandomizedSearchCV, train_test_split\n",
    "from sklearn.preprocessing import StandardScaler, RobustScaler, MinMaxScaler, OneHotEncoder, FunctionTransformer, LabelEncoder, OrdinalEncoder\n",
    "from sklearn.impute import SimpleImputer, KNNImputer\n",
    "from sklearn.inspection import permutation_importance\n",
    "from sklearn.metrics import plot_confusion_matrix, classification_report, precision_recall_curve\n",
    "from sklearn.linear_model import LinearRegression, LogisticRegression, SGDRegressor, SGDClassifier, Ridge, RidgeClassifier\n",
    "from sklearn.neighbors import KNeighborsClassifier, KNeighborsRegressor\n",
    "from sklearn.svm import SVC\n",
    "from sklearn.compose import make_column_selector\n",
    "\n",
    "## pipeline stuff\n",
    "\n",
    "from sklearn.pipeline import Pipeline, make_pipeline, make_union\n",
    "from sklearn.compose import ColumnTransformer, make_column_transformer, make_column_selector\n",
    "from sklearn import set_config; set_config(display='diagram')"
   ]
  },
  {
   "cell_type": "code",
   "execution_count": 3,
   "id": "be363f7b-9d39-4c0b-939d-1b8711895cae",
   "metadata": {},
   "outputs": [],
   "source": [
    "import warnings \n",
    "warnings.filterwarnings('ignore')"
   ]
  },
  {
   "cell_type": "code",
   "execution_count": 6,
   "id": "ca1f5989-0d50-4ac0-87b9-2cdb2c69a2cb",
   "metadata": {},
   "outputs": [],
   "source": [
    "def_df = pd.read_csv(\"/home/slawa/code/code-rep0/projects/data/defaulter_data_13364.csv\", index_col=[0])\n",
    "pay_df = pd.read_csv(\"/home/slawa/code/code-rep0/projects/data/payer_data_41940.csv\", index_col=[0])\n",
    "def_df['default'] = 1\n",
    "pay_df['default'] = 0\n",
    "\n",
    "df = pd.concat([def_df, pay_df])"
   ]
  },
  {
   "cell_type": "code",
   "execution_count": 5,
   "id": "eb5565e5-5b78-4ecb-b492-5899111c98f4",
   "metadata": {},
   "outputs": [],
   "source": [
    "y = df['default'].reset_index(drop=True)\n",
    "\n",
    "X = df.drop(columns=['default']).reset_index(drop=True)"
   ]
  },
  {
   "cell_type": "code",
   "execution_count": null,
   "id": "799ad681",
   "metadata": {},
   "outputs": [],
   "source": []
  },
  {
   "cell_type": "markdown",
   "id": "43217fee-73b4-43c4-a8b5-8aa71d9ad9d5",
   "metadata": {},
   "source": [
    "Discarding columns if too highly correlated with other or too many Nans"
   ]
  },
  {
   "cell_type": "code",
   "execution_count": 6,
   "id": "4abb7bf8-3052-47ad-9a09-093efa955672",
   "metadata": {},
   "outputs": [],
   "source": [
    "cat_vars = ['B_30', \n",
    "            'B_38', \n",
    "            'D_114', \n",
    "            'D_116', \n",
    "            'D_117', \n",
    "            'D_120', \n",
    "            'D_126', \n",
    "            'D_63', \n",
    "            'D_64', \n",
    "            'D_66', \n",
    "            'D_68']"
   ]
  },
  {
   "cell_type": "markdown",
   "id": "d533533d-646f-48b1-bcc8-6832b7d00285",
   "metadata": {},
   "source": [
    "drop columns if they correlate > 95% with others"
   ]
  },
  {
   "cell_type": "code",
   "execution_count": 7,
   "id": "cd3efde1-e65c-4457-93bf-9b3d1af4b968",
   "metadata": {},
   "outputs": [],
   "source": [
    "X_corr = X.corr()"
   ]
  },
  {
   "cell_type": "code",
   "execution_count": 8,
   "id": "2cc7ce56-c159-42b9-98ea-f95d49e195c7",
   "metadata": {},
   "outputs": [],
   "source": [
    "X_corr = X_corr.unstack().reset_index() # Unstack correlation matrix \n",
    "X_corr.columns = ['feature_1','feature_2', 'correlation_all'] # rename columns\n",
    "X_corr.sort_values(by=\"correlation_all\",ascending=False, inplace=True) # sort by correlation\n",
    "X_corr = X_corr[X_corr['feature_1'] != X_corr['feature_2']] # Remove self correlation\n",
    "X_corr = X_corr.drop_duplicates(subset='correlation_all')"
   ]
  },
  {
   "cell_type": "code",
   "execution_count": 9,
   "id": "4e97cca9-7e6f-4f4a-8953-d6d8113fddda",
   "metadata": {},
   "outputs": [],
   "source": [
    "red_features = list(X_corr[abs(X_corr['correlation_all'])>=.95]['feature_1']) ## abs so we also consider the negative corrs"
   ]
  },
  {
   "cell_type": "code",
   "execution_count": 10,
   "id": "65f0c098-1b79-4453-bb60-08e750c652d6",
   "metadata": {},
   "outputs": [],
   "source": [
    "X_red = X.drop(columns=red_features) ## dropping the highly correlated columns"
   ]
  },
  {
   "cell_type": "code",
   "execution_count": 11,
   "id": "ab65db0f-0f3d-4a8a-86f0-cfa49a32c48d",
   "metadata": {},
   "outputs": [],
   "source": [
    "## checking whether the high correlations are gone\n",
    "X_red_corr = X_red.corr()\n",
    "X_red_corr = X_red_corr.unstack().reset_index() # Unstack correlation matrix \n",
    "X_red_corr.columns = ['feature_1','feature_2', 'correlation_all'] # rename columns\n",
    "X_red_corr.sort_values(by=\"correlation_all\",ascending=False, inplace=True) # sort by correlation\n",
    "X_red_corr = X_red_corr[X_red_corr['feature_1'] != X_red_corr['feature_2']] # Remove self correlation\n",
    "X_red_corr = X_red_corr.drop_duplicates(subset='correlation_all')"
   ]
  },
  {
   "cell_type": "code",
   "execution_count": 12,
   "id": "36893cdd-8644-48b8-990f-34ab4f9fc1a9",
   "metadata": {},
   "outputs": [
    {
     "data": {
      "text/html": [
       "<div>\n",
       "<style scoped>\n",
       "    .dataframe tbody tr th:only-of-type {\n",
       "        vertical-align: middle;\n",
       "    }\n",
       "\n",
       "    .dataframe tbody tr th {\n",
       "        vertical-align: top;\n",
       "    }\n",
       "\n",
       "    .dataframe thead th {\n",
       "        text-align: right;\n",
       "    }\n",
       "</style>\n",
       "<table border=\"1\" class=\"dataframe\">\n",
       "  <thead>\n",
       "    <tr style=\"text-align: right;\">\n",
       "      <th></th>\n",
       "      <th>feature_1</th>\n",
       "      <th>feature_2</th>\n",
       "      <th>correlation_all</th>\n",
       "    </tr>\n",
       "  </thead>\n",
       "  <tbody>\n",
       "    <tr>\n",
       "      <th>12045</th>\n",
       "      <td>D_74</td>\n",
       "      <td>D_58</td>\n",
       "      <td>0.927332</td>\n",
       "    </tr>\n",
       "    <tr>\n",
       "      <th>6471</th>\n",
       "      <td>B_13</td>\n",
       "      <td>B_12</td>\n",
       "      <td>0.921825</td>\n",
       "    </tr>\n",
       "    <tr>\n",
       "      <th>457</th>\n",
       "      <td>B_2</td>\n",
       "      <td>B_33</td>\n",
       "      <td>0.913250</td>\n",
       "    </tr>\n",
       "    <tr>\n",
       "      <th>728</th>\n",
       "      <td>S_3</td>\n",
       "      <td>S_7</td>\n",
       "      <td>0.903899</td>\n",
       "    </tr>\n",
       "    <tr>\n",
       "      <th>28001</th>\n",
       "      <td>D_131</td>\n",
       "      <td>D_132</td>\n",
       "      <td>0.891850</td>\n",
       "    </tr>\n",
       "    <tr>\n",
       "      <th>...</th>\n",
       "      <td>...</td>\n",
       "      <td>...</td>\n",
       "      <td>...</td>\n",
       "    </tr>\n",
       "    <tr>\n",
       "      <th>9398</th>\n",
       "      <td>B_20</td>\n",
       "      <td>B_2</td>\n",
       "      <td>-0.779728</td>\n",
       "    </tr>\n",
       "    <tr>\n",
       "      <th>5981</th>\n",
       "      <td>S_8</td>\n",
       "      <td>S_15</td>\n",
       "      <td>-0.783457</td>\n",
       "    </tr>\n",
       "    <tr>\n",
       "      <th>23888</th>\n",
       "      <td>B_39</td>\n",
       "      <td>B_17</td>\n",
       "      <td>-0.805295</td>\n",
       "    </tr>\n",
       "    <tr>\n",
       "      <th>11791</th>\n",
       "      <td>D_73</td>\n",
       "      <td>D_108</td>\n",
       "      <td>-0.851429</td>\n",
       "    </tr>\n",
       "    <tr>\n",
       "      <th>99</th>\n",
       "      <td>P_2</td>\n",
       "      <td>D_87</td>\n",
       "      <td>NaN</td>\n",
       "    </tr>\n",
       "  </tbody>\n",
       "</table>\n",
       "<p>14849 rows × 3 columns</p>\n",
       "</div>"
      ],
      "text/plain": [
       "      feature_1 feature_2  correlation_all\n",
       "12045      D_74      D_58         0.927332\n",
       "6471       B_13      B_12         0.921825\n",
       "457         B_2      B_33         0.913250\n",
       "728         S_3       S_7         0.903899\n",
       "28001     D_131     D_132         0.891850\n",
       "...         ...       ...              ...\n",
       "9398       B_20       B_2        -0.779728\n",
       "5981        S_8      S_15        -0.783457\n",
       "23888      B_39      B_17        -0.805295\n",
       "11791      D_73     D_108        -0.851429\n",
       "99          P_2      D_87              NaN\n",
       "\n",
       "[14849 rows x 3 columns]"
      ]
     },
     "execution_count": 12,
     "metadata": {},
     "output_type": "execute_result"
    }
   ],
   "source": [
    "X_red_corr"
   ]
  },
  {
   "cell_type": "code",
   "execution_count": 13,
   "id": "742c0878-a19a-4bd3-ad67-f60ee5e95124",
   "metadata": {},
   "outputs": [
    {
     "data": {
      "text/plain": [
       "13"
      ]
     },
     "execution_count": 13,
     "metadata": {},
     "output_type": "execute_result"
    }
   ],
   "source": [
    "len(red_features) ## we removed 13 columns"
   ]
  },
  {
   "cell_type": "markdown",
   "id": "a2dab05a-f828-4547-b0ad-a975585c1be4",
   "metadata": {},
   "source": [
    "drop columns with nans if in __both__ groups > 80% nans"
   ]
  },
  {
   "cell_type": "code",
   "execution_count": 14,
   "id": "149032c6-a599-460a-a7d1-a12702d77b3f",
   "metadata": {},
   "outputs": [],
   "source": [
    "nan_threshold= 0.8 ## adjust the hardcoded values"
   ]
  },
  {
   "cell_type": "code",
   "execution_count": 15,
   "id": "9d229f31-4e9e-4e50-9bab-7074d7cd3182",
   "metadata": {},
   "outputs": [],
   "source": [
    "def_nans = def_df.isna().sum()/len(def_df) "
   ]
  },
  {
   "cell_type": "code",
   "execution_count": 16,
   "id": "8ce797b7-2d83-4f61-af78-32b64b7c717a",
   "metadata": {},
   "outputs": [],
   "source": [
    "def_nans_80 = def_nans[def_nans >= nan_threshold].index"
   ]
  },
  {
   "cell_type": "code",
   "execution_count": 17,
   "id": "f75a67ef-b1c2-4224-a663-4273c6465fca",
   "metadata": {},
   "outputs": [],
   "source": [
    "pay_nans = pay_df.isna().sum()/len(pay_df)"
   ]
  },
  {
   "cell_type": "code",
   "execution_count": 18,
   "id": "e90e21f2-228f-4b14-bd89-ac3f7ab79add",
   "metadata": {},
   "outputs": [],
   "source": [
    "pay_nans_80 = pay_nans[pay_nans>= nan_threshold].index"
   ]
  },
  {
   "cell_type": "code",
   "execution_count": 19,
   "id": "d308f3a7-f73a-419c-8600-6034b4f418b0",
   "metadata": {},
   "outputs": [],
   "source": [
    "nans_80 = [feature for feature in pay_nans_80 if feature in def_nans_80]"
   ]
  },
  {
   "cell_type": "code",
   "execution_count": 20,
   "id": "bc740bb6-8679-4b70-92d3-5cf851b69500",
   "metadata": {},
   "outputs": [],
   "source": [
    "## check whether features were already removed\n",
    "red_features_nan = [feature for feature in nans_80 if feature not in red_features] "
   ]
  },
  {
   "cell_type": "code",
   "execution_count": 21,
   "id": "e09f028c-b5f1-4996-ba28-93ad51434137",
   "metadata": {},
   "outputs": [],
   "source": [
    "X_red = X_red.drop(columns=red_features_nan)"
   ]
  },
  {
   "cell_type": "code",
   "execution_count": 22,
   "id": "f283116b-9841-497f-b3ca-018d69e7b69b",
   "metadata": {},
   "outputs": [],
   "source": [
    "dropped_columns = red_features + red_features_nan"
   ]
  },
  {
   "cell_type": "markdown",
   "id": "cc8b4046-2879-447a-b37a-170fe719f0a2",
   "metadata": {},
   "source": [
    "Building the pipeline"
   ]
  },
  {
   "cell_type": "code",
   "execution_count": 152,
   "id": "2b7dfc18-31c0-4345-8b6f-032b7ddad524",
   "metadata": {},
   "outputs": [],
   "source": [
    "num_vars = [feature for feature in X_red.columns[2:] if feature not in cat_vars] ## exclude dates and IDs (first two columns)\n",
    "str_vars = [feature for feature in X_red.columns[2:] if not pd.api.types.is_numeric_dtype(X_red[feature])] ## columns that are not numeric at all \n",
    "#red_cat_vars = [feature for feature in cat_vars if feature not in dropped_columns + str_vars] ## remaining categorical variables that have no string values\n",
    "red_cat_vars = [feature for feature in cat_vars if feature not in dropped_columns + str_vars] ## remaining categorical variables "
   ]
  },
  {
   "cell_type": "markdown",
   "id": "f38a8856-2346-47b3-b1ea-e2c28ee84592",
   "metadata": {},
   "source": [
    "mark rows in categorical columns with values of -1 as NaNs"
   ]
  },
  {
   "cell_type": "code",
   "execution_count": 24,
   "id": "3160180e-3a45-4ceb-92df-cda0d0f6e342",
   "metadata": {},
   "outputs": [],
   "source": [
    "#X_red[red_cat_vars] = X_red[red_cat_vars].applymap(lambda x: np.nan if x in [-1,-1.0, \"-1.0\", \"-1\"] else x)"
   ]
  },
  {
   "cell_type": "code",
   "execution_count": 122,
   "id": "f36d2956-2b39-4911-b37d-3f86efeb7bb4",
   "metadata": {},
   "outputs": [],
   "source": [
    "# def nan_imp(X): ## imputes nan values for alternative values signifying nans\n",
    "#     nan_list = [-1,-1.0, \"-1.0\", \"-1\"] \n",
    "#     return X.applymap(lambda x: np.nan if x in nan_list else x) ## perhaps subfunctions for arrays"
   ]
  },
  {
   "cell_type": "code",
   "execution_count": 147,
   "id": "3d8e1be4-c208-44d6-b1c0-18c5d527b09e",
   "metadata": {},
   "outputs": [],
   "source": [
    "# impute mean/most frequent value for other nans (specific to group?)\n",
    "# robustscale all numerical values\n",
    "\n",
    "num_imputer = SimpleImputer(strategy='mean')\n",
    "num_scaler = RobustScaler()\n",
    "\n",
    "#num_imputer = KNNImputer(n_neighbors=2) ## KNNIMputer is computationally demanding\n",
    "## should come AFTER SCALING\n",
    "\n",
    "num_pipe = make_pipeline(num_imputer, num_scaler)\n",
    "\n",
    "#str_trans = OrdinalEncoder() # is only needed if one wants to do knnimputer\n",
    "\n",
    "#nan_trans = FunctionTransformer(nan_imp)\n",
    "\n",
    "#nan_trans = FunctionTransformer(lambda X: X.applymap(lambda x: np.nan if x in [-1,-1.0, \"-1.0\", \"-1\"] else x))\n",
    "\n",
    "cat_imputer = SimpleImputer(strategy=\"most_frequent\") ## replace with KNNimputer on one neighbour, after transforming to numericals\n",
    "#cat_imputer = KNNImputer(n_neighbors=1) # introducing it did not improve performance, but is computationally demanding\n",
    "cat_encoder = OneHotEncoder(sparse=False, handle_unknown='ignore') ## what happens to the old columns?\n",
    "cat_pipe = make_pipeline(cat_imputer, cat_encoder)\n",
    "#str_pipe = make_pipeline(cat_imputer, str_trans, cat_encoder)\n",
    "#str_pipe = make_pipeline(cat_imputer, cat_encoder)"
   ]
  },
  {
   "cell_type": "markdown",
   "id": "c8ebe538-159d-4837-b1b4-440958d04432",
   "metadata": {},
   "source": [
    "Beware of the Dummy trap. OneHotEncoder automatically deletes one column."
   ]
  },
  {
   "cell_type": "markdown",
   "id": "180c58d2-0ec5-4b6c-85aa-11fbc6cb3f57",
   "metadata": {},
   "source": [
    "# A self-contained alternative Nans imputer"
   ]
  },
  {
   "cell_type": "code",
   "execution_count": 124,
   "id": "201b9243-bf31-4a26-82c2-8a44088ba7c8",
   "metadata": {},
   "outputs": [],
   "source": [
    "import pandas as pd\n",
    "import numpy as np\n",
    "\n",
    "def alt_nan_imp(X):\n",
    "    \n",
    "    cat_vars = ['B_30', \n",
    "            'B_38', \n",
    "            'D_114', \n",
    "            'D_116', \n",
    "            'D_117', \n",
    "            'D_120', \n",
    "            'D_126', \n",
    "            'D_63', \n",
    "            'D_64', \n",
    "            'D_66', \n",
    "            'D_68']\n",
    "    \n",
    "    alt_nan_list = [-1,-1.0, \"-1.0\", \"-1\"]\n",
    "    \n",
    "    cat_columns = [column for column in X.columns if column in cat_vars]\n",
    "    \n",
    "    X[cat_columns] = X[cat_columns].applymap(lambda x: pd.NA if x in alt_nan_list else x)\n",
    "\n",
    "alt_nan_imp(X_red)"
   ]
  },
  {
   "cell_type": "code",
   "execution_count": 153,
   "id": "1b372455-8f9f-4e9a-9eac-62c4d745b4fd",
   "metadata": {},
   "outputs": [],
   "source": [
    "preprocessor = ColumnTransformer([\n",
    "    ('num_pip', num_pipe, num_vars),\n",
    "    ('cat_pip', cat_pipe, red_cat_vars)],\n",
    "    remainder='drop' ## all columns not in num_vars and red_cat_vars are dropped.\n",
    ")"
   ]
  },
  {
   "cell_type": "code",
   "execution_count": 154,
   "id": "4fab0e75-7ae8-4584-9309-82f453536ae2",
   "metadata": {},
   "outputs": [
    {
     "data": {
      "text/html": [
       "<style>#sk-container-id-16 {color: black;background-color: white;}#sk-container-id-16 pre{padding: 0;}#sk-container-id-16 div.sk-toggleable {background-color: white;}#sk-container-id-16 label.sk-toggleable__label {cursor: pointer;display: block;width: 100%;margin-bottom: 0;padding: 0.3em;box-sizing: border-box;text-align: center;}#sk-container-id-16 label.sk-toggleable__label-arrow:before {content: \"▸\";float: left;margin-right: 0.25em;color: #696969;}#sk-container-id-16 label.sk-toggleable__label-arrow:hover:before {color: black;}#sk-container-id-16 div.sk-estimator:hover label.sk-toggleable__label-arrow:before {color: black;}#sk-container-id-16 div.sk-toggleable__content {max-height: 0;max-width: 0;overflow: hidden;text-align: left;background-color: #f0f8ff;}#sk-container-id-16 div.sk-toggleable__content pre {margin: 0.2em;color: black;border-radius: 0.25em;background-color: #f0f8ff;}#sk-container-id-16 input.sk-toggleable__control:checked~div.sk-toggleable__content {max-height: 200px;max-width: 100%;overflow: auto;}#sk-container-id-16 input.sk-toggleable__control:checked~label.sk-toggleable__label-arrow:before {content: \"▾\";}#sk-container-id-16 div.sk-estimator input.sk-toggleable__control:checked~label.sk-toggleable__label {background-color: #d4ebff;}#sk-container-id-16 div.sk-label input.sk-toggleable__control:checked~label.sk-toggleable__label {background-color: #d4ebff;}#sk-container-id-16 input.sk-hidden--visually {border: 0;clip: rect(1px 1px 1px 1px);clip: rect(1px, 1px, 1px, 1px);height: 1px;margin: -1px;overflow: hidden;padding: 0;position: absolute;width: 1px;}#sk-container-id-16 div.sk-estimator {font-family: monospace;background-color: #f0f8ff;border: 1px dotted black;border-radius: 0.25em;box-sizing: border-box;margin-bottom: 0.5em;}#sk-container-id-16 div.sk-estimator:hover {background-color: #d4ebff;}#sk-container-id-16 div.sk-parallel-item::after {content: \"\";width: 100%;border-bottom: 1px solid gray;flex-grow: 1;}#sk-container-id-16 div.sk-label:hover label.sk-toggleable__label {background-color: #d4ebff;}#sk-container-id-16 div.sk-serial::before {content: \"\";position: absolute;border-left: 1px solid gray;box-sizing: border-box;top: 0;bottom: 0;left: 50%;z-index: 0;}#sk-container-id-16 div.sk-serial {display: flex;flex-direction: column;align-items: center;background-color: white;padding-right: 0.2em;padding-left: 0.2em;position: relative;}#sk-container-id-16 div.sk-item {position: relative;z-index: 1;}#sk-container-id-16 div.sk-parallel {display: flex;align-items: stretch;justify-content: center;background-color: white;position: relative;}#sk-container-id-16 div.sk-item::before, #sk-container-id-16 div.sk-parallel-item::before {content: \"\";position: absolute;border-left: 1px solid gray;box-sizing: border-box;top: 0;bottom: 0;left: 50%;z-index: -1;}#sk-container-id-16 div.sk-parallel-item {display: flex;flex-direction: column;z-index: 1;position: relative;background-color: white;}#sk-container-id-16 div.sk-parallel-item:first-child::after {align-self: flex-end;width: 50%;}#sk-container-id-16 div.sk-parallel-item:last-child::after {align-self: flex-start;width: 50%;}#sk-container-id-16 div.sk-parallel-item:only-child::after {width: 0;}#sk-container-id-16 div.sk-dashed-wrapped {border: 1px dashed gray;margin: 0 0.4em 0.5em 0.4em;box-sizing: border-box;padding-bottom: 0.4em;background-color: white;}#sk-container-id-16 div.sk-label label {font-family: monospace;font-weight: bold;display: inline-block;line-height: 1.2em;}#sk-container-id-16 div.sk-label-container {text-align: center;}#sk-container-id-16 div.sk-container {/* jupyter's `normalize.less` sets `[hidden] { display: none; }` but bootstrap.min.css set `[hidden] { display: none !important; }` so we also need the `!important` here to be able to override the default hidden behavior on the sphinx rendered scikit-learn.org. See: https://github.com/scikit-learn/scikit-learn/issues/21755 */display: inline-block !important;position: relative;}#sk-container-id-16 div.sk-text-repr-fallback {display: none;}</style><div id=\"sk-container-id-16\" class=\"sk-top-container\"><div class=\"sk-text-repr-fallback\"><pre>ColumnTransformer(transformers=[(&#x27;num_pip&#x27;,\n",
       "                                 Pipeline(steps=[(&#x27;simpleimputer&#x27;,\n",
       "                                                  SimpleImputer()),\n",
       "                                                 (&#x27;robustscaler&#x27;,\n",
       "                                                  RobustScaler())]),\n",
       "                                 [&#x27;P_2&#x27;, &#x27;D_39&#x27;, &#x27;B_2&#x27;, &#x27;R_1&#x27;, &#x27;S_3&#x27;, &#x27;D_41&#x27;,\n",
       "                                  &#x27;B_3&#x27;, &#x27;D_42&#x27;, &#x27;D_43&#x27;, &#x27;D_44&#x27;, &#x27;B_4&#x27;, &#x27;D_45&#x27;,\n",
       "                                  &#x27;B_5&#x27;, &#x27;R_2&#x27;, &#x27;D_46&#x27;, &#x27;D_47&#x27;, &#x27;D_48&#x27;, &#x27;D_49&#x27;,\n",
       "                                  &#x27;B_6&#x27;, &#x27;B_8&#x27;, &#x27;D_50&#x27;, &#x27;D_51&#x27;, &#x27;B_9&#x27;, &#x27;R_3&#x27;,\n",
       "                                  &#x27;D_52&#x27;, &#x27;P_3&#x27;, &#x27;B_10&#x27;, &#x27;D_53&#x27;, &#x27;S_5&#x27;, &#x27;S_6&#x27;, ...]),\n",
       "                                (&#x27;cat_pip&#x27;,\n",
       "                                 Pipeline(steps=[(&#x27;simpleimputer&#x27;,\n",
       "                                                  SimpleImputer(strategy=&#x27;most_frequent&#x27;)),\n",
       "                                                 (&#x27;onehotencoder&#x27;,\n",
       "                                                  OneHotEncoder(handle_unknown=&#x27;ignore&#x27;,\n",
       "                                                                sparse=False))]),\n",
       "                                 [&#x27;B_30&#x27;, &#x27;B_38&#x27;, &#x27;D_114&#x27;, &#x27;D_116&#x27;, &#x27;D_117&#x27;,\n",
       "                                  &#x27;D_120&#x27;, &#x27;D_126&#x27;, &#x27;D_68&#x27;])])</pre><b>In a Jupyter environment, please rerun this cell to show the HTML representation or trust the notebook. <br />On GitHub, the HTML representation is unable to render, please try loading this page with nbviewer.org.</b></div><div class=\"sk-container\" hidden><div class=\"sk-item sk-dashed-wrapped\"><div class=\"sk-label-container\"><div class=\"sk-label sk-toggleable\"><input class=\"sk-toggleable__control sk-hidden--visually\" id=\"sk-estimator-id-147\" type=\"checkbox\" ><label for=\"sk-estimator-id-147\" class=\"sk-toggleable__label sk-toggleable__label-arrow\">ColumnTransformer</label><div class=\"sk-toggleable__content\"><pre>ColumnTransformer(transformers=[(&#x27;num_pip&#x27;,\n",
       "                                 Pipeline(steps=[(&#x27;simpleimputer&#x27;,\n",
       "                                                  SimpleImputer()),\n",
       "                                                 (&#x27;robustscaler&#x27;,\n",
       "                                                  RobustScaler())]),\n",
       "                                 [&#x27;P_2&#x27;, &#x27;D_39&#x27;, &#x27;B_2&#x27;, &#x27;R_1&#x27;, &#x27;S_3&#x27;, &#x27;D_41&#x27;,\n",
       "                                  &#x27;B_3&#x27;, &#x27;D_42&#x27;, &#x27;D_43&#x27;, &#x27;D_44&#x27;, &#x27;B_4&#x27;, &#x27;D_45&#x27;,\n",
       "                                  &#x27;B_5&#x27;, &#x27;R_2&#x27;, &#x27;D_46&#x27;, &#x27;D_47&#x27;, &#x27;D_48&#x27;, &#x27;D_49&#x27;,\n",
       "                                  &#x27;B_6&#x27;, &#x27;B_8&#x27;, &#x27;D_50&#x27;, &#x27;D_51&#x27;, &#x27;B_9&#x27;, &#x27;R_3&#x27;,\n",
       "                                  &#x27;D_52&#x27;, &#x27;P_3&#x27;, &#x27;B_10&#x27;, &#x27;D_53&#x27;, &#x27;S_5&#x27;, &#x27;S_6&#x27;, ...]),\n",
       "                                (&#x27;cat_pip&#x27;,\n",
       "                                 Pipeline(steps=[(&#x27;simpleimputer&#x27;,\n",
       "                                                  SimpleImputer(strategy=&#x27;most_frequent&#x27;)),\n",
       "                                                 (&#x27;onehotencoder&#x27;,\n",
       "                                                  OneHotEncoder(handle_unknown=&#x27;ignore&#x27;,\n",
       "                                                                sparse=False))]),\n",
       "                                 [&#x27;B_30&#x27;, &#x27;B_38&#x27;, &#x27;D_114&#x27;, &#x27;D_116&#x27;, &#x27;D_117&#x27;,\n",
       "                                  &#x27;D_120&#x27;, &#x27;D_126&#x27;, &#x27;D_68&#x27;])])</pre></div></div></div><div class=\"sk-parallel\"><div class=\"sk-parallel-item\"><div class=\"sk-item\"><div class=\"sk-label-container\"><div class=\"sk-label sk-toggleable\"><input class=\"sk-toggleable__control sk-hidden--visually\" id=\"sk-estimator-id-148\" type=\"checkbox\" ><label for=\"sk-estimator-id-148\" class=\"sk-toggleable__label sk-toggleable__label-arrow\">num_pip</label><div class=\"sk-toggleable__content\"><pre>[&#x27;P_2&#x27;, &#x27;D_39&#x27;, &#x27;B_2&#x27;, &#x27;R_1&#x27;, &#x27;S_3&#x27;, &#x27;D_41&#x27;, &#x27;B_3&#x27;, &#x27;D_42&#x27;, &#x27;D_43&#x27;, &#x27;D_44&#x27;, &#x27;B_4&#x27;, &#x27;D_45&#x27;, &#x27;B_5&#x27;, &#x27;R_2&#x27;, &#x27;D_46&#x27;, &#x27;D_47&#x27;, &#x27;D_48&#x27;, &#x27;D_49&#x27;, &#x27;B_6&#x27;, &#x27;B_8&#x27;, &#x27;D_50&#x27;, &#x27;D_51&#x27;, &#x27;B_9&#x27;, &#x27;R_3&#x27;, &#x27;D_52&#x27;, &#x27;P_3&#x27;, &#x27;B_10&#x27;, &#x27;D_53&#x27;, &#x27;S_5&#x27;, &#x27;S_6&#x27;, &#x27;D_54&#x27;, &#x27;R_4&#x27;, &#x27;S_7&#x27;, &#x27;B_12&#x27;, &#x27;S_8&#x27;, &#x27;D_55&#x27;, &#x27;D_56&#x27;, &#x27;B_13&#x27;, &#x27;R_5&#x27;, &#x27;D_58&#x27;, &#x27;S_9&#x27;, &#x27;B_14&#x27;, &#x27;D_59&#x27;, &#x27;D_60&#x27;, &#x27;D_61&#x27;, &#x27;B_15&#x27;, &#x27;S_11&#x27;, &#x27;D_62&#x27;, &#x27;D_65&#x27;, &#x27;B_16&#x27;, &#x27;B_17&#x27;, &#x27;B_18&#x27;, &#x27;B_19&#x27;, &#x27;B_20&#x27;, &#x27;S_12&#x27;, &#x27;R_6&#x27;, &#x27;S_13&#x27;, &#x27;B_21&#x27;, &#x27;D_69&#x27;, &#x27;B_22&#x27;, &#x27;D_70&#x27;, &#x27;D_71&#x27;, &#x27;D_72&#x27;, &#x27;S_15&#x27;, &#x27;B_23&#x27;, &#x27;P_4&#x27;, &#x27;D_74&#x27;, &#x27;B_24&#x27;, &#x27;R_7&#x27;, &#x27;B_25&#x27;, &#x27;B_26&#x27;, &#x27;D_78&#x27;, &#x27;D_79&#x27;, &#x27;R_8&#x27;, &#x27;S_16&#x27;, &#x27;D_80&#x27;, &#x27;R_10&#x27;, &#x27;R_11&#x27;, &#x27;B_27&#x27;, &#x27;D_81&#x27;, &#x27;D_82&#x27;, &#x27;S_17&#x27;, &#x27;R_12&#x27;, &#x27;B_28&#x27;, &#x27;R_13&#x27;, &#x27;D_83&#x27;, &#x27;R_14&#x27;, &#x27;R_15&#x27;, &#x27;D_84&#x27;, &#x27;R_16&#x27;, &#x27;S_18&#x27;, &#x27;D_86&#x27;, &#x27;R_17&#x27;, &#x27;R_18&#x27;, &#x27;B_31&#x27;, &#x27;S_19&#x27;, &#x27;R_19&#x27;, &#x27;B_32&#x27;, &#x27;S_20&#x27;, &#x27;R_20&#x27;, &#x27;R_21&#x27;, &#x27;B_33&#x27;, &#x27;D_89&#x27;, &#x27;R_22&#x27;, &#x27;R_23&#x27;, &#x27;D_91&#x27;, &#x27;D_92&#x27;, &#x27;D_93&#x27;, &#x27;D_94&#x27;, &#x27;R_24&#x27;, &#x27;R_25&#x27;, &#x27;D_96&#x27;, &#x27;S_22&#x27;, &#x27;S_23&#x27;, &#x27;S_25&#x27;, &#x27;S_26&#x27;, &#x27;D_102&#x27;, &#x27;D_104&#x27;, &#x27;D_105&#x27;, &#x27;D_106&#x27;, &#x27;D_107&#x27;, &#x27;B_36&#x27;, &#x27;R_26&#x27;, &#x27;R_27&#x27;, &#x27;D_109&#x27;, &#x27;D_112&#x27;, &#x27;B_40&#x27;, &#x27;S_27&#x27;, &#x27;D_113&#x27;, &#x27;D_115&#x27;, &#x27;D_119&#x27;, &#x27;D_121&#x27;, &#x27;D_122&#x27;, &#x27;D_123&#x27;, &#x27;D_124&#x27;, &#x27;D_125&#x27;, &#x27;D_127&#x27;, &#x27;D_128&#x27;, &#x27;D_129&#x27;, &#x27;B_41&#x27;, &#x27;D_130&#x27;, &#x27;D_131&#x27;, &#x27;D_132&#x27;, &#x27;D_133&#x27;, &#x27;R_28&#x27;, &#x27;D_139&#x27;, &#x27;D_140&#x27;, &#x27;D_142&#x27;, &#x27;D_144&#x27;, &#x27;D_145&#x27;]</pre></div></div></div><div class=\"sk-serial\"><div class=\"sk-item\"><div class=\"sk-serial\"><div class=\"sk-item\"><div class=\"sk-estimator sk-toggleable\"><input class=\"sk-toggleable__control sk-hidden--visually\" id=\"sk-estimator-id-149\" type=\"checkbox\" ><label for=\"sk-estimator-id-149\" class=\"sk-toggleable__label sk-toggleable__label-arrow\">SimpleImputer</label><div class=\"sk-toggleable__content\"><pre>SimpleImputer()</pre></div></div></div><div class=\"sk-item\"><div class=\"sk-estimator sk-toggleable\"><input class=\"sk-toggleable__control sk-hidden--visually\" id=\"sk-estimator-id-150\" type=\"checkbox\" ><label for=\"sk-estimator-id-150\" class=\"sk-toggleable__label sk-toggleable__label-arrow\">RobustScaler</label><div class=\"sk-toggleable__content\"><pre>RobustScaler()</pre></div></div></div></div></div></div></div></div><div class=\"sk-parallel-item\"><div class=\"sk-item\"><div class=\"sk-label-container\"><div class=\"sk-label sk-toggleable\"><input class=\"sk-toggleable__control sk-hidden--visually\" id=\"sk-estimator-id-151\" type=\"checkbox\" ><label for=\"sk-estimator-id-151\" class=\"sk-toggleable__label sk-toggleable__label-arrow\">cat_pip</label><div class=\"sk-toggleable__content\"><pre>[&#x27;B_30&#x27;, &#x27;B_38&#x27;, &#x27;D_114&#x27;, &#x27;D_116&#x27;, &#x27;D_117&#x27;, &#x27;D_120&#x27;, &#x27;D_126&#x27;, &#x27;D_68&#x27;]</pre></div></div></div><div class=\"sk-serial\"><div class=\"sk-item\"><div class=\"sk-serial\"><div class=\"sk-item\"><div class=\"sk-estimator sk-toggleable\"><input class=\"sk-toggleable__control sk-hidden--visually\" id=\"sk-estimator-id-152\" type=\"checkbox\" ><label for=\"sk-estimator-id-152\" class=\"sk-toggleable__label sk-toggleable__label-arrow\">SimpleImputer</label><div class=\"sk-toggleable__content\"><pre>SimpleImputer(strategy=&#x27;most_frequent&#x27;)</pre></div></div></div><div class=\"sk-item\"><div class=\"sk-estimator sk-toggleable\"><input class=\"sk-toggleable__control sk-hidden--visually\" id=\"sk-estimator-id-153\" type=\"checkbox\" ><label for=\"sk-estimator-id-153\" class=\"sk-toggleable__label sk-toggleable__label-arrow\">OneHotEncoder</label><div class=\"sk-toggleable__content\"><pre>OneHotEncoder(handle_unknown=&#x27;ignore&#x27;, sparse=False)</pre></div></div></div></div></div></div></div></div></div></div></div></div>"
      ],
      "text/plain": [
       "ColumnTransformer(transformers=[('num_pip',\n",
       "                                 Pipeline(steps=[('simpleimputer',\n",
       "                                                  SimpleImputer()),\n",
       "                                                 ('robustscaler',\n",
       "                                                  RobustScaler())]),\n",
       "                                 ['P_2', 'D_39', 'B_2', 'R_1', 'S_3', 'D_41',\n",
       "                                  'B_3', 'D_42', 'D_43', 'D_44', 'B_4', 'D_45',\n",
       "                                  'B_5', 'R_2', 'D_46', 'D_47', 'D_48', 'D_49',\n",
       "                                  'B_6', 'B_8', 'D_50', 'D_51', 'B_9', 'R_3',\n",
       "                                  'D_52', 'P_3', 'B_10', 'D_53', 'S_5', 'S_6', ...]),\n",
       "                                ('cat_pip',\n",
       "                                 Pipeline(steps=[('simpleimputer',\n",
       "                                                  SimpleImputer(strategy='most_frequent')),\n",
       "                                                 ('onehotencoder',\n",
       "                                                  OneHotEncoder(handle_unknown='ignore',\n",
       "                                                                sparse=False))]),\n",
       "                                 ['B_30', 'B_38', 'D_114', 'D_116', 'D_117',\n",
       "                                  'D_120', 'D_126', 'D_68'])])"
      ]
     },
     "execution_count": 154,
     "metadata": {},
     "output_type": "execute_result"
    }
   ],
   "source": [
    "alt_nan_imp(X)\n",
    "preprocessor.fit(X)"
   ]
  },
  {
   "cell_type": "code",
   "execution_count": 32,
   "id": "ef1f272b-1506-4e2b-b77c-76d7d45f25c5",
   "metadata": {},
   "outputs": [],
   "source": [
    "X_pp = pd.DataFrame(preprocessor.fit_transform(X_red))"
   ]
  },
  {
   "cell_type": "code",
   "execution_count": 34,
   "id": "1b4aa1fd-eda8-4588-bbb7-e4cec289308c",
   "metadata": {},
   "outputs": [],
   "source": [
    "X_pp['customer_ID'] = X_red['customer_ID']"
   ]
  },
  {
   "cell_type": "code",
   "execution_count": 36,
   "id": "426bbd23-5d49-4b89-8688-418ceb069b36",
   "metadata": {},
   "outputs": [],
   "source": [
    "X_pp_avg = X_pp.groupby('customer_ID').mean()"
   ]
  },
  {
   "cell_type": "code",
   "execution_count": 38,
   "id": "61568b12-b37f-4faa-8ddc-c37adee25a55",
   "metadata": {
    "tags": []
   },
   "outputs": [],
   "source": [
    "y_ID = pd.DataFrame(y)"
   ]
  },
  {
   "cell_type": "code",
   "execution_count": 39,
   "id": "61794cbe-f5b1-476e-a8f9-fb2bb378e317",
   "metadata": {},
   "outputs": [],
   "source": [
    "y_ID['customer_ID'] = X_red['customer_ID']"
   ]
  },
  {
   "cell_type": "code",
   "execution_count": 40,
   "id": "bb8dcfcd-3df0-4e7e-9bda-d2421985e85b",
   "metadata": {},
   "outputs": [],
   "source": [
    "y_unique = y_ID.groupby('customer_ID').mean().astype(int) ## actually, this data is just in train_labels"
   ]
  },
  {
   "cell_type": "code",
   "execution_count": 41,
   "id": "f653bb9f-87c5-4d1b-8cb9-02243c733c86",
   "metadata": {},
   "outputs": [],
   "source": [
    "X_pp_avg_train, X_pp_avg_val, y_unique_train, y_unique_val = train_test_split(X_pp_avg, y_unique, test_size=0.3) "
   ]
  },
  {
   "cell_type": "code",
   "execution_count": null,
   "id": "3c7df2ad-b309-4252-95aa-427f265047aa",
   "metadata": {},
   "outputs": [],
   "source": []
  },
  {
   "cell_type": "code",
   "execution_count": 34,
   "id": "8200afab-cdd2-4106-be42-01ff001780a1",
   "metadata": {},
   "outputs": [
    {
     "data": {
      "text/plain": [
       "43"
      ]
     },
     "execution_count": 34,
     "metadata": {},
     "output_type": "execute_result"
    }
   ],
   "source": [
    "X_red[red_cat_vars].nunique().sum() ## number of unqie values in all cat. values\n",
    "## should equal the number of new onehotencoded columns - 1*number of features. The latter to avoid Dummy Trap.\n"
   ]
  },
  {
   "cell_type": "markdown",
   "id": "b7fee8f2-6199-40e1-9862-89d2c94b688a",
   "metadata": {},
   "source": [
    "Building the simple model and putting it into the pipe"
   ]
  },
  {
   "cell_type": "code",
   "execution_count": 35,
   "id": "038f2715-3747-4277-822b-0e709d150de8",
   "metadata": {},
   "outputs": [
    {
     "name": "stderr",
     "output_type": "stream",
     "text": [
      "/home/slawa/.pyenv/versions/3.8.12/envs/amex_default_pred/lib/python3.8/site-packages/sklearn/linear_model/_logistic.py:444: ConvergenceWarning: lbfgs failed to converge (status=1):\n",
      "STOP: TOTAL NO. of ITERATIONS REACHED LIMIT.\n",
      "\n",
      "Increase the number of iterations (max_iter) or scale the data as shown in:\n",
      "    https://scikit-learn.org/stable/modules/preprocessing.html\n",
      "Please also refer to the documentation for alternative solver options:\n",
      "    https://scikit-learn.org/stable/modules/linear_model.html#logistic-regression\n",
      "  n_iter_i = _check_optimize_result(\n",
      "/home/slawa/.pyenv/versions/3.8.12/envs/amex_default_pred/lib/python3.8/site-packages/sklearn/linear_model/_logistic.py:444: ConvergenceWarning: lbfgs failed to converge (status=1):\n",
      "STOP: TOTAL NO. of ITERATIONS REACHED LIMIT.\n",
      "\n",
      "Increase the number of iterations (max_iter) or scale the data as shown in:\n",
      "    https://scikit-learn.org/stable/modules/preprocessing.html\n",
      "Please also refer to the documentation for alternative solver options:\n",
      "    https://scikit-learn.org/stable/modules/linear_model.html#logistic-regression\n",
      "  n_iter_i = _check_optimize_result(\n",
      "/home/slawa/.pyenv/versions/3.8.12/envs/amex_default_pred/lib/python3.8/site-packages/sklearn/linear_model/_logistic.py:444: ConvergenceWarning: lbfgs failed to converge (status=1):\n",
      "STOP: TOTAL NO. of ITERATIONS REACHED LIMIT.\n",
      "\n",
      "Increase the number of iterations (max_iter) or scale the data as shown in:\n",
      "    https://scikit-learn.org/stable/modules/preprocessing.html\n",
      "Please also refer to the documentation for alternative solver options:\n",
      "    https://scikit-learn.org/stable/modules/linear_model.html#logistic-regression\n",
      "  n_iter_i = _check_optimize_result(\n",
      "/home/slawa/.pyenv/versions/3.8.12/envs/amex_default_pred/lib/python3.8/site-packages/sklearn/linear_model/_logistic.py:444: ConvergenceWarning: lbfgs failed to converge (status=1):\n",
      "STOP: TOTAL NO. of ITERATIONS REACHED LIMIT.\n",
      "\n",
      "Increase the number of iterations (max_iter) or scale the data as shown in:\n",
      "    https://scikit-learn.org/stable/modules/preprocessing.html\n",
      "Please also refer to the documentation for alternative solver options:\n",
      "    https://scikit-learn.org/stable/modules/linear_model.html#logistic-regression\n",
      "  n_iter_i = _check_optimize_result(\n",
      "/home/slawa/.pyenv/versions/3.8.12/envs/amex_default_pred/lib/python3.8/site-packages/sklearn/linear_model/_logistic.py:444: ConvergenceWarning: lbfgs failed to converge (status=1):\n",
      "STOP: TOTAL NO. of ITERATIONS REACHED LIMIT.\n",
      "\n",
      "Increase the number of iterations (max_iter) or scale the data as shown in:\n",
      "    https://scikit-learn.org/stable/modules/preprocessing.html\n",
      "Please also refer to the documentation for alternative solver options:\n",
      "    https://scikit-learn.org/stable/modules/linear_model.html#logistic-regression\n",
      "  n_iter_i = _check_optimize_result(\n"
     ]
    }
   ],
   "source": [
    "#mod = LogisticRegression() \n",
    "## such a model treats all rows as independent despite them being from the same person\n",
    "#results = cross_validate(mod, X_pp, y, cv = 5, scoring=['accuracy', 'recall', 'f1'])"
   ]
  },
  {
   "cell_type": "code",
   "execution_count": 36,
   "id": "d08a06c8-3784-4791-a428-45a4f1e56d37",
   "metadata": {},
   "outputs": [
    {
     "data": {
      "text/plain": [
       "{'fit_time': array([2.77106905, 1.99161935, 2.06714058, 2.42431951, 3.8680737 ]),\n",
       " 'score_time': array([0.02546883, 0.02748156, 0.02438974, 0.03599572, 0.03139949]),\n",
       " 'test_accuracy': array([0.84061116, 0.84187686, 0.85200253, 0.85200253, 0.8358047 ]),\n",
       " 'test_recall': array([0.63598952, 0.59259259, 0.63711186, 0.6285073 , 0.58196108]),\n",
       " 'test_f1': array([0.65853186, 0.6442953 , 0.67539163, 0.67240344, 0.63134389])}"
      ]
     },
     "execution_count": 36,
     "metadata": {},
     "output_type": "execute_result"
    }
   ],
   "source": [
    "results"
   ]
  },
  {
   "cell_type": "code",
   "execution_count": 37,
   "id": "0b481ebd-bbd5-40fa-bc2c-7bb23d493fb1",
   "metadata": {},
   "outputs": [],
   "source": [
    "#X_train, X_val, y_train, y_val = train_test_split(X, y, test_size=0.3)\n",
    "\n",
    "## Train_test_split needs to be on preprocessed data\n"
   ]
  },
  {
   "cell_type": "code",
   "execution_count": 38,
   "id": "0e417b01-c5f9-4062-8134-146fb6923400",
   "metadata": {},
   "outputs": [],
   "source": [
    "#pp_pred_pipe = make_pipeline(preprocessor, mod)"
   ]
  },
  {
   "cell_type": "code",
   "execution_count": 39,
   "id": "30e3557a-9a96-4c3d-a196-45049dc155c4",
   "metadata": {},
   "outputs": [
    {
     "data": {
      "text/html": [
       "<style>#sk-container-id-4 {color: black;background-color: white;}#sk-container-id-4 pre{padding: 0;}#sk-container-id-4 div.sk-toggleable {background-color: white;}#sk-container-id-4 label.sk-toggleable__label {cursor: pointer;display: block;width: 100%;margin-bottom: 0;padding: 0.3em;box-sizing: border-box;text-align: center;}#sk-container-id-4 label.sk-toggleable__label-arrow:before {content: \"▸\";float: left;margin-right: 0.25em;color: #696969;}#sk-container-id-4 label.sk-toggleable__label-arrow:hover:before {color: black;}#sk-container-id-4 div.sk-estimator:hover label.sk-toggleable__label-arrow:before {color: black;}#sk-container-id-4 div.sk-toggleable__content {max-height: 0;max-width: 0;overflow: hidden;text-align: left;background-color: #f0f8ff;}#sk-container-id-4 div.sk-toggleable__content pre {margin: 0.2em;color: black;border-radius: 0.25em;background-color: #f0f8ff;}#sk-container-id-4 input.sk-toggleable__control:checked~div.sk-toggleable__content {max-height: 200px;max-width: 100%;overflow: auto;}#sk-container-id-4 input.sk-toggleable__control:checked~label.sk-toggleable__label-arrow:before {content: \"▾\";}#sk-container-id-4 div.sk-estimator input.sk-toggleable__control:checked~label.sk-toggleable__label {background-color: #d4ebff;}#sk-container-id-4 div.sk-label input.sk-toggleable__control:checked~label.sk-toggleable__label {background-color: #d4ebff;}#sk-container-id-4 input.sk-hidden--visually {border: 0;clip: rect(1px 1px 1px 1px);clip: rect(1px, 1px, 1px, 1px);height: 1px;margin: -1px;overflow: hidden;padding: 0;position: absolute;width: 1px;}#sk-container-id-4 div.sk-estimator {font-family: monospace;background-color: #f0f8ff;border: 1px dotted black;border-radius: 0.25em;box-sizing: border-box;margin-bottom: 0.5em;}#sk-container-id-4 div.sk-estimator:hover {background-color: #d4ebff;}#sk-container-id-4 div.sk-parallel-item::after {content: \"\";width: 100%;border-bottom: 1px solid gray;flex-grow: 1;}#sk-container-id-4 div.sk-label:hover label.sk-toggleable__label {background-color: #d4ebff;}#sk-container-id-4 div.sk-serial::before {content: \"\";position: absolute;border-left: 1px solid gray;box-sizing: border-box;top: 0;bottom: 0;left: 50%;z-index: 0;}#sk-container-id-4 div.sk-serial {display: flex;flex-direction: column;align-items: center;background-color: white;padding-right: 0.2em;padding-left: 0.2em;position: relative;}#sk-container-id-4 div.sk-item {position: relative;z-index: 1;}#sk-container-id-4 div.sk-parallel {display: flex;align-items: stretch;justify-content: center;background-color: white;position: relative;}#sk-container-id-4 div.sk-item::before, #sk-container-id-4 div.sk-parallel-item::before {content: \"\";position: absolute;border-left: 1px solid gray;box-sizing: border-box;top: 0;bottom: 0;left: 50%;z-index: -1;}#sk-container-id-4 div.sk-parallel-item {display: flex;flex-direction: column;z-index: 1;position: relative;background-color: white;}#sk-container-id-4 div.sk-parallel-item:first-child::after {align-self: flex-end;width: 50%;}#sk-container-id-4 div.sk-parallel-item:last-child::after {align-self: flex-start;width: 50%;}#sk-container-id-4 div.sk-parallel-item:only-child::after {width: 0;}#sk-container-id-4 div.sk-dashed-wrapped {border: 1px dashed gray;margin: 0 0.4em 0.5em 0.4em;box-sizing: border-box;padding-bottom: 0.4em;background-color: white;}#sk-container-id-4 div.sk-label label {font-family: monospace;font-weight: bold;display: inline-block;line-height: 1.2em;}#sk-container-id-4 div.sk-label-container {text-align: center;}#sk-container-id-4 div.sk-container {/* jupyter's `normalize.less` sets `[hidden] { display: none; }` but bootstrap.min.css set `[hidden] { display: none !important; }` so we also need the `!important` here to be able to override the default hidden behavior on the sphinx rendered scikit-learn.org. See: https://github.com/scikit-learn/scikit-learn/issues/21755 */display: inline-block !important;position: relative;}#sk-container-id-4 div.sk-text-repr-fallback {display: none;}</style><div id=\"sk-container-id-4\" class=\"sk-top-container\"><div class=\"sk-text-repr-fallback\"><pre>Pipeline(steps=[(&#x27;columntransformer&#x27;,\n",
       "                 ColumnTransformer(transformers=[(&#x27;num_pip&#x27;,\n",
       "                                                  Pipeline(steps=[(&#x27;robustscaler&#x27;,\n",
       "                                                                   RobustScaler()),\n",
       "                                                                  (&#x27;simpleimputer&#x27;,\n",
       "                                                                   SimpleImputer())]),\n",
       "                                                  [&#x27;P_2&#x27;, &#x27;D_39&#x27;, &#x27;B_2&#x27;, &#x27;R_1&#x27;,\n",
       "                                                   &#x27;S_3&#x27;, &#x27;D_41&#x27;, &#x27;B_3&#x27;, &#x27;D_42&#x27;,\n",
       "                                                   &#x27;D_43&#x27;, &#x27;D_44&#x27;, &#x27;B_4&#x27;,\n",
       "                                                   &#x27;D_45&#x27;, &#x27;B_5&#x27;, &#x27;R_2&#x27;, &#x27;D_46&#x27;,\n",
       "                                                   &#x27;D_47&#x27;, &#x27;D_48&#x27;, &#x27;D_49&#x27;,\n",
       "                                                   &#x27;B_6&#x27;, &#x27;B_8&#x27;, &#x27;D_50&#x27;, &#x27;D_51&#x27;,\n",
       "                                                   &#x27;B_9&#x27;, &#x27;R_3&#x27;, &#x27;D_52&#x27;, &#x27;P_3&#x27;,\n",
       "                                                   &#x27;B_10&#x27;, &#x27;D_53&#x27;, &#x27;S...\n",
       "                                                   &#x27;D_68&#x27;]),\n",
       "                                                 (&#x27;str_pip&#x27;,\n",
       "                                                  Pipeline(steps=[(&#x27;functiontransformer&#x27;,\n",
       "                                                                   FunctionTransformer(func=&lt;function nan_imp at 0x7fd715e8f5e0&gt;)),\n",
       "                                                                  (&#x27;ordinalencoder&#x27;,\n",
       "                                                                   OrdinalEncoder()),\n",
       "                                                                  (&#x27;simpleimputer&#x27;,\n",
       "                                                                   SimpleImputer(strategy=&#x27;most_frequent&#x27;)),\n",
       "                                                                  (&#x27;onehotencoder&#x27;,\n",
       "                                                                   OneHotEncoder(handle_unknown=&#x27;ignore&#x27;,\n",
       "                                                                                 sparse=False))]),\n",
       "                                                  [&#x27;D_63&#x27;, &#x27;D_64&#x27;])])),\n",
       "                (&#x27;logisticregression&#x27;, LogisticRegression())])</pre><b>In a Jupyter environment, please rerun this cell to show the HTML representation or trust the notebook. <br />On GitHub, the HTML representation is unable to render, please try loading this page with nbviewer.org.</b></div><div class=\"sk-container\" hidden><div class=\"sk-item sk-dashed-wrapped\"><div class=\"sk-label-container\"><div class=\"sk-label sk-toggleable\"><input class=\"sk-toggleable__control sk-hidden--visually\" id=\"sk-estimator-id-32\" type=\"checkbox\" ><label for=\"sk-estimator-id-32\" class=\"sk-toggleable__label sk-toggleable__label-arrow\">Pipeline</label><div class=\"sk-toggleable__content\"><pre>Pipeline(steps=[(&#x27;columntransformer&#x27;,\n",
       "                 ColumnTransformer(transformers=[(&#x27;num_pip&#x27;,\n",
       "                                                  Pipeline(steps=[(&#x27;robustscaler&#x27;,\n",
       "                                                                   RobustScaler()),\n",
       "                                                                  (&#x27;simpleimputer&#x27;,\n",
       "                                                                   SimpleImputer())]),\n",
       "                                                  [&#x27;P_2&#x27;, &#x27;D_39&#x27;, &#x27;B_2&#x27;, &#x27;R_1&#x27;,\n",
       "                                                   &#x27;S_3&#x27;, &#x27;D_41&#x27;, &#x27;B_3&#x27;, &#x27;D_42&#x27;,\n",
       "                                                   &#x27;D_43&#x27;, &#x27;D_44&#x27;, &#x27;B_4&#x27;,\n",
       "                                                   &#x27;D_45&#x27;, &#x27;B_5&#x27;, &#x27;R_2&#x27;, &#x27;D_46&#x27;,\n",
       "                                                   &#x27;D_47&#x27;, &#x27;D_48&#x27;, &#x27;D_49&#x27;,\n",
       "                                                   &#x27;B_6&#x27;, &#x27;B_8&#x27;, &#x27;D_50&#x27;, &#x27;D_51&#x27;,\n",
       "                                                   &#x27;B_9&#x27;, &#x27;R_3&#x27;, &#x27;D_52&#x27;, &#x27;P_3&#x27;,\n",
       "                                                   &#x27;B_10&#x27;, &#x27;D_53&#x27;, &#x27;S...\n",
       "                                                   &#x27;D_68&#x27;]),\n",
       "                                                 (&#x27;str_pip&#x27;,\n",
       "                                                  Pipeline(steps=[(&#x27;functiontransformer&#x27;,\n",
       "                                                                   FunctionTransformer(func=&lt;function nan_imp at 0x7fd715e8f5e0&gt;)),\n",
       "                                                                  (&#x27;ordinalencoder&#x27;,\n",
       "                                                                   OrdinalEncoder()),\n",
       "                                                                  (&#x27;simpleimputer&#x27;,\n",
       "                                                                   SimpleImputer(strategy=&#x27;most_frequent&#x27;)),\n",
       "                                                                  (&#x27;onehotencoder&#x27;,\n",
       "                                                                   OneHotEncoder(handle_unknown=&#x27;ignore&#x27;,\n",
       "                                                                                 sparse=False))]),\n",
       "                                                  [&#x27;D_63&#x27;, &#x27;D_64&#x27;])])),\n",
       "                (&#x27;logisticregression&#x27;, LogisticRegression())])</pre></div></div></div><div class=\"sk-serial\"><div class=\"sk-item sk-dashed-wrapped\"><div class=\"sk-label-container\"><div class=\"sk-label sk-toggleable\"><input class=\"sk-toggleable__control sk-hidden--visually\" id=\"sk-estimator-id-33\" type=\"checkbox\" ><label for=\"sk-estimator-id-33\" class=\"sk-toggleable__label sk-toggleable__label-arrow\">columntransformer: ColumnTransformer</label><div class=\"sk-toggleable__content\"><pre>ColumnTransformer(transformers=[(&#x27;num_pip&#x27;,\n",
       "                                 Pipeline(steps=[(&#x27;robustscaler&#x27;,\n",
       "                                                  RobustScaler()),\n",
       "                                                 (&#x27;simpleimputer&#x27;,\n",
       "                                                  SimpleImputer())]),\n",
       "                                 [&#x27;P_2&#x27;, &#x27;D_39&#x27;, &#x27;B_2&#x27;, &#x27;R_1&#x27;, &#x27;S_3&#x27;, &#x27;D_41&#x27;,\n",
       "                                  &#x27;B_3&#x27;, &#x27;D_42&#x27;, &#x27;D_43&#x27;, &#x27;D_44&#x27;, &#x27;B_4&#x27;, &#x27;D_45&#x27;,\n",
       "                                  &#x27;B_5&#x27;, &#x27;R_2&#x27;, &#x27;D_46&#x27;, &#x27;D_47&#x27;, &#x27;D_48&#x27;, &#x27;D_49&#x27;,\n",
       "                                  &#x27;B_6&#x27;, &#x27;B_8&#x27;, &#x27;D_50&#x27;, &#x27;D_51&#x27;, &#x27;B_9&#x27;, &#x27;R_3&#x27;,\n",
       "                                  &#x27;D_52&#x27;, &#x27;P_3&#x27;, &#x27;B_10&#x27;, &#x27;D_53&#x27;, &#x27;S_5&#x27;, &#x27;S_6&#x27;, ...]),\n",
       "                                (&#x27;cat_pip&#x27;,\n",
       "                                 Pipeline(s...\n",
       "                                 [&#x27;B_30&#x27;, &#x27;B_38&#x27;, &#x27;D_114&#x27;, &#x27;D_116&#x27;, &#x27;D_117&#x27;,\n",
       "                                  &#x27;D_120&#x27;, &#x27;D_126&#x27;, &#x27;D_63&#x27;, &#x27;D_64&#x27;, &#x27;D_68&#x27;]),\n",
       "                                (&#x27;str_pip&#x27;,\n",
       "                                 Pipeline(steps=[(&#x27;functiontransformer&#x27;,\n",
       "                                                  FunctionTransformer(func=&lt;function nan_imp at 0x7fd715e8f5e0&gt;)),\n",
       "                                                 (&#x27;ordinalencoder&#x27;,\n",
       "                                                  OrdinalEncoder()),\n",
       "                                                 (&#x27;simpleimputer&#x27;,\n",
       "                                                  SimpleImputer(strategy=&#x27;most_frequent&#x27;)),\n",
       "                                                 (&#x27;onehotencoder&#x27;,\n",
       "                                                  OneHotEncoder(handle_unknown=&#x27;ignore&#x27;,\n",
       "                                                                sparse=False))]),\n",
       "                                 [&#x27;D_63&#x27;, &#x27;D_64&#x27;])])</pre></div></div></div><div class=\"sk-parallel\"><div class=\"sk-parallel-item\"><div class=\"sk-item\"><div class=\"sk-label-container\"><div class=\"sk-label sk-toggleable\"><input class=\"sk-toggleable__control sk-hidden--visually\" id=\"sk-estimator-id-34\" type=\"checkbox\" ><label for=\"sk-estimator-id-34\" class=\"sk-toggleable__label sk-toggleable__label-arrow\">num_pip</label><div class=\"sk-toggleable__content\"><pre>[&#x27;P_2&#x27;, &#x27;D_39&#x27;, &#x27;B_2&#x27;, &#x27;R_1&#x27;, &#x27;S_3&#x27;, &#x27;D_41&#x27;, &#x27;B_3&#x27;, &#x27;D_42&#x27;, &#x27;D_43&#x27;, &#x27;D_44&#x27;, &#x27;B_4&#x27;, &#x27;D_45&#x27;, &#x27;B_5&#x27;, &#x27;R_2&#x27;, &#x27;D_46&#x27;, &#x27;D_47&#x27;, &#x27;D_48&#x27;, &#x27;D_49&#x27;, &#x27;B_6&#x27;, &#x27;B_8&#x27;, &#x27;D_50&#x27;, &#x27;D_51&#x27;, &#x27;B_9&#x27;, &#x27;R_3&#x27;, &#x27;D_52&#x27;, &#x27;P_3&#x27;, &#x27;B_10&#x27;, &#x27;D_53&#x27;, &#x27;S_5&#x27;, &#x27;S_6&#x27;, &#x27;D_54&#x27;, &#x27;R_4&#x27;, &#x27;S_7&#x27;, &#x27;B_12&#x27;, &#x27;S_8&#x27;, &#x27;D_55&#x27;, &#x27;D_56&#x27;, &#x27;B_13&#x27;, &#x27;R_5&#x27;, &#x27;D_58&#x27;, &#x27;S_9&#x27;, &#x27;B_14&#x27;, &#x27;D_59&#x27;, &#x27;D_60&#x27;, &#x27;D_61&#x27;, &#x27;B_15&#x27;, &#x27;S_11&#x27;, &#x27;D_62&#x27;, &#x27;D_65&#x27;, &#x27;B_16&#x27;, &#x27;B_17&#x27;, &#x27;B_18&#x27;, &#x27;B_19&#x27;, &#x27;B_20&#x27;, &#x27;S_12&#x27;, &#x27;R_6&#x27;, &#x27;S_13&#x27;, &#x27;B_21&#x27;, &#x27;D_69&#x27;, &#x27;B_22&#x27;, &#x27;D_70&#x27;, &#x27;D_71&#x27;, &#x27;D_72&#x27;, &#x27;S_15&#x27;, &#x27;B_23&#x27;, &#x27;P_4&#x27;, &#x27;D_74&#x27;, &#x27;B_24&#x27;, &#x27;R_7&#x27;, &#x27;B_25&#x27;, &#x27;B_26&#x27;, &#x27;D_78&#x27;, &#x27;D_79&#x27;, &#x27;R_8&#x27;, &#x27;S_16&#x27;, &#x27;D_80&#x27;, &#x27;R_10&#x27;, &#x27;R_11&#x27;, &#x27;B_27&#x27;, &#x27;D_81&#x27;, &#x27;D_82&#x27;, &#x27;S_17&#x27;, &#x27;R_12&#x27;, &#x27;B_28&#x27;, &#x27;R_13&#x27;, &#x27;D_83&#x27;, &#x27;R_14&#x27;, &#x27;R_15&#x27;, &#x27;D_84&#x27;, &#x27;R_16&#x27;, &#x27;S_18&#x27;, &#x27;D_86&#x27;, &#x27;R_17&#x27;, &#x27;R_18&#x27;, &#x27;B_31&#x27;, &#x27;S_19&#x27;, &#x27;R_19&#x27;, &#x27;B_32&#x27;, &#x27;S_20&#x27;, &#x27;R_20&#x27;, &#x27;R_21&#x27;, &#x27;B_33&#x27;, &#x27;D_89&#x27;, &#x27;R_22&#x27;, &#x27;R_23&#x27;, &#x27;D_91&#x27;, &#x27;D_92&#x27;, &#x27;D_93&#x27;, &#x27;D_94&#x27;, &#x27;R_24&#x27;, &#x27;R_25&#x27;, &#x27;D_96&#x27;, &#x27;S_22&#x27;, &#x27;S_23&#x27;, &#x27;S_25&#x27;, &#x27;S_26&#x27;, &#x27;D_102&#x27;, &#x27;D_104&#x27;, &#x27;D_105&#x27;, &#x27;D_106&#x27;, &#x27;D_107&#x27;, &#x27;B_36&#x27;, &#x27;R_26&#x27;, &#x27;R_27&#x27;, &#x27;D_109&#x27;, &#x27;D_112&#x27;, &#x27;B_40&#x27;, &#x27;S_27&#x27;, &#x27;D_113&#x27;, &#x27;D_115&#x27;, &#x27;D_119&#x27;, &#x27;D_121&#x27;, &#x27;D_122&#x27;, &#x27;D_123&#x27;, &#x27;D_124&#x27;, &#x27;D_125&#x27;, &#x27;D_127&#x27;, &#x27;D_128&#x27;, &#x27;D_129&#x27;, &#x27;B_41&#x27;, &#x27;D_130&#x27;, &#x27;D_131&#x27;, &#x27;D_132&#x27;, &#x27;D_133&#x27;, &#x27;R_28&#x27;, &#x27;D_139&#x27;, &#x27;D_140&#x27;, &#x27;D_142&#x27;, &#x27;D_144&#x27;, &#x27;D_145&#x27;]</pre></div></div></div><div class=\"sk-serial\"><div class=\"sk-item\"><div class=\"sk-serial\"><div class=\"sk-item\"><div class=\"sk-estimator sk-toggleable\"><input class=\"sk-toggleable__control sk-hidden--visually\" id=\"sk-estimator-id-35\" type=\"checkbox\" ><label for=\"sk-estimator-id-35\" class=\"sk-toggleable__label sk-toggleable__label-arrow\">RobustScaler</label><div class=\"sk-toggleable__content\"><pre>RobustScaler()</pre></div></div></div><div class=\"sk-item\"><div class=\"sk-estimator sk-toggleable\"><input class=\"sk-toggleable__control sk-hidden--visually\" id=\"sk-estimator-id-36\" type=\"checkbox\" ><label for=\"sk-estimator-id-36\" class=\"sk-toggleable__label sk-toggleable__label-arrow\">SimpleImputer</label><div class=\"sk-toggleable__content\"><pre>SimpleImputer()</pre></div></div></div></div></div></div></div></div><div class=\"sk-parallel-item\"><div class=\"sk-item\"><div class=\"sk-label-container\"><div class=\"sk-label sk-toggleable\"><input class=\"sk-toggleable__control sk-hidden--visually\" id=\"sk-estimator-id-37\" type=\"checkbox\" ><label for=\"sk-estimator-id-37\" class=\"sk-toggleable__label sk-toggleable__label-arrow\">cat_pip</label><div class=\"sk-toggleable__content\"><pre>[&#x27;B_30&#x27;, &#x27;B_38&#x27;, &#x27;D_114&#x27;, &#x27;D_116&#x27;, &#x27;D_117&#x27;, &#x27;D_120&#x27;, &#x27;D_126&#x27;, &#x27;D_63&#x27;, &#x27;D_64&#x27;, &#x27;D_68&#x27;]</pre></div></div></div><div class=\"sk-serial\"><div class=\"sk-item\"><div class=\"sk-serial\"><div class=\"sk-item\"><div class=\"sk-estimator sk-toggleable\"><input class=\"sk-toggleable__control sk-hidden--visually\" id=\"sk-estimator-id-38\" type=\"checkbox\" ><label for=\"sk-estimator-id-38\" class=\"sk-toggleable__label sk-toggleable__label-arrow\">FunctionTransformer</label><div class=\"sk-toggleable__content\"><pre>FunctionTransformer(func=&lt;function nan_imp at 0x7fd715e8f5e0&gt;)</pre></div></div></div><div class=\"sk-item\"><div class=\"sk-estimator sk-toggleable\"><input class=\"sk-toggleable__control sk-hidden--visually\" id=\"sk-estimator-id-39\" type=\"checkbox\" ><label for=\"sk-estimator-id-39\" class=\"sk-toggleable__label sk-toggleable__label-arrow\">SimpleImputer</label><div class=\"sk-toggleable__content\"><pre>SimpleImputer(strategy=&#x27;most_frequent&#x27;)</pre></div></div></div><div class=\"sk-item\"><div class=\"sk-estimator sk-toggleable\"><input class=\"sk-toggleable__control sk-hidden--visually\" id=\"sk-estimator-id-40\" type=\"checkbox\" ><label for=\"sk-estimator-id-40\" class=\"sk-toggleable__label sk-toggleable__label-arrow\">OneHotEncoder</label><div class=\"sk-toggleable__content\"><pre>OneHotEncoder(handle_unknown=&#x27;ignore&#x27;, sparse=False)</pre></div></div></div></div></div></div></div></div><div class=\"sk-parallel-item\"><div class=\"sk-item\"><div class=\"sk-label-container\"><div class=\"sk-label sk-toggleable\"><input class=\"sk-toggleable__control sk-hidden--visually\" id=\"sk-estimator-id-41\" type=\"checkbox\" ><label for=\"sk-estimator-id-41\" class=\"sk-toggleable__label sk-toggleable__label-arrow\">str_pip</label><div class=\"sk-toggleable__content\"><pre>[&#x27;D_63&#x27;, &#x27;D_64&#x27;]</pre></div></div></div><div class=\"sk-serial\"><div class=\"sk-item\"><div class=\"sk-serial\"><div class=\"sk-item\"><div class=\"sk-estimator sk-toggleable\"><input class=\"sk-toggleable__control sk-hidden--visually\" id=\"sk-estimator-id-42\" type=\"checkbox\" ><label for=\"sk-estimator-id-42\" class=\"sk-toggleable__label sk-toggleable__label-arrow\">FunctionTransformer</label><div class=\"sk-toggleable__content\"><pre>FunctionTransformer(func=&lt;function nan_imp at 0x7fd715e8f5e0&gt;)</pre></div></div></div><div class=\"sk-item\"><div class=\"sk-estimator sk-toggleable\"><input class=\"sk-toggleable__control sk-hidden--visually\" id=\"sk-estimator-id-43\" type=\"checkbox\" ><label for=\"sk-estimator-id-43\" class=\"sk-toggleable__label sk-toggleable__label-arrow\">OrdinalEncoder</label><div class=\"sk-toggleable__content\"><pre>OrdinalEncoder()</pre></div></div></div><div class=\"sk-item\"><div class=\"sk-estimator sk-toggleable\"><input class=\"sk-toggleable__control sk-hidden--visually\" id=\"sk-estimator-id-44\" type=\"checkbox\" ><label for=\"sk-estimator-id-44\" class=\"sk-toggleable__label sk-toggleable__label-arrow\">SimpleImputer</label><div class=\"sk-toggleable__content\"><pre>SimpleImputer(strategy=&#x27;most_frequent&#x27;)</pre></div></div></div><div class=\"sk-item\"><div class=\"sk-estimator sk-toggleable\"><input class=\"sk-toggleable__control sk-hidden--visually\" id=\"sk-estimator-id-45\" type=\"checkbox\" ><label for=\"sk-estimator-id-45\" class=\"sk-toggleable__label sk-toggleable__label-arrow\">OneHotEncoder</label><div class=\"sk-toggleable__content\"><pre>OneHotEncoder(handle_unknown=&#x27;ignore&#x27;, sparse=False)</pre></div></div></div></div></div></div></div></div></div></div><div class=\"sk-item\"><div class=\"sk-estimator sk-toggleable\"><input class=\"sk-toggleable__control sk-hidden--visually\" id=\"sk-estimator-id-46\" type=\"checkbox\" ><label for=\"sk-estimator-id-46\" class=\"sk-toggleable__label sk-toggleable__label-arrow\">LogisticRegression</label><div class=\"sk-toggleable__content\"><pre>LogisticRegression()</pre></div></div></div></div></div></div></div>"
      ],
      "text/plain": [
       "Pipeline(steps=[('columntransformer',\n",
       "                 ColumnTransformer(transformers=[('num_pip',\n",
       "                                                  Pipeline(steps=[('robustscaler',\n",
       "                                                                   RobustScaler()),\n",
       "                                                                  ('simpleimputer',\n",
       "                                                                   SimpleImputer())]),\n",
       "                                                  ['P_2', 'D_39', 'B_2', 'R_1',\n",
       "                                                   'S_3', 'D_41', 'B_3', 'D_42',\n",
       "                                                   'D_43', 'D_44', 'B_4',\n",
       "                                                   'D_45', 'B_5', 'R_2', 'D_46',\n",
       "                                                   'D_47', 'D_48', 'D_49',\n",
       "                                                   'B_6', 'B_8', 'D_50', 'D_51',\n",
       "                                                   'B_9', 'R_3', 'D_52', 'P_3',\n",
       "                                                   'B_10', 'D_53', 'S...\n",
       "                                                   'D_68']),\n",
       "                                                 ('str_pip',\n",
       "                                                  Pipeline(steps=[('functiontransformer',\n",
       "                                                                   FunctionTransformer(func=<function nan_imp at 0x7fd715e8f5e0>)),\n",
       "                                                                  ('ordinalencoder',\n",
       "                                                                   OrdinalEncoder()),\n",
       "                                                                  ('simpleimputer',\n",
       "                                                                   SimpleImputer(strategy='most_frequent')),\n",
       "                                                                  ('onehotencoder',\n",
       "                                                                   OneHotEncoder(handle_unknown='ignore',\n",
       "                                                                                 sparse=False))]),\n",
       "                                                  ['D_63', 'D_64'])])),\n",
       "                ('logisticregression', LogisticRegression())])"
      ]
     },
     "execution_count": 39,
     "metadata": {},
     "output_type": "execute_result"
    }
   ],
   "source": [
    "#pp_pred_pipe"
   ]
  },
  {
   "cell_type": "code",
   "execution_count": 40,
   "id": "12e857c1-8c74-4576-b37a-d65d35051214",
   "metadata": {},
   "outputs": [
    {
     "name": "stderr",
     "output_type": "stream",
     "text": [
      "/home/slawa/.pyenv/versions/3.8.12/envs/amex_default_pred/lib/python3.8/site-packages/sklearn/linear_model/_logistic.py:444: ConvergenceWarning: lbfgs failed to converge (status=1):\n",
      "STOP: TOTAL NO. of ITERATIONS REACHED LIMIT.\n",
      "\n",
      "Increase the number of iterations (max_iter) or scale the data as shown in:\n",
      "    https://scikit-learn.org/stable/modules/preprocessing.html\n",
      "Please also refer to the documentation for alternative solver options:\n",
      "    https://scikit-learn.org/stable/modules/linear_model.html#logistic-regression\n",
      "  n_iter_i = _check_optimize_result(\n"
     ]
    },
    {
     "data": {
      "text/html": [
       "<style>#sk-container-id-5 {color: black;background-color: white;}#sk-container-id-5 pre{padding: 0;}#sk-container-id-5 div.sk-toggleable {background-color: white;}#sk-container-id-5 label.sk-toggleable__label {cursor: pointer;display: block;width: 100%;margin-bottom: 0;padding: 0.3em;box-sizing: border-box;text-align: center;}#sk-container-id-5 label.sk-toggleable__label-arrow:before {content: \"▸\";float: left;margin-right: 0.25em;color: #696969;}#sk-container-id-5 label.sk-toggleable__label-arrow:hover:before {color: black;}#sk-container-id-5 div.sk-estimator:hover label.sk-toggleable__label-arrow:before {color: black;}#sk-container-id-5 div.sk-toggleable__content {max-height: 0;max-width: 0;overflow: hidden;text-align: left;background-color: #f0f8ff;}#sk-container-id-5 div.sk-toggleable__content pre {margin: 0.2em;color: black;border-radius: 0.25em;background-color: #f0f8ff;}#sk-container-id-5 input.sk-toggleable__control:checked~div.sk-toggleable__content {max-height: 200px;max-width: 100%;overflow: auto;}#sk-container-id-5 input.sk-toggleable__control:checked~label.sk-toggleable__label-arrow:before {content: \"▾\";}#sk-container-id-5 div.sk-estimator input.sk-toggleable__control:checked~label.sk-toggleable__label {background-color: #d4ebff;}#sk-container-id-5 div.sk-label input.sk-toggleable__control:checked~label.sk-toggleable__label {background-color: #d4ebff;}#sk-container-id-5 input.sk-hidden--visually {border: 0;clip: rect(1px 1px 1px 1px);clip: rect(1px, 1px, 1px, 1px);height: 1px;margin: -1px;overflow: hidden;padding: 0;position: absolute;width: 1px;}#sk-container-id-5 div.sk-estimator {font-family: monospace;background-color: #f0f8ff;border: 1px dotted black;border-radius: 0.25em;box-sizing: border-box;margin-bottom: 0.5em;}#sk-container-id-5 div.sk-estimator:hover {background-color: #d4ebff;}#sk-container-id-5 div.sk-parallel-item::after {content: \"\";width: 100%;border-bottom: 1px solid gray;flex-grow: 1;}#sk-container-id-5 div.sk-label:hover label.sk-toggleable__label {background-color: #d4ebff;}#sk-container-id-5 div.sk-serial::before {content: \"\";position: absolute;border-left: 1px solid gray;box-sizing: border-box;top: 0;bottom: 0;left: 50%;z-index: 0;}#sk-container-id-5 div.sk-serial {display: flex;flex-direction: column;align-items: center;background-color: white;padding-right: 0.2em;padding-left: 0.2em;position: relative;}#sk-container-id-5 div.sk-item {position: relative;z-index: 1;}#sk-container-id-5 div.sk-parallel {display: flex;align-items: stretch;justify-content: center;background-color: white;position: relative;}#sk-container-id-5 div.sk-item::before, #sk-container-id-5 div.sk-parallel-item::before {content: \"\";position: absolute;border-left: 1px solid gray;box-sizing: border-box;top: 0;bottom: 0;left: 50%;z-index: -1;}#sk-container-id-5 div.sk-parallel-item {display: flex;flex-direction: column;z-index: 1;position: relative;background-color: white;}#sk-container-id-5 div.sk-parallel-item:first-child::after {align-self: flex-end;width: 50%;}#sk-container-id-5 div.sk-parallel-item:last-child::after {align-self: flex-start;width: 50%;}#sk-container-id-5 div.sk-parallel-item:only-child::after {width: 0;}#sk-container-id-5 div.sk-dashed-wrapped {border: 1px dashed gray;margin: 0 0.4em 0.5em 0.4em;box-sizing: border-box;padding-bottom: 0.4em;background-color: white;}#sk-container-id-5 div.sk-label label {font-family: monospace;font-weight: bold;display: inline-block;line-height: 1.2em;}#sk-container-id-5 div.sk-label-container {text-align: center;}#sk-container-id-5 div.sk-container {/* jupyter's `normalize.less` sets `[hidden] { display: none; }` but bootstrap.min.css set `[hidden] { display: none !important; }` so we also need the `!important` here to be able to override the default hidden behavior on the sphinx rendered scikit-learn.org. See: https://github.com/scikit-learn/scikit-learn/issues/21755 */display: inline-block !important;position: relative;}#sk-container-id-5 div.sk-text-repr-fallback {display: none;}</style><div id=\"sk-container-id-5\" class=\"sk-top-container\"><div class=\"sk-text-repr-fallback\"><pre>Pipeline(steps=[(&#x27;columntransformer&#x27;,\n",
       "                 ColumnTransformer(transformers=[(&#x27;num_pip&#x27;,\n",
       "                                                  Pipeline(steps=[(&#x27;robustscaler&#x27;,\n",
       "                                                                   RobustScaler()),\n",
       "                                                                  (&#x27;simpleimputer&#x27;,\n",
       "                                                                   SimpleImputer())]),\n",
       "                                                  [&#x27;P_2&#x27;, &#x27;D_39&#x27;, &#x27;B_2&#x27;, &#x27;R_1&#x27;,\n",
       "                                                   &#x27;S_3&#x27;, &#x27;D_41&#x27;, &#x27;B_3&#x27;, &#x27;D_42&#x27;,\n",
       "                                                   &#x27;D_43&#x27;, &#x27;D_44&#x27;, &#x27;B_4&#x27;,\n",
       "                                                   &#x27;D_45&#x27;, &#x27;B_5&#x27;, &#x27;R_2&#x27;, &#x27;D_46&#x27;,\n",
       "                                                   &#x27;D_47&#x27;, &#x27;D_48&#x27;, &#x27;D_49&#x27;,\n",
       "                                                   &#x27;B_6&#x27;, &#x27;B_8&#x27;, &#x27;D_50&#x27;, &#x27;D_51&#x27;,\n",
       "                                                   &#x27;B_9&#x27;, &#x27;R_3&#x27;, &#x27;D_52&#x27;, &#x27;P_3&#x27;,\n",
       "                                                   &#x27;B_10&#x27;, &#x27;D_53&#x27;, &#x27;S...\n",
       "                                                   &#x27;D_68&#x27;]),\n",
       "                                                 (&#x27;str_pip&#x27;,\n",
       "                                                  Pipeline(steps=[(&#x27;functiontransformer&#x27;,\n",
       "                                                                   FunctionTransformer(func=&lt;function nan_imp at 0x7fd715e8f5e0&gt;)),\n",
       "                                                                  (&#x27;ordinalencoder&#x27;,\n",
       "                                                                   OrdinalEncoder()),\n",
       "                                                                  (&#x27;simpleimputer&#x27;,\n",
       "                                                                   SimpleImputer(strategy=&#x27;most_frequent&#x27;)),\n",
       "                                                                  (&#x27;onehotencoder&#x27;,\n",
       "                                                                   OneHotEncoder(handle_unknown=&#x27;ignore&#x27;,\n",
       "                                                                                 sparse=False))]),\n",
       "                                                  [&#x27;D_63&#x27;, &#x27;D_64&#x27;])])),\n",
       "                (&#x27;logisticregression&#x27;, LogisticRegression())])</pre><b>In a Jupyter environment, please rerun this cell to show the HTML representation or trust the notebook. <br />On GitHub, the HTML representation is unable to render, please try loading this page with nbviewer.org.</b></div><div class=\"sk-container\" hidden><div class=\"sk-item sk-dashed-wrapped\"><div class=\"sk-label-container\"><div class=\"sk-label sk-toggleable\"><input class=\"sk-toggleable__control sk-hidden--visually\" id=\"sk-estimator-id-47\" type=\"checkbox\" ><label for=\"sk-estimator-id-47\" class=\"sk-toggleable__label sk-toggleable__label-arrow\">Pipeline</label><div class=\"sk-toggleable__content\"><pre>Pipeline(steps=[(&#x27;columntransformer&#x27;,\n",
       "                 ColumnTransformer(transformers=[(&#x27;num_pip&#x27;,\n",
       "                                                  Pipeline(steps=[(&#x27;robustscaler&#x27;,\n",
       "                                                                   RobustScaler()),\n",
       "                                                                  (&#x27;simpleimputer&#x27;,\n",
       "                                                                   SimpleImputer())]),\n",
       "                                                  [&#x27;P_2&#x27;, &#x27;D_39&#x27;, &#x27;B_2&#x27;, &#x27;R_1&#x27;,\n",
       "                                                   &#x27;S_3&#x27;, &#x27;D_41&#x27;, &#x27;B_3&#x27;, &#x27;D_42&#x27;,\n",
       "                                                   &#x27;D_43&#x27;, &#x27;D_44&#x27;, &#x27;B_4&#x27;,\n",
       "                                                   &#x27;D_45&#x27;, &#x27;B_5&#x27;, &#x27;R_2&#x27;, &#x27;D_46&#x27;,\n",
       "                                                   &#x27;D_47&#x27;, &#x27;D_48&#x27;, &#x27;D_49&#x27;,\n",
       "                                                   &#x27;B_6&#x27;, &#x27;B_8&#x27;, &#x27;D_50&#x27;, &#x27;D_51&#x27;,\n",
       "                                                   &#x27;B_9&#x27;, &#x27;R_3&#x27;, &#x27;D_52&#x27;, &#x27;P_3&#x27;,\n",
       "                                                   &#x27;B_10&#x27;, &#x27;D_53&#x27;, &#x27;S...\n",
       "                                                   &#x27;D_68&#x27;]),\n",
       "                                                 (&#x27;str_pip&#x27;,\n",
       "                                                  Pipeline(steps=[(&#x27;functiontransformer&#x27;,\n",
       "                                                                   FunctionTransformer(func=&lt;function nan_imp at 0x7fd715e8f5e0&gt;)),\n",
       "                                                                  (&#x27;ordinalencoder&#x27;,\n",
       "                                                                   OrdinalEncoder()),\n",
       "                                                                  (&#x27;simpleimputer&#x27;,\n",
       "                                                                   SimpleImputer(strategy=&#x27;most_frequent&#x27;)),\n",
       "                                                                  (&#x27;onehotencoder&#x27;,\n",
       "                                                                   OneHotEncoder(handle_unknown=&#x27;ignore&#x27;,\n",
       "                                                                                 sparse=False))]),\n",
       "                                                  [&#x27;D_63&#x27;, &#x27;D_64&#x27;])])),\n",
       "                (&#x27;logisticregression&#x27;, LogisticRegression())])</pre></div></div></div><div class=\"sk-serial\"><div class=\"sk-item sk-dashed-wrapped\"><div class=\"sk-label-container\"><div class=\"sk-label sk-toggleable\"><input class=\"sk-toggleable__control sk-hidden--visually\" id=\"sk-estimator-id-48\" type=\"checkbox\" ><label for=\"sk-estimator-id-48\" class=\"sk-toggleable__label sk-toggleable__label-arrow\">columntransformer: ColumnTransformer</label><div class=\"sk-toggleable__content\"><pre>ColumnTransformer(transformers=[(&#x27;num_pip&#x27;,\n",
       "                                 Pipeline(steps=[(&#x27;robustscaler&#x27;,\n",
       "                                                  RobustScaler()),\n",
       "                                                 (&#x27;simpleimputer&#x27;,\n",
       "                                                  SimpleImputer())]),\n",
       "                                 [&#x27;P_2&#x27;, &#x27;D_39&#x27;, &#x27;B_2&#x27;, &#x27;R_1&#x27;, &#x27;S_3&#x27;, &#x27;D_41&#x27;,\n",
       "                                  &#x27;B_3&#x27;, &#x27;D_42&#x27;, &#x27;D_43&#x27;, &#x27;D_44&#x27;, &#x27;B_4&#x27;, &#x27;D_45&#x27;,\n",
       "                                  &#x27;B_5&#x27;, &#x27;R_2&#x27;, &#x27;D_46&#x27;, &#x27;D_47&#x27;, &#x27;D_48&#x27;, &#x27;D_49&#x27;,\n",
       "                                  &#x27;B_6&#x27;, &#x27;B_8&#x27;, &#x27;D_50&#x27;, &#x27;D_51&#x27;, &#x27;B_9&#x27;, &#x27;R_3&#x27;,\n",
       "                                  &#x27;D_52&#x27;, &#x27;P_3&#x27;, &#x27;B_10&#x27;, &#x27;D_53&#x27;, &#x27;S_5&#x27;, &#x27;S_6&#x27;, ...]),\n",
       "                                (&#x27;cat_pip&#x27;,\n",
       "                                 Pipeline(s...\n",
       "                                 [&#x27;B_30&#x27;, &#x27;B_38&#x27;, &#x27;D_114&#x27;, &#x27;D_116&#x27;, &#x27;D_117&#x27;,\n",
       "                                  &#x27;D_120&#x27;, &#x27;D_126&#x27;, &#x27;D_63&#x27;, &#x27;D_64&#x27;, &#x27;D_68&#x27;]),\n",
       "                                (&#x27;str_pip&#x27;,\n",
       "                                 Pipeline(steps=[(&#x27;functiontransformer&#x27;,\n",
       "                                                  FunctionTransformer(func=&lt;function nan_imp at 0x7fd715e8f5e0&gt;)),\n",
       "                                                 (&#x27;ordinalencoder&#x27;,\n",
       "                                                  OrdinalEncoder()),\n",
       "                                                 (&#x27;simpleimputer&#x27;,\n",
       "                                                  SimpleImputer(strategy=&#x27;most_frequent&#x27;)),\n",
       "                                                 (&#x27;onehotencoder&#x27;,\n",
       "                                                  OneHotEncoder(handle_unknown=&#x27;ignore&#x27;,\n",
       "                                                                sparse=False))]),\n",
       "                                 [&#x27;D_63&#x27;, &#x27;D_64&#x27;])])</pre></div></div></div><div class=\"sk-parallel\"><div class=\"sk-parallel-item\"><div class=\"sk-item\"><div class=\"sk-label-container\"><div class=\"sk-label sk-toggleable\"><input class=\"sk-toggleable__control sk-hidden--visually\" id=\"sk-estimator-id-49\" type=\"checkbox\" ><label for=\"sk-estimator-id-49\" class=\"sk-toggleable__label sk-toggleable__label-arrow\">num_pip</label><div class=\"sk-toggleable__content\"><pre>[&#x27;P_2&#x27;, &#x27;D_39&#x27;, &#x27;B_2&#x27;, &#x27;R_1&#x27;, &#x27;S_3&#x27;, &#x27;D_41&#x27;, &#x27;B_3&#x27;, &#x27;D_42&#x27;, &#x27;D_43&#x27;, &#x27;D_44&#x27;, &#x27;B_4&#x27;, &#x27;D_45&#x27;, &#x27;B_5&#x27;, &#x27;R_2&#x27;, &#x27;D_46&#x27;, &#x27;D_47&#x27;, &#x27;D_48&#x27;, &#x27;D_49&#x27;, &#x27;B_6&#x27;, &#x27;B_8&#x27;, &#x27;D_50&#x27;, &#x27;D_51&#x27;, &#x27;B_9&#x27;, &#x27;R_3&#x27;, &#x27;D_52&#x27;, &#x27;P_3&#x27;, &#x27;B_10&#x27;, &#x27;D_53&#x27;, &#x27;S_5&#x27;, &#x27;S_6&#x27;, &#x27;D_54&#x27;, &#x27;R_4&#x27;, &#x27;S_7&#x27;, &#x27;B_12&#x27;, &#x27;S_8&#x27;, &#x27;D_55&#x27;, &#x27;D_56&#x27;, &#x27;B_13&#x27;, &#x27;R_5&#x27;, &#x27;D_58&#x27;, &#x27;S_9&#x27;, &#x27;B_14&#x27;, &#x27;D_59&#x27;, &#x27;D_60&#x27;, &#x27;D_61&#x27;, &#x27;B_15&#x27;, &#x27;S_11&#x27;, &#x27;D_62&#x27;, &#x27;D_65&#x27;, &#x27;B_16&#x27;, &#x27;B_17&#x27;, &#x27;B_18&#x27;, &#x27;B_19&#x27;, &#x27;B_20&#x27;, &#x27;S_12&#x27;, &#x27;R_6&#x27;, &#x27;S_13&#x27;, &#x27;B_21&#x27;, &#x27;D_69&#x27;, &#x27;B_22&#x27;, &#x27;D_70&#x27;, &#x27;D_71&#x27;, &#x27;D_72&#x27;, &#x27;S_15&#x27;, &#x27;B_23&#x27;, &#x27;P_4&#x27;, &#x27;D_74&#x27;, &#x27;B_24&#x27;, &#x27;R_7&#x27;, &#x27;B_25&#x27;, &#x27;B_26&#x27;, &#x27;D_78&#x27;, &#x27;D_79&#x27;, &#x27;R_8&#x27;, &#x27;S_16&#x27;, &#x27;D_80&#x27;, &#x27;R_10&#x27;, &#x27;R_11&#x27;, &#x27;B_27&#x27;, &#x27;D_81&#x27;, &#x27;D_82&#x27;, &#x27;S_17&#x27;, &#x27;R_12&#x27;, &#x27;B_28&#x27;, &#x27;R_13&#x27;, &#x27;D_83&#x27;, &#x27;R_14&#x27;, &#x27;R_15&#x27;, &#x27;D_84&#x27;, &#x27;R_16&#x27;, &#x27;S_18&#x27;, &#x27;D_86&#x27;, &#x27;R_17&#x27;, &#x27;R_18&#x27;, &#x27;B_31&#x27;, &#x27;S_19&#x27;, &#x27;R_19&#x27;, &#x27;B_32&#x27;, &#x27;S_20&#x27;, &#x27;R_20&#x27;, &#x27;R_21&#x27;, &#x27;B_33&#x27;, &#x27;D_89&#x27;, &#x27;R_22&#x27;, &#x27;R_23&#x27;, &#x27;D_91&#x27;, &#x27;D_92&#x27;, &#x27;D_93&#x27;, &#x27;D_94&#x27;, &#x27;R_24&#x27;, &#x27;R_25&#x27;, &#x27;D_96&#x27;, &#x27;S_22&#x27;, &#x27;S_23&#x27;, &#x27;S_25&#x27;, &#x27;S_26&#x27;, &#x27;D_102&#x27;, &#x27;D_104&#x27;, &#x27;D_105&#x27;, &#x27;D_106&#x27;, &#x27;D_107&#x27;, &#x27;B_36&#x27;, &#x27;R_26&#x27;, &#x27;R_27&#x27;, &#x27;D_109&#x27;, &#x27;D_112&#x27;, &#x27;B_40&#x27;, &#x27;S_27&#x27;, &#x27;D_113&#x27;, &#x27;D_115&#x27;, &#x27;D_119&#x27;, &#x27;D_121&#x27;, &#x27;D_122&#x27;, &#x27;D_123&#x27;, &#x27;D_124&#x27;, &#x27;D_125&#x27;, &#x27;D_127&#x27;, &#x27;D_128&#x27;, &#x27;D_129&#x27;, &#x27;B_41&#x27;, &#x27;D_130&#x27;, &#x27;D_131&#x27;, &#x27;D_132&#x27;, &#x27;D_133&#x27;, &#x27;R_28&#x27;, &#x27;D_139&#x27;, &#x27;D_140&#x27;, &#x27;D_142&#x27;, &#x27;D_144&#x27;, &#x27;D_145&#x27;]</pre></div></div></div><div class=\"sk-serial\"><div class=\"sk-item\"><div class=\"sk-serial\"><div class=\"sk-item\"><div class=\"sk-estimator sk-toggleable\"><input class=\"sk-toggleable__control sk-hidden--visually\" id=\"sk-estimator-id-50\" type=\"checkbox\" ><label for=\"sk-estimator-id-50\" class=\"sk-toggleable__label sk-toggleable__label-arrow\">RobustScaler</label><div class=\"sk-toggleable__content\"><pre>RobustScaler()</pre></div></div></div><div class=\"sk-item\"><div class=\"sk-estimator sk-toggleable\"><input class=\"sk-toggleable__control sk-hidden--visually\" id=\"sk-estimator-id-51\" type=\"checkbox\" ><label for=\"sk-estimator-id-51\" class=\"sk-toggleable__label sk-toggleable__label-arrow\">SimpleImputer</label><div class=\"sk-toggleable__content\"><pre>SimpleImputer()</pre></div></div></div></div></div></div></div></div><div class=\"sk-parallel-item\"><div class=\"sk-item\"><div class=\"sk-label-container\"><div class=\"sk-label sk-toggleable\"><input class=\"sk-toggleable__control sk-hidden--visually\" id=\"sk-estimator-id-52\" type=\"checkbox\" ><label for=\"sk-estimator-id-52\" class=\"sk-toggleable__label sk-toggleable__label-arrow\">cat_pip</label><div class=\"sk-toggleable__content\"><pre>[&#x27;B_30&#x27;, &#x27;B_38&#x27;, &#x27;D_114&#x27;, &#x27;D_116&#x27;, &#x27;D_117&#x27;, &#x27;D_120&#x27;, &#x27;D_126&#x27;, &#x27;D_63&#x27;, &#x27;D_64&#x27;, &#x27;D_68&#x27;]</pre></div></div></div><div class=\"sk-serial\"><div class=\"sk-item\"><div class=\"sk-serial\"><div class=\"sk-item\"><div class=\"sk-estimator sk-toggleable\"><input class=\"sk-toggleable__control sk-hidden--visually\" id=\"sk-estimator-id-53\" type=\"checkbox\" ><label for=\"sk-estimator-id-53\" class=\"sk-toggleable__label sk-toggleable__label-arrow\">FunctionTransformer</label><div class=\"sk-toggleable__content\"><pre>FunctionTransformer(func=&lt;function nan_imp at 0x7fd715e8f5e0&gt;)</pre></div></div></div><div class=\"sk-item\"><div class=\"sk-estimator sk-toggleable\"><input class=\"sk-toggleable__control sk-hidden--visually\" id=\"sk-estimator-id-54\" type=\"checkbox\" ><label for=\"sk-estimator-id-54\" class=\"sk-toggleable__label sk-toggleable__label-arrow\">SimpleImputer</label><div class=\"sk-toggleable__content\"><pre>SimpleImputer(strategy=&#x27;most_frequent&#x27;)</pre></div></div></div><div class=\"sk-item\"><div class=\"sk-estimator sk-toggleable\"><input class=\"sk-toggleable__control sk-hidden--visually\" id=\"sk-estimator-id-55\" type=\"checkbox\" ><label for=\"sk-estimator-id-55\" class=\"sk-toggleable__label sk-toggleable__label-arrow\">OneHotEncoder</label><div class=\"sk-toggleable__content\"><pre>OneHotEncoder(handle_unknown=&#x27;ignore&#x27;, sparse=False)</pre></div></div></div></div></div></div></div></div><div class=\"sk-parallel-item\"><div class=\"sk-item\"><div class=\"sk-label-container\"><div class=\"sk-label sk-toggleable\"><input class=\"sk-toggleable__control sk-hidden--visually\" id=\"sk-estimator-id-56\" type=\"checkbox\" ><label for=\"sk-estimator-id-56\" class=\"sk-toggleable__label sk-toggleable__label-arrow\">str_pip</label><div class=\"sk-toggleable__content\"><pre>[&#x27;D_63&#x27;, &#x27;D_64&#x27;]</pre></div></div></div><div class=\"sk-serial\"><div class=\"sk-item\"><div class=\"sk-serial\"><div class=\"sk-item\"><div class=\"sk-estimator sk-toggleable\"><input class=\"sk-toggleable__control sk-hidden--visually\" id=\"sk-estimator-id-57\" type=\"checkbox\" ><label for=\"sk-estimator-id-57\" class=\"sk-toggleable__label sk-toggleable__label-arrow\">FunctionTransformer</label><div class=\"sk-toggleable__content\"><pre>FunctionTransformer(func=&lt;function nan_imp at 0x7fd715e8f5e0&gt;)</pre></div></div></div><div class=\"sk-item\"><div class=\"sk-estimator sk-toggleable\"><input class=\"sk-toggleable__control sk-hidden--visually\" id=\"sk-estimator-id-58\" type=\"checkbox\" ><label for=\"sk-estimator-id-58\" class=\"sk-toggleable__label sk-toggleable__label-arrow\">OrdinalEncoder</label><div class=\"sk-toggleable__content\"><pre>OrdinalEncoder()</pre></div></div></div><div class=\"sk-item\"><div class=\"sk-estimator sk-toggleable\"><input class=\"sk-toggleable__control sk-hidden--visually\" id=\"sk-estimator-id-59\" type=\"checkbox\" ><label for=\"sk-estimator-id-59\" class=\"sk-toggleable__label sk-toggleable__label-arrow\">SimpleImputer</label><div class=\"sk-toggleable__content\"><pre>SimpleImputer(strategy=&#x27;most_frequent&#x27;)</pre></div></div></div><div class=\"sk-item\"><div class=\"sk-estimator sk-toggleable\"><input class=\"sk-toggleable__control sk-hidden--visually\" id=\"sk-estimator-id-60\" type=\"checkbox\" ><label for=\"sk-estimator-id-60\" class=\"sk-toggleable__label sk-toggleable__label-arrow\">OneHotEncoder</label><div class=\"sk-toggleable__content\"><pre>OneHotEncoder(handle_unknown=&#x27;ignore&#x27;, sparse=False)</pre></div></div></div></div></div></div></div></div></div></div><div class=\"sk-item\"><div class=\"sk-estimator sk-toggleable\"><input class=\"sk-toggleable__control sk-hidden--visually\" id=\"sk-estimator-id-61\" type=\"checkbox\" ><label for=\"sk-estimator-id-61\" class=\"sk-toggleable__label sk-toggleable__label-arrow\">LogisticRegression</label><div class=\"sk-toggleable__content\"><pre>LogisticRegression()</pre></div></div></div></div></div></div></div>"
      ],
      "text/plain": [
       "Pipeline(steps=[('columntransformer',\n",
       "                 ColumnTransformer(transformers=[('num_pip',\n",
       "                                                  Pipeline(steps=[('robustscaler',\n",
       "                                                                   RobustScaler()),\n",
       "                                                                  ('simpleimputer',\n",
       "                                                                   SimpleImputer())]),\n",
       "                                                  ['P_2', 'D_39', 'B_2', 'R_1',\n",
       "                                                   'S_3', 'D_41', 'B_3', 'D_42',\n",
       "                                                   'D_43', 'D_44', 'B_4',\n",
       "                                                   'D_45', 'B_5', 'R_2', 'D_46',\n",
       "                                                   'D_47', 'D_48', 'D_49',\n",
       "                                                   'B_6', 'B_8', 'D_50', 'D_51',\n",
       "                                                   'B_9', 'R_3', 'D_52', 'P_3',\n",
       "                                                   'B_10', 'D_53', 'S...\n",
       "                                                   'D_68']),\n",
       "                                                 ('str_pip',\n",
       "                                                  Pipeline(steps=[('functiontransformer',\n",
       "                                                                   FunctionTransformer(func=<function nan_imp at 0x7fd715e8f5e0>)),\n",
       "                                                                  ('ordinalencoder',\n",
       "                                                                   OrdinalEncoder()),\n",
       "                                                                  ('simpleimputer',\n",
       "                                                                   SimpleImputer(strategy='most_frequent')),\n",
       "                                                                  ('onehotencoder',\n",
       "                                                                   OneHotEncoder(handle_unknown='ignore',\n",
       "                                                                                 sparse=False))]),\n",
       "                                                  ['D_63', 'D_64'])])),\n",
       "                ('logisticregression', LogisticRegression())])"
      ]
     },
     "execution_count": 40,
     "metadata": {},
     "output_type": "execute_result"
    }
   ],
   "source": [
    "pp_pred_pipe.fit(X, y)"
   ]
  },
  {
   "cell_type": "markdown",
   "id": "1325c884-75a2-4d4b-9c52-2169565e31ca",
   "metadata": {},
   "source": [
    "# Trying pickling"
   ]
  },
  {
   "cell_type": "code",
   "execution_count": 41,
   "id": "9f229973-cea9-4e81-a730-18b5acf38475",
   "metadata": {},
   "outputs": [],
   "source": [
    "# # import pickle\n",
    "\n",
    "# # pickle.dump(pp_pred_pipe, open('pp_pred_pipe', 'wb'))\n",
    "\n",
    "# # loaded_model = pickle.load(open('../pickles/pp_pred_pipe', 'rb'))\n",
    "\n",
    "\n",
    "\n",
    "# sample = X_red.sample(1)\n",
    "\n",
    "# loaded_model.predict_proba(sample)[0][1] * 100"
   ]
  },
  {
   "cell_type": "markdown",
   "id": "7446bfa0-506b-44c0-9d08-9e0263dae662",
   "metadata": {},
   "source": [
    "# Creating custom amex scoring metric"
   ]
  },
  {
   "cell_type": "code",
   "execution_count": 50,
   "id": "18414095-9607-41b9-94bd-2e08fc44868c",
   "metadata": {},
   "outputs": [],
   "source": [
    "def amex_metric(y_true: pd.DataFrame, y_pred: pd.DataFrame) -> float:\n",
    "    \n",
    "    ## TWEAK\n",
    "    y_true = pd.DataFrame(y_true.reset_index(drop=True))\n",
    "    y_pred = pd.DataFrame(y_pred)\n",
    "    \n",
    "    y_true = y_true.rename(columns={y_true.columns[0]:'target'})\n",
    "    y_pred = y_pred.rename(columns={y_pred.columns[0]:'prediction'})\n",
    "    ##\n",
    "    \n",
    "    def top_four_percent_captured(y_true: pd.DataFrame, y_pred: pd.DataFrame) -> float:\n",
    "        df = (pd.concat([y_true, y_pred], axis='columns')\n",
    "              .sort_values('prediction', ascending=False))\n",
    "        df['weight'] = df['target'].apply(lambda x: 20 if x==0 else 1)\n",
    "        four_pct_cutoff = int(0.04 * df['weight'].sum())\n",
    "        df['weight_cumsum'] = df['weight'].cumsum()\n",
    "        df_cutoff = df.loc[df['weight_cumsum'] <= four_pct_cutoff]\n",
    "        return (df_cutoff['target'] == 1).sum() / (df['target'] == 1).sum()\n",
    "    def weighted_gini(y_true: pd.DataFrame, y_pred: pd.DataFrame) -> float:\n",
    "        df = (pd.concat([y_true, y_pred], axis='columns')\n",
    "              .sort_values('prediction', ascending=False))\n",
    "        df['weight'] = df['target'].apply(lambda x: 20 if x==0 else 1)\n",
    "        df['random'] = (df['weight'] / df['weight'].sum()).cumsum()\n",
    "        total_pos = (df['target'] * df['weight']).sum()\n",
    "        df['cum_pos_found'] = (df['target'] * df['weight']).cumsum()\n",
    "        df['lorentz'] = df['cum_pos_found'] / total_pos\n",
    "        df['gini'] = (df['lorentz'] - df['random']) * df['weight']\n",
    "        return df['gini'].sum()\n",
    "\n",
    "    def normalized_weighted_gini(y_true: pd.DataFrame, y_pred: pd.DataFrame) -> float:\n",
    "        y_true_pred = y_true.rename(columns={'target': 'prediction'})\n",
    "        return weighted_gini(y_true, y_pred) / weighted_gini(y_true, y_true_pred)\n",
    "\n",
    "    g = normalized_weighted_gini(y_true, y_pred)\n",
    "    d = top_four_percent_captured(y_true, y_pred)\n",
    "\n",
    "    return 0.5 * (g + d)"
   ]
  },
  {
   "cell_type": "code",
   "execution_count": 43,
   "id": "0ff0dfc2-138d-4fc9-8b8b-a79924eaab52",
   "metadata": {},
   "outputs": [],
   "source": [
    "from sklearn.metrics import make_scorer"
   ]
  },
  {
   "cell_type": "code",
   "execution_count": 44,
   "id": "2ce27ca7-5113-4c8b-a5bb-48bfde404065",
   "metadata": {},
   "outputs": [],
   "source": [
    "amex_metric_scorer = make_scorer(amex_metric)"
   ]
  },
  {
   "cell_type": "code",
   "execution_count": 45,
   "id": "ec5cb533-7017-4bb6-a0eb-5117222b3e3a",
   "metadata": {},
   "outputs": [],
   "source": [
    "## dict of scoring metrics one might want to pass into cross validation\n",
    "scorings = {'recall':'recall',\n",
    "            'f1':'f1',\n",
    "           'amex': amex_metric_scorer}"
   ]
  },
  {
   "cell_type": "markdown",
   "id": "52af7292-3d5d-45c7-b10f-86a6e46395d2",
   "metadata": {},
   "source": [
    "# Averaging preprocessed X and y"
   ]
  },
  {
   "cell_type": "code",
   "execution_count": 46,
   "id": "6d21bbbb-f06e-4113-8928-f96117d821df",
   "metadata": {},
   "outputs": [],
   "source": [
    "X_pp['customer_ID'] = X_red['customer_ID']"
   ]
  },
  {
   "cell_type": "code",
   "execution_count": 47,
   "id": "b2840450-2db5-4e1a-8efa-fce9f5e08a26",
   "metadata": {},
   "outputs": [],
   "source": [
    "X_avg_pp = X_pp.groupby('customer_ID').mean()"
   ]
  },
  {
   "cell_type": "code",
   "execution_count": 48,
   "id": "f22c0cf3-78bb-4677-9b8b-fe8fb7112a32",
   "metadata": {
    "tags": []
   },
   "outputs": [],
   "source": [
    "y_ID = pd.DataFrame(y)"
   ]
  },
  {
   "cell_type": "code",
   "execution_count": 49,
   "id": "52efb244-ed76-4f17-aab7-dd32ff75823b",
   "metadata": {},
   "outputs": [],
   "source": [
    "y_ID['customer_ID'] = X_red['customer_ID']"
   ]
  },
  {
   "cell_type": "code",
   "execution_count": 50,
   "id": "c0d251a4-3482-4249-b76b-232d99a20710",
   "metadata": {},
   "outputs": [],
   "source": [
    "y_unique = y_ID.groupby('customer_ID').mean().astype(int) ## actually, this data is just in train_labels"
   ]
  },
  {
   "cell_type": "code",
   "execution_count": 99,
   "id": "bd1e191e-1485-48a2-8151-fac94cddbcb9",
   "metadata": {},
   "outputs": [
    {
     "data": {
      "text/html": [
       "<div>\n",
       "<style scoped>\n",
       "    .dataframe tbody tr th:only-of-type {\n",
       "        vertical-align: middle;\n",
       "    }\n",
       "\n",
       "    .dataframe tbody tr th {\n",
       "        vertical-align: top;\n",
       "    }\n",
       "\n",
       "    .dataframe thead th {\n",
       "        text-align: right;\n",
       "    }\n",
       "</style>\n",
       "<table border=\"1\" class=\"dataframe\">\n",
       "  <thead>\n",
       "    <tr style=\"text-align: right;\">\n",
       "      <th></th>\n",
       "      <th>default</th>\n",
       "    </tr>\n",
       "    <tr>\n",
       "      <th>customer_ID</th>\n",
       "      <th></th>\n",
       "    </tr>\n",
       "  </thead>\n",
       "  <tbody>\n",
       "    <tr>\n",
       "      <th>000919ba92d9a04c28e1e49f6cd855ca36e1df7c79cc0583b60734da25265fb1</th>\n",
       "      <td>0</td>\n",
       "    </tr>\n",
       "    <tr>\n",
       "      <th>00158cf08fcf7ec058529dd71b4cff04ce89314e79840b76a183afa0ae941c34</th>\n",
       "      <td>0</td>\n",
       "    </tr>\n",
       "    <tr>\n",
       "      <th>0018753794d55ff4ab24aaa7f8e65d504fd1efbf04e369f166dc2f2158513462</th>\n",
       "      <td>1</td>\n",
       "    </tr>\n",
       "    <tr>\n",
       "      <th>0044d8693a5c204d5e22297b11e566d9de1c1610899d20f46abff9a163f78b3e</th>\n",
       "      <td>0</td>\n",
       "    </tr>\n",
       "    <tr>\n",
       "      <th>00597bc3d552264d841bd1a52cfaf3ebe40755f96d85a5282695654cee8af21f</th>\n",
       "      <td>1</td>\n",
       "    </tr>\n",
       "    <tr>\n",
       "      <th>...</th>\n",
       "      <td>...</td>\n",
       "    </tr>\n",
       "    <tr>\n",
       "      <th>ffbdeb593c97bc39bf6228e7236796cf5dcd530ef73014604e6f4a77506c0e02</th>\n",
       "      <td>0</td>\n",
       "    </tr>\n",
       "    <tr>\n",
       "      <th>ffbff903bdd4104397101a428a4c5c4daa4d28e26f87166965f780a4127a7a0b</th>\n",
       "      <td>0</td>\n",
       "    </tr>\n",
       "    <tr>\n",
       "      <th>ffd4ac1fe3746d586e00906a56ae8a26fdad358f5b478912fe82a974ab302f34</th>\n",
       "      <td>0</td>\n",
       "    </tr>\n",
       "    <tr>\n",
       "      <th>ffd6a301b0f94dec47dda9fec844cdc640a04bb38e8707a3e10fd9dc09069d3d</th>\n",
       "      <td>1</td>\n",
       "    </tr>\n",
       "    <tr>\n",
       "      <th>ffec525f2274773988a28374018c28326397b4b1dc1f6b12d929ac8de58ea826</th>\n",
       "      <td>0</td>\n",
       "    </tr>\n",
       "  </tbody>\n",
       "</table>\n",
       "<p>4575 rows × 1 columns</p>\n",
       "</div>"
      ],
      "text/plain": [
       "                                                    default\n",
       "customer_ID                                                \n",
       "000919ba92d9a04c28e1e49f6cd855ca36e1df7c79cc058...        0\n",
       "00158cf08fcf7ec058529dd71b4cff04ce89314e79840b7...        0\n",
       "0018753794d55ff4ab24aaa7f8e65d504fd1efbf04e369f...        1\n",
       "0044d8693a5c204d5e22297b11e566d9de1c1610899d20f...        0\n",
       "00597bc3d552264d841bd1a52cfaf3ebe40755f96d85a52...        1\n",
       "...                                                     ...\n",
       "ffbdeb593c97bc39bf6228e7236796cf5dcd530ef730146...        0\n",
       "ffbff903bdd4104397101a428a4c5c4daa4d28e26f87166...        0\n",
       "ffd4ac1fe3746d586e00906a56ae8a26fdad358f5b47891...        0\n",
       "ffd6a301b0f94dec47dda9fec844cdc640a04bb38e8707a...        1\n",
       "ffec525f2274773988a28374018c28326397b4b1dc1f6b1...        0\n",
       "\n",
       "[4575 rows x 1 columns]"
      ]
     },
     "execution_count": 99,
     "metadata": {},
     "output_type": "execute_result"
    }
   ],
   "source": [
    "y_unique"
   ]
  },
  {
   "cell_type": "markdown",
   "id": "cac1ad0a-95ff-4822-b968-7f03d36e758c",
   "metadata": {},
   "source": [
    "# Trying out various models on averaged data"
   ]
  },
  {
   "cell_type": "code",
   "execution_count": 51,
   "id": "d472d77e-f70d-4814-b49f-93f136816254",
   "metadata": {},
   "outputs": [],
   "source": [
    "# mod = LogisticRegression() \n",
    "# ## such a model treats all rows as independent despite them being from the same person\n",
    "# results = cross_validate(mod, X_avg_pp, y_unique['default'], cv = 5, scoring=scorings)"
   ]
  },
  {
   "cell_type": "code",
   "execution_count": 52,
   "id": "315219af-42b3-47e9-82ed-b1a1bc4721e0",
   "metadata": {},
   "outputs": [],
   "source": [
    "# results"
   ]
  },
  {
   "cell_type": "code",
   "execution_count": 53,
   "id": "673595eb-0c3c-437b-afd3-ef9cc0592ebd",
   "metadata": {},
   "outputs": [],
   "source": [
    "# cross_val_predict(mod, X_avg_pp, y_unique['default'], cv = 5, scoring=scorings, method='predict_proba')"
   ]
  },
  {
   "cell_type": "code",
   "execution_count": 54,
   "id": "aba4e5a9-890d-4109-8c83-a8c3f50c2530",
   "metadata": {},
   "outputs": [],
   "source": [
    "# # mod = LogisticRegression(penalty='l1',solver='liblinear') \n",
    "# ## such a model treats all rows as independent despite them being from the same person\n",
    "# results = cross_validate(mod, X_avg_pp, y_unique, cv = 5, scoring=scorings)"
   ]
  },
  {
   "cell_type": "code",
   "execution_count": 55,
   "id": "f7f05d6a-3b93-497f-9412-e2fa41de9602",
   "metadata": {},
   "outputs": [],
   "source": [
    "# results"
   ]
  },
  {
   "cell_type": "code",
   "execution_count": 56,
   "id": "e360c638-e99e-4c1f-8b60-33e6f4176a2b",
   "metadata": {},
   "outputs": [],
   "source": [
    "from sklearn.linear_model import Perceptron, PassiveAggressiveClassifier"
   ]
  },
  {
   "cell_type": "code",
   "execution_count": 57,
   "id": "f5f39c6d-fb1f-4793-9d33-3449a7fb0e17",
   "metadata": {},
   "outputs": [],
   "source": [
    "# mod_perc = Perceptron(penalty='l1')"
   ]
  },
  {
   "cell_type": "code",
   "execution_count": 58,
   "id": "94bb46ac-f6a4-45f7-ac5b-8ef0fa01bc90",
   "metadata": {},
   "outputs": [],
   "source": [
    "# results_perc = cross_validate(mod_perc, X_avg_pp, y_unique, cv = 5, scoring=scorings)\n",
    "# results_perc['test_recall'].mean()"
   ]
  },
  {
   "cell_type": "code",
   "execution_count": 59,
   "id": "c3dd8c15-1e4a-4934-b792-ea940f352b0f",
   "metadata": {},
   "outputs": [],
   "source": [
    "# results"
   ]
  },
  {
   "cell_type": "code",
   "execution_count": 60,
   "id": "da42f06b-3761-4152-917a-00716e80da05",
   "metadata": {},
   "outputs": [],
   "source": [
    "# mod_agg = PassiveAggressiveClassifier()\n",
    "# results_agg = cross_validate(mod_agg, X_avg_pp, y_unique, cv = 5, scoring=scorings)\n",
    "# results_agg"
   ]
  },
  {
   "cell_type": "code",
   "execution_count": 61,
   "id": "330fd8a8-7c4b-432f-9179-0c2fb914a90f",
   "metadata": {},
   "outputs": [],
   "source": [
    "from sklearn.neighbors import KNeighborsClassifier"
   ]
  },
  {
   "cell_type": "code",
   "execution_count": 62,
   "id": "5613047a-ef42-479a-8f25-8a808522fea8",
   "metadata": {},
   "outputs": [],
   "source": [
    "# # knn = KNeighborsClassifier(n_neighbors=5)\n",
    "# results_knn = cross_validate(knn, X_avg_pp, y_unique, cv = 5, scoring=scorings)\n",
    "# results_knn['test_recall'].mean()"
   ]
  },
  {
   "cell_type": "code",
   "execution_count": 63,
   "id": "d8d031b4-0318-4f36-b2ce-90e7274b9b45",
   "metadata": {},
   "outputs": [],
   "source": [
    "# results_knn"
   ]
  },
  {
   "cell_type": "code",
   "execution_count": 64,
   "id": "32c0324a-d584-4b21-927c-546d67e52b3a",
   "metadata": {},
   "outputs": [],
   "source": [
    "from sklearn.ensemble import GradientBoostingClassifier"
   ]
  },
  {
   "cell_type": "code",
   "execution_count": 65,
   "id": "6d9cade5-bce1-4f8f-a727-95b4556ecc6f",
   "metadata": {},
   "outputs": [],
   "source": [
    "# mod_gbc = GradientBoostingClassifier()"
   ]
  },
  {
   "cell_type": "code",
   "execution_count": 66,
   "id": "6d23811e-8309-4223-bd60-24ca6ebd23d8",
   "metadata": {},
   "outputs": [],
   "source": [
    "# results_gbc = cross_validate(mod_gbc, X_avg_pp, y_unique, cv = 5, scoring=scorings)\n",
    "# results_gbc"
   ]
  },
  {
   "cell_type": "code",
   "execution_count": 67,
   "id": "fb526df0-8dab-461b-8c77-cc14fc99f01b",
   "metadata": {},
   "outputs": [],
   "source": [
    "# results_gbc"
   ]
  },
  {
   "cell_type": "markdown",
   "id": "4d9d0110-0829-4a83-823b-bcaac2518134",
   "metadata": {},
   "source": [
    "# Trying out with predict_proba"
   ]
  },
  {
   "cell_type": "code",
   "execution_count": 68,
   "id": "6afb8d76-75ee-4256-883f-624a2c784f85",
   "metadata": {},
   "outputs": [],
   "source": [
    "# pp_pred_pipe_gbc = make_pipeline(preprocessor, mod_gbc)"
   ]
  },
  {
   "cell_type": "code",
   "execution_count": 69,
   "id": "d383d622-5ace-4d52-b00b-cbfe3a8cca79",
   "metadata": {},
   "outputs": [],
   "source": [
    "# pp_pred_pipe_gbc.fit(X_train, y_train);"
   ]
  },
  {
   "cell_type": "code",
   "execution_count": 70,
   "id": "c5cd97e6-6028-49a0-b811-9e218edf42d2",
   "metadata": {},
   "outputs": [],
   "source": [
    "# y_pred = pp_pred_pipe_gbc.predict_proba(X_val)[:,1]"
   ]
  },
  {
   "cell_type": "code",
   "execution_count": 71,
   "id": "85b52b78-bd2b-460b-9429-8fb9a4138480",
   "metadata": {},
   "outputs": [],
   "source": [
    "# amex_metric(y_val, y_pred)"
   ]
  },
  {
   "cell_type": "markdown",
   "id": "ff84be39-db5c-4151-9468-b8e7bb24fdfb",
   "metadata": {},
   "source": [
    "Prepare for pickle that will be used on new data"
   ]
  },
  {
   "cell_type": "code",
   "execution_count": 72,
   "id": "eb4f4d43-2e4f-422f-a787-92fe647de07a",
   "metadata": {},
   "outputs": [],
   "source": [
    "# mod_gbc_ws = GradientBoostingClassifier(warm_start=True) ## makes the model incrementally trainable\n",
    "# pp_pred_pipe_gbc_ws = make_pipeline(preprocessor, mod_gbc_ws)\n",
    "# pp_pred_pipe_gbc_ws.fit(X, y);"
   ]
  },
  {
   "cell_type": "code",
   "execution_count": 73,
   "id": "3913da0c-a34d-4e0a-9c12-e8b27e245d6b",
   "metadata": {},
   "outputs": [],
   "source": [
    "# import pickle\n",
    "\n",
    "# pickle.dump(pp_pred_pipe_gbc_ws, open('../pickles/pp_pred_pipe_gbc_ws.pkl', 'wb'))\n",
    "\n",
    "# # loaded_model = pickle.load(open('../pickles/pp_pred_pipe', 'rb'))\n",
    "\n",
    "\n",
    "\n",
    "# sample = X_red.sample(1)\n",
    "\n",
    "# loaded_model.predict_proba(sample)[0][1] * 100"
   ]
  },
  {
   "cell_type": "code",
   "execution_count": 74,
   "id": "00e391bf-1e30-4c23-beb6-e1a969f69d28",
   "metadata": {},
   "outputs": [],
   "source": [
    "# mod = LogisticRegression(penalty='l1',solver='liblinear') \n",
    "# pp_pred_pipe_log = make_pipeline(preprocessor, mod)\n",
    "# pp_pred_pipe_log.fit(X_train, y_train);"
   ]
  },
  {
   "cell_type": "code",
   "execution_count": 75,
   "id": "d35d7f9b-f824-491d-8c08-ba9ae8dcd118",
   "metadata": {},
   "outputs": [],
   "source": [
    "# y_pred = pp_pred_pipe_log.predict_proba(X_val)[:,1]"
   ]
  },
  {
   "cell_type": "code",
   "execution_count": 76,
   "id": "44616afa-e0fb-4263-8ed9-7483189f8519",
   "metadata": {},
   "outputs": [],
   "source": [
    "# amex_metric(y_val, y_pred)"
   ]
  },
  {
   "cell_type": "code",
   "execution_count": 77,
   "id": "ce35f6c4-e3ac-4427-8c95-d12320b8b466",
   "metadata": {},
   "outputs": [],
   "source": [
    "# mod = LogisticRegression(penalty='l1',solver='liblinear', warm_start=True) "
   ]
  },
  {
   "cell_type": "code",
   "execution_count": 78,
   "id": "6dc8b0b8-2c04-46e2-bf5d-7de5dd305780",
   "metadata": {},
   "outputs": [],
   "source": [
    "# pp_pred_pipe_log = make_pipeline(preprocessor, mod)\n",
    "# pp_pred_pipe_log.(X_train, y_train);"
   ]
  },
  {
   "cell_type": "markdown",
   "id": "f5226117-43df-4994-a3c5-f1dddf3d11be",
   "metadata": {},
   "source": [
    "# more efficient way to drop NANs"
   ]
  },
  {
   "cell_type": "code",
   "execution_count": 79,
   "id": "a92bb743-be09-4950-8318-ee4195401dda",
   "metadata": {
    "tags": []
   },
   "outputs": [],
   "source": [
    "# X.dropna(axis=1, thresh=int(0.2*len(X))) \n",
    "# ## however, here you cannot specify that it should be nns of 80% in BOTH groups"
   ]
  },
  {
   "cell_type": "markdown",
   "id": "a3be3ba2-5554-4784-b310-d3f3d5f671a9",
   "metadata": {},
   "source": [
    "# New [Light gradient boosting model](https://github.com/microsoft/LightGBM)\n",
    "Todo: combine with [Optuna](https://optuna.org/)"
   ]
  },
  {
   "cell_type": "code",
   "execution_count": 155,
   "id": "3d2ff1d4-1bb6-415d-8e2c-ec004d2fb77c",
   "metadata": {},
   "outputs": [],
   "source": [
    "import lightgbm as lgb"
   ]
  },
  {
   "cell_type": "code",
   "execution_count": 156,
   "id": "978939ce-49ae-40bb-8bf7-15e5d90b7e6c",
   "metadata": {},
   "outputs": [],
   "source": [
    "model_lgb = lgb.LGBMClassifier(boosting_type='goss', max_depth=5)"
   ]
  },
  {
   "cell_type": "code",
   "execution_count": 157,
   "id": "c458a611-e0bb-4868-9a9f-bed818f980d3",
   "metadata": {},
   "outputs": [
    {
     "data": {
      "text/html": [
       "<style>#sk-container-id-17 {color: black;background-color: white;}#sk-container-id-17 pre{padding: 0;}#sk-container-id-17 div.sk-toggleable {background-color: white;}#sk-container-id-17 label.sk-toggleable__label {cursor: pointer;display: block;width: 100%;margin-bottom: 0;padding: 0.3em;box-sizing: border-box;text-align: center;}#sk-container-id-17 label.sk-toggleable__label-arrow:before {content: \"▸\";float: left;margin-right: 0.25em;color: #696969;}#sk-container-id-17 label.sk-toggleable__label-arrow:hover:before {color: black;}#sk-container-id-17 div.sk-estimator:hover label.sk-toggleable__label-arrow:before {color: black;}#sk-container-id-17 div.sk-toggleable__content {max-height: 0;max-width: 0;overflow: hidden;text-align: left;background-color: #f0f8ff;}#sk-container-id-17 div.sk-toggleable__content pre {margin: 0.2em;color: black;border-radius: 0.25em;background-color: #f0f8ff;}#sk-container-id-17 input.sk-toggleable__control:checked~div.sk-toggleable__content {max-height: 200px;max-width: 100%;overflow: auto;}#sk-container-id-17 input.sk-toggleable__control:checked~label.sk-toggleable__label-arrow:before {content: \"▾\";}#sk-container-id-17 div.sk-estimator input.sk-toggleable__control:checked~label.sk-toggleable__label {background-color: #d4ebff;}#sk-container-id-17 div.sk-label input.sk-toggleable__control:checked~label.sk-toggleable__label {background-color: #d4ebff;}#sk-container-id-17 input.sk-hidden--visually {border: 0;clip: rect(1px 1px 1px 1px);clip: rect(1px, 1px, 1px, 1px);height: 1px;margin: -1px;overflow: hidden;padding: 0;position: absolute;width: 1px;}#sk-container-id-17 div.sk-estimator {font-family: monospace;background-color: #f0f8ff;border: 1px dotted black;border-radius: 0.25em;box-sizing: border-box;margin-bottom: 0.5em;}#sk-container-id-17 div.sk-estimator:hover {background-color: #d4ebff;}#sk-container-id-17 div.sk-parallel-item::after {content: \"\";width: 100%;border-bottom: 1px solid gray;flex-grow: 1;}#sk-container-id-17 div.sk-label:hover label.sk-toggleable__label {background-color: #d4ebff;}#sk-container-id-17 div.sk-serial::before {content: \"\";position: absolute;border-left: 1px solid gray;box-sizing: border-box;top: 0;bottom: 0;left: 50%;z-index: 0;}#sk-container-id-17 div.sk-serial {display: flex;flex-direction: column;align-items: center;background-color: white;padding-right: 0.2em;padding-left: 0.2em;position: relative;}#sk-container-id-17 div.sk-item {position: relative;z-index: 1;}#sk-container-id-17 div.sk-parallel {display: flex;align-items: stretch;justify-content: center;background-color: white;position: relative;}#sk-container-id-17 div.sk-item::before, #sk-container-id-17 div.sk-parallel-item::before {content: \"\";position: absolute;border-left: 1px solid gray;box-sizing: border-box;top: 0;bottom: 0;left: 50%;z-index: -1;}#sk-container-id-17 div.sk-parallel-item {display: flex;flex-direction: column;z-index: 1;position: relative;background-color: white;}#sk-container-id-17 div.sk-parallel-item:first-child::after {align-self: flex-end;width: 50%;}#sk-container-id-17 div.sk-parallel-item:last-child::after {align-self: flex-start;width: 50%;}#sk-container-id-17 div.sk-parallel-item:only-child::after {width: 0;}#sk-container-id-17 div.sk-dashed-wrapped {border: 1px dashed gray;margin: 0 0.4em 0.5em 0.4em;box-sizing: border-box;padding-bottom: 0.4em;background-color: white;}#sk-container-id-17 div.sk-label label {font-family: monospace;font-weight: bold;display: inline-block;line-height: 1.2em;}#sk-container-id-17 div.sk-label-container {text-align: center;}#sk-container-id-17 div.sk-container {/* jupyter's `normalize.less` sets `[hidden] { display: none; }` but bootstrap.min.css set `[hidden] { display: none !important; }` so we also need the `!important` here to be able to override the default hidden behavior on the sphinx rendered scikit-learn.org. See: https://github.com/scikit-learn/scikit-learn/issues/21755 */display: inline-block !important;position: relative;}#sk-container-id-17 div.sk-text-repr-fallback {display: none;}</style><div id=\"sk-container-id-17\" class=\"sk-top-container\"><div class=\"sk-text-repr-fallback\"><pre>LGBMClassifier(boosting_type=&#x27;goss&#x27;, max_depth=5)</pre><b>In a Jupyter environment, please rerun this cell to show the HTML representation or trust the notebook. <br />On GitHub, the HTML representation is unable to render, please try loading this page with nbviewer.org.</b></div><div class=\"sk-container\" hidden><div class=\"sk-item\"><div class=\"sk-estimator sk-toggleable\"><input class=\"sk-toggleable__control sk-hidden--visually\" id=\"sk-estimator-id-154\" type=\"checkbox\" checked><label for=\"sk-estimator-id-154\" class=\"sk-toggleable__label sk-toggleable__label-arrow\">LGBMClassifier</label><div class=\"sk-toggleable__content\"><pre>LGBMClassifier(boosting_type=&#x27;goss&#x27;, max_depth=5)</pre></div></div></div></div></div>"
      ],
      "text/plain": [
       "LGBMClassifier(boosting_type='goss', max_depth=5)"
      ]
     },
     "execution_count": 157,
     "metadata": {},
     "output_type": "execute_result"
    }
   ],
   "source": [
    "model_lgb.fit(X_pp_avg_train, y_unique_train)"
   ]
  },
  {
   "cell_type": "code",
   "execution_count": 53,
   "id": "641c94d7-61a9-422d-b1c6-570b8a9c4c05",
   "metadata": {},
   "outputs": [
    {
     "data": {
      "text/html": [
       "<style>#sk-container-id-3 {color: black;background-color: white;}#sk-container-id-3 pre{padding: 0;}#sk-container-id-3 div.sk-toggleable {background-color: white;}#sk-container-id-3 label.sk-toggleable__label {cursor: pointer;display: block;width: 100%;margin-bottom: 0;padding: 0.3em;box-sizing: border-box;text-align: center;}#sk-container-id-3 label.sk-toggleable__label-arrow:before {content: \"▸\";float: left;margin-right: 0.25em;color: #696969;}#sk-container-id-3 label.sk-toggleable__label-arrow:hover:before {color: black;}#sk-container-id-3 div.sk-estimator:hover label.sk-toggleable__label-arrow:before {color: black;}#sk-container-id-3 div.sk-toggleable__content {max-height: 0;max-width: 0;overflow: hidden;text-align: left;background-color: #f0f8ff;}#sk-container-id-3 div.sk-toggleable__content pre {margin: 0.2em;color: black;border-radius: 0.25em;background-color: #f0f8ff;}#sk-container-id-3 input.sk-toggleable__control:checked~div.sk-toggleable__content {max-height: 200px;max-width: 100%;overflow: auto;}#sk-container-id-3 input.sk-toggleable__control:checked~label.sk-toggleable__label-arrow:before {content: \"▾\";}#sk-container-id-3 div.sk-estimator input.sk-toggleable__control:checked~label.sk-toggleable__label {background-color: #d4ebff;}#sk-container-id-3 div.sk-label input.sk-toggleable__control:checked~label.sk-toggleable__label {background-color: #d4ebff;}#sk-container-id-3 input.sk-hidden--visually {border: 0;clip: rect(1px 1px 1px 1px);clip: rect(1px, 1px, 1px, 1px);height: 1px;margin: -1px;overflow: hidden;padding: 0;position: absolute;width: 1px;}#sk-container-id-3 div.sk-estimator {font-family: monospace;background-color: #f0f8ff;border: 1px dotted black;border-radius: 0.25em;box-sizing: border-box;margin-bottom: 0.5em;}#sk-container-id-3 div.sk-estimator:hover {background-color: #d4ebff;}#sk-container-id-3 div.sk-parallel-item::after {content: \"\";width: 100%;border-bottom: 1px solid gray;flex-grow: 1;}#sk-container-id-3 div.sk-label:hover label.sk-toggleable__label {background-color: #d4ebff;}#sk-container-id-3 div.sk-serial::before {content: \"\";position: absolute;border-left: 1px solid gray;box-sizing: border-box;top: 0;bottom: 0;left: 50%;z-index: 0;}#sk-container-id-3 div.sk-serial {display: flex;flex-direction: column;align-items: center;background-color: white;padding-right: 0.2em;padding-left: 0.2em;position: relative;}#sk-container-id-3 div.sk-item {position: relative;z-index: 1;}#sk-container-id-3 div.sk-parallel {display: flex;align-items: stretch;justify-content: center;background-color: white;position: relative;}#sk-container-id-3 div.sk-item::before, #sk-container-id-3 div.sk-parallel-item::before {content: \"\";position: absolute;border-left: 1px solid gray;box-sizing: border-box;top: 0;bottom: 0;left: 50%;z-index: -1;}#sk-container-id-3 div.sk-parallel-item {display: flex;flex-direction: column;z-index: 1;position: relative;background-color: white;}#sk-container-id-3 div.sk-parallel-item:first-child::after {align-self: flex-end;width: 50%;}#sk-container-id-3 div.sk-parallel-item:last-child::after {align-self: flex-start;width: 50%;}#sk-container-id-3 div.sk-parallel-item:only-child::after {width: 0;}#sk-container-id-3 div.sk-dashed-wrapped {border: 1px dashed gray;margin: 0 0.4em 0.5em 0.4em;box-sizing: border-box;padding-bottom: 0.4em;background-color: white;}#sk-container-id-3 div.sk-label label {font-family: monospace;font-weight: bold;display: inline-block;line-height: 1.2em;}#sk-container-id-3 div.sk-label-container {text-align: center;}#sk-container-id-3 div.sk-container {/* jupyter's `normalize.less` sets `[hidden] { display: none; }` but bootstrap.min.css set `[hidden] { display: none !important; }` so we also need the `!important` here to be able to override the default hidden behavior on the sphinx rendered scikit-learn.org. See: https://github.com/scikit-learn/scikit-learn/issues/21755 */display: inline-block !important;position: relative;}#sk-container-id-3 div.sk-text-repr-fallback {display: none;}</style><div id=\"sk-container-id-3\" class=\"sk-top-container\"><div class=\"sk-text-repr-fallback\"><pre>LGBMClassifier(boosting_type=&#x27;goss&#x27;, max_depth=5)</pre><b>In a Jupyter environment, please rerun this cell to show the HTML representation or trust the notebook. <br />On GitHub, the HTML representation is unable to render, please try loading this page with nbviewer.org.</b></div><div class=\"sk-container\" hidden><div class=\"sk-item\"><div class=\"sk-estimator sk-toggleable\"><input class=\"sk-toggleable__control sk-hidden--visually\" id=\"sk-estimator-id-13\" type=\"checkbox\" checked><label for=\"sk-estimator-id-13\" class=\"sk-toggleable__label sk-toggleable__label-arrow\">LGBMClassifier</label><div class=\"sk-toggleable__content\"><pre>LGBMClassifier(boosting_type=&#x27;goss&#x27;, max_depth=5)</pre></div></div></div></div></div>"
      ],
      "text/plain": [
       "LGBMClassifier(boosting_type='goss', max_depth=5)"
      ]
     },
     "execution_count": 53,
     "metadata": {},
     "output_type": "execute_result"
    }
   ],
   "source": [
    "model_lgb"
   ]
  },
  {
   "cell_type": "code",
   "execution_count": 48,
   "id": "a474a8c0-5615-414c-a34b-5399df47fccb",
   "metadata": {},
   "outputs": [],
   "source": [
    "y_pred = model_lgb.predict_proba(X_pp_avg_val)[:,1]"
   ]
  },
  {
   "cell_type": "code",
   "execution_count": 51,
   "id": "2d6ef0f8-c210-4f21-96a2-26a513cccb33",
   "metadata": {},
   "outputs": [
    {
     "data": {
      "text/plain": [
       "0.6791119303974019"
      ]
     },
     "execution_count": 51,
     "metadata": {},
     "output_type": "execute_result"
    }
   ],
   "source": [
    "amex_metric(y_unique_val, y_pred)"
   ]
  },
  {
   "cell_type": "code",
   "execution_count": 163,
   "id": "dc2fa27e-95df-47ea-a63c-19073342f416",
   "metadata": {
    "tags": []
   },
   "outputs": [],
   "source": [
    "pipe_lgb = make_pipeline(preprocessor, model_lgb)"
   ]
  },
  {
   "cell_type": "code",
   "execution_count": 164,
   "id": "5d17bd7f-1193-4202-83d9-848897c42465",
   "metadata": {},
   "outputs": [],
   "source": [
    "alt_nan_imp(X)"
   ]
  },
  {
   "cell_type": "code",
   "execution_count": 165,
   "id": "cf29a8ca-ac1c-4df9-a4b6-45710ade0a7d",
   "metadata": {},
   "outputs": [
    {
     "data": {
      "text/html": [
       "<style>#sk-container-id-19 {color: black;background-color: white;}#sk-container-id-19 pre{padding: 0;}#sk-container-id-19 div.sk-toggleable {background-color: white;}#sk-container-id-19 label.sk-toggleable__label {cursor: pointer;display: block;width: 100%;margin-bottom: 0;padding: 0.3em;box-sizing: border-box;text-align: center;}#sk-container-id-19 label.sk-toggleable__label-arrow:before {content: \"▸\";float: left;margin-right: 0.25em;color: #696969;}#sk-container-id-19 label.sk-toggleable__label-arrow:hover:before {color: black;}#sk-container-id-19 div.sk-estimator:hover label.sk-toggleable__label-arrow:before {color: black;}#sk-container-id-19 div.sk-toggleable__content {max-height: 0;max-width: 0;overflow: hidden;text-align: left;background-color: #f0f8ff;}#sk-container-id-19 div.sk-toggleable__content pre {margin: 0.2em;color: black;border-radius: 0.25em;background-color: #f0f8ff;}#sk-container-id-19 input.sk-toggleable__control:checked~div.sk-toggleable__content {max-height: 200px;max-width: 100%;overflow: auto;}#sk-container-id-19 input.sk-toggleable__control:checked~label.sk-toggleable__label-arrow:before {content: \"▾\";}#sk-container-id-19 div.sk-estimator input.sk-toggleable__control:checked~label.sk-toggleable__label {background-color: #d4ebff;}#sk-container-id-19 div.sk-label input.sk-toggleable__control:checked~label.sk-toggleable__label {background-color: #d4ebff;}#sk-container-id-19 input.sk-hidden--visually {border: 0;clip: rect(1px 1px 1px 1px);clip: rect(1px, 1px, 1px, 1px);height: 1px;margin: -1px;overflow: hidden;padding: 0;position: absolute;width: 1px;}#sk-container-id-19 div.sk-estimator {font-family: monospace;background-color: #f0f8ff;border: 1px dotted black;border-radius: 0.25em;box-sizing: border-box;margin-bottom: 0.5em;}#sk-container-id-19 div.sk-estimator:hover {background-color: #d4ebff;}#sk-container-id-19 div.sk-parallel-item::after {content: \"\";width: 100%;border-bottom: 1px solid gray;flex-grow: 1;}#sk-container-id-19 div.sk-label:hover label.sk-toggleable__label {background-color: #d4ebff;}#sk-container-id-19 div.sk-serial::before {content: \"\";position: absolute;border-left: 1px solid gray;box-sizing: border-box;top: 0;bottom: 0;left: 50%;z-index: 0;}#sk-container-id-19 div.sk-serial {display: flex;flex-direction: column;align-items: center;background-color: white;padding-right: 0.2em;padding-left: 0.2em;position: relative;}#sk-container-id-19 div.sk-item {position: relative;z-index: 1;}#sk-container-id-19 div.sk-parallel {display: flex;align-items: stretch;justify-content: center;background-color: white;position: relative;}#sk-container-id-19 div.sk-item::before, #sk-container-id-19 div.sk-parallel-item::before {content: \"\";position: absolute;border-left: 1px solid gray;box-sizing: border-box;top: 0;bottom: 0;left: 50%;z-index: -1;}#sk-container-id-19 div.sk-parallel-item {display: flex;flex-direction: column;z-index: 1;position: relative;background-color: white;}#sk-container-id-19 div.sk-parallel-item:first-child::after {align-self: flex-end;width: 50%;}#sk-container-id-19 div.sk-parallel-item:last-child::after {align-self: flex-start;width: 50%;}#sk-container-id-19 div.sk-parallel-item:only-child::after {width: 0;}#sk-container-id-19 div.sk-dashed-wrapped {border: 1px dashed gray;margin: 0 0.4em 0.5em 0.4em;box-sizing: border-box;padding-bottom: 0.4em;background-color: white;}#sk-container-id-19 div.sk-label label {font-family: monospace;font-weight: bold;display: inline-block;line-height: 1.2em;}#sk-container-id-19 div.sk-label-container {text-align: center;}#sk-container-id-19 div.sk-container {/* jupyter's `normalize.less` sets `[hidden] { display: none; }` but bootstrap.min.css set `[hidden] { display: none !important; }` so we also need the `!important` here to be able to override the default hidden behavior on the sphinx rendered scikit-learn.org. See: https://github.com/scikit-learn/scikit-learn/issues/21755 */display: inline-block !important;position: relative;}#sk-container-id-19 div.sk-text-repr-fallback {display: none;}</style><div id=\"sk-container-id-19\" class=\"sk-top-container\"><div class=\"sk-text-repr-fallback\"><pre>Pipeline(steps=[(&#x27;columntransformer&#x27;,\n",
       "                 ColumnTransformer(transformers=[(&#x27;num_pip&#x27;,\n",
       "                                                  Pipeline(steps=[(&#x27;simpleimputer&#x27;,\n",
       "                                                                   SimpleImputer()),\n",
       "                                                                  (&#x27;robustscaler&#x27;,\n",
       "                                                                   RobustScaler())]),\n",
       "                                                  [&#x27;P_2&#x27;, &#x27;D_39&#x27;, &#x27;B_2&#x27;, &#x27;R_1&#x27;,\n",
       "                                                   &#x27;S_3&#x27;, &#x27;D_41&#x27;, &#x27;B_3&#x27;, &#x27;D_42&#x27;,\n",
       "                                                   &#x27;D_43&#x27;, &#x27;D_44&#x27;, &#x27;B_4&#x27;,\n",
       "                                                   &#x27;D_45&#x27;, &#x27;B_5&#x27;, &#x27;R_2&#x27;, &#x27;D_46&#x27;,\n",
       "                                                   &#x27;D_47&#x27;, &#x27;D_48&#x27;, &#x27;D_49&#x27;,\n",
       "                                                   &#x27;B_6&#x27;, &#x27;B_8&#x27;, &#x27;D_50&#x27;, &#x27;D_51&#x27;,\n",
       "                                                   &#x27;B_9&#x27;, &#x27;R_3&#x27;, &#x27;D_52&#x27;, &#x27;P_3&#x27;,\n",
       "                                                   &#x27;B_10&#x27;, &#x27;D_53&#x27;, &#x27;S_5&#x27;, &#x27;S_6&#x27;, ...]),\n",
       "                                                 (&#x27;cat_pip&#x27;,\n",
       "                                                  Pipeline(steps=[(&#x27;simpleimputer&#x27;,\n",
       "                                                                   SimpleImputer(strategy=&#x27;most_frequent&#x27;)),\n",
       "                                                                  (&#x27;onehotencoder&#x27;,\n",
       "                                                                   OneHotEncoder(handle_unknown=&#x27;ignore&#x27;,\n",
       "                                                                                 sparse=False))]),\n",
       "                                                  [&#x27;B_30&#x27;, &#x27;B_38&#x27;, &#x27;D_114&#x27;,\n",
       "                                                   &#x27;D_116&#x27;, &#x27;D_117&#x27;, &#x27;D_120&#x27;,\n",
       "                                                   &#x27;D_126&#x27;, &#x27;D_68&#x27;])])),\n",
       "                (&#x27;lgbmclassifier&#x27;,\n",
       "                 LGBMClassifier(boosting_type=&#x27;goss&#x27;, max_depth=5))])</pre><b>In a Jupyter environment, please rerun this cell to show the HTML representation or trust the notebook. <br />On GitHub, the HTML representation is unable to render, please try loading this page with nbviewer.org.</b></div><div class=\"sk-container\" hidden><div class=\"sk-item sk-dashed-wrapped\"><div class=\"sk-label-container\"><div class=\"sk-label sk-toggleable\"><input class=\"sk-toggleable__control sk-hidden--visually\" id=\"sk-estimator-id-162\" type=\"checkbox\" ><label for=\"sk-estimator-id-162\" class=\"sk-toggleable__label sk-toggleable__label-arrow\">Pipeline</label><div class=\"sk-toggleable__content\"><pre>Pipeline(steps=[(&#x27;columntransformer&#x27;,\n",
       "                 ColumnTransformer(transformers=[(&#x27;num_pip&#x27;,\n",
       "                                                  Pipeline(steps=[(&#x27;simpleimputer&#x27;,\n",
       "                                                                   SimpleImputer()),\n",
       "                                                                  (&#x27;robustscaler&#x27;,\n",
       "                                                                   RobustScaler())]),\n",
       "                                                  [&#x27;P_2&#x27;, &#x27;D_39&#x27;, &#x27;B_2&#x27;, &#x27;R_1&#x27;,\n",
       "                                                   &#x27;S_3&#x27;, &#x27;D_41&#x27;, &#x27;B_3&#x27;, &#x27;D_42&#x27;,\n",
       "                                                   &#x27;D_43&#x27;, &#x27;D_44&#x27;, &#x27;B_4&#x27;,\n",
       "                                                   &#x27;D_45&#x27;, &#x27;B_5&#x27;, &#x27;R_2&#x27;, &#x27;D_46&#x27;,\n",
       "                                                   &#x27;D_47&#x27;, &#x27;D_48&#x27;, &#x27;D_49&#x27;,\n",
       "                                                   &#x27;B_6&#x27;, &#x27;B_8&#x27;, &#x27;D_50&#x27;, &#x27;D_51&#x27;,\n",
       "                                                   &#x27;B_9&#x27;, &#x27;R_3&#x27;, &#x27;D_52&#x27;, &#x27;P_3&#x27;,\n",
       "                                                   &#x27;B_10&#x27;, &#x27;D_53&#x27;, &#x27;S_5&#x27;, &#x27;S_6&#x27;, ...]),\n",
       "                                                 (&#x27;cat_pip&#x27;,\n",
       "                                                  Pipeline(steps=[(&#x27;simpleimputer&#x27;,\n",
       "                                                                   SimpleImputer(strategy=&#x27;most_frequent&#x27;)),\n",
       "                                                                  (&#x27;onehotencoder&#x27;,\n",
       "                                                                   OneHotEncoder(handle_unknown=&#x27;ignore&#x27;,\n",
       "                                                                                 sparse=False))]),\n",
       "                                                  [&#x27;B_30&#x27;, &#x27;B_38&#x27;, &#x27;D_114&#x27;,\n",
       "                                                   &#x27;D_116&#x27;, &#x27;D_117&#x27;, &#x27;D_120&#x27;,\n",
       "                                                   &#x27;D_126&#x27;, &#x27;D_68&#x27;])])),\n",
       "                (&#x27;lgbmclassifier&#x27;,\n",
       "                 LGBMClassifier(boosting_type=&#x27;goss&#x27;, max_depth=5))])</pre></div></div></div><div class=\"sk-serial\"><div class=\"sk-item sk-dashed-wrapped\"><div class=\"sk-label-container\"><div class=\"sk-label sk-toggleable\"><input class=\"sk-toggleable__control sk-hidden--visually\" id=\"sk-estimator-id-163\" type=\"checkbox\" ><label for=\"sk-estimator-id-163\" class=\"sk-toggleable__label sk-toggleable__label-arrow\">columntransformer: ColumnTransformer</label><div class=\"sk-toggleable__content\"><pre>ColumnTransformer(transformers=[(&#x27;num_pip&#x27;,\n",
       "                                 Pipeline(steps=[(&#x27;simpleimputer&#x27;,\n",
       "                                                  SimpleImputer()),\n",
       "                                                 (&#x27;robustscaler&#x27;,\n",
       "                                                  RobustScaler())]),\n",
       "                                 [&#x27;P_2&#x27;, &#x27;D_39&#x27;, &#x27;B_2&#x27;, &#x27;R_1&#x27;, &#x27;S_3&#x27;, &#x27;D_41&#x27;,\n",
       "                                  &#x27;B_3&#x27;, &#x27;D_42&#x27;, &#x27;D_43&#x27;, &#x27;D_44&#x27;, &#x27;B_4&#x27;, &#x27;D_45&#x27;,\n",
       "                                  &#x27;B_5&#x27;, &#x27;R_2&#x27;, &#x27;D_46&#x27;, &#x27;D_47&#x27;, &#x27;D_48&#x27;, &#x27;D_49&#x27;,\n",
       "                                  &#x27;B_6&#x27;, &#x27;B_8&#x27;, &#x27;D_50&#x27;, &#x27;D_51&#x27;, &#x27;B_9&#x27;, &#x27;R_3&#x27;,\n",
       "                                  &#x27;D_52&#x27;, &#x27;P_3&#x27;, &#x27;B_10&#x27;, &#x27;D_53&#x27;, &#x27;S_5&#x27;, &#x27;S_6&#x27;, ...]),\n",
       "                                (&#x27;cat_pip&#x27;,\n",
       "                                 Pipeline(steps=[(&#x27;simpleimputer&#x27;,\n",
       "                                                  SimpleImputer(strategy=&#x27;most_frequent&#x27;)),\n",
       "                                                 (&#x27;onehotencoder&#x27;,\n",
       "                                                  OneHotEncoder(handle_unknown=&#x27;ignore&#x27;,\n",
       "                                                                sparse=False))]),\n",
       "                                 [&#x27;B_30&#x27;, &#x27;B_38&#x27;, &#x27;D_114&#x27;, &#x27;D_116&#x27;, &#x27;D_117&#x27;,\n",
       "                                  &#x27;D_120&#x27;, &#x27;D_126&#x27;, &#x27;D_68&#x27;])])</pre></div></div></div><div class=\"sk-parallel\"><div class=\"sk-parallel-item\"><div class=\"sk-item\"><div class=\"sk-label-container\"><div class=\"sk-label sk-toggleable\"><input class=\"sk-toggleable__control sk-hidden--visually\" id=\"sk-estimator-id-164\" type=\"checkbox\" ><label for=\"sk-estimator-id-164\" class=\"sk-toggleable__label sk-toggleable__label-arrow\">num_pip</label><div class=\"sk-toggleable__content\"><pre>[&#x27;P_2&#x27;, &#x27;D_39&#x27;, &#x27;B_2&#x27;, &#x27;R_1&#x27;, &#x27;S_3&#x27;, &#x27;D_41&#x27;, &#x27;B_3&#x27;, &#x27;D_42&#x27;, &#x27;D_43&#x27;, &#x27;D_44&#x27;, &#x27;B_4&#x27;, &#x27;D_45&#x27;, &#x27;B_5&#x27;, &#x27;R_2&#x27;, &#x27;D_46&#x27;, &#x27;D_47&#x27;, &#x27;D_48&#x27;, &#x27;D_49&#x27;, &#x27;B_6&#x27;, &#x27;B_8&#x27;, &#x27;D_50&#x27;, &#x27;D_51&#x27;, &#x27;B_9&#x27;, &#x27;R_3&#x27;, &#x27;D_52&#x27;, &#x27;P_3&#x27;, &#x27;B_10&#x27;, &#x27;D_53&#x27;, &#x27;S_5&#x27;, &#x27;S_6&#x27;, &#x27;D_54&#x27;, &#x27;R_4&#x27;, &#x27;S_7&#x27;, &#x27;B_12&#x27;, &#x27;S_8&#x27;, &#x27;D_55&#x27;, &#x27;D_56&#x27;, &#x27;B_13&#x27;, &#x27;R_5&#x27;, &#x27;D_58&#x27;, &#x27;S_9&#x27;, &#x27;B_14&#x27;, &#x27;D_59&#x27;, &#x27;D_60&#x27;, &#x27;D_61&#x27;, &#x27;B_15&#x27;, &#x27;S_11&#x27;, &#x27;D_62&#x27;, &#x27;D_65&#x27;, &#x27;B_16&#x27;, &#x27;B_17&#x27;, &#x27;B_18&#x27;, &#x27;B_19&#x27;, &#x27;B_20&#x27;, &#x27;S_12&#x27;, &#x27;R_6&#x27;, &#x27;S_13&#x27;, &#x27;B_21&#x27;, &#x27;D_69&#x27;, &#x27;B_22&#x27;, &#x27;D_70&#x27;, &#x27;D_71&#x27;, &#x27;D_72&#x27;, &#x27;S_15&#x27;, &#x27;B_23&#x27;, &#x27;P_4&#x27;, &#x27;D_74&#x27;, &#x27;B_24&#x27;, &#x27;R_7&#x27;, &#x27;B_25&#x27;, &#x27;B_26&#x27;, &#x27;D_78&#x27;, &#x27;D_79&#x27;, &#x27;R_8&#x27;, &#x27;S_16&#x27;, &#x27;D_80&#x27;, &#x27;R_10&#x27;, &#x27;R_11&#x27;, &#x27;B_27&#x27;, &#x27;D_81&#x27;, &#x27;D_82&#x27;, &#x27;S_17&#x27;, &#x27;R_12&#x27;, &#x27;B_28&#x27;, &#x27;R_13&#x27;, &#x27;D_83&#x27;, &#x27;R_14&#x27;, &#x27;R_15&#x27;, &#x27;D_84&#x27;, &#x27;R_16&#x27;, &#x27;S_18&#x27;, &#x27;D_86&#x27;, &#x27;R_17&#x27;, &#x27;R_18&#x27;, &#x27;B_31&#x27;, &#x27;S_19&#x27;, &#x27;R_19&#x27;, &#x27;B_32&#x27;, &#x27;S_20&#x27;, &#x27;R_20&#x27;, &#x27;R_21&#x27;, &#x27;B_33&#x27;, &#x27;D_89&#x27;, &#x27;R_22&#x27;, &#x27;R_23&#x27;, &#x27;D_91&#x27;, &#x27;D_92&#x27;, &#x27;D_93&#x27;, &#x27;D_94&#x27;, &#x27;R_24&#x27;, &#x27;R_25&#x27;, &#x27;D_96&#x27;, &#x27;S_22&#x27;, &#x27;S_23&#x27;, &#x27;S_25&#x27;, &#x27;S_26&#x27;, &#x27;D_102&#x27;, &#x27;D_104&#x27;, &#x27;D_105&#x27;, &#x27;D_106&#x27;, &#x27;D_107&#x27;, &#x27;B_36&#x27;, &#x27;R_26&#x27;, &#x27;R_27&#x27;, &#x27;D_109&#x27;, &#x27;D_112&#x27;, &#x27;B_40&#x27;, &#x27;S_27&#x27;, &#x27;D_113&#x27;, &#x27;D_115&#x27;, &#x27;D_119&#x27;, &#x27;D_121&#x27;, &#x27;D_122&#x27;, &#x27;D_123&#x27;, &#x27;D_124&#x27;, &#x27;D_125&#x27;, &#x27;D_127&#x27;, &#x27;D_128&#x27;, &#x27;D_129&#x27;, &#x27;B_41&#x27;, &#x27;D_130&#x27;, &#x27;D_131&#x27;, &#x27;D_132&#x27;, &#x27;D_133&#x27;, &#x27;R_28&#x27;, &#x27;D_139&#x27;, &#x27;D_140&#x27;, &#x27;D_142&#x27;, &#x27;D_144&#x27;, &#x27;D_145&#x27;]</pre></div></div></div><div class=\"sk-serial\"><div class=\"sk-item\"><div class=\"sk-serial\"><div class=\"sk-item\"><div class=\"sk-estimator sk-toggleable\"><input class=\"sk-toggleable__control sk-hidden--visually\" id=\"sk-estimator-id-165\" type=\"checkbox\" ><label for=\"sk-estimator-id-165\" class=\"sk-toggleable__label sk-toggleable__label-arrow\">SimpleImputer</label><div class=\"sk-toggleable__content\"><pre>SimpleImputer()</pre></div></div></div><div class=\"sk-item\"><div class=\"sk-estimator sk-toggleable\"><input class=\"sk-toggleable__control sk-hidden--visually\" id=\"sk-estimator-id-166\" type=\"checkbox\" ><label for=\"sk-estimator-id-166\" class=\"sk-toggleable__label sk-toggleable__label-arrow\">RobustScaler</label><div class=\"sk-toggleable__content\"><pre>RobustScaler()</pre></div></div></div></div></div></div></div></div><div class=\"sk-parallel-item\"><div class=\"sk-item\"><div class=\"sk-label-container\"><div class=\"sk-label sk-toggleable\"><input class=\"sk-toggleable__control sk-hidden--visually\" id=\"sk-estimator-id-167\" type=\"checkbox\" ><label for=\"sk-estimator-id-167\" class=\"sk-toggleable__label sk-toggleable__label-arrow\">cat_pip</label><div class=\"sk-toggleable__content\"><pre>[&#x27;B_30&#x27;, &#x27;B_38&#x27;, &#x27;D_114&#x27;, &#x27;D_116&#x27;, &#x27;D_117&#x27;, &#x27;D_120&#x27;, &#x27;D_126&#x27;, &#x27;D_68&#x27;]</pre></div></div></div><div class=\"sk-serial\"><div class=\"sk-item\"><div class=\"sk-serial\"><div class=\"sk-item\"><div class=\"sk-estimator sk-toggleable\"><input class=\"sk-toggleable__control sk-hidden--visually\" id=\"sk-estimator-id-168\" type=\"checkbox\" ><label for=\"sk-estimator-id-168\" class=\"sk-toggleable__label sk-toggleable__label-arrow\">SimpleImputer</label><div class=\"sk-toggleable__content\"><pre>SimpleImputer(strategy=&#x27;most_frequent&#x27;)</pre></div></div></div><div class=\"sk-item\"><div class=\"sk-estimator sk-toggleable\"><input class=\"sk-toggleable__control sk-hidden--visually\" id=\"sk-estimator-id-169\" type=\"checkbox\" ><label for=\"sk-estimator-id-169\" class=\"sk-toggleable__label sk-toggleable__label-arrow\">OneHotEncoder</label><div class=\"sk-toggleable__content\"><pre>OneHotEncoder(handle_unknown=&#x27;ignore&#x27;, sparse=False)</pre></div></div></div></div></div></div></div></div></div></div><div class=\"sk-item\"><div class=\"sk-estimator sk-toggleable\"><input class=\"sk-toggleable__control sk-hidden--visually\" id=\"sk-estimator-id-170\" type=\"checkbox\" ><label for=\"sk-estimator-id-170\" class=\"sk-toggleable__label sk-toggleable__label-arrow\">LGBMClassifier</label><div class=\"sk-toggleable__content\"><pre>LGBMClassifier(boosting_type=&#x27;goss&#x27;, max_depth=5)</pre></div></div></div></div></div></div></div>"
      ],
      "text/plain": [
       "Pipeline(steps=[('columntransformer',\n",
       "                 ColumnTransformer(transformers=[('num_pip',\n",
       "                                                  Pipeline(steps=[('simpleimputer',\n",
       "                                                                   SimpleImputer()),\n",
       "                                                                  ('robustscaler',\n",
       "                                                                   RobustScaler())]),\n",
       "                                                  ['P_2', 'D_39', 'B_2', 'R_1',\n",
       "                                                   'S_3', 'D_41', 'B_3', 'D_42',\n",
       "                                                   'D_43', 'D_44', 'B_4',\n",
       "                                                   'D_45', 'B_5', 'R_2', 'D_46',\n",
       "                                                   'D_47', 'D_48', 'D_49',\n",
       "                                                   'B_6', 'B_8', 'D_50', 'D_51',\n",
       "                                                   'B_9', 'R_3', 'D_52', 'P_3',\n",
       "                                                   'B_10', 'D_53', 'S_5', 'S_6', ...]),\n",
       "                                                 ('cat_pip',\n",
       "                                                  Pipeline(steps=[('simpleimputer',\n",
       "                                                                   SimpleImputer(strategy='most_frequent')),\n",
       "                                                                  ('onehotencoder',\n",
       "                                                                   OneHotEncoder(handle_unknown='ignore',\n",
       "                                                                                 sparse=False))]),\n",
       "                                                  ['B_30', 'B_38', 'D_114',\n",
       "                                                   'D_116', 'D_117', 'D_120',\n",
       "                                                   'D_126', 'D_68'])])),\n",
       "                ('lgbmclassifier',\n",
       "                 LGBMClassifier(boosting_type='goss', max_depth=5))])"
      ]
     },
     "execution_count": 165,
     "metadata": {},
     "output_type": "execute_result"
    }
   ],
   "source": [
    "pipe_lgb.fit(X, y)"
   ]
  },
  {
   "cell_type": "code",
   "execution_count": 166,
   "id": "b6b8ff45-e57f-4963-a411-dbfb8000ca9d",
   "metadata": {},
   "outputs": [],
   "source": [
    "import pickle\n",
    "\n",
    "pickle.dump(pipe_lgb, open('../pickles/pp_pred_pipe_gbc_new1.pkl', 'wb'))"
   ]
  },
  {
   "cell_type": "code",
   "execution_count": 133,
   "id": "b1e6bf52-8386-4480-bcdd-15ee6f5ec7ea",
   "metadata": {},
   "outputs": [],
   "source": [
    "y_pred = pipe_lgb.predict_proba(X_pp_avg_val)[:,1]"
   ]
  },
  {
   "cell_type": "code",
   "execution_count": 137,
   "id": "8d92123b-13bc-4544-81c7-9c0691ea7a47",
   "metadata": {},
   "outputs": [],
   "source": [
    "ids = X_val['customer_ID']"
   ]
  },
  {
   "cell_type": "code",
   "execution_count": 141,
   "id": "3e925e84-35c7-40b7-9086-8b6f4dc00f07",
   "metadata": {},
   "outputs": [
    {
     "data": {
      "text/plain": [
       "0        0\n",
       "1        1\n",
       "2        0\n",
       "3        1\n",
       "4        0\n",
       "        ..\n",
       "16587    1\n",
       "16588    1\n",
       "16589    0\n",
       "16590    0\n",
       "16591    0\n",
       "Name: default, Length: 16592, dtype: int64"
      ]
     },
     "execution_count": 141,
     "metadata": {},
     "output_type": "execute_result"
    }
   ],
   "source": [
    "y_val.reset_index(drop=True)"
   ]
  },
  {
   "cell_type": "code",
   "execution_count": 139,
   "id": "241f3e3a-a533-4335-a1d0-ac1a351b3e42",
   "metadata": {},
   "outputs": [
    {
     "data": {
      "text/plain": [
       "0        97f7393af2d28cf58a1a2a34010c8dcd1a814c1d22bc27...\n",
       "1        e033bd1ab915c24d654cf61330683b0c189b8c2a79798e...\n",
       "2        e5d562860cb6e65aba15852aaff58714a273aa6d8f5417...\n",
       "3        2427d8b86f1cf895ab720418e34601ce12d8ec07a3c6b5...\n",
       "4        c3a0fb8ed913223af1429502287bdc27e889a08b30db69...\n",
       "                               ...                        \n",
       "16587    ab1aafcc1971e2855930a15f91b833be1d2c1575b934d7...\n",
       "16588    4ba2250dee222fde6f214a4707f23543d3c37bb465061d...\n",
       "16589    336b17848ca1a3ad552eccb8b6351585ad90e870dbc622...\n",
       "16590    f2285229dc890336d3b5b714a8c777de887f6193bbadf5...\n",
       "16591    7844b7248f01085196a798202e955ccddca1b2c79feeca...\n",
       "Name: customer_ID, Length: 16592, dtype: object"
      ]
     },
     "execution_count": 139,
     "metadata": {},
     "output_type": "execute_result"
    }
   ],
   "source": [
    "ids.reset_index(drop=True)"
   ]
  },
  {
   "cell_type": "code",
   "execution_count": null,
   "id": "3471c961-ee4f-4724-972a-1ac775c85543",
   "metadata": {},
   "outputs": [],
   "source": []
  },
  {
   "cell_type": "code",
   "execution_count": 154,
   "id": "78e8d57a-9e5c-48b3-9af3-a53cb22c29c8",
   "metadata": {},
   "outputs": [
    {
     "data": {
      "text/html": [
       "<div>\n",
       "<style scoped>\n",
       "    .dataframe tbody tr th:only-of-type {\n",
       "        vertical-align: middle;\n",
       "    }\n",
       "\n",
       "    .dataframe tbody tr th {\n",
       "        vertical-align: top;\n",
       "    }\n",
       "\n",
       "    .dataframe thead th {\n",
       "        text-align: right;\n",
       "    }\n",
       "</style>\n",
       "<table border=\"1\" class=\"dataframe\">\n",
       "  <thead>\n",
       "    <tr style=\"text-align: right;\">\n",
       "      <th></th>\n",
       "      <th>prediction</th>\n",
       "    </tr>\n",
       "    <tr>\n",
       "      <th>customer_ID</th>\n",
       "      <th></th>\n",
       "    </tr>\n",
       "  </thead>\n",
       "  <tbody>\n",
       "    <tr>\n",
       "      <th>97f7393af2d28cf58a1a2a34010c8dcd1a814c1d22bc272322b907d6ddc546c9</th>\n",
       "      <td>0.001806</td>\n",
       "    </tr>\n",
       "    <tr>\n",
       "      <th>e033bd1ab915c24d654cf61330683b0c189b8c2a79798eb0d5607e511fdcf5d9</th>\n",
       "      <td>0.520150</td>\n",
       "    </tr>\n",
       "    <tr>\n",
       "      <th>e5d562860cb6e65aba15852aaff58714a273aa6d8f5417a7de5b792304681e19</th>\n",
       "      <td>0.491241</td>\n",
       "    </tr>\n",
       "    <tr>\n",
       "      <th>2427d8b86f1cf895ab720418e34601ce12d8ec07a3c6b54dee02173cf3a8bf69</th>\n",
       "      <td>0.905360</td>\n",
       "    </tr>\n",
       "    <tr>\n",
       "      <th>c3a0fb8ed913223af1429502287bdc27e889a08b30db6949432b274386fa38dd</th>\n",
       "      <td>0.019803</td>\n",
       "    </tr>\n",
       "    <tr>\n",
       "      <th>...</th>\n",
       "      <td>...</td>\n",
       "    </tr>\n",
       "    <tr>\n",
       "      <th>ab1aafcc1971e2855930a15f91b833be1d2c1575b934d7525b953c6f919035ff</th>\n",
       "      <td>0.760624</td>\n",
       "    </tr>\n",
       "    <tr>\n",
       "      <th>4ba2250dee222fde6f214a4707f23543d3c37bb465061dac49eea6b5ab929c9f</th>\n",
       "      <td>0.697798</td>\n",
       "    </tr>\n",
       "    <tr>\n",
       "      <th>336b17848ca1a3ad552eccb8b6351585ad90e870dbc622e1f0b9553f31f23954</th>\n",
       "      <td>0.035275</td>\n",
       "    </tr>\n",
       "    <tr>\n",
       "      <th>f2285229dc890336d3b5b714a8c777de887f6193bbadf5fb56b406fc9e8a8818</th>\n",
       "      <td>0.009938</td>\n",
       "    </tr>\n",
       "    <tr>\n",
       "      <th>7844b7248f01085196a798202e955ccddca1b2c79feecab57bc3fa8aa8447649</th>\n",
       "      <td>0.031016</td>\n",
       "    </tr>\n",
       "  </tbody>\n",
       "</table>\n",
       "<p>16592 rows × 1 columns</p>\n",
       "</div>"
      ],
      "text/plain": [
       "                                                    prediction\n",
       "customer_ID                                                   \n",
       "97f7393af2d28cf58a1a2a34010c8dcd1a814c1d22bc272...    0.001806\n",
       "e033bd1ab915c24d654cf61330683b0c189b8c2a79798eb...    0.520150\n",
       "e5d562860cb6e65aba15852aaff58714a273aa6d8f5417a...    0.491241\n",
       "2427d8b86f1cf895ab720418e34601ce12d8ec07a3c6b54...    0.905360\n",
       "c3a0fb8ed913223af1429502287bdc27e889a08b30db694...    0.019803\n",
       "...                                                        ...\n",
       "ab1aafcc1971e2855930a15f91b833be1d2c1575b934d75...    0.760624\n",
       "4ba2250dee222fde6f214a4707f23543d3c37bb465061da...    0.697798\n",
       "336b17848ca1a3ad552eccb8b6351585ad90e870dbc622e...    0.035275\n",
       "f2285229dc890336d3b5b714a8c777de887f6193bbadf5f...    0.009938\n",
       "7844b7248f01085196a798202e955ccddca1b2c79feecab...    0.031016\n",
       "\n",
       "[16592 rows x 1 columns]"
      ]
     },
     "execution_count": 154,
     "metadata": {},
     "output_type": "execute_result"
    }
   ],
   "source": [
    "pd.DataFrame(y_pred, columns=['prediction']).set_index(ids)"
   ]
  },
  {
   "cell_type": "code",
   "execution_count": 124,
   "id": "073cf603-99bc-4996-8a9f-e701548c0ac3",
   "metadata": {},
   "outputs": [
    {
     "data": {
      "text/plain": [
       "0.8084525740632692"
      ]
     },
     "execution_count": 124,
     "metadata": {},
     "output_type": "execute_result"
    }
   ],
   "source": [
    "amex_metric(y_val, y_pred)"
   ]
  },
  {
   "cell_type": "code",
   "execution_count": 125,
   "id": "57d4e0fb-bec2-463f-b90c-45eeae4a7ff4",
   "metadata": {},
   "outputs": [],
   "source": [
    "X_avg_pp_train, X_avg_pp_val, y_avg_train, y_avg_val = train_test_split(X_avg_pp, y_unique)"
   ]
  },
  {
   "cell_type": "code",
   "execution_count": 143,
   "id": "67d9e16d-63bc-429b-b3f2-846439d335eb",
   "metadata": {},
   "outputs": [
    {
     "data": {
      "text/html": [
       "<style>#sk-container-id-11 {color: black;background-color: white;}#sk-container-id-11 pre{padding: 0;}#sk-container-id-11 div.sk-toggleable {background-color: white;}#sk-container-id-11 label.sk-toggleable__label {cursor: pointer;display: block;width: 100%;margin-bottom: 0;padding: 0.3em;box-sizing: border-box;text-align: center;}#sk-container-id-11 label.sk-toggleable__label-arrow:before {content: \"▸\";float: left;margin-right: 0.25em;color: #696969;}#sk-container-id-11 label.sk-toggleable__label-arrow:hover:before {color: black;}#sk-container-id-11 div.sk-estimator:hover label.sk-toggleable__label-arrow:before {color: black;}#sk-container-id-11 div.sk-toggleable__content {max-height: 0;max-width: 0;overflow: hidden;text-align: left;background-color: #f0f8ff;}#sk-container-id-11 div.sk-toggleable__content pre {margin: 0.2em;color: black;border-radius: 0.25em;background-color: #f0f8ff;}#sk-container-id-11 input.sk-toggleable__control:checked~div.sk-toggleable__content {max-height: 200px;max-width: 100%;overflow: auto;}#sk-container-id-11 input.sk-toggleable__control:checked~label.sk-toggleable__label-arrow:before {content: \"▾\";}#sk-container-id-11 div.sk-estimator input.sk-toggleable__control:checked~label.sk-toggleable__label {background-color: #d4ebff;}#sk-container-id-11 div.sk-label input.sk-toggleable__control:checked~label.sk-toggleable__label {background-color: #d4ebff;}#sk-container-id-11 input.sk-hidden--visually {border: 0;clip: rect(1px 1px 1px 1px);clip: rect(1px, 1px, 1px, 1px);height: 1px;margin: -1px;overflow: hidden;padding: 0;position: absolute;width: 1px;}#sk-container-id-11 div.sk-estimator {font-family: monospace;background-color: #f0f8ff;border: 1px dotted black;border-radius: 0.25em;box-sizing: border-box;margin-bottom: 0.5em;}#sk-container-id-11 div.sk-estimator:hover {background-color: #d4ebff;}#sk-container-id-11 div.sk-parallel-item::after {content: \"\";width: 100%;border-bottom: 1px solid gray;flex-grow: 1;}#sk-container-id-11 div.sk-label:hover label.sk-toggleable__label {background-color: #d4ebff;}#sk-container-id-11 div.sk-serial::before {content: \"\";position: absolute;border-left: 1px solid gray;box-sizing: border-box;top: 0;bottom: 0;left: 50%;z-index: 0;}#sk-container-id-11 div.sk-serial {display: flex;flex-direction: column;align-items: center;background-color: white;padding-right: 0.2em;padding-left: 0.2em;position: relative;}#sk-container-id-11 div.sk-item {position: relative;z-index: 1;}#sk-container-id-11 div.sk-parallel {display: flex;align-items: stretch;justify-content: center;background-color: white;position: relative;}#sk-container-id-11 div.sk-item::before, #sk-container-id-11 div.sk-parallel-item::before {content: \"\";position: absolute;border-left: 1px solid gray;box-sizing: border-box;top: 0;bottom: 0;left: 50%;z-index: -1;}#sk-container-id-11 div.sk-parallel-item {display: flex;flex-direction: column;z-index: 1;position: relative;background-color: white;}#sk-container-id-11 div.sk-parallel-item:first-child::after {align-self: flex-end;width: 50%;}#sk-container-id-11 div.sk-parallel-item:last-child::after {align-self: flex-start;width: 50%;}#sk-container-id-11 div.sk-parallel-item:only-child::after {width: 0;}#sk-container-id-11 div.sk-dashed-wrapped {border: 1px dashed gray;margin: 0 0.4em 0.5em 0.4em;box-sizing: border-box;padding-bottom: 0.4em;background-color: white;}#sk-container-id-11 div.sk-label label {font-family: monospace;font-weight: bold;display: inline-block;line-height: 1.2em;}#sk-container-id-11 div.sk-label-container {text-align: center;}#sk-container-id-11 div.sk-container {/* jupyter's `normalize.less` sets `[hidden] { display: none; }` but bootstrap.min.css set `[hidden] { display: none !important; }` so we also need the `!important` here to be able to override the default hidden behavior on the sphinx rendered scikit-learn.org. See: https://github.com/scikit-learn/scikit-learn/issues/21755 */display: inline-block !important;position: relative;}#sk-container-id-11 div.sk-text-repr-fallback {display: none;}</style><div id=\"sk-container-id-11\" class=\"sk-top-container\"><div class=\"sk-text-repr-fallback\"><pre>LGBMClassifier(boosting_type=&#x27;goss&#x27;, max_depth=5)</pre><b>In a Jupyter environment, please rerun this cell to show the HTML representation or trust the notebook. <br />On GitHub, the HTML representation is unable to render, please try loading this page with nbviewer.org.</b></div><div class=\"sk-container\" hidden><div class=\"sk-item\"><div class=\"sk-estimator sk-toggleable\"><input class=\"sk-toggleable__control sk-hidden--visually\" id=\"sk-estimator-id-109\" type=\"checkbox\" checked><label for=\"sk-estimator-id-109\" class=\"sk-toggleable__label sk-toggleable__label-arrow\">LGBMClassifier</label><div class=\"sk-toggleable__content\"><pre>LGBMClassifier(boosting_type=&#x27;goss&#x27;, max_depth=5)</pre></div></div></div></div></div>"
      ],
      "text/plain": [
       "LGBMClassifier(boosting_type='goss', max_depth=5)"
      ]
     },
     "execution_count": 143,
     "metadata": {},
     "output_type": "execute_result"
    }
   ],
   "source": [
    "model_lgb = lgb.LGBMClassifier(boosting_type='goss', max_depth=5)\n",
    "model_lgb.fit(X_avg_pp_train, y_avg_train)"
   ]
  },
  {
   "cell_type": "code",
   "execution_count": 127,
   "id": "497f8ead-cb48-49e5-bf56-191f5cdf652b",
   "metadata": {},
   "outputs": [],
   "source": [
    "y_pred = model_lgb.predict_proba(X_avg_pp_val)[:,1]"
   ]
  },
  {
   "cell_type": "code",
   "execution_count": 128,
   "id": "b704a379-4aeb-47f5-bcf2-a39780c45046",
   "metadata": {},
   "outputs": [
    {
     "data": {
      "text/plain": [
       "0.695073714956872"
      ]
     },
     "execution_count": 128,
     "metadata": {},
     "output_type": "execute_result"
    }
   ],
   "source": [
    "amex_metric(y_avg_val, y_pred)"
   ]
  },
  {
   "cell_type": "code",
   "execution_count": 52,
   "id": "89b0f09c-ec9b-44a4-bfd6-a902543e4813",
   "metadata": {},
   "outputs": [
    {
     "ename": "NameError",
     "evalue": "name 'pipe_lgb' is not defined",
     "output_type": "error",
     "traceback": [
      "\u001b[0;31m---------------------------------------------------------------------------\u001b[0m",
      "\u001b[0;31mNameError\u001b[0m                                 Traceback (most recent call last)",
      "Input \u001b[0;32mIn [52]\u001b[0m, in \u001b[0;36m<cell line: 1>\u001b[0;34m()\u001b[0m\n\u001b[0;32m----> 1\u001b[0m \u001b[43mpipe_lgb\u001b[49m\n",
      "\u001b[0;31mNameError\u001b[0m: name 'pipe_lgb' is not defined"
     ]
    }
   ],
   "source": [
    "pipe_lgb"
   ]
  },
  {
   "cell_type": "code",
   "execution_count": null,
   "id": "b89b08fa-c821-40e8-a67c-d088a82a8e3d",
   "metadata": {},
   "outputs": [],
   "source": []
  }
 ],
 "metadata": {
  "kernelspec": {
   "display_name": "Python 3.8.12 ('shims': virtualenv)",
   "language": "python",
   "name": "python3"
  },
  "language_info": {
   "codemirror_mode": {
    "name": "ipython",
    "version": 3
   },
   "file_extension": ".py",
   "mimetype": "text/x-python",
   "name": "python",
   "nbconvert_exporter": "python",
   "pygments_lexer": "ipython3",
   "version": "3.8.12"
  },
  "vscode": {
   "interpreter": {
    "hash": "6f83c52993760b7e416a09b98e247de218e0008ac006f0a810dd0fbe909ae75e"
   }
  }
 },
 "nbformat": 4,
 "nbformat_minor": 5
}
