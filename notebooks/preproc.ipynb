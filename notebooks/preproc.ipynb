{
 "cells": [
  {
   "cell_type": "markdown",
   "id": "3944824d-c530-447e-ab28-4e6c66a7dd79",
   "metadata": {},
   "source": [
    "# Simple preprocessing pipeline"
   ]
  },
  {
   "cell_type": "code",
   "execution_count": 1,
   "id": "dce77626-cb95-4f3f-82f6-babe2c08c279",
   "metadata": {},
   "outputs": [],
   "source": [
    "import numpy as np\n",
    "import pandas as pd\n",
    "import matplotlib.pyplot as plt\n",
    "import seaborn as sns"
   ]
  },
  {
   "cell_type": "code",
   "execution_count": 2,
   "id": "b72b126e-38bd-4174-ab49-7ea7e9b4d092",
   "metadata": {},
   "outputs": [],
   "source": [
    "from scipy import stats\n",
    "\n",
    "from sklearn.model_selection import cross_validate, cross_val_score, cross_val_predict, learning_curve,\\\n",
    "train_test_split, GridSearchCV, RandomizedSearchCV\n",
    "from sklearn.preprocessing import StandardScaler, RobustScaler, MinMaxScaler, OneHotEncoder, FunctionTransformer\n",
    "from sklearn.impute import SimpleImputer, KNNImputer\n",
    "from sklearn.inspection import permutation_importance\n",
    "from sklearn.metrics import plot_confusion_matrix, classification_report, precision_recall_curve\n",
    "from sklearn.linear_model import LinearRegression, LogisticRegression, SGDRegressor, SGDClassifier, Ridge, RidgeClassifier\n",
    "from sklearn.neighbors import KNeighborsClassifier, KNeighborsRegressor\n",
    "from sklearn.svm import SVC\n",
    "from sklearn.compose import make_column_selector\n",
    "\n",
    "## pipeline stuff\n",
    "\n",
    "from sklearn.pipeline import Pipeline, make_pipeline, make_union\n",
    "from sklearn.compose import ColumnTransformer, make_column_transformer, make_column_selector\n",
    "from sklearn import set_config; set_config(display='diagram')"
   ]
  },
  {
   "cell_type": "code",
   "execution_count": 3,
   "id": "e04ab968-ca4c-48e1-99cb-c255bd467ae1",
   "metadata": {},
   "outputs": [],
   "source": [
    "from sklearn.base import TransformerMixin, BaseEstimator\n",
    "\n",
    "\n",
    "class CustomOHE(TransformerMixin, BaseEstimator):\n",
    "\n",
    "    def __init__(self):\n",
    "        pass\n",
    "\n",
    "    def fit(self, X):\n",
    "        X_dummified = X.astype(str)\n",
    "        X_dummified = X_dummified.applymap(lambda x: x if x not in [\"nan\", \"NaN\", \"NAN\", \"Nan\", \"-1\", \"-1.0\"] else float(\"nan\"))\n",
    "        X_dummified = pd.get_dummies(X_dummified)\n",
    "        self.columns = X_dummified.columns\n",
    "        return self\n",
    "\n",
    "    def transform(self, X):\n",
    "        X_dummified = X.astype(str)\n",
    "        X_dummified = X_dummified.applymap(lambda x: x if x not in [\"nan\", \"NaN\", \"NAN\", \"Nan\", \"-1\", \"-1.0\"] else float(\"nan\"))\n",
    "        X_dummified = pd.get_dummies(X_dummified)\n",
    "        # Only keep columns that are computed in the fit() method\n",
    "        # Drop new dummy columns if new category appears in the test set that were never seen in train set\n",
    "        X_dummified_reindexed = X_dummified.reindex(columns=self.columns, fill_value=0)\n",
    "        return X_dummified_reindexed"
   ]
  },
  {
   "cell_type": "code",
   "execution_count": 4,
   "id": "ca1f5989-0d50-4ac0-87b9-2cdb2c69a2cb",
   "metadata": {},
   "outputs": [],
   "source": [
    "def_df = pd.read_csv(\"/home/slawa/code/code-rep0/projects/data/defaulter_data_13364.csv\", index_col=[0])\n",
    "pay_df = pd.read_csv(\"/home/slawa/code/code-rep0/projects/data/payer_data_41940.csv\", index_col=[0])\n",
    "def_df['default'] = 1\n",
    "pay_df['default'] = 0\n",
    "\n",
    "df = pd.concat([def_df, pay_df])"
   ]
  },
  {
   "cell_type": "code",
   "execution_count": 5,
   "id": "eb5565e5-5b78-4ecb-b492-5899111c98f4",
   "metadata": {},
   "outputs": [],
   "source": [
    "y = df['default']\n",
    "\n",
    "X = df.drop(columns=['default'])"
   ]
  },
  {
   "cell_type": "code",
   "execution_count": 6,
   "id": "4abb7bf8-3052-47ad-9a09-093efa955672",
   "metadata": {},
   "outputs": [],
   "source": [
    "cat_vars = ['B_30', \n",
    "            'B_38', \n",
    "            'D_114', \n",
    "            'D_116', \n",
    "            'D_117', \n",
    "            'D_120', \n",
    "            'D_126', \n",
    "            'D_63', \n",
    "            'D_64', \n",
    "            'D_66', \n",
    "            'D_68']"
   ]
  },
  {
   "cell_type": "markdown",
   "id": "d533533d-646f-48b1-bcc8-6832b7d00285",
   "metadata": {},
   "source": [
    "drop columns if they correlate > 95% with others"
   ]
  },
  {
   "cell_type": "code",
   "execution_count": 7,
   "id": "cd3efde1-e65c-4457-93bf-9b3d1af4b968",
   "metadata": {},
   "outputs": [],
   "source": [
    "X_corr = X.corr()"
   ]
  },
  {
   "cell_type": "code",
   "execution_count": 8,
   "id": "2cc7ce56-c159-42b9-98ea-f95d49e195c7",
   "metadata": {},
   "outputs": [],
   "source": [
    "X_corr = X_corr.unstack().reset_index() # Unstack correlation matrix \n",
    "X_corr.columns = ['feature_1','feature_2', 'correlation_all'] # rename columns\n",
    "X_corr.sort_values(by=\"correlation_all\",ascending=False, inplace=True) # sort by correlation\n",
    "X_corr = X_corr[X_corr['feature_1'] != X_corr['feature_2']] # Remove self correlation\n",
    "X_corr = X_corr.drop_duplicates(subset='correlation_all')"
   ]
  },
  {
   "cell_type": "code",
   "execution_count": 9,
   "id": "4e97cca9-7e6f-4f4a-8953-d6d8113fddda",
   "metadata": {},
   "outputs": [],
   "source": [
    "red_features = list(X_corr[abs(X_corr['correlation_all'])>=.95]['feature_1']) ## abs so we also consider the negative corrs"
   ]
  },
  {
   "cell_type": "code",
   "execution_count": 10,
   "id": "65f0c098-1b79-4453-bb60-08e750c652d6",
   "metadata": {},
   "outputs": [],
   "source": [
    "X_red = X.drop(columns=red_features) ## dropping the highly correlated columns"
   ]
  },
  {
   "cell_type": "code",
   "execution_count": 11,
   "id": "ab65db0f-0f3d-4a8a-86f0-cfa49a32c48d",
   "metadata": {},
   "outputs": [],
   "source": [
    "## checking whether the high correlations are gone\n",
    "X_red_corr = X_red.corr()\n",
    "X_red_corr = X_red_corr.unstack().reset_index() # Unstack correlation matrix \n",
    "X_red_corr.columns = ['feature_1','feature_2', 'correlation_all'] # rename columns\n",
    "X_red_corr.sort_values(by=\"correlation_all\",ascending=False, inplace=True) # sort by correlation\n",
    "X_red_corr = X_red_corr[X_red_corr['feature_1'] != X_red_corr['feature_2']] # Remove self correlation\n",
    "X_red_corr = X_red_corr.drop_duplicates(subset='correlation_all')"
   ]
  },
  {
   "cell_type": "code",
   "execution_count": 12,
   "id": "36893cdd-8644-48b8-990f-34ab4f9fc1a9",
   "metadata": {},
   "outputs": [
    {
     "data": {
      "text/html": [
       "<div>\n",
       "<style scoped>\n",
       "    .dataframe tbody tr th:only-of-type {\n",
       "        vertical-align: middle;\n",
       "    }\n",
       "\n",
       "    .dataframe tbody tr th {\n",
       "        vertical-align: top;\n",
       "    }\n",
       "\n",
       "    .dataframe thead th {\n",
       "        text-align: right;\n",
       "    }\n",
       "</style>\n",
       "<table border=\"1\" class=\"dataframe\">\n",
       "  <thead>\n",
       "    <tr style=\"text-align: right;\">\n",
       "      <th></th>\n",
       "      <th>feature_1</th>\n",
       "      <th>feature_2</th>\n",
       "      <th>correlation_all</th>\n",
       "    </tr>\n",
       "  </thead>\n",
       "  <tbody>\n",
       "    <tr>\n",
       "      <th>12045</th>\n",
       "      <td>D_74</td>\n",
       "      <td>D_58</td>\n",
       "      <td>0.927332</td>\n",
       "    </tr>\n",
       "    <tr>\n",
       "      <th>6471</th>\n",
       "      <td>B_13</td>\n",
       "      <td>B_12</td>\n",
       "      <td>0.921825</td>\n",
       "    </tr>\n",
       "    <tr>\n",
       "      <th>457</th>\n",
       "      <td>B_2</td>\n",
       "      <td>B_33</td>\n",
       "      <td>0.913250</td>\n",
       "    </tr>\n",
       "    <tr>\n",
       "      <th>728</th>\n",
       "      <td>S_3</td>\n",
       "      <td>S_7</td>\n",
       "      <td>0.903899</td>\n",
       "    </tr>\n",
       "    <tr>\n",
       "      <th>28001</th>\n",
       "      <td>D_131</td>\n",
       "      <td>D_132</td>\n",
       "      <td>0.891850</td>\n",
       "    </tr>\n",
       "    <tr>\n",
       "      <th>...</th>\n",
       "      <td>...</td>\n",
       "      <td>...</td>\n",
       "      <td>...</td>\n",
       "    </tr>\n",
       "    <tr>\n",
       "      <th>9398</th>\n",
       "      <td>B_20</td>\n",
       "      <td>B_2</td>\n",
       "      <td>-0.779728</td>\n",
       "    </tr>\n",
       "    <tr>\n",
       "      <th>5981</th>\n",
       "      <td>S_8</td>\n",
       "      <td>S_15</td>\n",
       "      <td>-0.783457</td>\n",
       "    </tr>\n",
       "    <tr>\n",
       "      <th>23888</th>\n",
       "      <td>B_39</td>\n",
       "      <td>B_17</td>\n",
       "      <td>-0.805295</td>\n",
       "    </tr>\n",
       "    <tr>\n",
       "      <th>11791</th>\n",
       "      <td>D_73</td>\n",
       "      <td>D_108</td>\n",
       "      <td>-0.851429</td>\n",
       "    </tr>\n",
       "    <tr>\n",
       "      <th>99</th>\n",
       "      <td>P_2</td>\n",
       "      <td>D_87</td>\n",
       "      <td>NaN</td>\n",
       "    </tr>\n",
       "  </tbody>\n",
       "</table>\n",
       "<p>14849 rows × 3 columns</p>\n",
       "</div>"
      ],
      "text/plain": [
       "      feature_1 feature_2  correlation_all\n",
       "12045      D_74      D_58         0.927332\n",
       "6471       B_13      B_12         0.921825\n",
       "457         B_2      B_33         0.913250\n",
       "728         S_3       S_7         0.903899\n",
       "28001     D_131     D_132         0.891850\n",
       "...         ...       ...              ...\n",
       "9398       B_20       B_2        -0.779728\n",
       "5981        S_8      S_15        -0.783457\n",
       "23888      B_39      B_17        -0.805295\n",
       "11791      D_73     D_108        -0.851429\n",
       "99          P_2      D_87              NaN\n",
       "\n",
       "[14849 rows x 3 columns]"
      ]
     },
     "execution_count": 12,
     "metadata": {},
     "output_type": "execute_result"
    }
   ],
   "source": [
    "X_red_corr"
   ]
  },
  {
   "cell_type": "code",
   "execution_count": 13,
   "id": "742c0878-a19a-4bd3-ad67-f60ee5e95124",
   "metadata": {},
   "outputs": [
    {
     "data": {
      "text/plain": [
       "13"
      ]
     },
     "execution_count": 13,
     "metadata": {},
     "output_type": "execute_result"
    }
   ],
   "source": [
    "len(red_features) ## we removed 13 columns"
   ]
  },
  {
   "cell_type": "markdown",
   "id": "a2dab05a-f828-4547-b0ad-a975585c1be4",
   "metadata": {},
   "source": [
    "drop columns with nans if in __both__ groups > 80% nans"
   ]
  },
  {
   "cell_type": "code",
   "execution_count": 14,
   "id": "9d229f31-4e9e-4e50-9bab-7074d7cd3182",
   "metadata": {},
   "outputs": [],
   "source": [
    "def_nans = def_df.isna().sum()/len(def_df) "
   ]
  },
  {
   "cell_type": "code",
   "execution_count": 15,
   "id": "8ce797b7-2d83-4f61-af78-32b64b7c717a",
   "metadata": {},
   "outputs": [],
   "source": [
    "def_nans_80 = def_nans[def_nans >= 0.8].index"
   ]
  },
  {
   "cell_type": "code",
   "execution_count": 16,
   "id": "f75a67ef-b1c2-4224-a663-4273c6465fca",
   "metadata": {},
   "outputs": [],
   "source": [
    "pay_nans = pay_df.isna().sum()/len(pay_df)"
   ]
  },
  {
   "cell_type": "code",
   "execution_count": 17,
   "id": "e90e21f2-228f-4b14-bd89-ac3f7ab79add",
   "metadata": {},
   "outputs": [],
   "source": [
    "pay_nans_80 = pay_nans[pay_nans>=0.8].index"
   ]
  },
  {
   "cell_type": "code",
   "execution_count": 18,
   "id": "d308f3a7-f73a-419c-8600-6034b4f418b0",
   "metadata": {},
   "outputs": [],
   "source": [
    "nans_80 = [feature for feature in pay_nans_80 if feature in def_nans_80]"
   ]
  },
  {
   "cell_type": "code",
   "execution_count": 19,
   "id": "bc740bb6-8679-4b70-92d3-5cf851b69500",
   "metadata": {},
   "outputs": [],
   "source": [
    "## check whether features were already removed\n",
    "red_features_nan = [feature for feature in nans_80 if feature not in red_features] "
   ]
  },
  {
   "cell_type": "code",
   "execution_count": 20,
   "id": "e09f028c-b5f1-4996-ba28-93ad51434137",
   "metadata": {},
   "outputs": [],
   "source": [
    "X_red = X_red.drop(columns=red_features_nan)"
   ]
  },
  {
   "cell_type": "code",
   "execution_count": 21,
   "id": "f283116b-9841-497f-b3ca-018d69e7b69b",
   "metadata": {},
   "outputs": [],
   "source": [
    "dropped_columns = red_features + red_features_nan"
   ]
  },
  {
   "cell_type": "code",
   "execution_count": 22,
   "id": "2b7dfc18-31c0-4345-8b6f-032b7ddad524",
   "metadata": {},
   "outputs": [],
   "source": [
    "red_cat_vars = [var for var in cat_vars if var not in dropped_columns] ## categorical variables that are left"
   ]
  },
  {
   "cell_type": "code",
   "execution_count": 24,
   "id": "72c6ae11-a0af-41a4-af41-e82cd7a7006e",
   "metadata": {},
   "outputs": [],
   "source": [
    "# impute mean/most frequent value for other nans (specific to group?)\n",
    "# robustscale all numerical values\n",
    "\n",
    "num_imputer = SimpleImputer(strategy=\"mean\") ## replace with KNNIMputer\n",
    "num_scaler = RobustScaler()\n",
    "\n",
    "\n",
    "num_pipe = make_pipeline(num_imputer, num_scaler)"
   ]
  },
  {
   "cell_type": "code",
   "execution_count": 26,
   "id": "68561261-6613-46d7-a1d4-1fdf441670b8",
   "metadata": {},
   "outputs": [
    {
     "data": {
      "text/plain": [
       "<sklearn.compose._column_transformer.make_column_selector at 0x7f346b8ea310>"
      ]
     },
     "execution_count": 26,
     "metadata": {},
     "output_type": "execute_result"
    }
   ],
   "source": [
    "#make_column_selector(red_cat_vars)"
   ]
  },
  {
   "cell_type": "code",
   "execution_count": 48,
   "id": "7967d18d-8d62-48f1-8097-303b4548343d",
   "metadata": {},
   "outputs": [],
   "source": [
    "cat_imputer = SimpleImputer(strategy=\"most_frequent\") ## replace with KNNimputer on one neighbour, after transforming to numericals\n",
    "#cat_encoder = CustomOHE() ## does not work with numpy.arrays in COlumn_transformer yet\n",
    "cat_encoder = OneHotEncoder(sparse=False, handle_unknown='ignore')\n",
    "cat_pipe = make_pipeline(cat_imputer, cat_encoder)\n",
    "#preprocessing_pipe = make_pipeline"
   ]
  },
  {
   "cell_type": "markdown",
   "id": "c8ebe538-159d-4837-b1b4-440958d04432",
   "metadata": {},
   "source": [
    "Beware of the Dummy trap. (Check)"
   ]
  },
  {
   "cell_type": "code",
   "execution_count": 49,
   "id": "537b58d8-b1dc-4e98-8a57-718af24b0293",
   "metadata": {},
   "outputs": [],
   "source": [
    "num_vars = [feature for feature in X_red.columns[2:] if feature not in cat_vars] ## exclude dates and IDs (first two columns)"
   ]
  },
  {
   "cell_type": "code",
   "execution_count": 50,
   "id": "04692da7-207d-43e7-9ace-c1223c031b50",
   "metadata": {},
   "outputs": [
    {
     "data": {
      "text/plain": [
       "150"
      ]
     },
     "execution_count": 50,
     "metadata": {},
     "output_type": "execute_result"
    }
   ],
   "source": [
    "len(num_vars)"
   ]
  },
  {
   "cell_type": "code",
   "execution_count": 51,
   "id": "7c7c3410-c176-4e86-9d4e-9b87a9d59bc7",
   "metadata": {},
   "outputs": [
    {
     "data": {
      "text/plain": [
       "161"
      ]
     },
     "execution_count": 51,
     "metadata": {},
     "output_type": "execute_result"
    }
   ],
   "source": [
    "len(X_red.columns[1:])"
   ]
  },
  {
   "cell_type": "code",
   "execution_count": 52,
   "id": "1b372455-8f9f-4e9a-9eac-62c4d745b4fd",
   "metadata": {},
   "outputs": [],
   "source": [
    "preprocessor = ColumnTransformer([\n",
    "    ('num_pip', num_pipe, num_vars),\n",
    "    ('cat_pip', cat_pipe, red_cat_vars)],\n",
    "    remainder='passthrough'\n",
    ")"
   ]
  },
  {
   "cell_type": "code",
   "execution_count": 55,
   "id": "ef1f272b-1506-4e2b-b77c-76d7d45f25c5",
   "metadata": {},
   "outputs": [
    {
     "data": {
      "text/html": [
       "<div>\n",
       "<style scoped>\n",
       "    .dataframe tbody tr th:only-of-type {\n",
       "        vertical-align: middle;\n",
       "    }\n",
       "\n",
       "    .dataframe tbody tr th {\n",
       "        vertical-align: top;\n",
       "    }\n",
       "\n",
       "    .dataframe thead th {\n",
       "        text-align: right;\n",
       "    }\n",
       "</style>\n",
       "<table border=\"1\" class=\"dataframe\">\n",
       "  <thead>\n",
       "    <tr style=\"text-align: right;\">\n",
       "      <th></th>\n",
       "      <th>0</th>\n",
       "      <th>1</th>\n",
       "      <th>2</th>\n",
       "      <th>3</th>\n",
       "      <th>4</th>\n",
       "      <th>5</th>\n",
       "      <th>6</th>\n",
       "      <th>7</th>\n",
       "      <th>8</th>\n",
       "      <th>9</th>\n",
       "      <th>...</th>\n",
       "      <th>185</th>\n",
       "      <th>186</th>\n",
       "      <th>187</th>\n",
       "      <th>188</th>\n",
       "      <th>189</th>\n",
       "      <th>190</th>\n",
       "      <th>191</th>\n",
       "      <th>192</th>\n",
       "      <th>193</th>\n",
       "      <th>194</th>\n",
       "    </tr>\n",
       "  </thead>\n",
       "  <tbody>\n",
       "    <tr>\n",
       "      <th>0</th>\n",
       "      <td>-0.427817</td>\n",
       "      <td>1.390477</td>\n",
       "      <td>0.219605</td>\n",
       "      <td>0.633174</td>\n",
       "      <td>1.419042</td>\n",
       "      <td>0.376803</td>\n",
       "      <td>0.112298</td>\n",
       "      <td>-0.04552</td>\n",
       "      <td>1.241837</td>\n",
       "      <td>0.866629</td>\n",
       "      <td>...</td>\n",
       "      <td>1.0</td>\n",
       "      <td>0.0</td>\n",
       "      <td>0.0</td>\n",
       "      <td>0.0</td>\n",
       "      <td>1.0</td>\n",
       "      <td>0.0</td>\n",
       "      <td>0.0</td>\n",
       "      <td>0.0</td>\n",
       "      <td>6ba461c93869797c49b0f34c29274e50915466eda02a82...</td>\n",
       "      <td>2017-04-29</td>\n",
       "    </tr>\n",
       "    <tr>\n",
       "      <th>1</th>\n",
       "      <td>-0.587316</td>\n",
       "      <td>-0.024268</td>\n",
       "      <td>0.004738</td>\n",
       "      <td>85.887104</td>\n",
       "      <td>0.474849</td>\n",
       "      <td>-0.752905</td>\n",
       "      <td>0.035997</td>\n",
       "      <td>0.312615</td>\n",
       "      <td>1.176238</td>\n",
       "      <td>-0.015821</td>\n",
       "      <td>...</td>\n",
       "      <td>0.0</td>\n",
       "      <td>0.0</td>\n",
       "      <td>0.0</td>\n",
       "      <td>0.0</td>\n",
       "      <td>0.0</td>\n",
       "      <td>0.0</td>\n",
       "      <td>0.0</td>\n",
       "      <td>1.0</td>\n",
       "      <td>6ea315e6f219bc513964121907331f96e5b194127ebee3...</td>\n",
       "      <td>2017-09-10</td>\n",
       "    </tr>\n",
       "    <tr>\n",
       "      <th>2</th>\n",
       "      <td>-0.58707</td>\n",
       "      <td>0.365948</td>\n",
       "      <td>0.005095</td>\n",
       "      <td>85.474799</td>\n",
       "      <td>0.730048</td>\n",
       "      <td>-0.628761</td>\n",
       "      <td>0.12569</td>\n",
       "      <td>0.0</td>\n",
       "      <td>-0.115859</td>\n",
       "      <td>5.867669</td>\n",
       "      <td>...</td>\n",
       "      <td>0.0</td>\n",
       "      <td>0.0</td>\n",
       "      <td>0.0</td>\n",
       "      <td>0.0</td>\n",
       "      <td>0.0</td>\n",
       "      <td>0.0</td>\n",
       "      <td>0.0</td>\n",
       "      <td>1.0</td>\n",
       "      <td>6f105fec0ab833183a6a7aa3e39e79a6adf88a7cabe9df...</td>\n",
       "      <td>2017-03-26</td>\n",
       "    </tr>\n",
       "    <tr>\n",
       "      <th>3</th>\n",
       "      <td>-0.641399</td>\n",
       "      <td>-0.027197</td>\n",
       "      <td>0.214508</td>\n",
       "      <td>0.403981</td>\n",
       "      <td>0.927122</td>\n",
       "      <td>0.463563</td>\n",
       "      <td>0.095218</td>\n",
       "      <td>0.0</td>\n",
       "      <td>-0.12613</td>\n",
       "      <td>5.873947</td>\n",
       "      <td>...</td>\n",
       "      <td>0.0</td>\n",
       "      <td>0.0</td>\n",
       "      <td>0.0</td>\n",
       "      <td>0.0</td>\n",
       "      <td>0.0</td>\n",
       "      <td>0.0</td>\n",
       "      <td>0.0</td>\n",
       "      <td>1.0</td>\n",
       "      <td>6f105fec0ab833183a6a7aa3e39e79a6adf88a7cabe9df...</td>\n",
       "      <td>2017-04-26</td>\n",
       "    </tr>\n",
       "    <tr>\n",
       "      <th>4</th>\n",
       "      <td>-0.565503</td>\n",
       "      <td>0.374308</td>\n",
       "      <td>0.003313</td>\n",
       "      <td>86.646623</td>\n",
       "      <td>-0.24895</td>\n",
       "      <td>-0.861436</td>\n",
       "      <td>0.113565</td>\n",
       "      <td>0.0</td>\n",
       "      <td>3.716587</td>\n",
       "      <td>4.884302</td>\n",
       "      <td>...</td>\n",
       "      <td>0.0</td>\n",
       "      <td>0.0</td>\n",
       "      <td>0.0</td>\n",
       "      <td>0.0</td>\n",
       "      <td>0.0</td>\n",
       "      <td>0.0</td>\n",
       "      <td>0.0</td>\n",
       "      <td>1.0</td>\n",
       "      <td>6f105fec0ab833183a6a7aa3e39e79a6adf88a7cabe9df...</td>\n",
       "      <td>2017-05-26</td>\n",
       "    </tr>\n",
       "    <tr>\n",
       "      <th>...</th>\n",
       "      <td>...</td>\n",
       "      <td>...</td>\n",
       "      <td>...</td>\n",
       "      <td>...</td>\n",
       "      <td>...</td>\n",
       "      <td>...</td>\n",
       "      <td>...</td>\n",
       "      <td>...</td>\n",
       "      <td>...</td>\n",
       "      <td>...</td>\n",
       "      <td>...</td>\n",
       "      <td>...</td>\n",
       "      <td>...</td>\n",
       "      <td>...</td>\n",
       "      <td>...</td>\n",
       "      <td>...</td>\n",
       "      <td>...</td>\n",
       "      <td>...</td>\n",
       "      <td>...</td>\n",
       "      <td>...</td>\n",
       "      <td>...</td>\n",
       "    </tr>\n",
       "    <tr>\n",
       "      <th>55299</th>\n",
       "      <td>0.279935</td>\n",
       "      <td>-0.028833</td>\n",
       "      <td>-0.004014</td>\n",
       "      <td>-0.765108</td>\n",
       "      <td>3.532037</td>\n",
       "      <td>-0.502783</td>\n",
       "      <td>-0.050771</td>\n",
       "      <td>0.0</td>\n",
       "      <td>0.0</td>\n",
       "      <td>0.866629</td>\n",
       "      <td>...</td>\n",
       "      <td>0.0</td>\n",
       "      <td>0.0</td>\n",
       "      <td>0.0</td>\n",
       "      <td>0.0</td>\n",
       "      <td>0.0</td>\n",
       "      <td>0.0</td>\n",
       "      <td>0.0</td>\n",
       "      <td>1.0</td>\n",
       "      <td>ee9e5e4581c6949e605e528fe831f61f781b82d1dc9360...</td>\n",
       "      <td>2017-11-04</td>\n",
       "    </tr>\n",
       "    <tr>\n",
       "      <th>55300</th>\n",
       "      <td>0.267095</td>\n",
       "      <td>-0.037582</td>\n",
       "      <td>0.002415</td>\n",
       "      <td>0.116283</td>\n",
       "      <td>0.015608</td>\n",
       "      <td>-0.138171</td>\n",
       "      <td>0.026206</td>\n",
       "      <td>0.0</td>\n",
       "      <td>0.0</td>\n",
       "      <td>0.866629</td>\n",
       "      <td>...</td>\n",
       "      <td>0.0</td>\n",
       "      <td>0.0</td>\n",
       "      <td>0.0</td>\n",
       "      <td>0.0</td>\n",
       "      <td>0.0</td>\n",
       "      <td>0.0</td>\n",
       "      <td>0.0</td>\n",
       "      <td>1.0</td>\n",
       "      <td>ee9e5e4581c6949e605e528fe831f61f781b82d1dc9360...</td>\n",
       "      <td>2017-12-12</td>\n",
       "    </tr>\n",
       "    <tr>\n",
       "      <th>55301</th>\n",
       "      <td>0.271628</td>\n",
       "      <td>-0.016493</td>\n",
       "      <td>-0.001598</td>\n",
       "      <td>0.424582</td>\n",
       "      <td>-0.025929</td>\n",
       "      <td>0.05312</td>\n",
       "      <td>-0.008016</td>\n",
       "      <td>0.0</td>\n",
       "      <td>0.0</td>\n",
       "      <td>0.866629</td>\n",
       "      <td>...</td>\n",
       "      <td>0.0</td>\n",
       "      <td>0.0</td>\n",
       "      <td>0.0</td>\n",
       "      <td>0.0</td>\n",
       "      <td>0.0</td>\n",
       "      <td>0.0</td>\n",
       "      <td>0.0</td>\n",
       "      <td>1.0</td>\n",
       "      <td>ee9e5e4581c6949e605e528fe831f61f781b82d1dc9360...</td>\n",
       "      <td>2018-01-18</td>\n",
       "    </tr>\n",
       "    <tr>\n",
       "      <th>55302</th>\n",
       "      <td>0.266345</td>\n",
       "      <td>-0.016073</td>\n",
       "      <td>-0.00416</td>\n",
       "      <td>-0.560179</td>\n",
       "      <td>-0.0644</td>\n",
       "      <td>0.670352</td>\n",
       "      <td>-0.065443</td>\n",
       "      <td>0.0</td>\n",
       "      <td>0.0</td>\n",
       "      <td>0.866629</td>\n",
       "      <td>...</td>\n",
       "      <td>0.0</td>\n",
       "      <td>0.0</td>\n",
       "      <td>0.0</td>\n",
       "      <td>0.0</td>\n",
       "      <td>0.0</td>\n",
       "      <td>0.0</td>\n",
       "      <td>0.0</td>\n",
       "      <td>1.0</td>\n",
       "      <td>ee9e5e4581c6949e605e528fe831f61f781b82d1dc9360...</td>\n",
       "      <td>2018-02-03</td>\n",
       "    </tr>\n",
       "    <tr>\n",
       "      <th>55303</th>\n",
       "      <td>-0.028486</td>\n",
       "      <td>-0.028241</td>\n",
       "      <td>-0.00171</td>\n",
       "      <td>-0.712647</td>\n",
       "      <td>-0.016727</td>\n",
       "      <td>-0.974762</td>\n",
       "      <td>0.001344</td>\n",
       "      <td>0.0</td>\n",
       "      <td>0.0</td>\n",
       "      <td>0.866629</td>\n",
       "      <td>...</td>\n",
       "      <td>0.0</td>\n",
       "      <td>0.0</td>\n",
       "      <td>0.0</td>\n",
       "      <td>0.0</td>\n",
       "      <td>0.0</td>\n",
       "      <td>0.0</td>\n",
       "      <td>0.0</td>\n",
       "      <td>1.0</td>\n",
       "      <td>ee9e5e4581c6949e605e528fe831f61f781b82d1dc9360...</td>\n",
       "      <td>2018-03-03</td>\n",
       "    </tr>\n",
       "  </tbody>\n",
       "</table>\n",
       "<p>55304 rows × 195 columns</p>\n",
       "</div>"
      ],
      "text/plain": [
       "            0         1         2          3         4         5         6    \\\n",
       "0     -0.427817  1.390477  0.219605   0.633174  1.419042  0.376803  0.112298   \n",
       "1     -0.587316 -0.024268  0.004738  85.887104  0.474849 -0.752905  0.035997   \n",
       "2      -0.58707  0.365948  0.005095  85.474799  0.730048 -0.628761   0.12569   \n",
       "3     -0.641399 -0.027197  0.214508   0.403981  0.927122  0.463563  0.095218   \n",
       "4     -0.565503  0.374308  0.003313  86.646623  -0.24895 -0.861436  0.113565   \n",
       "...         ...       ...       ...        ...       ...       ...       ...   \n",
       "55299  0.279935 -0.028833 -0.004014  -0.765108  3.532037 -0.502783 -0.050771   \n",
       "55300  0.267095 -0.037582  0.002415   0.116283  0.015608 -0.138171  0.026206   \n",
       "55301  0.271628 -0.016493 -0.001598   0.424582 -0.025929   0.05312 -0.008016   \n",
       "55302  0.266345 -0.016073  -0.00416  -0.560179   -0.0644  0.670352 -0.065443   \n",
       "55303 -0.028486 -0.028241  -0.00171  -0.712647 -0.016727 -0.974762  0.001344   \n",
       "\n",
       "            7         8         9    ...  185  186  187  188  189  190  191  \\\n",
       "0      -0.04552  1.241837  0.866629  ...  1.0  0.0  0.0  0.0  1.0  0.0  0.0   \n",
       "1      0.312615  1.176238 -0.015821  ...  0.0  0.0  0.0  0.0  0.0  0.0  0.0   \n",
       "2           0.0 -0.115859  5.867669  ...  0.0  0.0  0.0  0.0  0.0  0.0  0.0   \n",
       "3           0.0  -0.12613  5.873947  ...  0.0  0.0  0.0  0.0  0.0  0.0  0.0   \n",
       "4           0.0  3.716587  4.884302  ...  0.0  0.0  0.0  0.0  0.0  0.0  0.0   \n",
       "...         ...       ...       ...  ...  ...  ...  ...  ...  ...  ...  ...   \n",
       "55299       0.0       0.0  0.866629  ...  0.0  0.0  0.0  0.0  0.0  0.0  0.0   \n",
       "55300       0.0       0.0  0.866629  ...  0.0  0.0  0.0  0.0  0.0  0.0  0.0   \n",
       "55301       0.0       0.0  0.866629  ...  0.0  0.0  0.0  0.0  0.0  0.0  0.0   \n",
       "55302       0.0       0.0  0.866629  ...  0.0  0.0  0.0  0.0  0.0  0.0  0.0   \n",
       "55303       0.0       0.0  0.866629  ...  0.0  0.0  0.0  0.0  0.0  0.0  0.0   \n",
       "\n",
       "       192                                                193         194  \n",
       "0      0.0  6ba461c93869797c49b0f34c29274e50915466eda02a82...  2017-04-29  \n",
       "1      1.0  6ea315e6f219bc513964121907331f96e5b194127ebee3...  2017-09-10  \n",
       "2      1.0  6f105fec0ab833183a6a7aa3e39e79a6adf88a7cabe9df...  2017-03-26  \n",
       "3      1.0  6f105fec0ab833183a6a7aa3e39e79a6adf88a7cabe9df...  2017-04-26  \n",
       "4      1.0  6f105fec0ab833183a6a7aa3e39e79a6adf88a7cabe9df...  2017-05-26  \n",
       "...    ...                                                ...         ...  \n",
       "55299  1.0  ee9e5e4581c6949e605e528fe831f61f781b82d1dc9360...  2017-11-04  \n",
       "55300  1.0  ee9e5e4581c6949e605e528fe831f61f781b82d1dc9360...  2017-12-12  \n",
       "55301  1.0  ee9e5e4581c6949e605e528fe831f61f781b82d1dc9360...  2018-01-18  \n",
       "55302  1.0  ee9e5e4581c6949e605e528fe831f61f781b82d1dc9360...  2018-02-03  \n",
       "55303  1.0  ee9e5e4581c6949e605e528fe831f61f781b82d1dc9360...  2018-03-03  \n",
       "\n",
       "[55304 rows x 195 columns]"
      ]
     },
     "execution_count": 55,
     "metadata": {},
     "output_type": "execute_result"
    }
   ],
   "source": [
    "pd.DataFrame(preprocessor.fit_transform(X_red))"
   ]
  },
  {
   "cell_type": "code",
   "execution_count": null,
   "id": "07e03f83-e27d-450f-bd72-bc72b2556eac",
   "metadata": {},
   "outputs": [],
   "source": []
  }
 ],
 "metadata": {
  "kernelspec": {
   "display_name": "Python 3 (ipykernel)",
   "language": "python",
   "name": "python3"
  },
  "language_info": {
   "codemirror_mode": {
    "name": "ipython",
    "version": 3
   },
   "file_extension": ".py",
   "mimetype": "text/x-python",
   "name": "python",
   "nbconvert_exporter": "python",
   "pygments_lexer": "ipython3",
   "version": "3.8.12"
  }
 },
 "nbformat": 4,
 "nbformat_minor": 5
}
